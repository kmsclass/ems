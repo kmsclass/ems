{
 "cells": [
  {
   "cell_type": "markdown",
   "metadata": {},
   "source": [
    "머신러닝 : 기계학습. 예측. AI\n",
    "     변수(컬럼,피처)들의 관계를 통해서 예측.\n",
    "  지도학습 : 정답을 제공\n",
    "     회귀분석 : 가격,주가,매출예측 사용됨. 연속성이 있는 데이터의 예측에 사용\n",
    "     분류 : 데이터를 선택. \n",
    "  비지도학습 : 정답 제공안함\n",
    "     군집 : 비슷한 데이터들 끼리 그룹화함\n",
    "  강화학습 : 행동을 할때마다, 보상을 통해 학습  "
   ]
  },
  {
   "cell_type": "code",
   "execution_count": 1,
   "metadata": {},
   "outputs": [],
   "source": [
    "import pandas as pd\n",
    "import numpy as np\n",
    "import matplotlib.pyplot as plt\n",
    "import seaborn as sns"
   ]
  },
  {
   "cell_type": "markdown",
   "metadata": {},
   "source": [
    "머신러닝 프로세스\n",
    "1. 데이터정리 : 전처리\n",
    "2. 데이터분리 : 훈련데이터,검증데이터,테스트데이터\n",
    "3. 알고리즘 준비 : 회귀분석, 분류,.....\n",
    "4. 모형학습 : 훈련데이터\n",
    "5. 예측 : 테스트데이터\n",
    "6. 모형평가\n",
    "7. 모형활용"
   ]
  },
  {
   "cell_type": "markdown",
   "metadata": {},
   "source": [
    "회귀분석 : regression\n",
    "  단순회귀분석 : 독립변수,종속변수 한개\n",
    "     독립변수 : 예측에 사용되는 변수\n",
    "     종속변수 : 정답. 예측해야 되는 변수"
   ]
  },
  {
   "cell_type": "code",
   "execution_count": 2,
   "metadata": {},
   "outputs": [
    {
     "name": "stdout",
     "output_type": "stream",
     "text": [
      "<class 'pandas.core.frame.DataFrame'>\n",
      "RangeIndex: 398 entries, 0 to 397\n",
      "Data columns (total 9 columns):\n",
      " #   Column        Non-Null Count  Dtype  \n",
      "---  ------        --------------  -----  \n",
      " 0   mpg           398 non-null    float64\n",
      " 1   cylinders     398 non-null    int64  \n",
      " 2   displacement  398 non-null    float64\n",
      " 3   horsepower    398 non-null    object \n",
      " 4   weight        398 non-null    float64\n",
      " 5   acceleration  398 non-null    float64\n",
      " 6   model year    398 non-null    int64  \n",
      " 7   origin        398 non-null    int64  \n",
      " 8   name          398 non-null    object \n",
      "dtypes: float64(4), int64(3), object(2)\n",
      "memory usage: 28.1+ KB\n"
     ]
    }
   ],
   "source": [
    "df = pd.read_csv(\"data/auto-mpg.csv\")\n",
    "df.info()"
   ]
  },
  {
   "cell_type": "code",
   "execution_count": null,
   "metadata": {},
   "outputs": [],
   "source": [
    "#1. 전처리하기\n",
    "# horsepower 컬럼의 자료형을 float 형으로 변경하기\n",
    "# horsepower의 값을 조회하기\n",
    "df.horsepower.unique()"
   ]
  },
  {
   "cell_type": "code",
   "execution_count": null,
   "metadata": {},
   "outputs": [],
   "source": [
    "# ? 값을 결측값으로 변경하기 : np.nan :결측값 \n",
    "df[\"horsepower\"].replace('?',np.nan,inplace=True)\n",
    "df.info()"
   ]
  },
  {
   "cell_type": "code",
   "execution_count": null,
   "metadata": {},
   "outputs": [],
   "source": [
    "#결측값을 가진 행을 제거하기\n",
    "df.dropna(subset=[\"horsepower\"],axis=0,inplace=True)\n",
    "df.info()"
   ]
  },
  {
   "cell_type": "code",
   "execution_count": null,
   "metadata": {},
   "outputs": [],
   "source": [
    "#horsepower 자료형 float형으로 변경\n",
    "df[\"horsepower\"] = df[\"horsepower\"].astype(float)\n",
    "df.info()"
   ]
  },
  {
   "cell_type": "code",
   "execution_count": 8,
   "metadata": {},
   "outputs": [
    {
     "name": "stdout",
     "output_type": "stream",
     "text": [
      "<class 'pandas.core.frame.DataFrame'>\n",
      "Index: 392 entries, 0 to 397\n",
      "Data columns (total 4 columns):\n",
      " #   Column      Non-Null Count  Dtype  \n",
      "---  ------      --------------  -----  \n",
      " 0   mpg         392 non-null    float64\n",
      " 1   cylinders   392 non-null    int64  \n",
      " 2   horsepower  392 non-null    float64\n",
      " 3   weight      392 non-null    float64\n",
      "dtypes: float64(3), int64(1)\n",
      "memory usage: 15.3 KB\n"
     ]
    }
   ],
   "source": [
    "#회귀분석에 필요한 변수(열,컬럼,속성,피처) 선택\n",
    "ndf = df[[\"mpg\",\"cylinders\",\"horsepower\",\"weight\"]]\n",
    "ndf.info()"
   ]
  },
  {
   "cell_type": "code",
   "execution_count": 9,
   "metadata": {},
   "outputs": [
    {
     "data": {
      "text/html": [
       "<div>\n",
       "<style scoped>\n",
       "    .dataframe tbody tr th:only-of-type {\n",
       "        vertical-align: middle;\n",
       "    }\n",
       "\n",
       "    .dataframe tbody tr th {\n",
       "        vertical-align: top;\n",
       "    }\n",
       "\n",
       "    .dataframe thead th {\n",
       "        text-align: right;\n",
       "    }\n",
       "</style>\n",
       "<table border=\"1\" class=\"dataframe\">\n",
       "  <thead>\n",
       "    <tr style=\"text-align: right;\">\n",
       "      <th></th>\n",
       "      <th>mpg</th>\n",
       "      <th>cylinders</th>\n",
       "      <th>horsepower</th>\n",
       "      <th>weight</th>\n",
       "    </tr>\n",
       "  </thead>\n",
       "  <tbody>\n",
       "    <tr>\n",
       "      <th>mpg</th>\n",
       "      <td>1.000000</td>\n",
       "      <td>-0.777618</td>\n",
       "      <td>-0.778427</td>\n",
       "      <td>-0.832244</td>\n",
       "    </tr>\n",
       "    <tr>\n",
       "      <th>cylinders</th>\n",
       "      <td>-0.777618</td>\n",
       "      <td>1.000000</td>\n",
       "      <td>0.842983</td>\n",
       "      <td>0.897527</td>\n",
       "    </tr>\n",
       "    <tr>\n",
       "      <th>horsepower</th>\n",
       "      <td>-0.778427</td>\n",
       "      <td>0.842983</td>\n",
       "      <td>1.000000</td>\n",
       "      <td>0.864538</td>\n",
       "    </tr>\n",
       "    <tr>\n",
       "      <th>weight</th>\n",
       "      <td>-0.832244</td>\n",
       "      <td>0.897527</td>\n",
       "      <td>0.864538</td>\n",
       "      <td>1.000000</td>\n",
       "    </tr>\n",
       "  </tbody>\n",
       "</table>\n",
       "</div>"
      ],
      "text/plain": [
       "                 mpg  cylinders  horsepower    weight\n",
       "mpg         1.000000  -0.777618   -0.778427 -0.832244\n",
       "cylinders  -0.777618   1.000000    0.842983  0.897527\n",
       "horsepower -0.778427   0.842983    1.000000  0.864538\n",
       "weight     -0.832244   0.897527    0.864538  1.000000"
      ]
     },
     "execution_count": 9,
     "metadata": {},
     "output_type": "execute_result"
    }
   ],
   "source": [
    "ndf.corr()"
   ]
  },
  {
   "cell_type": "code",
   "execution_count": 10,
   "metadata": {},
   "outputs": [
    {
     "data": {
      "text/plain": [
       "<seaborn.axisgrid.PairGrid at 0x19a437a66c0>"
      ]
     },
     "execution_count": 10,
     "metadata": {},
     "output_type": "execute_result"
    },
    {
     "data": {
      "image/png": "[encoded data removed]",
      "text/plain": [
       "<Figure size 1000x1000 with 20 Axes>"
      ]
     },
     "metadata": {},
     "output_type": "display_data"
    }
   ],
   "source": [
    "sns.pairplot(ndf)"
   ]
  },
  {
   "cell_type": "code",
   "execution_count": 11,
   "metadata": {},
   "outputs": [
    {
     "data": {
      "text/plain": [
       "392"
      ]
     },
     "execution_count": 11,
     "metadata": {},
     "output_type": "execute_result"
    }
   ],
   "source": [
    "#독립변수,종속변수\n",
    "X=ndf[[\"weight\"]]\n",
    "Y=ndf[\"mpg\"]\n",
    "len(X)"
   ]
  },
  {
   "cell_type": "code",
   "execution_count": 14,
   "metadata": {},
   "outputs": [],
   "source": [
    "#데이터분리 : 훈련데이터,테스트데이터로 분리\n",
    "# pip install scikit-learn\n",
    "from sklearn.model_selection import train_test_split\n",
    "#train_test_split(독립변수,종속변수,테스트데이터의 비율,seed값)\n",
    "# test_size=0.3 : 30%를 테스트데이터 분리. 기본:2.5\n",
    "X_train,X_test,Y_train,Y_test = \\\n",
    "    train_test_split(X,Y,test_size=0.3,random_state=10)"
   ]
  },
  {
   "cell_type": "markdown",
   "metadata": {},
   "source": [
    "X_train : 훈련데이터. 독립변수. 392 * 0.7 = 274.xxx  274개\n",
    "X_test  : 테스트데이터. 독립변수 392 * 0.3 = 117.6   118개 \n",
    "Y_train : 훈련데이터. 종속변수\n",
    "Y_test  : 테스트데이터. 종속변수"
   ]
  },
  {
   "cell_type": "code",
   "execution_count": 15,
   "metadata": {},
   "outputs": [
    {
     "name": "stdout",
     "output_type": "stream",
     "text": [
      "X_train의 갯수: 274\n",
      "X_test의 갯수: 118\n",
      "Y_train의 갯수: 274\n",
      "Y_test의 갯수: 118\n"
     ]
    }
   ],
   "source": [
    "print(\"X_train의 갯수:\",len(X_train)) #274\n",
    "print(\"X_test의 갯수:\",len(X_test))   #118\n",
    "print(\"Y_train의 갯수:\",len(Y_train)) #274\n",
    "print(\"Y_test의 갯수:\",len(Y_test))   #118"
   ]
  },
  {
   "cell_type": "code",
   "execution_count": 16,
   "metadata": {},
   "outputs": [],
   "source": [
    "#알고리즘 선택 : 선형회귀분석 : LinearRegression\n",
    "from sklearn.linear_model import LinearRegression\n",
    "lr = LinearRegression()"
   ]
  },
  {
   "cell_type": "code",
   "execution_count": 17,
   "metadata": {},
   "outputs": [
    {
     "data": {
      "text/html": [
       "<style>#sk-container-id-1 {\n",
       "  /* Definition of color scheme common for light and dark mode */\n",
       "  --sklearn-color-text: black;\n",
       "  --sklearn-color-line: gray;\n",
       "  /* Definition of color scheme for unfitted estimators */\n",
       "  --sklearn-color-unfitted-level-0: #fff5e6;\n",
       "  --sklearn-color-unfitted-level-1: #f6e4d2;\n",
       "  --sklearn-color-unfitted-level-2: #ffe0b3;\n",
       "  --sklearn-color-unfitted-level-3: chocolate;\n",
       "  /* Definition of color scheme for fitted estimators */\n",
       "  --sklearn-color-fitted-level-0: #f0f8ff;\n",
       "  --sklearn-color-fitted-level-1: #d4ebff;\n",
       "  --sklearn-color-fitted-level-2: #b3dbfd;\n",
       "  --sklearn-color-fitted-level-3: cornflowerblue;\n",
       "\n",
       "  /* Specific color for light theme */\n",
       "  --sklearn-color-text-on-default-background: var(--sg-text-color, var(--theme-code-foreground, var(--jp-content-font-color1, black)));\n",
       "  --sklearn-color-background: var(--sg-background-color, var(--theme-background, var(--jp-layout-color0, white)));\n",
       "  --sklearn-color-border-box: var(--sg-text-color, var(--theme-code-foreground, var(--jp-content-font-color1, black)));\n",
       "  --sklearn-color-icon: #696969;\n",
       "\n",
       "  @media (prefers-color-scheme: dark) {\n",
       "    /* Redefinition of color scheme for dark theme */\n",
       "    --sklearn-color-text-on-default-background: var(--sg-text-color, var(--theme-code-foreground, var(--jp-content-font-color1, white)));\n",
       "    --sklearn-color-background: var(--sg-background-color, var(--theme-background, var(--jp-layout-color0, #111)));\n",
       "    --sklearn-color-border-box: var(--sg-text-color, var(--theme-code-foreground, var(--jp-content-font-color1, white)));\n",
       "    --sklearn-color-icon: #878787;\n",
       "  }\n",
       "}\n",
       "\n",
       "#sk-container-id-1 {\n",
       "  color: var(--sklearn-color-text);\n",
       "}\n",
       "\n",
       "#sk-container-id-1 pre {\n",
       "  padding: 0;\n",
       "}\n",
       "\n",
       "#sk-container-id-1 input.sk-hidden--visually {\n",
       "  border: 0;\n",
       "  clip: rect(1px 1px 1px 1px);\n",
       "  clip: rect(1px, 1px, 1px, 1px);\n",
       "  height: 1px;\n",
       "  margin: -1px;\n",
       "  overflow: hidden;\n",
       "  padding: 0;\n",
       "  position: absolute;\n",
       "  width: 1px;\n",
       "}\n",
       "\n",
       "#sk-container-id-1 div.sk-dashed-wrapped {\n",
       "  border: 1px dashed var(--sklearn-color-line);\n",
       "  margin: 0 0.4em 0.5em 0.4em;\n",
       "  box-sizing: border-box;\n",
       "  padding-bottom: 0.4em;\n",
       "  background-color: var(--sklearn-color-background);\n",
       "}\n",
       "\n",
       "#sk-container-id-1 div.sk-container {\n",
       "  /* jupyter's `normalize.less` sets `[hidden] { display: none; }`\n",
       "     but bootstrap.min.css set `[hidden] { display: none !important; }`\n",
       "     so we also need the `!important` here to be able to override the\n",
       "     default hidden behavior on the sphinx rendered scikit-learn.org.\n",
       "     See: https://github.com/scikit-learn/scikit-learn/issues/21755 */\n",
       "  display: inline-block !important;\n",
       "  position: relative;\n",
       "}\n",
       "\n",
       "#sk-container-id-1 div.sk-text-repr-fallback {\n",
       "  display: none;\n",
       "}\n",
       "\n",
       "div.sk-parallel-item,\n",
       "div.sk-serial,\n",
       "div.sk-item {\n",
       "  /* draw centered vertical line to link estimators */\n",
       "  background-image: linear-gradient(var(--sklearn-color-text-on-default-background), var(--sklearn-color-text-on-default-background));\n",
       "  background-size: 2px 100%;\n",
       "  background-repeat: no-repeat;\n",
       "  background-position: center center;\n",
       "}\n",
       "\n",
       "/* Parallel-specific style estimator block */\n",
       "\n",
       "#sk-container-id-1 div.sk-parallel-item::after {\n",
       "  content: \"\";\n",
       "  width: 100%;\n",
       "  border-bottom: 2px solid var(--sklearn-color-text-on-default-background);\n",
       "  flex-grow: 1;\n",
       "}\n",
       "\n",
       "#sk-container-id-1 div.sk-parallel {\n",
       "  display: flex;\n",
       "  align-items: stretch;\n",
       "  justify-content: center;\n",
       "  background-color: var(--sklearn-color-background);\n",
       "  position: relative;\n",
       "}\n",
       "\n",
       "#sk-container-id-1 div.sk-parallel-item {\n",
       "  display: flex;\n",
       "  flex-direction: column;\n",
       "}\n",
       "\n",
       "#sk-container-id-1 div.sk-parallel-item:first-child::after {\n",
       "  align-self: flex-end;\n",
       "  width: 50%;\n",
       "}\n",
       "\n",
       "#sk-container-id-1 div.sk-parallel-item:last-child::after {\n",
       "  align-self: flex-start;\n",
       "  width: 50%;\n",
       "}\n",
       "\n",
       "#sk-container-id-1 div.sk-parallel-item:only-child::after {\n",
       "  width: 0;\n",
       "}\n",
       "\n",
       "/* Serial-specific style estimator block */\n",
       "\n",
       "#sk-container-id-1 div.sk-serial {\n",
       "  display: flex;\n",
       "  flex-direction: column;\n",
       "  align-items: center;\n",
       "  background-color: var(--sklearn-color-background);\n",
       "  padding-right: 1em;\n",
       "  padding-left: 1em;\n",
       "}\n",
       "\n",
       "\n",
       "/* Toggleable style: style used for estimator/Pipeline/ColumnTransformer box that is\n",
       "clickable and can be expanded/collapsed.\n",
       "- Pipeline and ColumnTransformer use this feature and define the default style\n",
       "- Estimators will overwrite some part of the style using the `sk-estimator` class\n",
       "*/\n",
       "\n",
       "/* Pipeline and ColumnTransformer style (default) */\n",
       "\n",
       "#sk-container-id-1 div.sk-toggleable {\n",
       "  /* Default theme specific background. It is overwritten whether we have a\n",
       "  specific estimator or a Pipeline/ColumnTransformer */\n",
       "  background-color: var(--sklearn-color-background);\n",
       "}\n",
       "\n",
       "/* Toggleable label */\n",
       "#sk-container-id-1 label.sk-toggleable__label {\n",
       "  cursor: pointer;\n",
       "  display: block;\n",
       "  width: 100%;\n",
       "  margin-bottom: 0;\n",
       "  padding: 0.5em;\n",
       "  box-sizing: border-box;\n",
       "  text-align: center;\n",
       "}\n",
       "\n",
       "#sk-container-id-1 label.sk-toggleable__label-arrow:before {\n",
       "  /* Arrow on the left of the label */\n",
       "  content: \"▸\";\n",
       "  float: left;\n",
       "  margin-right: 0.25em;\n",
       "  color: var(--sklearn-color-icon);\n",
       "}\n",
       "\n",
       "#sk-container-id-1 label.sk-toggleable__label-arrow:hover:before {\n",
       "  color: var(--sklearn-color-text);\n",
       "}\n",
       "\n",
       "/* Toggleable content - dropdown */\n",
       "\n",
       "#sk-container-id-1 div.sk-toggleable__content {\n",
       "  max-height: 0;\n",
       "  max-width: 0;\n",
       "  overflow: hidden;\n",
       "  text-align: left;\n",
       "  /* unfitted */\n",
       "  background-color: var(--sklearn-color-unfitted-level-0);\n",
       "}\n",
       "\n",
       "#sk-container-id-1 div.sk-toggleable__content.fitted {\n",
       "  /* fitted */\n",
       "  background-color: var(--sklearn-color-fitted-level-0);\n",
       "}\n",
       "\n",
       "#sk-container-id-1 div.sk-toggleable__content pre {\n",
       "  margin: 0.2em;\n",
       "  border-radius: 0.25em;\n",
       "  color: var(--sklearn-color-text);\n",
       "  /* unfitted */\n",
       "  background-color: var(--sklearn-color-unfitted-level-0);\n",
       "}\n",
       "\n",
       "#sk-container-id-1 div.sk-toggleable__content.fitted pre {\n",
       "  /* unfitted */\n",
       "  background-color: var(--sklearn-color-fitted-level-0);\n",
       "}\n",
       "\n",
       "#sk-container-id-1 input.sk-toggleable__control:checked~div.sk-toggleable__content {\n",
       "  /* Expand drop-down */\n",
       "  max-height: 200px;\n",
       "  max-width: 100%;\n",
       "  overflow: auto;\n",
       "}\n",
       "\n",
       "#sk-container-id-1 input.sk-toggleable__control:checked~label.sk-toggleable__label-arrow:before {\n",
       "  content: \"▾\";\n",
       "}\n",
       "\n",
       "/* Pipeline/ColumnTransformer-specific style */\n",
       "\n",
       "#sk-container-id-1 div.sk-label input.sk-toggleable__control:checked~label.sk-toggleable__label {\n",
       "  color: var(--sklearn-color-text);\n",
       "  background-color: var(--sklearn-color-unfitted-level-2);\n",
       "}\n",
       "\n",
       "#sk-container-id-1 div.sk-label.fitted input.sk-toggleable__control:checked~label.sk-toggleable__label {\n",
       "  background-color: var(--sklearn-color-fitted-level-2);\n",
       "}\n",
       "\n",
       "/* Estimator-specific style */\n",
       "\n",
       "/* Colorize estimator box */\n",
       "#sk-container-id-1 div.sk-estimator input.sk-toggleable__control:checked~label.sk-toggleable__label {\n",
       "  /* unfitted */\n",
       "  background-color: var(--sklearn-color-unfitted-level-2);\n",
       "}\n",
       "\n",
       "#sk-container-id-1 div.sk-estimator.fitted input.sk-toggleable__control:checked~label.sk-toggleable__label {\n",
       "  /* fitted */\n",
       "  background-color: var(--sklearn-color-fitted-level-2);\n",
       "}\n",
       "\n",
       "#sk-container-id-1 div.sk-label label.sk-toggleable__label,\n",
       "#sk-container-id-1 div.sk-label label {\n",
       "  /* The background is the default theme color */\n",
       "  color: var(--sklearn-color-text-on-default-background);\n",
       "}\n",
       "\n",
       "/* On hover, darken the color of the background */\n",
       "#sk-container-id-1 div.sk-label:hover label.sk-toggleable__label {\n",
       "  color: var(--sklearn-color-text);\n",
       "  background-color: var(--sklearn-color-unfitted-level-2);\n",
       "}\n",
       "\n",
       "/* Label box, darken color on hover, fitted */\n",
       "#sk-container-id-1 div.sk-label.fitted:hover label.sk-toggleable__label.fitted {\n",
       "  color: var(--sklearn-color-text);\n",
       "  background-color: var(--sklearn-color-fitted-level-2);\n",
       "}\n",
       "\n",
       "/* Estimator label */\n",
       "\n",
       "#sk-container-id-1 div.sk-label label {\n",
       "  font-family: monospace;\n",
       "  font-weight: bold;\n",
       "  display: inline-block;\n",
       "  line-height: 1.2em;\n",
       "}\n",
       "\n",
       "#sk-container-id-1 div.sk-label-container {\n",
       "  text-align: center;\n",
       "}\n",
       "\n",
       "/* Estimator-specific */\n",
       "#sk-container-id-1 div.sk-estimator {\n",
       "  font-family: monospace;\n",
       "  border: 1px dotted var(--sklearn-color-border-box);\n",
       "  border-radius: 0.25em;\n",
       "  box-sizing: border-box;\n",
       "  margin-bottom: 0.5em;\n",
       "  /* unfitted */\n",
       "  background-color: var(--sklearn-color-unfitted-level-0);\n",
       "}\n",
       "\n",
       "#sk-container-id-1 div.sk-estimator.fitted {\n",
       "  /* fitted */\n",
       "  background-color: var(--sklearn-color-fitted-level-0);\n",
       "}\n",
       "\n",
       "/* on hover */\n",
       "#sk-container-id-1 div.sk-estimator:hover {\n",
       "  /* unfitted */\n",
       "  background-color: var(--sklearn-color-unfitted-level-2);\n",
       "}\n",
       "\n",
       "#sk-container-id-1 div.sk-estimator.fitted:hover {\n",
       "  /* fitted */\n",
       "  background-color: var(--sklearn-color-fitted-level-2);\n",
       "}\n",
       "\n",
       "/* Specification for estimator info (e.g. \"i\" and \"?\") */\n",
       "\n",
       "/* Common style for \"i\" and \"?\" */\n",
       "\n",
       ".sk-estimator-doc-link,\n",
       "a:link.sk-estimator-doc-link,\n",
       "a:visited.sk-estimator-doc-link {\n",
       "  float: right;\n",
       "  font-size: smaller;\n",
       "  line-height: 1em;\n",
       "  font-family: monospace;\n",
       "  background-color: var(--sklearn-color-background);\n",
       "  border-radius: 1em;\n",
       "  height: 1em;\n",
       "  width: 1em;\n",
       "  text-decoration: none !important;\n",
       "  margin-left: 1ex;\n",
       "  /* unfitted */\n",
       "  border: var(--sklearn-color-unfitted-level-1) 1pt solid;\n",
       "  color: var(--sklearn-color-unfitted-level-1);\n",
       "}\n",
       "\n",
       ".sk-estimator-doc-link.fitted,\n",
       "a:link.sk-estimator-doc-link.fitted,\n",
       "a:visited.sk-estimator-doc-link.fitted {\n",
       "  /* fitted */\n",
       "  border: var(--sklearn-color-fitted-level-1) 1pt solid;\n",
       "  color: var(--sklearn-color-fitted-level-1);\n",
       "}\n",
       "\n",
       "/* On hover */\n",
       "div.sk-estimator:hover .sk-estimator-doc-link:hover,\n",
       ".sk-estimator-doc-link:hover,\n",
       "div.sk-label-container:hover .sk-estimator-doc-link:hover,\n",
       ".sk-estimator-doc-link:hover {\n",
       "  /* unfitted */\n",
       "  background-color: var(--sklearn-color-unfitted-level-3);\n",
       "  color: var(--sklearn-color-background);\n",
       "  text-decoration: none;\n",
       "}\n",
       "\n",
       "div.sk-estimator.fitted:hover .sk-estimator-doc-link.fitted:hover,\n",
       ".sk-estimator-doc-link.fitted:hover,\n",
       "div.sk-label-container:hover .sk-estimator-doc-link.fitted:hover,\n",
       ".sk-estimator-doc-link.fitted:hover {\n",
       "  /* fitted */\n",
       "  background-color: var(--sklearn-color-fitted-level-3);\n",
       "  color: var(--sklearn-color-background);\n",
       "  text-decoration: none;\n",
       "}\n",
       "\n",
       "/* Span, style for the box shown on hovering the info icon */\n",
       ".sk-estimator-doc-link span {\n",
       "  display: none;\n",
       "  z-index: 9999;\n",
       "  position: relative;\n",
       "  font-weight: normal;\n",
       "  right: .2ex;\n",
       "  padding: .5ex;\n",
       "  margin: .5ex;\n",
       "  width: min-content;\n",
       "  min-width: 20ex;\n",
       "  max-width: 50ex;\n",
       "  color: var(--sklearn-color-text);\n",
       "  box-shadow: 2pt 2pt 4pt #999;\n",
       "  /* unfitted */\n",
       "  background: var(--sklearn-color-unfitted-level-0);\n",
       "  border: .5pt solid var(--sklearn-color-unfitted-level-3);\n",
       "}\n",
       "\n",
       ".sk-estimator-doc-link.fitted span {\n",
       "  /* fitted */\n",
       "  background: var(--sklearn-color-fitted-level-0);\n",
       "  border: var(--sklearn-color-fitted-level-3);\n",
       "}\n",
       "\n",
       ".sk-estimator-doc-link:hover span {\n",
       "  display: block;\n",
       "}\n",
       "\n",
       "/* \"?\"-specific style due to the `<a>` HTML tag */\n",
       "\n",
       "#sk-container-id-1 a.estimator_doc_link {\n",
       "  float: right;\n",
       "  font-size: 1rem;\n",
       "  line-height: 1em;\n",
       "  font-family: monospace;\n",
       "  background-color: var(--sklearn-color-background);\n",
       "  border-radius: 1rem;\n",
       "  height: 1rem;\n",
       "  width: 1rem;\n",
       "  text-decoration: none;\n",
       "  /* unfitted */\n",
       "  color: var(--sklearn-color-unfitted-level-1);\n",
       "  border: var(--sklearn-color-unfitted-level-1) 1pt solid;\n",
       "}\n",
       "\n",
       "#sk-container-id-1 a.estimator_doc_link.fitted {\n",
       "  /* fitted */\n",
       "  border: var(--sklearn-color-fitted-level-1) 1pt solid;\n",
       "  color: var(--sklearn-color-fitted-level-1);\n",
       "}\n",
       "\n",
       "/* On hover */\n",
       "#sk-container-id-1 a.estimator_doc_link:hover {\n",
       "  /* unfitted */\n",
       "  background-color: var(--sklearn-color-unfitted-level-3);\n",
       "  color: var(--sklearn-color-background);\n",
       "  text-decoration: none;\n",
       "}\n",
       "\n",
       "#sk-container-id-1 a.estimator_doc_link.fitted:hover {\n",
       "  /* fitted */\n",
       "  background-color: var(--sklearn-color-fitted-level-3);\n",
       "}\n",
       "</style><div id=\"sk-container-id-1\" class=\"sk-top-container\"><div class=\"sk-text-repr-fallback\"><pre>LinearRegression()</pre><b>In a Jupyter environment, please rerun this cell to show the HTML representation or trust the notebook. <br />On GitHub, the HTML representation is unable to render, please try loading this page with nbviewer.org.</b></div><div class=\"sk-container\" hidden><div class=\"sk-item\"><div class=\"sk-estimator fitted sk-toggleable\"><input class=\"sk-toggleable__control sk-hidden--visually\" id=\"sk-estimator-id-1\" type=\"checkbox\" checked><label for=\"sk-estimator-id-1\" class=\"sk-toggleable__label fitted sk-toggleable__label-arrow fitted\">&nbsp;&nbsp;LinearRegression<a class=\"sk-estimator-doc-link fitted\" rel=\"noreferrer\" target=\"_blank\" href=\"https://scikit-learn.org/1.5/modules/generated/sklearn.linear_model.LinearRegression.html\">?<span>Documentation for LinearRegression</span></a><span class=\"sk-estimator-doc-link fitted\">i<span>Fitted</span></span></label><div class=\"sk-toggleable__content fitted\"><pre>LinearRegression()</pre></div> </div></div></div></div>"
      ],
      "text/plain": [
       "LinearRegression()"
      ]
     },
     "execution_count": 17,
     "metadata": {},
     "output_type": "execute_result"
    }
   ],
   "source": [
    "#모형학습\n",
    "lr.fit(X_train,Y_train)"
   ]
  },
  {
   "cell_type": "code",
   "execution_count": 18,
   "metadata": {},
   "outputs": [],
   "source": [
    "#예측\n",
    "y_hat = lr.predict(X_test) \n",
    "# y_hat : 예측된 연비\n",
    "# Y_test : 실제 연비"
   ]
  },
  {
   "cell_type": "code",
   "execution_count": 20,
   "metadata": {},
   "outputs": [
    {
     "name": "stdout",
     "output_type": "stream",
     "text": [
      "예측된 연비 10개 : [25.62103211 27.13295129 20.19362994 33.06432652 15.07636504 19.99979415\n",
      " 16.70458569  6.85772747 28.6061033  29.04804891]\n",
      "실제 연비 10개 : [21.5, 29.0, 23.9, 35.1, 17.5, 17.7, 13.0, 13.0, 43.4, 24.0]\n"
     ]
    }
   ],
   "source": [
    "#평가\n",
    "print(\"예측된 연비 10개 :\",y_hat[:10])\n",
    "print(\"실제 연비 10개 :\",Y_test[:10].tolist())"
   ]
  },
  {
   "cell_type": "code",
   "execution_count": 21,
   "metadata": {},
   "outputs": [
    {
     "data": {
      "text/plain": [
       "0.6822458558299325"
      ]
     },
     "execution_count": 21,
     "metadata": {},
     "output_type": "execute_result"
    }
   ],
   "source": [
    "r_square = lr.score(X_test,Y_test)\n",
    "r_square"
   ]
  },
  {
   "cell_type": "code",
   "execution_count": 22,
   "metadata": {},
   "outputs": [
    {
     "data": {
      "text/plain": [
       "0.6919759765239986"
      ]
     },
     "execution_count": 22,
     "metadata": {},
     "output_type": "execute_result"
    }
   ],
   "source": [
    "r_square = lr.score(X,Y)\n",
    "r_square"
   ]
  },
  {
   "cell_type": "markdown",
   "metadata": {},
   "source": [
    "결정계수 : 1 - 잔차제곱합/총변환량\n",
    "  잔차제곱합 : ((Y-y_hat) ** 2).sum()\n",
    "  총변환량 : ((Y-Y.mean()) ** 2).sum()"
   ]
  },
  {
   "cell_type": "markdown",
   "metadata": {},
   "source": [
    "단일회귀분석 : 독립변수가 한개. 종속변수는 한개\n",
    "     Y = aX + b => mpg = a(weight) + b\n",
    "다중회귀분석 : 독립변수가 여러개. 종속변수는 한개\n",
    "     Y = a1X1+a2X2... + b"
   ]
  },
  {
   "cell_type": "code",
   "execution_count": null,
   "metadata": {},
   "outputs": [],
   "source": [
    "X=ndf[[\"weight\",\"horsepower\"]]"
   ]
  },
  {
   "cell_type": "code",
   "execution_count": 23,
   "metadata": {},
   "outputs": [
    {
     "data": {
      "text/plain": [
       "<matplotlib.legend.Legend at 0x19a592a29c0>"
      ]
     },
     "execution_count": 23,
     "metadata": {},
     "output_type": "execute_result"
    },
    {
     "data": {
      "image/png": "[encoded data removed]",
      "text/plain": [
       "<Figure size 1000x500 with 1 Axes>"
      ]
     },
     "metadata": {},
     "output_type": "display_data"
    }
   ],
   "source": [
    "plt.figure(figsize=(10,5))\n",
    "ax1 = sns.kdeplot(Y,label=\"Y\")\n",
    "ax2 = sns.kdeplot(y_hat,label=\"y_hat\",ax=ax1)\n",
    "plt.legend()"
   ]
  },
  {
   "cell_type": "markdown",
   "metadata": {},
   "source": [
    "https://data.kma.go.kr/\n",
    "기후통계분석\n",
    "기온분석 데이터 다운받기\n",
    "seoul20240711.csv 이름변경하기. header 정보 제거"
   ]
  },
  {
   "cell_type": "code",
   "execution_count": 26,
   "metadata": {},
   "outputs": [
    {
     "name": "stdout",
     "output_type": "stream",
     "text": [
      "<class 'pandas.core.frame.DataFrame'>\n",
      "RangeIndex: 42223 entries, 0 to 42222\n",
      "Data columns (total 5 columns):\n",
      " #   Column   Non-Null Count  Dtype  \n",
      "---  ------   --------------  -----  \n",
      " 0   날짜       42223 non-null  object \n",
      " 1   지점       42223 non-null  int64  \n",
      " 2   평균기온(℃)  41467 non-null  float64\n",
      " 3   최저기온(℃)  41464 non-null  float64\n",
      " 4   최고기온(℃)  41464 non-null  float64\n",
      "dtypes: float64(3), int64(1), object(1)\n",
      "memory usage: 1.6+ MB\n"
     ]
    }
   ],
   "source": [
    "#seoul20240711.csv 읽어서 seoul 저장하기\n",
    "seoul = pd.read_csv(\"data/seoul20240711.csv\",encoding=\"cp949\")\n",
    "seoul.info()"
   ]
  },
  {
   "cell_type": "code",
   "execution_count": 27,
   "metadata": {},
   "outputs": [
    {
     "data": {
      "text/html": [
       "<div>\n",
       "<style scoped>\n",
       "    .dataframe tbody tr th:only-of-type {\n",
       "        vertical-align: middle;\n",
       "    }\n",
       "\n",
       "    .dataframe tbody tr th {\n",
       "        vertical-align: top;\n",
       "    }\n",
       "\n",
       "    .dataframe thead th {\n",
       "        text-align: right;\n",
       "    }\n",
       "</style>\n",
       "<table border=\"1\" class=\"dataframe\">\n",
       "  <thead>\n",
       "    <tr style=\"text-align: right;\">\n",
       "      <th></th>\n",
       "      <th>날짜</th>\n",
       "      <th>지점</th>\n",
       "      <th>평균기온(℃)</th>\n",
       "      <th>최저기온(℃)</th>\n",
       "      <th>최고기온(℃)</th>\n",
       "    </tr>\n",
       "  </thead>\n",
       "  <tbody>\n",
       "    <tr>\n",
       "      <th>0</th>\n",
       "      <td>\\t1907-10-01</td>\n",
       "      <td>108</td>\n",
       "      <td>13.5</td>\n",
       "      <td>7.9</td>\n",
       "      <td>20.7</td>\n",
       "    </tr>\n",
       "    <tr>\n",
       "      <th>1</th>\n",
       "      <td>\\t1907-10-02</td>\n",
       "      <td>108</td>\n",
       "      <td>16.2</td>\n",
       "      <td>7.9</td>\n",
       "      <td>22.0</td>\n",
       "    </tr>\n",
       "    <tr>\n",
       "      <th>2</th>\n",
       "      <td>\\t1907-10-03</td>\n",
       "      <td>108</td>\n",
       "      <td>16.2</td>\n",
       "      <td>13.1</td>\n",
       "      <td>21.3</td>\n",
       "    </tr>\n",
       "    <tr>\n",
       "      <th>3</th>\n",
       "      <td>\\t1907-10-04</td>\n",
       "      <td>108</td>\n",
       "      <td>16.5</td>\n",
       "      <td>11.2</td>\n",
       "      <td>22.0</td>\n",
       "    </tr>\n",
       "    <tr>\n",
       "      <th>4</th>\n",
       "      <td>\\t1907-10-05</td>\n",
       "      <td>108</td>\n",
       "      <td>17.6</td>\n",
       "      <td>10.9</td>\n",
       "      <td>25.4</td>\n",
       "    </tr>\n",
       "  </tbody>\n",
       "</table>\n",
       "</div>"
      ],
      "text/plain": [
       "             날짜   지점  평균기온(℃)  최저기온(℃)  최고기온(℃)\n",
       "0  \\t1907-10-01  108     13.5      7.9     20.7\n",
       "1  \\t1907-10-02  108     16.2      7.9     22.0\n",
       "2  \\t1907-10-03  108     16.2     13.1     21.3\n",
       "3  \\t1907-10-04  108     16.5     11.2     22.0\n",
       "4  \\t1907-10-05  108     17.6     10.9     25.4"
      ]
     },
     "execution_count": 27,
     "metadata": {},
     "output_type": "execute_result"
    }
   ],
   "source": [
    "seoul.head()"
   ]
  },
  {
   "cell_type": "code",
   "execution_count": 28,
   "metadata": {},
   "outputs": [
    {
     "data": {
      "text/html": [
       "<div>\n",
       "<style scoped>\n",
       "    .dataframe tbody tr th:only-of-type {\n",
       "        vertical-align: middle;\n",
       "    }\n",
       "\n",
       "    .dataframe tbody tr th {\n",
       "        vertical-align: top;\n",
       "    }\n",
       "\n",
       "    .dataframe thead th {\n",
       "        text-align: right;\n",
       "    }\n",
       "</style>\n",
       "<table border=\"1\" class=\"dataframe\">\n",
       "  <thead>\n",
       "    <tr style=\"text-align: right;\">\n",
       "      <th></th>\n",
       "      <th>날짜</th>\n",
       "      <th>지점</th>\n",
       "      <th>평균기온(℃)</th>\n",
       "      <th>최저기온(℃)</th>\n",
       "      <th>최고기온(℃)</th>\n",
       "    </tr>\n",
       "  </thead>\n",
       "  <tbody>\n",
       "    <tr>\n",
       "      <th>0</th>\n",
       "      <td>1907-10-01</td>\n",
       "      <td>108</td>\n",
       "      <td>13.5</td>\n",
       "      <td>7.9</td>\n",
       "      <td>20.7</td>\n",
       "    </tr>\n",
       "    <tr>\n",
       "      <th>1</th>\n",
       "      <td>1907-10-02</td>\n",
       "      <td>108</td>\n",
       "      <td>16.2</td>\n",
       "      <td>7.9</td>\n",
       "      <td>22.0</td>\n",
       "    </tr>\n",
       "    <tr>\n",
       "      <th>2</th>\n",
       "      <td>1907-10-03</td>\n",
       "      <td>108</td>\n",
       "      <td>16.2</td>\n",
       "      <td>13.1</td>\n",
       "      <td>21.3</td>\n",
       "    </tr>\n",
       "    <tr>\n",
       "      <th>3</th>\n",
       "      <td>1907-10-04</td>\n",
       "      <td>108</td>\n",
       "      <td>16.5</td>\n",
       "      <td>11.2</td>\n",
       "      <td>22.0</td>\n",
       "    </tr>\n",
       "    <tr>\n",
       "      <th>4</th>\n",
       "      <td>1907-10-05</td>\n",
       "      <td>108</td>\n",
       "      <td>17.6</td>\n",
       "      <td>10.9</td>\n",
       "      <td>25.4</td>\n",
       "    </tr>\n",
       "  </tbody>\n",
       "</table>\n",
       "</div>"
      ],
      "text/plain": [
       "           날짜   지점  평균기온(℃)  최저기온(℃)  최고기온(℃)\n",
       "0  1907-10-01  108     13.5      7.9     20.7\n",
       "1  1907-10-02  108     16.2      7.9     22.0\n",
       "2  1907-10-03  108     16.2     13.1     21.3\n",
       "3  1907-10-04  108     16.5     11.2     22.0\n",
       "4  1907-10-05  108     17.6     10.9     25.4"
      ]
     },
     "execution_count": 28,
     "metadata": {},
     "output_type": "execute_result"
    }
   ],
   "source": [
    "#날짜 컬럼의 \\t 제거하기\n",
    "seoul[\"날짜\"] = seoul[\"날짜\"].str.replace(\"\\t\",\"\")\n",
    "seoul.head()"
   ]
  },
  {
   "cell_type": "code",
   "execution_count": 29,
   "metadata": {},
   "outputs": [
    {
     "data": {
      "text/html": [
       "<div>\n",
       "<style scoped>\n",
       "    .dataframe tbody tr th:only-of-type {\n",
       "        vertical-align: middle;\n",
       "    }\n",
       "\n",
       "    .dataframe tbody tr th {\n",
       "        vertical-align: top;\n",
       "    }\n",
       "\n",
       "    .dataframe thead th {\n",
       "        text-align: right;\n",
       "    }\n",
       "</style>\n",
       "<table border=\"1\" class=\"dataframe\">\n",
       "  <thead>\n",
       "    <tr style=\"text-align: right;\">\n",
       "      <th></th>\n",
       "      <th>날짜</th>\n",
       "      <th>지점</th>\n",
       "      <th>평균기온(℃)</th>\n",
       "      <th>최저기온(℃)</th>\n",
       "      <th>최고기온(℃)</th>\n",
       "      <th>년도</th>\n",
       "      <th>월일</th>\n",
       "    </tr>\n",
       "  </thead>\n",
       "  <tbody>\n",
       "    <tr>\n",
       "      <th>0</th>\n",
       "      <td>1907-10-01</td>\n",
       "      <td>108</td>\n",
       "      <td>13.5</td>\n",
       "      <td>7.9</td>\n",
       "      <td>20.7</td>\n",
       "      <td>1907</td>\n",
       "      <td>10-01</td>\n",
       "    </tr>\n",
       "    <tr>\n",
       "      <th>1</th>\n",
       "      <td>1907-10-02</td>\n",
       "      <td>108</td>\n",
       "      <td>16.2</td>\n",
       "      <td>7.9</td>\n",
       "      <td>22.0</td>\n",
       "      <td>1907</td>\n",
       "      <td>10-02</td>\n",
       "    </tr>\n",
       "    <tr>\n",
       "      <th>2</th>\n",
       "      <td>1907-10-03</td>\n",
       "      <td>108</td>\n",
       "      <td>16.2</td>\n",
       "      <td>13.1</td>\n",
       "      <td>21.3</td>\n",
       "      <td>1907</td>\n",
       "      <td>10-03</td>\n",
       "    </tr>\n",
       "    <tr>\n",
       "      <th>3</th>\n",
       "      <td>1907-10-04</td>\n",
       "      <td>108</td>\n",
       "      <td>16.5</td>\n",
       "      <td>11.2</td>\n",
       "      <td>22.0</td>\n",
       "      <td>1907</td>\n",
       "      <td>10-04</td>\n",
       "    </tr>\n",
       "    <tr>\n",
       "      <th>4</th>\n",
       "      <td>1907-10-05</td>\n",
       "      <td>108</td>\n",
       "      <td>17.6</td>\n",
       "      <td>10.9</td>\n",
       "      <td>25.4</td>\n",
       "      <td>1907</td>\n",
       "      <td>10-05</td>\n",
       "    </tr>\n",
       "  </tbody>\n",
       "</table>\n",
       "</div>"
      ],
      "text/plain": [
       "           날짜   지점  평균기온(℃)  최저기온(℃)  최고기온(℃)    년도     월일\n",
       "0  1907-10-01  108     13.5      7.9     20.7  1907  10-01\n",
       "1  1907-10-02  108     16.2      7.9     22.0  1907  10-02\n",
       "2  1907-10-03  108     16.2     13.1     21.3  1907  10-03\n",
       "3  1907-10-04  108     16.5     11.2     22.0  1907  10-04\n",
       "4  1907-10-05  108     17.6     10.9     25.4  1907  10-05"
      ]
     },
     "execution_count": 29,
     "metadata": {},
     "output_type": "execute_result"
    }
   ],
   "source": [
    "#년도컬럼, 월일 컬럼 추가하기\n",
    "seoul[\"년도\"] = seoul[\"날짜\"].str[:4]\n",
    "seoul[\"월일\"] = seoul[\"날짜\"].str[5:]\n",
    "seoul.head()"
   ]
  },
  {
   "cell_type": "code",
   "execution_count": 30,
   "metadata": {},
   "outputs": [],
   "source": [
    "# 지점컬럼을 제거하기\n",
    "del seoul[\"지점\"]"
   ]
  },
  {
   "cell_type": "code",
   "execution_count": null,
   "metadata": {},
   "outputs": [],
   "source": [
    "seoul.info()"
   ]
  },
  {
   "cell_type": "code",
   "execution_count": 32,
   "metadata": {},
   "outputs": [
    {
     "data": {
      "text/plain": [
       "Index(['날짜', '평균기온(℃)', '최저기온(℃)', '최고기온(℃)', '년도', '월일'], dtype='object')"
      ]
     },
     "execution_count": 32,
     "metadata": {},
     "output_type": "execute_result"
    }
   ],
   "source": [
    "seoul.columns"
   ]
  },
  {
   "cell_type": "code",
   "execution_count": 34,
   "metadata": {},
   "outputs": [],
   "source": [
    "#컬럼명 : 날짜,평균기온,최저기온,최고기온,년도,월일 변경하기\n",
    "#seoul.columns = [\"날짜\",\"평균기온\",\"최저기온\",...]\n",
    "seoul.columns = list(\"날짜,평균기온,최저기온,최고기온,년도,월일\".split(\",\"))"
   ]
  },
  {
   "cell_type": "code",
   "execution_count": 35,
   "metadata": {},
   "outputs": [
    {
     "name": "stdout",
     "output_type": "stream",
     "text": [
      "<class 'pandas.core.frame.DataFrame'>\n",
      "RangeIndex: 42223 entries, 0 to 42222\n",
      "Data columns (total 6 columns):\n",
      " #   Column  Non-Null Count  Dtype  \n",
      "---  ------  --------------  -----  \n",
      " 0   날짜      42223 non-null  object \n",
      " 1   평균기온    41467 non-null  float64\n",
      " 2   최저기온    41464 non-null  float64\n",
      " 3   최고기온    41464 non-null  float64\n",
      " 4   년도      42223 non-null  object \n",
      " 5   월일      42223 non-null  object \n",
      "dtypes: float64(3), object(3)\n",
      "memory usage: 1.9+ MB\n"
     ]
    }
   ],
   "source": [
    "seoul.info()"
   ]
  },
  {
   "cell_type": "code",
   "execution_count": 39,
   "metadata": {},
   "outputs": [
    {
     "data": {
      "text/html": [
       "<div>\n",
       "<style scoped>\n",
       "    .dataframe tbody tr th:only-of-type {\n",
       "        vertical-align: middle;\n",
       "    }\n",
       "\n",
       "    .dataframe tbody tr th {\n",
       "        vertical-align: top;\n",
       "    }\n",
       "\n",
       "    .dataframe thead th {\n",
       "        text-align: right;\n",
       "    }\n",
       "</style>\n",
       "<table border=\"1\" class=\"dataframe\">\n",
       "  <thead>\n",
       "    <tr style=\"text-align: right;\">\n",
       "      <th></th>\n",
       "      <th>날짜</th>\n",
       "      <th>평균기온</th>\n",
       "      <th>최저기온</th>\n",
       "      <th>최고기온</th>\n",
       "      <th>년도</th>\n",
       "      <th>월일</th>\n",
       "    </tr>\n",
       "  </thead>\n",
       "  <tbody>\n",
       "    <tr>\n",
       "      <th>15676</th>\n",
       "      <td>1950-09-01</td>\n",
       "      <td>NaN</td>\n",
       "      <td>NaN</td>\n",
       "      <td>NaN</td>\n",
       "      <td>1950</td>\n",
       "      <td>09-01</td>\n",
       "    </tr>\n",
       "    <tr>\n",
       "      <th>15677</th>\n",
       "      <td>1950-09-02</td>\n",
       "      <td>NaN</td>\n",
       "      <td>NaN</td>\n",
       "      <td>NaN</td>\n",
       "      <td>1950</td>\n",
       "      <td>09-02</td>\n",
       "    </tr>\n",
       "    <tr>\n",
       "      <th>15678</th>\n",
       "      <td>1950-09-03</td>\n",
       "      <td>NaN</td>\n",
       "      <td>NaN</td>\n",
       "      <td>NaN</td>\n",
       "      <td>1950</td>\n",
       "      <td>09-03</td>\n",
       "    </tr>\n",
       "    <tr>\n",
       "      <th>15679</th>\n",
       "      <td>1950-09-04</td>\n",
       "      <td>NaN</td>\n",
       "      <td>NaN</td>\n",
       "      <td>NaN</td>\n",
       "      <td>1950</td>\n",
       "      <td>09-04</td>\n",
       "    </tr>\n",
       "    <tr>\n",
       "      <th>15680</th>\n",
       "      <td>1950-09-05</td>\n",
       "      <td>NaN</td>\n",
       "      <td>NaN</td>\n",
       "      <td>NaN</td>\n",
       "      <td>1950</td>\n",
       "      <td>09-05</td>\n",
       "    </tr>\n",
       "    <tr>\n",
       "      <th>...</th>\n",
       "      <td>...</td>\n",
       "      <td>...</td>\n",
       "      <td>...</td>\n",
       "      <td>...</td>\n",
       "      <td>...</td>\n",
       "      <td>...</td>\n",
       "    </tr>\n",
       "    <tr>\n",
       "      <th>16430</th>\n",
       "      <td>1953-11-29</td>\n",
       "      <td>NaN</td>\n",
       "      <td>NaN</td>\n",
       "      <td>NaN</td>\n",
       "      <td>1953</td>\n",
       "      <td>11-29</td>\n",
       "    </tr>\n",
       "    <tr>\n",
       "      <th>16431</th>\n",
       "      <td>1953-11-30</td>\n",
       "      <td>NaN</td>\n",
       "      <td>NaN</td>\n",
       "      <td>NaN</td>\n",
       "      <td>1953</td>\n",
       "      <td>11-30</td>\n",
       "    </tr>\n",
       "    <tr>\n",
       "      <th>21260</th>\n",
       "      <td>1967-02-19</td>\n",
       "      <td>-1.7</td>\n",
       "      <td>NaN</td>\n",
       "      <td>NaN</td>\n",
       "      <td>1967</td>\n",
       "      <td>02-19</td>\n",
       "    </tr>\n",
       "    <tr>\n",
       "      <th>23691</th>\n",
       "      <td>1973-10-16</td>\n",
       "      <td>12.3</td>\n",
       "      <td>NaN</td>\n",
       "      <td>NaN</td>\n",
       "      <td>1973</td>\n",
       "      <td>10-16</td>\n",
       "    </tr>\n",
       "    <tr>\n",
       "      <th>39758</th>\n",
       "      <td>2017-10-12</td>\n",
       "      <td>11.4</td>\n",
       "      <td>8.8</td>\n",
       "      <td>NaN</td>\n",
       "      <td>2017</td>\n",
       "      <td>10-12</td>\n",
       "    </tr>\n",
       "  </tbody>\n",
       "</table>\n",
       "<p>759 rows × 6 columns</p>\n",
       "</div>"
      ],
      "text/plain": [
       "               날짜  평균기온  최저기온  최고기온    년도     월일\n",
       "15676  1950-09-01   NaN   NaN   NaN  1950  09-01\n",
       "15677  1950-09-02   NaN   NaN   NaN  1950  09-02\n",
       "15678  1950-09-03   NaN   NaN   NaN  1950  09-03\n",
       "15679  1950-09-04   NaN   NaN   NaN  1950  09-04\n",
       "15680  1950-09-05   NaN   NaN   NaN  1950  09-05\n",
       "...           ...   ...   ...   ...   ...    ...\n",
       "16430  1953-11-29   NaN   NaN   NaN  1953  11-29\n",
       "16431  1953-11-30   NaN   NaN   NaN  1953  11-30\n",
       "21260  1967-02-19  -1.7   NaN   NaN  1967  02-19\n",
       "23691  1973-10-16  12.3   NaN   NaN  1973  10-16\n",
       "39758  2017-10-12  11.4   8.8   NaN  2017  10-12\n",
       "\n",
       "[759 rows x 6 columns]"
      ]
     },
     "execution_count": 39,
     "metadata": {},
     "output_type": "execute_result"
    }
   ],
   "source": [
    "#최저기온이 결측값인 정보 조회하기\n",
    "seoul[seoul[\"최고기온\"].isnull()]"
   ]
  },
  {
   "cell_type": "code",
   "execution_count": 43,
   "metadata": {},
   "outputs": [
    {
     "name": "stdout",
     "output_type": "stream",
     "text": [
      "<class 'pandas.core.frame.DataFrame'>\n",
      "Index: 116 entries, 284 to 42222\n",
      "Data columns (total 6 columns):\n",
      " #   Column  Non-Null Count  Dtype  \n",
      "---  ------  --------------  -----  \n",
      " 0   날짜      116 non-null    object \n",
      " 1   평균기온    114 non-null    float64\n",
      " 2   최저기온    114 non-null    float64\n",
      " 3   최고기온    114 non-null    float64\n",
      " 4   년도      116 non-null    object \n",
      " 5   월일      116 non-null    object \n",
      "dtypes: float64(3), object(3)\n",
      "memory usage: 6.3+ KB\n"
     ]
    }
   ],
   "source": [
    "#7월 11일에 정보만 seoul0711데이터로 저장하기\n",
    "\n",
    "seoul0711 = seoul[seoul[\"월일\"]=='07-11']\n",
    "seoul0711.info()"
   ]
  },
  {
   "cell_type": "code",
   "execution_count": null,
   "metadata": {},
   "outputs": [],
   "source": [
    "#seoul0711  데이터에서 결측값을 조회하기\n",
    "seoul0711[seoul0711[\"최고기온\"].isnull()]"
   ]
  },
  {
   "cell_type": "code",
   "execution_count": 45,
   "metadata": {},
   "outputs": [
    {
     "name": "stdout",
     "output_type": "stream",
     "text": [
      "<class 'pandas.core.frame.DataFrame'>\n",
      "Index: 114 entries, 284 to 42222\n",
      "Data columns (total 6 columns):\n",
      " #   Column  Non-Null Count  Dtype  \n",
      "---  ------  --------------  -----  \n",
      " 0   날짜      114 non-null    object \n",
      " 1   평균기온    114 non-null    float64\n",
      " 2   최저기온    114 non-null    float64\n",
      " 3   최고기온    114 non-null    float64\n",
      " 4   년도      114 non-null    object \n",
      " 5   월일      114 non-null    object \n",
      "dtypes: float64(3), object(3)\n",
      "memory usage: 6.2+ KB\n"
     ]
    },
    {
     "name": "stderr",
     "output_type": "stream",
     "text": [
      "C:\\Users\\123rl\\AppData\\Local\\Temp\\ipykernel_12668\\1943655695.py:2: SettingWithCopyWarning: \n",
      "A value is trying to be set on a copy of a slice from a DataFrame\n",
      "\n",
      "See the caveats in the documentation: https://pandas.pydata.org/pandas-docs/stable/user_guide/indexing.html#returning-a-view-versus-a-copy\n",
      "  seoul0711.dropna(subset=[\"최저기온\"],axis=0,inplace=True)\n"
     ]
    }
   ],
   "source": [
    "#seoul0711 데이터에서 결측값 레코드 제거\n",
    "seoul0711.dropna(subset=[\"최저기온\"],axis=0,inplace=True)\n",
    "seoul0711.info()"
   ]
  },
  {
   "cell_type": "code",
   "execution_count": null,
   "metadata": {},
   "outputs": [],
   "source": [
    "#seoul0711 년도 컬럼을 인덱스 컬럼으로 변경하기\n",
    "seoul0711 = seoul0711.set_index(\"년도\")\n",
    "seoul0711.head()\n"
   ]
  },
  {
   "cell_type": "code",
   "execution_count": 52,
   "metadata": {},
   "outputs": [
    {
     "data": {
      "text/plain": [
       "<Axes: xlabel='년도'>"
      ]
     },
     "execution_count": 52,
     "metadata": {},
     "output_type": "execute_result"
    },
    {
     "data": {
      "image/png": "[encoded data removed]",
      "text/plain": [
       "<Figure size 640x480 with 1 Axes>"
      ]
     },
     "metadata": {},
     "output_type": "display_data"
    }
   ],
   "source": [
    "plt.rc(\"font\",family=\"Malgun Gothic\")\n",
    "seoul0711[[\"평균기온\",\"최저기온\",\"최고기온\"]].plot()"
   ]
  },
  {
   "cell_type": "code",
   "execution_count": 54,
   "metadata": {},
   "outputs": [
    {
     "name": "stdout",
     "output_type": "stream",
     "text": [
      "<class 'pandas.core.frame.DataFrame'>\n",
      "RangeIndex: 114 entries, 0 to 113\n",
      "Data columns (total 6 columns):\n",
      " #   Column  Non-Null Count  Dtype  \n",
      "---  ------  --------------  -----  \n",
      " 0   년도      114 non-null    object \n",
      " 1   날짜      114 non-null    object \n",
      " 2   평균기온    114 non-null    float64\n",
      " 3   최저기온    114 non-null    float64\n",
      " 4   최고기온    114 non-null    float64\n",
      " 5   월일      114 non-null    object \n",
      "dtypes: float64(3), object(3)\n",
      "memory usage: 5.5+ KB\n"
     ]
    }
   ],
   "source": [
    "#다중회귀분석\n",
    "seoul0711 = seoul0711.reset_index() #인덱스 => 컬럼으로\n",
    "seoul0711.info()"
   ]
  },
  {
   "cell_type": "code",
   "execution_count": 80,
   "metadata": {},
   "outputs": [
    {
     "name": "stdout",
     "output_type": "stream",
     "text": [
      "<class 'pandas.core.frame.DataFrame'>\n",
      "RangeIndex: 114 entries, 0 to 113\n",
      "Data columns (total 6 columns):\n",
      " #   Column  Non-Null Count  Dtype  \n",
      "---  ------  --------------  -----  \n",
      " 0   년도      114 non-null    object \n",
      " 1   날짜      114 non-null    object \n",
      " 2   평균기온    114 non-null    float64\n",
      " 3   최저기온    114 non-null    float64\n",
      " 4   최고기온    114 non-null    float64\n",
      " 5   월일      114 non-null    object \n",
      "dtypes: float64(3), object(3)\n",
      "memory usage: 5.5+ KB\n"
     ]
    }
   ],
   "source": [
    "#년도\n",
    "seoul0711[\"년도\"] = seoul0711[\"년도\"].astype(str)\n",
    "seoul0711.info()\n"
   ]
  },
  {
   "cell_type": "code",
   "execution_count": 89,
   "metadata": {},
   "outputs": [
    {
     "name": "stderr",
     "output_type": "stream",
     "text": [
      "c:\\Users\\123rl\\miniconda3\\Lib\\site-packages\\sklearn\\base.py:493: UserWarning: X does not have valid feature names, but LinearRegression was fitted with feature names\n",
      "  warnings.warn(\n"
     ]
    },
    {
     "data": {
      "text/plain": [
       "array([27.82782908])"
      ]
     },
     "execution_count": 89,
     "metadata": {},
     "output_type": "execute_result"
    }
   ],
   "source": [
    "#X=seoul0711[[\"년도\",\"평균기온\",\"최고기온\"]]\n",
    "X=seoul0711[[\"년도\"]]\n",
    "Y=seoul0711[\"최고기온\"]\n",
    "#알고리즘\n",
    "model = LinearRegression()\n",
    "#학습하기\n",
    "model.fit(X,Y)\n",
    "#예측하기\n",
    "result = model.predict([[2024]])\n",
    "result\n"
   ]
  },
  {
   "cell_type": "code",
   "execution_count": null,
   "metadata": {},
   "outputs": [],
   "source": [
    "#지도학습 : 기계 학습시 정답 제시\n",
    "# 분류 : KNN(k-nearset-neighbors). 최근접이웃알고리즘"
   ]
  },
  {
   "cell_type": "code",
   "execution_count": 90,
   "metadata": {},
   "outputs": [
    {
     "name": "stdout",
     "output_type": "stream",
     "text": [
      "<class 'pandas.core.frame.DataFrame'>\n",
      "RangeIndex: 891 entries, 0 to 890\n",
      "Data columns (total 15 columns):\n",
      " #   Column       Non-Null Count  Dtype   \n",
      "---  ------       --------------  -----   \n",
      " 0   survived     891 non-null    int64   \n",
      " 1   pclass       891 non-null    int64   \n",
      " 2   sex          891 non-null    object  \n",
      " 3   age          714 non-null    float64 \n",
      " 4   sibsp        891 non-null    int64   \n",
      " 5   parch        891 non-null    int64   \n",
      " 6   fare         891 non-null    float64 \n",
      " 7   embarked     889 non-null    object  \n",
      " 8   class        891 non-null    category\n",
      " 9   who          891 non-null    object  \n",
      " 10  adult_male   891 non-null    bool    \n",
      " 11  deck         203 non-null    category\n",
      " 12  embark_town  889 non-null    object  \n",
      " 13  alive        891 non-null    object  \n",
      " 14  alone        891 non-null    bool    \n",
      "dtypes: bool(2), category(2), float64(2), int64(4), object(5)\n",
      "memory usage: 80.7+ KB\n"
     ]
    }
   ],
   "source": [
    "#titanic 데이터 로드\n",
    "df = sns.load_dataset(\"titanic\")\n",
    "df.info()"
   ]
  },
  {
   "cell_type": "code",
   "execution_count": 91,
   "metadata": {},
   "outputs": [],
   "source": [
    "#deck 컬럼 제거\n",
    "del df[\"deck\"]"
   ]
  },
  {
   "cell_type": "code",
   "execution_count": 92,
   "metadata": {},
   "outputs": [
    {
     "data": {
      "text/plain": [
       "embarked\n",
       "S    644\n",
       "C    168\n",
       "Q     77\n",
       "Name: count, dtype: int64"
      ]
     },
     "execution_count": 92,
     "metadata": {},
     "output_type": "execute_result"
    }
   ],
   "source": [
    "df[\"embarked\"].value_counts()"
   ]
  },
  {
   "cell_type": "code",
   "execution_count": null,
   "metadata": {},
   "outputs": [],
   "source": [
    "#embarked의 결측값을 최빈값으로 치환하기\n",
    "most_freq = df[\"embarked\"].value_counts().idxmax()\n",
    "df[\"embarked\"] = df[\"embarked\"].fillna(most_freq)\n",
    "df.info()"
   ]
  },
  {
   "cell_type": "code",
   "execution_count": null,
   "metadata": {},
   "outputs": [],
   "source": [
    "df[[\"class\",\"pclass\"]] #설명변수로 pclass 선택"
   ]
  },
  {
   "cell_type": "code",
   "execution_count": null,
   "metadata": {},
   "outputs": [],
   "source": [
    "df[[\"embarked\",\"embark_town\"]] #설명변수로 embarked 선택"
   ]
  },
  {
   "cell_type": "code",
   "execution_count": null,
   "metadata": {},
   "outputs": [],
   "source": [
    "#설명변수,예측변수 설정\n",
    "ndf = df[[\"survived\",\"pclass\",\"sex\",\"age\",\"sibsp\",\"parch\",\"embarked\"]]\n",
    "ndf.info()"
   ]
  },
  {
   "cell_type": "code",
   "execution_count": null,
   "metadata": {},
   "outputs": [],
   "source": [
    "#age 컬럼이 결측값인 경우 레코드 제거하기\n",
    "ndf = ndf.dropna(subset=[\"age\"],axis=0)\n",
    "ndf.info()"
   ]
  },
  {
   "cell_type": "code",
   "execution_count": 112,
   "metadata": {},
   "outputs": [
    {
     "data": {
      "text/html": [
       "<div>\n",
       "<style scoped>\n",
       "    .dataframe tbody tr th:only-of-type {\n",
       "        vertical-align: middle;\n",
       "    }\n",
       "\n",
       "    .dataframe tbody tr th {\n",
       "        vertical-align: top;\n",
       "    }\n",
       "\n",
       "    .dataframe thead th {\n",
       "        text-align: right;\n",
       "    }\n",
       "</style>\n",
       "<table border=\"1\" class=\"dataframe\">\n",
       "  <thead>\n",
       "    <tr style=\"text-align: right;\">\n",
       "      <th></th>\n",
       "      <th>female</th>\n",
       "      <th>male</th>\n",
       "    </tr>\n",
       "  </thead>\n",
       "  <tbody>\n",
       "    <tr>\n",
       "      <th>0</th>\n",
       "      <td>0</td>\n",
       "      <td>1</td>\n",
       "    </tr>\n",
       "    <tr>\n",
       "      <th>1</th>\n",
       "      <td>1</td>\n",
       "      <td>0</td>\n",
       "    </tr>\n",
       "    <tr>\n",
       "      <th>2</th>\n",
       "      <td>1</td>\n",
       "      <td>0</td>\n",
       "    </tr>\n",
       "    <tr>\n",
       "      <th>3</th>\n",
       "      <td>1</td>\n",
       "      <td>0</td>\n",
       "    </tr>\n",
       "    <tr>\n",
       "      <th>4</th>\n",
       "      <td>0</td>\n",
       "      <td>1</td>\n",
       "    </tr>\n",
       "    <tr>\n",
       "      <th>...</th>\n",
       "      <td>...</td>\n",
       "      <td>...</td>\n",
       "    </tr>\n",
       "    <tr>\n",
       "      <th>885</th>\n",
       "      <td>1</td>\n",
       "      <td>0</td>\n",
       "    </tr>\n",
       "    <tr>\n",
       "      <th>886</th>\n",
       "      <td>0</td>\n",
       "      <td>1</td>\n",
       "    </tr>\n",
       "    <tr>\n",
       "      <th>887</th>\n",
       "      <td>1</td>\n",
       "      <td>0</td>\n",
       "    </tr>\n",
       "    <tr>\n",
       "      <th>889</th>\n",
       "      <td>0</td>\n",
       "      <td>1</td>\n",
       "    </tr>\n",
       "    <tr>\n",
       "      <th>890</th>\n",
       "      <td>0</td>\n",
       "      <td>1</td>\n",
       "    </tr>\n",
       "  </tbody>\n",
       "</table>\n",
       "<p>714 rows × 2 columns</p>\n",
       "</div>"
      ],
      "text/plain": [
       "     female  male\n",
       "0         0     1\n",
       "1         1     0\n",
       "2         1     0\n",
       "3         1     0\n",
       "4         0     1\n",
       "..      ...   ...\n",
       "885       1     0\n",
       "886       0     1\n",
       "887       1     0\n",
       "889       0     1\n",
       "890       0     1\n",
       "\n",
       "[714 rows x 2 columns]"
      ]
     },
     "execution_count": 112,
     "metadata": {},
     "output_type": "execute_result"
    }
   ],
   "source": [
    "#원핫인코딩 : 문자열형 범주데이터를 모형이 인식할 수 있도록 숫자형 변경\n",
    "onehot_sex = pd.get_dummies(ndf[\"sex\"],dtype=int)\n",
    "onehot_sex"
   ]
  },
  {
   "cell_type": "code",
   "execution_count": 113,
   "metadata": {},
   "outputs": [
    {
     "data": {
      "text/html": [
       "<div>\n",
       "<style scoped>\n",
       "    .dataframe tbody tr th:only-of-type {\n",
       "        vertical-align: middle;\n",
       "    }\n",
       "\n",
       "    .dataframe tbody tr th {\n",
       "        vertical-align: top;\n",
       "    }\n",
       "\n",
       "    .dataframe thead th {\n",
       "        text-align: right;\n",
       "    }\n",
       "</style>\n",
       "<table border=\"1\" class=\"dataframe\">\n",
       "  <thead>\n",
       "    <tr style=\"text-align: right;\">\n",
       "      <th></th>\n",
       "      <th>C</th>\n",
       "      <th>Q</th>\n",
       "      <th>S</th>\n",
       "    </tr>\n",
       "  </thead>\n",
       "  <tbody>\n",
       "    <tr>\n",
       "      <th>0</th>\n",
       "      <td>0</td>\n",
       "      <td>0</td>\n",
       "      <td>1</td>\n",
       "    </tr>\n",
       "    <tr>\n",
       "      <th>1</th>\n",
       "      <td>1</td>\n",
       "      <td>0</td>\n",
       "      <td>0</td>\n",
       "    </tr>\n",
       "    <tr>\n",
       "      <th>2</th>\n",
       "      <td>0</td>\n",
       "      <td>0</td>\n",
       "      <td>1</td>\n",
       "    </tr>\n",
       "    <tr>\n",
       "      <th>3</th>\n",
       "      <td>0</td>\n",
       "      <td>0</td>\n",
       "      <td>1</td>\n",
       "    </tr>\n",
       "    <tr>\n",
       "      <th>4</th>\n",
       "      <td>0</td>\n",
       "      <td>0</td>\n",
       "      <td>1</td>\n",
       "    </tr>\n",
       "    <tr>\n",
       "      <th>...</th>\n",
       "      <td>...</td>\n",
       "      <td>...</td>\n",
       "      <td>...</td>\n",
       "    </tr>\n",
       "    <tr>\n",
       "      <th>885</th>\n",
       "      <td>0</td>\n",
       "      <td>1</td>\n",
       "      <td>0</td>\n",
       "    </tr>\n",
       "    <tr>\n",
       "      <th>886</th>\n",
       "      <td>0</td>\n",
       "      <td>0</td>\n",
       "      <td>1</td>\n",
       "    </tr>\n",
       "    <tr>\n",
       "      <th>887</th>\n",
       "      <td>0</td>\n",
       "      <td>0</td>\n",
       "      <td>1</td>\n",
       "    </tr>\n",
       "    <tr>\n",
       "      <th>889</th>\n",
       "      <td>1</td>\n",
       "      <td>0</td>\n",
       "      <td>0</td>\n",
       "    </tr>\n",
       "    <tr>\n",
       "      <th>890</th>\n",
       "      <td>0</td>\n",
       "      <td>1</td>\n",
       "      <td>0</td>\n",
       "    </tr>\n",
       "  </tbody>\n",
       "</table>\n",
       "<p>714 rows × 3 columns</p>\n",
       "</div>"
      ],
      "text/plain": [
       "     C  Q  S\n",
       "0    0  0  1\n",
       "1    1  0  0\n",
       "2    0  0  1\n",
       "3    0  0  1\n",
       "4    0  0  1\n",
       "..  .. .. ..\n",
       "885  0  1  0\n",
       "886  0  0  1\n",
       "887  0  0  1\n",
       "889  1  0  0\n",
       "890  0  1  0\n",
       "\n",
       "[714 rows x 3 columns]"
      ]
     },
     "execution_count": 113,
     "metadata": {},
     "output_type": "execute_result"
    }
   ],
   "source": [
    "onehot_embarked = pd.get_dummies(ndf[\"embarked\"],dtype=\"int\")\n",
    "onehot_embarked"
   ]
  },
  {
   "cell_type": "code",
   "execution_count": 114,
   "metadata": {},
   "outputs": [
    {
     "name": "stdout",
     "output_type": "stream",
     "text": [
      "<class 'pandas.core.frame.DataFrame'>\n",
      "Index: 714 entries, 0 to 890\n",
      "Data columns (total 12 columns):\n",
      " #   Column    Non-Null Count  Dtype  \n",
      "---  ------    --------------  -----  \n",
      " 0   survived  714 non-null    int64  \n",
      " 1   pclass    714 non-null    int64  \n",
      " 2   sex       714 non-null    object \n",
      " 3   age       714 non-null    float64\n",
      " 4   sibsp     714 non-null    int64  \n",
      " 5   parch     714 non-null    int64  \n",
      " 6   embarked  714 non-null    object \n",
      " 7   female    714 non-null    int64  \n",
      " 8   male      714 non-null    int64  \n",
      " 9   C         714 non-null    int64  \n",
      " 10  Q         714 non-null    int64  \n",
      " 11  S         714 non-null    int64  \n",
      "dtypes: float64(1), int64(9), object(2)\n",
      "memory usage: 72.5+ KB\n"
     ]
    }
   ],
   "source": [
    "#ndf 데이터에 onehot_sex,onehot_embarked 를 컬럼으로 추가하기\n",
    "ndf = pd.concat([ndf,onehot_sex],axis=1) #컬럼으로 추가하기\n",
    "ndf = pd.concat([ndf,onehot_embarked],axis=1) #컬럼으로 추가하기\n",
    "ndf.info()"
   ]
  },
  {
   "cell_type": "code",
   "execution_count": 115,
   "metadata": {},
   "outputs": [],
   "source": [
    "#sex,embarked 컬럼을 제거하기\n",
    "del ndf[\"sex\"],ndf[\"embarked\"]"
   ]
  },
  {
   "cell_type": "code",
   "execution_count": 116,
   "metadata": {},
   "outputs": [
    {
     "name": "stdout",
     "output_type": "stream",
     "text": [
      "<class 'pandas.core.frame.DataFrame'>\n",
      "Index: 714 entries, 0 to 890\n",
      "Data columns (total 10 columns):\n",
      " #   Column    Non-Null Count  Dtype  \n",
      "---  ------    --------------  -----  \n",
      " 0   survived  714 non-null    int64  \n",
      " 1   pclass    714 non-null    int64  \n",
      " 2   age       714 non-null    float64\n",
      " 3   sibsp     714 non-null    int64  \n",
      " 4   parch     714 non-null    int64  \n",
      " 5   female    714 non-null    int64  \n",
      " 6   male      714 non-null    int64  \n",
      " 7   C         714 non-null    int64  \n",
      " 8   Q         714 non-null    int64  \n",
      " 9   S         714 non-null    int64  \n",
      "dtypes: float64(1), int64(9)\n",
      "memory usage: 61.4 KB\n"
     ]
    }
   ],
   "source": [
    "ndf.info()"
   ]
  },
  {
   "cell_type": "code",
   "execution_count": 123,
   "metadata": {},
   "outputs": [
    {
     "name": "stdout",
     "output_type": "stream",
     "text": [
      "<class 'pandas.core.frame.DataFrame'>\n",
      "Index: 714 entries, 0 to 890\n",
      "Data columns (total 9 columns):\n",
      " #   Column  Non-Null Count  Dtype  \n",
      "---  ------  --------------  -----  \n",
      " 0   C       714 non-null    int64  \n",
      " 1   Q       714 non-null    int64  \n",
      " 2   S       714 non-null    int64  \n",
      " 3   age     714 non-null    float64\n",
      " 4   female  714 non-null    int64  \n",
      " 5   male    714 non-null    int64  \n",
      " 6   parch   714 non-null    int64  \n",
      " 7   pclass  714 non-null    int64  \n",
      " 8   sibsp   714 non-null    int64  \n",
      "dtypes: float64(1), int64(8)\n",
      "memory usage: 55.8 KB\n"
     ]
    }
   ],
   "source": [
    "#설명변수(X),목표변수(Y) 결정\n",
    "# \"survived\" 컬럼을 제외한 모든 컬럼\n",
    "X = ndf[ndf.columns.difference([\"survived\"])]\n",
    "Y = ndf[\"survived\"]\n",
    "X.info()"
   ]
  },
  {
   "cell_type": "code",
   "execution_count": 124,
   "metadata": {},
   "outputs": [
    {
     "data": {
      "text/html": [
       "<div>\n",
       "<style scoped>\n",
       "    .dataframe tbody tr th:only-of-type {\n",
       "        vertical-align: middle;\n",
       "    }\n",
       "\n",
       "    .dataframe tbody tr th {\n",
       "        vertical-align: top;\n",
       "    }\n",
       "\n",
       "    .dataframe thead th {\n",
       "        text-align: right;\n",
       "    }\n",
       "</style>\n",
       "<table border=\"1\" class=\"dataframe\">\n",
       "  <thead>\n",
       "    <tr style=\"text-align: right;\">\n",
       "      <th></th>\n",
       "      <th>C</th>\n",
       "      <th>Q</th>\n",
       "      <th>S</th>\n",
       "      <th>age</th>\n",
       "      <th>female</th>\n",
       "      <th>male</th>\n",
       "      <th>parch</th>\n",
       "      <th>pclass</th>\n",
       "      <th>sibsp</th>\n",
       "    </tr>\n",
       "  </thead>\n",
       "  <tbody>\n",
       "    <tr>\n",
       "      <th>0</th>\n",
       "      <td>0</td>\n",
       "      <td>0</td>\n",
       "      <td>1</td>\n",
       "      <td>22.0</td>\n",
       "      <td>0</td>\n",
       "      <td>1</td>\n",
       "      <td>0</td>\n",
       "      <td>3</td>\n",
       "      <td>1</td>\n",
       "    </tr>\n",
       "    <tr>\n",
       "      <th>1</th>\n",
       "      <td>1</td>\n",
       "      <td>0</td>\n",
       "      <td>0</td>\n",
       "      <td>38.0</td>\n",
       "      <td>1</td>\n",
       "      <td>0</td>\n",
       "      <td>0</td>\n",
       "      <td>1</td>\n",
       "      <td>1</td>\n",
       "    </tr>\n",
       "    <tr>\n",
       "      <th>2</th>\n",
       "      <td>0</td>\n",
       "      <td>0</td>\n",
       "      <td>1</td>\n",
       "      <td>26.0</td>\n",
       "      <td>1</td>\n",
       "      <td>0</td>\n",
       "      <td>0</td>\n",
       "      <td>3</td>\n",
       "      <td>0</td>\n",
       "    </tr>\n",
       "    <tr>\n",
       "      <th>3</th>\n",
       "      <td>0</td>\n",
       "      <td>0</td>\n",
       "      <td>1</td>\n",
       "      <td>35.0</td>\n",
       "      <td>1</td>\n",
       "      <td>0</td>\n",
       "      <td>0</td>\n",
       "      <td>1</td>\n",
       "      <td>1</td>\n",
       "    </tr>\n",
       "    <tr>\n",
       "      <th>4</th>\n",
       "      <td>0</td>\n",
       "      <td>0</td>\n",
       "      <td>1</td>\n",
       "      <td>35.0</td>\n",
       "      <td>0</td>\n",
       "      <td>1</td>\n",
       "      <td>0</td>\n",
       "      <td>3</td>\n",
       "      <td>0</td>\n",
       "    </tr>\n",
       "  </tbody>\n",
       "</table>\n",
       "</div>"
      ],
      "text/plain": [
       "   C  Q  S   age  female  male  parch  pclass  sibsp\n",
       "0  0  0  1  22.0       0     1      0       3      1\n",
       "1  1  0  0  38.0       1     0      0       1      1\n",
       "2  0  0  1  26.0       1     0      0       3      0\n",
       "3  0  0  1  35.0       1     0      0       1      1\n",
       "4  0  0  1  35.0       0     1      0       3      0"
      ]
     },
     "execution_count": 124,
     "metadata": {},
     "output_type": "execute_result"
    }
   ],
   "source": [
    "X.head()"
   ]
  },
  {
   "cell_type": "code",
   "execution_count": null,
   "metadata": {},
   "outputs": [],
   "source": [
    "#설명변수의 정규화 필요함\n",
    "# - 분석시 사용되는 변수값의 크기가 영향을 미침\n",
    "# - 정규화 과정을 통해 설명변수의 값을 기준 단위로 변경 필요"
   ]
  },
  {
   "cell_type": "code",
   "execution_count": 125,
   "metadata": {},
   "outputs": [
    {
     "data": {
      "text/plain": [
       "array([[-0.47180795, -0.20203051,  0.53307848, ..., -0.50589515,\n",
       "         0.91123237,  0.52457013],\n",
       "       [ 2.11950647, -0.20203051, -1.87589641, ..., -0.50589515,\n",
       "        -1.47636364,  0.52457013],\n",
       "       [-0.47180795, -0.20203051,  0.53307848, ..., -0.50589515,\n",
       "         0.91123237, -0.55170307],\n",
       "       ...,\n",
       "       [-0.47180795, -0.20203051,  0.53307848, ..., -0.50589515,\n",
       "        -1.47636364, -0.55170307],\n",
       "       [ 2.11950647, -0.20203051, -1.87589641, ..., -0.50589515,\n",
       "        -1.47636364, -0.55170307],\n",
       "       [-0.47180795,  4.94974747, -1.87589641, ..., -0.50589515,\n",
       "         0.91123237, -0.55170307]])"
      ]
     },
     "execution_count": 125,
     "metadata": {},
     "output_type": "execute_result"
    }
   ],
   "source": [
    "from sklearn import preprocessing\n",
    "import numpy as np\n",
    "X = preprocessing.StandardScaler().fit(X).transform(X)\n",
    "X[5]\n",
    "X.shape\n",
    "X"
   ]
  },
  {
   "cell_type": "code",
   "execution_count": 126,
   "metadata": {},
   "outputs": [],
   "source": [
    "#훈련데이터,테스트 데이터 분리\n",
    "from sklearn.model_selection import train_test_split\n",
    "x_train,x_test,y_train,y_test = \\\n",
    "    train_test_split(X,Y,test_size=0.3,random_state=10)"
   ]
  },
  {
   "cell_type": "code",
   "execution_count": 133,
   "metadata": {},
   "outputs": [],
   "source": [
    "from sklearn.neighbors import KNeighborsClassifier\n",
    "#n_neighbors=5 : 가장가까운 값을 5개 선택\n",
    "knn = KNeighborsClassifier(n_neighbors=5)\n",
    "knn.fit(x_train,y_train) #학습하기\n",
    "y_hat = knn.predict(x_test) #예측하기"
   ]
  },
  {
   "cell_type": "code",
   "execution_count": 138,
   "metadata": {},
   "outputs": [
    {
     "name": "stdout",
     "output_type": "stream",
     "text": [
      "[0 0 1 0 0 1 1 1 0 0 1 1 0 0 0 1 0 0 1 1]\n",
      "[0 0 1 0 0 1 1 1 0 0 1 0 0 0 0 1 0 0 0 1]\n"
     ]
    }
   ],
   "source": [
    "#y_hat : 예측된값\n",
    "#y_test : 실제데이터\n",
    "print(y_hat[:20])\n",
    "print(y_test.values[:20])"
   ]
  },
  {
   "cell_type": "code",
   "execution_count": 136,
   "metadata": {},
   "outputs": [
    {
     "name": "stdout",
     "output_type": "stream",
     "text": [
      "              precision    recall  f1-score   support\n",
      "\n",
      "           0       0.81      0.88      0.84       125\n",
      "           1       0.81      0.71      0.76        90\n",
      "\n",
      "    accuracy                           0.81       215\n",
      "   macro avg       0.81      0.80      0.80       215\n",
      "weighted avg       0.81      0.81      0.81       215\n",
      "\n"
     ]
    }
   ],
   "source": [
    "from sklearn import metrics\n",
    "knn_report =  metrics.classification_report(y_test,y_hat)\n",
    "print(knn_report)"
   ]
  },
  {
   "cell_type": "markdown",
   "metadata": {},
   "source": [
    "support : 전체건수 (x_test)의 건수\n",
    "precision(정밀도) : 실제 생존한 인원 /실제 생존자로 예측한 인원\n",
    "recall  (재현율,민감도) : 생존자로 예측한 인원/실제 생존한 인원 \n",
    "accuracy (정확도) : 정확한 예측/전체데이터  \n",
    "f1-score(조화평균) : 정밀도와 재현율 값을 이용한 성능평가지수\n",
    "       2*(정밀도*재현율)/(정밀도+재현율)\n",
    "macro avg : 평균의평균  \n",
    "weighted avg : 가중치 평균   \n",
    "\n",
    "실제생존자정보 : 0 0 0 0 1 1 1 1 1 1\n",
    "예측생존자정보 : 0 0 0 0 1 1 1 1 1 0\n",
    "정확도 : 9 / 10 = 0.9\n",
    "정밀도 : 5 / 5  = 1.0\n",
    "재현율 : 5 / 6  = 0.8333\n"
   ]
  },
  {
   "cell_type": "code",
   "execution_count": 139,
   "metadata": {},
   "outputs": [
    {
     "data": {
      "text/plain": [
       "array([[110,  15],\n",
       "       [ 26,  64]])"
      ]
     },
     "execution_count": 139,
     "metadata": {},
     "output_type": "execute_result"
    }
   ],
   "source": [
    "#혼동행렬 : 분류된 결과\n",
    "knn_matrix = metrics.confusion_matrix(y_test,y_hat)\n",
    "knn_matrix"
   ]
  },
  {
   "cell_type": "markdown",
   "metadata": {},
   "source": [
    "     예측  0    1\n",
    "  실제 0 [110, 15]\n",
    "  실제 1 [ 26, 64]\n",
    "\n",
    "  TN : 110 : 실제(0),예측(0)\n",
    "  FP : 15  : 실제(0),예측(1)\n",
    "  FN : 26  : 실제(1),예측(0)\n",
    "  TP : 64  : 실제(1),예측(1)\n",
    "\n",
    "  실제와 같이 예측 : TN,TP\n",
    "  실제와 다른 예측 : FN,FP\n",
    "\n",
    "  정확도 : (TN+TP)/(TN+TP+FN+FP) = (110+64)/(110+15+26+64) = \n",
    "          174/215=0.8093023255813953\n",
    "  정밀도 : 실제 생존인원/생존자로 예측        \n",
    "          TP / TP + FP = 64/(64+15) = 0.810126582278481\n",
    "  재현율 : 생존자로 예측 / 실제 생존인원       \n",
    "          TP / TP + FN = 64/(64+26) = 0.7111111111111111"
   ]
  },
  {
   "cell_type": "code",
   "execution_count": null,
   "metadata": {},
   "outputs": [],
   "source": [
    "from sklearn.metrics import accuracy_score,\\\n",
    "     precision_score, recall_score, f1_score\n",
    "print(\"정확도(accuracy): %.3f\" % accuracy_score(y_test, y_hat)) #0.809\n",
    "print(\"정밀도(Precision) : %.3f\" % precision_score(y_test, y_hat)) #0.810\n",
    "print(\"재현율(Recall) : %.3f\" %  recall_score(y_test, y_hat)) #0.711\n",
    "print(\"F1-score : %.3f\" %  f1_score(y_test, y_hat)) #0.757"
   ]
  },
  {
   "cell_type": "code",
   "execution_count": null,
   "metadata": {},
   "outputs": [],
   "source": [
    "# 비지도학습 : 목표변수\n",
    "# 군집 : 데이터를 그룹화(클러스트)"
   ]
  },
  {
   "cell_type": "code",
   "execution_count": null,
   "metadata": {},
   "outputs": [],
   "source": [
    "from sklearn import datasets\n",
    "iris = datasets.load_iris()\n",
    "iris"
   ]
  },
  {
   "cell_type": "code",
   "execution_count": null,
   "metadata": {},
   "outputs": [],
   "source": [
    "datas = pd.DataFrame(iris.data)\n",
    "datas.info()"
   ]
  },
  {
   "cell_type": "code",
   "execution_count": null,
   "metadata": {},
   "outputs": [],
   "source": [
    "datas.columns = [\"slength\",\"swidth\",\"plength\",\"pwidth\"]\n",
    "datas.info()"
   ]
  },
  {
   "cell_type": "code",
   "execution_count": null,
   "metadata": {},
   "outputs": [],
   "source": [
    "labels = pd.DataFrame(iris.target)\n",
    "labels.columns=[\"labels\"]\n",
    "labels.info()"
   ]
  },
  {
   "cell_type": "code",
   "execution_count": null,
   "metadata": {},
   "outputs": [],
   "source": [
    "data = pd.concat([datas,labels],axis=1)\n",
    "data.info()"
   ]
  },
  {
   "cell_type": "code",
   "execution_count": 155,
   "metadata": {},
   "outputs": [
    {
     "data": {
      "text/plain": [
       "array([1, 2, 0], dtype=int32)"
      ]
     },
     "execution_count": 155,
     "metadata": {},
     "output_type": "execute_result"
    }
   ],
   "source": [
    "from sklearn import cluster\n",
    "feather = data[[\"slength\",\"swidth\"]] #목표변수\n",
    "#n_clusters=3 : cluster 갯수\n",
    "model = cluster.KMeans(n_clusters=3)\n",
    "model.fit(feather) #학습\n",
    "data[\"group\"] = model.labels_\n",
    "#data.info()\n",
    "data[\"group\"].unique()"
   ]
  },
  {
   "cell_type": "code",
   "execution_count": 157,
   "metadata": {},
   "outputs": [
    {
     "data": {
      "text/plain": [
       "<Axes: xlabel='slength', ylabel='swidth'>"
      ]
     },
     "execution_count": 157,
     "metadata": {},
     "output_type": "execute_result"
    },
    {
     "data": {
      "text/plain": [
       "<Figure size 640x480 with 0 Axes>"
      ]
     },
     "metadata": {},
     "output_type": "display_data"
    },
    {
     "data": {
      "image/png": "[encoded data removed]",
      "text/plain": [
       "<Figure size 700x700 with 2 Axes>"
      ]
     },
     "metadata": {},
     "output_type": "display_data"
    }
   ],
   "source": [
    "#예측데이터로 그래프 출력하기\n",
    "fig = plt.figure()\n",
    "data.plot(kind=\"scatter\",x=\"slength\",y=\"swidth\",c=\"group\",cmap=\"Set1\",\\\n",
    "          colorbar=True,figsize=(7,7))"
   ]
  },
  {
   "cell_type": "code",
   "execution_count": 158,
   "metadata": {},
   "outputs": [
    {
     "data": {
      "text/plain": [
       "<Axes: xlabel='slength', ylabel='swidth'>"
      ]
     },
     "execution_count": 158,
     "metadata": {},
     "output_type": "execute_result"
    },
    {
     "data": {
      "text/plain": [
       "<Figure size 640x480 with 0 Axes>"
      ]
     },
     "metadata": {},
     "output_type": "display_data"
    },
    {
     "data": {
      "image/png": "[encoded data removed]",
      "text/plain": [
       "<Figure size 700x700 with 2 Axes>"
      ]
     },
     "metadata": {},
     "output_type": "display_data"
    }
   ],
   "source": [
    "#실제데이터로 그래프 출력하기\n",
    "fig = plt.figure()\n",
    "data.plot(kind=\"scatter\",x=\"slength\",y=\"swidth\",c=\"labels\",cmap=\"Set1\",\\\n",
    "          colorbar=True,figsize=(7,7))"
   ]
  },
  {
   "cell_type": "markdown",
   "metadata": {},
   "source": [
    "인공신경망(ANN)\n",
    "  단위 : 퍼셉트론\n",
    "\n",
    "  y = x1w1 + x2w2 + b\n",
    "     x1,x2 : 입력값\n",
    "     y  : 결과값\n",
    "     w  : 가중치\n",
    "     b  : 편향"
   ]
  },
  {
   "cell_type": "code",
   "execution_count": 165,
   "metadata": {},
   "outputs": [],
   "source": [
    "def AND(x1,x2) : \n",
    "    x = np.array([x1,x2])\n",
    "    w = np.array([0.5,0.5])\n",
    "    b = -0.9\n",
    "    tmp = np.sum(w*x) + b  #(1,1) * (0.5,0.5) => sum(0.5,0.5) + -0.8\n",
    "    if tmp <= 0 :\n",
    "        return 0\n",
    "    else :\n",
    "        return 1    "
   ]
  },
  {
   "cell_type": "code",
   "execution_count": 166,
   "metadata": {},
   "outputs": [
    {
     "name": "stdout",
     "output_type": "stream",
     "text": [
      "(0, 0) => 0\n",
      "(0, 1) => 0\n",
      "(1, 0) => 0\n",
      "(1, 1) => 1\n"
     ]
    }
   ],
   "source": [
    "for xs in [(0,0),(0,1),(1,0),(1,1)] :\n",
    "    y = AND(xs[0],xs[1])\n",
    "    print(xs,\"=>\",y)"
   ]
  },
  {
   "cell_type": "code",
   "execution_count": 163,
   "metadata": {},
   "outputs": [
    {
     "name": "stdout",
     "output_type": "stream",
     "text": [
      "2.17.0\n"
     ]
    }
   ],
   "source": [
    "import tensorflow as tf  #pip install tensorflow\n",
    "print(tf.__version__)"
   ]
  },
  {
   "cell_type": "code",
   "execution_count": 164,
   "metadata": {},
   "outputs": [
    {
     "data": {
      "text/plain": [
       "[]"
      ]
     },
     "execution_count": 164,
     "metadata": {},
     "output_type": "execute_result"
    }
   ],
   "source": [
    "tf.config.list_physical_devices(\"GPU\") #[] GPU 환경 아님"
   ]
  },
  {
   "cell_type": "code",
   "execution_count": 13,
   "metadata": {},
   "outputs": [],
   "source": [
    "from tensorflow.keras.models import Sequential\n",
    "from tensorflow.keras.layers import Dense\n",
    "from tensorflow.keras.optimizers import SGD\n",
    "from tensorflow.keras.losses import mse\n",
    "import numpy as np"
   ]
  },
  {
   "cell_type": "code",
   "execution_count": 28,
   "metadata": {},
   "outputs": [
    {
     "data": {
      "text/plain": [
       "array([[0],\n",
       "       [1],\n",
       "       [1],\n",
       "       [1]])"
      ]
     },
     "execution_count": 28,
     "metadata": {},
     "output_type": "execute_result"
    }
   ],
   "source": [
    "data = np.array([[0,0],[0,1],[1,0],[1,1]]) #입력값\n",
    "#label=np.array([[0],[0],[0],[1]])  #결과값\n",
    "label=np.array([[0],[1],[1],[1]])  #결과값\n",
    "label"
   ]
  },
  {
   "cell_type": "code",
   "execution_count": 29,
   "metadata": {},
   "outputs": [
    {
     "name": "stdout",
     "output_type": "stream",
     "text": [
      "Epoch 1/300\n",
      "1/1 - 0s - 309ms/step - acc: 0.7500 - loss: 0.2792\n",
      "Epoch 2/300\n",
      "1/1 - 0s - 71ms/step - acc: 0.7500 - loss: 0.2771\n",
      "Epoch 3/300\n",
      "1/1 - 0s - 28ms/step - acc: 0.7500 - loss: 0.2750\n",
      "Epoch 4/300\n",
      "1/1 - 0s - 31ms/step - acc: 0.7500 - loss: 0.2730\n",
      "Epoch 5/300\n",
      "1/1 - 0s - 28ms/step - acc: 0.7500 - loss: 0.2709\n",
      "Epoch 6/300\n",
      "1/1 - 0s - 29ms/step - acc: 0.7500 - loss: 0.2689\n",
      "Epoch 7/300\n",
      "1/1 - 0s - 31ms/step - acc: 0.7500 - loss: 0.2669\n",
      "Epoch 8/300\n",
      "1/1 - 0s - 31ms/step - acc: 0.7500 - loss: 0.2649\n",
      "Epoch 9/300\n",
      "1/1 - 0s - 29ms/step - acc: 0.7500 - loss: 0.2630\n",
      "Epoch 10/300\n",
      "1/1 - 0s - 34ms/step - acc: 0.7500 - loss: 0.2611\n",
      "Epoch 11/300\n",
      "1/1 - 0s - 29ms/step - acc: 0.7500 - loss: 0.2592\n",
      "Epoch 12/300\n",
      "1/1 - 0s - 29ms/step - acc: 0.7500 - loss: 0.2573\n",
      "Epoch 13/300\n",
      "1/1 - 0s - 30ms/step - acc: 0.7500 - loss: 0.2554\n",
      "Epoch 14/300\n",
      "1/1 - 0s - 29ms/step - acc: 0.7500 - loss: 0.2536\n",
      "Epoch 15/300\n",
      "1/1 - 0s - 30ms/step - acc: 0.7500 - loss: 0.2517\n",
      "Epoch 16/300\n",
      "1/1 - 0s - 29ms/step - acc: 0.7500 - loss: 0.2499\n",
      "Epoch 17/300\n",
      "1/1 - 0s - 29ms/step - acc: 0.7500 - loss: 0.2481\n",
      "Epoch 18/300\n",
      "1/1 - 0s - 31ms/step - acc: 0.7500 - loss: 0.2463\n",
      "Epoch 19/300\n",
      "1/1 - 0s - 31ms/step - acc: 0.7500 - loss: 0.2446\n",
      "Epoch 20/300\n",
      "1/1 - 0s - 66ms/step - acc: 0.7500 - loss: 0.2428\n",
      "Epoch 21/300\n",
      "1/1 - 0s - 35ms/step - acc: 0.7500 - loss: 0.2411\n",
      "Epoch 22/300\n",
      "1/1 - 0s - 32ms/step - acc: 0.7500 - loss: 0.2394\n",
      "Epoch 23/300\n",
      "1/1 - 0s - 31ms/step - acc: 0.7500 - loss: 0.2377\n",
      "Epoch 24/300\n",
      "1/1 - 0s - 33ms/step - acc: 0.7500 - loss: 0.2361\n",
      "Epoch 25/300\n",
      "1/1 - 0s - 29ms/step - acc: 0.7500 - loss: 0.2344\n",
      "Epoch 26/300\n",
      "1/1 - 0s - 24ms/step - acc: 0.7500 - loss: 0.2328\n",
      "Epoch 27/300\n",
      "1/1 - 0s - 31ms/step - acc: 0.7500 - loss: 0.2311\n",
      "Epoch 28/300\n",
      "1/1 - 0s - 27ms/step - acc: 0.7500 - loss: 0.2295\n",
      "Epoch 29/300\n",
      "1/1 - 0s - 45ms/step - acc: 0.7500 - loss: 0.2280\n",
      "Epoch 30/300\n",
      "1/1 - 0s - 45ms/step - acc: 0.7500 - loss: 0.2264\n",
      "Epoch 31/300\n",
      "1/1 - 0s - 35ms/step - acc: 0.7500 - loss: 0.2248\n",
      "Epoch 32/300\n",
      "1/1 - 0s - 43ms/step - acc: 0.7500 - loss: 0.2233\n",
      "Epoch 33/300\n",
      "1/1 - 0s - 35ms/step - acc: 0.7500 - loss: 0.2218\n",
      "Epoch 34/300\n",
      "1/1 - 0s - 30ms/step - acc: 0.7500 - loss: 0.2202\n",
      "Epoch 35/300\n",
      "1/1 - 0s - 30ms/step - acc: 0.7500 - loss: 0.2187\n",
      "Epoch 36/300\n",
      "1/1 - 0s - 29ms/step - acc: 0.7500 - loss: 0.2173\n",
      "Epoch 37/300\n",
      "1/1 - 0s - 28ms/step - acc: 0.7500 - loss: 0.2158\n",
      "Epoch 38/300\n",
      "1/1 - 0s - 28ms/step - acc: 0.7500 - loss: 0.2143\n",
      "Epoch 39/300\n",
      "1/1 - 0s - 30ms/step - acc: 0.7500 - loss: 0.2129\n",
      "Epoch 40/300\n",
      "1/1 - 0s - 28ms/step - acc: 0.7500 - loss: 0.2115\n",
      "Epoch 41/300\n",
      "1/1 - 0s - 32ms/step - acc: 0.7500 - loss: 0.2101\n",
      "Epoch 42/300\n",
      "1/1 - 0s - 31ms/step - acc: 0.7500 - loss: 0.2087\n",
      "Epoch 43/300\n",
      "1/1 - 0s - 33ms/step - acc: 0.7500 - loss: 0.2073\n",
      "Epoch 44/300\n",
      "1/1 - 0s - 47ms/step - acc: 0.7500 - loss: 0.2059\n",
      "Epoch 45/300\n",
      "1/1 - 0s - 45ms/step - acc: 0.7500 - loss: 0.2046\n",
      "Epoch 46/300\n",
      "1/1 - 0s - 49ms/step - acc: 0.7500 - loss: 0.2032\n",
      "Epoch 47/300\n",
      "1/1 - 0s - 35ms/step - acc: 0.7500 - loss: 0.2019\n",
      "Epoch 48/300\n",
      "1/1 - 0s - 38ms/step - acc: 0.7500 - loss: 0.2006\n",
      "Epoch 49/300\n",
      "1/1 - 0s - 45ms/step - acc: 0.7500 - loss: 0.1993\n",
      "Epoch 50/300\n",
      "1/1 - 0s - 41ms/step - acc: 0.7500 - loss: 0.1980\n",
      "Epoch 51/300\n",
      "1/1 - 0s - 72ms/step - acc: 0.7500 - loss: 0.1967\n",
      "Epoch 52/300\n",
      "1/1 - 0s - 46ms/step - acc: 0.7500 - loss: 0.1954\n",
      "Epoch 53/300\n",
      "1/1 - 0s - 41ms/step - acc: 0.7500 - loss: 0.1942\n",
      "Epoch 54/300\n",
      "1/1 - 0s - 50ms/step - acc: 0.7500 - loss: 0.1929\n",
      "Epoch 55/300\n",
      "1/1 - 0s - 43ms/step - acc: 0.7500 - loss: 0.1917\n",
      "Epoch 56/300\n",
      "1/1 - 0s - 37ms/step - acc: 0.7500 - loss: 0.1905\n",
      "Epoch 57/300\n",
      "1/1 - 0s - 39ms/step - acc: 0.7500 - loss: 0.1893\n",
      "Epoch 58/300\n",
      "1/1 - 0s - 33ms/step - acc: 0.7500 - loss: 0.1881\n",
      "Epoch 59/300\n",
      "1/1 - 0s - 37ms/step - acc: 0.7500 - loss: 0.1869\n",
      "Epoch 60/300\n",
      "1/1 - 0s - 34ms/step - acc: 0.7500 - loss: 0.1857\n",
      "Epoch 61/300\n",
      "1/1 - 0s - 33ms/step - acc: 0.7500 - loss: 0.1846\n",
      "Epoch 62/300\n",
      "1/1 - 0s - 37ms/step - acc: 0.7500 - loss: 0.1834\n",
      "Epoch 63/300\n",
      "1/1 - 0s - 30ms/step - acc: 0.7500 - loss: 0.1823\n",
      "Epoch 64/300\n",
      "1/1 - 0s - 33ms/step - acc: 0.7500 - loss: 0.1812\n",
      "Epoch 65/300\n",
      "1/1 - 0s - 44ms/step - acc: 0.7500 - loss: 0.1800\n",
      "Epoch 66/300\n",
      "1/1 - 0s - 32ms/step - acc: 0.7500 - loss: 0.1789\n",
      "Epoch 67/300\n",
      "1/1 - 0s - 34ms/step - acc: 0.7500 - loss: 0.1778\n",
      "Epoch 68/300\n",
      "1/1 - 0s - 31ms/step - acc: 0.7500 - loss: 0.1767\n",
      "Epoch 69/300\n",
      "1/1 - 0s - 32ms/step - acc: 0.7500 - loss: 0.1757\n",
      "Epoch 70/300\n",
      "1/1 - 0s - 31ms/step - acc: 0.7500 - loss: 0.1746\n",
      "Epoch 71/300\n",
      "1/1 - 0s - 31ms/step - acc: 0.7500 - loss: 0.1736\n",
      "Epoch 72/300\n",
      "1/1 - 0s - 28ms/step - acc: 0.7500 - loss: 0.1725\n",
      "Epoch 73/300\n",
      "1/1 - 0s - 30ms/step - acc: 0.7500 - loss: 0.1715\n",
      "Epoch 74/300\n",
      "1/1 - 0s - 30ms/step - acc: 0.7500 - loss: 0.1705\n",
      "Epoch 75/300\n",
      "1/1 - 0s - 30ms/step - acc: 0.7500 - loss: 0.1694\n",
      "Epoch 76/300\n",
      "1/1 - 0s - 30ms/step - acc: 0.7500 - loss: 0.1684\n",
      "Epoch 77/300\n",
      "1/1 - 0s - 30ms/step - acc: 0.7500 - loss: 0.1674\n",
      "Epoch 78/300\n",
      "1/1 - 0s - 36ms/step - acc: 0.7500 - loss: 0.1665\n",
      "Epoch 79/300\n",
      "1/1 - 0s - 47ms/step - acc: 0.7500 - loss: 0.1655\n",
      "Epoch 80/300\n",
      "1/1 - 0s - 41ms/step - acc: 0.7500 - loss: 0.1645\n",
      "Epoch 81/300\n",
      "1/1 - 0s - 31ms/step - acc: 0.7500 - loss: 0.1636\n",
      "Epoch 82/300\n",
      "1/1 - 0s - 35ms/step - acc: 0.7500 - loss: 0.1626\n",
      "Epoch 83/300\n",
      "1/1 - 0s - 34ms/step - acc: 0.7500 - loss: 0.1617\n",
      "Epoch 84/300\n",
      "1/1 - 0s - 36ms/step - acc: 0.7500 - loss: 0.1607\n",
      "Epoch 85/300\n",
      "1/1 - 0s - 31ms/step - acc: 0.7500 - loss: 0.1598\n",
      "Epoch 86/300\n",
      "1/1 - 0s - 34ms/step - acc: 0.7500 - loss: 0.1589\n",
      "Epoch 87/300\n",
      "1/1 - 0s - 35ms/step - acc: 0.7500 - loss: 0.1580\n",
      "Epoch 88/300\n",
      "1/1 - 0s - 40ms/step - acc: 0.7500 - loss: 0.1571\n",
      "Epoch 89/300\n",
      "1/1 - 0s - 37ms/step - acc: 0.7500 - loss: 0.1562\n",
      "Epoch 90/300\n",
      "1/1 - 0s - 64ms/step - acc: 0.7500 - loss: 0.1554\n",
      "Epoch 91/300\n",
      "1/1 - 0s - 35ms/step - acc: 0.7500 - loss: 0.1545\n",
      "Epoch 92/300\n",
      "1/1 - 0s - 44ms/step - acc: 0.7500 - loss: 0.1536\n",
      "Epoch 93/300\n",
      "1/1 - 0s - 37ms/step - acc: 0.7500 - loss: 0.1528\n",
      "Epoch 94/300\n",
      "1/1 - 0s - 36ms/step - acc: 0.7500 - loss: 0.1519\n",
      "Epoch 95/300\n",
      "1/1 - 0s - 41ms/step - acc: 0.7500 - loss: 0.1511\n",
      "Epoch 96/300\n",
      "1/1 - 0s - 34ms/step - acc: 0.7500 - loss: 0.1503\n",
      "Epoch 97/300\n",
      "1/1 - 0s - 44ms/step - acc: 0.7500 - loss: 0.1494\n",
      "Epoch 98/300\n",
      "1/1 - 0s - 35ms/step - acc: 0.7500 - loss: 0.1486\n",
      "Epoch 99/300\n",
      "1/1 - 0s - 41ms/step - acc: 0.7500 - loss: 0.1478\n",
      "Epoch 100/300\n",
      "1/1 - 0s - 34ms/step - acc: 0.7500 - loss: 0.1470\n",
      "Epoch 101/300\n",
      "1/1 - 0s - 35ms/step - acc: 0.7500 - loss: 0.1462\n",
      "Epoch 102/300\n",
      "1/1 - 0s - 43ms/step - acc: 0.7500 - loss: 0.1455\n",
      "Epoch 103/300\n",
      "1/1 - 0s - 44ms/step - acc: 0.7500 - loss: 0.1447\n",
      "Epoch 104/300\n",
      "1/1 - 0s - 37ms/step - acc: 0.7500 - loss: 0.1439\n",
      "Epoch 105/300\n",
      "1/1 - 0s - 44ms/step - acc: 0.7500 - loss: 0.1432\n",
      "Epoch 106/300\n",
      "1/1 - 0s - 33ms/step - acc: 0.7500 - loss: 0.1424\n",
      "Epoch 107/300\n",
      "1/1 - 0s - 36ms/step - acc: 0.7500 - loss: 0.1417\n",
      "Epoch 108/300\n",
      "1/1 - 0s - 37ms/step - acc: 0.7500 - loss: 0.1409\n",
      "Epoch 109/300\n",
      "1/1 - 0s - 34ms/step - acc: 0.7500 - loss: 0.1402\n",
      "Epoch 110/300\n",
      "1/1 - 0s - 40ms/step - acc: 0.7500 - loss: 0.1395\n",
      "Epoch 111/300\n",
      "1/1 - 0s - 35ms/step - acc: 0.7500 - loss: 0.1387\n",
      "Epoch 112/300\n",
      "1/1 - 0s - 36ms/step - acc: 0.7500 - loss: 0.1380\n",
      "Epoch 113/300\n",
      "1/1 - 0s - 38ms/step - acc: 0.7500 - loss: 0.1373\n",
      "Epoch 114/300\n",
      "1/1 - 0s - 37ms/step - acc: 0.7500 - loss: 0.1366\n",
      "Epoch 115/300\n",
      "1/1 - 0s - 43ms/step - acc: 0.7500 - loss: 0.1359\n",
      "Epoch 116/300\n",
      "1/1 - 0s - 41ms/step - acc: 0.7500 - loss: 0.1353\n",
      "Epoch 117/300\n",
      "1/1 - 0s - 43ms/step - acc: 0.7500 - loss: 0.1346\n",
      "Epoch 118/300\n",
      "1/1 - 0s - 39ms/step - acc: 0.7500 - loss: 0.1339\n",
      "Epoch 119/300\n",
      "1/1 - 0s - 37ms/step - acc: 0.7500 - loss: 0.1332\n",
      "Epoch 120/300\n",
      "1/1 - 0s - 38ms/step - acc: 0.7500 - loss: 0.1326\n",
      "Epoch 121/300\n",
      "1/1 - 0s - 36ms/step - acc: 0.7500 - loss: 0.1319\n",
      "Epoch 122/300\n",
      "1/1 - 0s - 38ms/step - acc: 0.7500 - loss: 0.1313\n",
      "Epoch 123/300\n",
      "1/1 - 0s - 36ms/step - acc: 0.7500 - loss: 0.1307\n",
      "Epoch 124/300\n",
      "1/1 - 0s - 40ms/step - acc: 0.7500 - loss: 0.1300\n",
      "Epoch 125/300\n",
      "1/1 - 0s - 36ms/step - acc: 0.7500 - loss: 0.1294\n",
      "Epoch 126/300\n",
      "1/1 - 0s - 41ms/step - acc: 0.7500 - loss: 0.1288\n",
      "Epoch 127/300\n",
      "1/1 - 0s - 39ms/step - acc: 0.7500 - loss: 0.1282\n",
      "Epoch 128/300\n",
      "1/1 - 0s - 89ms/step - acc: 0.7500 - loss: 0.1275\n",
      "Epoch 129/300\n",
      "1/1 - 0s - 37ms/step - acc: 0.7500 - loss: 0.1269\n",
      "Epoch 130/300\n",
      "1/1 - 0s - 40ms/step - acc: 0.7500 - loss: 0.1263\n",
      "Epoch 131/300\n",
      "1/1 - 0s - 37ms/step - acc: 0.7500 - loss: 0.1258\n",
      "Epoch 132/300\n",
      "1/1 - 0s - 62ms/step - acc: 0.7500 - loss: 0.1252\n",
      "Epoch 133/300\n",
      "1/1 - 0s - 40ms/step - acc: 0.7500 - loss: 0.1246\n",
      "Epoch 134/300\n",
      "1/1 - 0s - 41ms/step - acc: 0.7500 - loss: 0.1240\n",
      "Epoch 135/300\n",
      "1/1 - 0s - 32ms/step - acc: 0.7500 - loss: 0.1234\n",
      "Epoch 136/300\n",
      "1/1 - 0s - 86ms/step - acc: 0.7500 - loss: 0.1229\n",
      "Epoch 137/300\n",
      "1/1 - 0s - 64ms/step - acc: 0.7500 - loss: 0.1223\n",
      "Epoch 138/300\n",
      "1/1 - 0s - 35ms/step - acc: 0.7500 - loss: 0.1218\n",
      "Epoch 139/300\n",
      "1/1 - 0s - 37ms/step - acc: 0.7500 - loss: 0.1212\n",
      "Epoch 140/300\n",
      "1/1 - 0s - 33ms/step - acc: 0.7500 - loss: 0.1207\n",
      "Epoch 141/300\n",
      "1/1 - 0s - 36ms/step - acc: 0.7500 - loss: 0.1201\n",
      "Epoch 142/300\n",
      "1/1 - 0s - 32ms/step - acc: 0.7500 - loss: 0.1196\n",
      "Epoch 143/300\n",
      "1/1 - 0s - 36ms/step - acc: 0.7500 - loss: 0.1191\n",
      "Epoch 144/300\n",
      "1/1 - 0s - 33ms/step - acc: 0.7500 - loss: 0.1185\n",
      "Epoch 145/300\n",
      "1/1 - 0s - 43ms/step - acc: 0.7500 - loss: 0.1180\n",
      "Epoch 146/300\n",
      "1/1 - 0s - 35ms/step - acc: 0.7500 - loss: 0.1175\n",
      "Epoch 147/300\n",
      "1/1 - 0s - 41ms/step - acc: 0.7500 - loss: 0.1170\n",
      "Epoch 148/300\n",
      "1/1 - 0s - 34ms/step - acc: 0.7500 - loss: 0.1165\n",
      "Epoch 149/300\n",
      "1/1 - 0s - 35ms/step - acc: 0.7500 - loss: 0.1160\n",
      "Epoch 150/300\n",
      "1/1 - 0s - 38ms/step - acc: 0.7500 - loss: 0.1155\n",
      "Epoch 151/300\n",
      "1/1 - 0s - 37ms/step - acc: 0.7500 - loss: 0.1150\n",
      "Epoch 152/300\n",
      "1/1 - 0s - 33ms/step - acc: 0.7500 - loss: 0.1145\n",
      "Epoch 153/300\n",
      "1/1 - 0s - 34ms/step - acc: 0.7500 - loss: 0.1141\n",
      "Epoch 154/300\n",
      "1/1 - 0s - 32ms/step - acc: 0.7500 - loss: 0.1136\n",
      "Epoch 155/300\n",
      "1/1 - 0s - 34ms/step - acc: 0.7500 - loss: 0.1131\n",
      "Epoch 156/300\n",
      "1/1 - 0s - 42ms/step - acc: 0.7500 - loss: 0.1126\n",
      "Epoch 157/300\n",
      "1/1 - 0s - 38ms/step - acc: 0.7500 - loss: 0.1122\n",
      "Epoch 158/300\n",
      "1/1 - 0s - 33ms/step - acc: 0.7500 - loss: 0.1117\n",
      "Epoch 159/300\n",
      "1/1 - 0s - 35ms/step - acc: 0.7500 - loss: 0.1113\n",
      "Epoch 160/300\n",
      "1/1 - 0s - 35ms/step - acc: 0.7500 - loss: 0.1108\n",
      "Epoch 161/300\n",
      "1/1 - 0s - 37ms/step - acc: 0.7500 - loss: 0.1104\n",
      "Epoch 162/300\n",
      "1/1 - 0s - 29ms/step - acc: 0.7500 - loss: 0.1099\n",
      "Epoch 163/300\n",
      "1/1 - 0s - 37ms/step - acc: 0.7500 - loss: 0.1095\n",
      "Epoch 164/300\n",
      "1/1 - 0s - 38ms/step - acc: 0.7500 - loss: 0.1091\n",
      "Epoch 165/300\n",
      "1/1 - 0s - 89ms/step - acc: 0.7500 - loss: 0.1086\n",
      "Epoch 166/300\n",
      "1/1 - 0s - 47ms/step - acc: 0.7500 - loss: 0.1082\n",
      "Epoch 167/300\n",
      "1/1 - 0s - 35ms/step - acc: 0.7500 - loss: 0.1078\n",
      "Epoch 168/300\n",
      "1/1 - 0s - 36ms/step - acc: 0.7500 - loss: 0.1074\n",
      "Epoch 169/300\n",
      "1/1 - 0s - 36ms/step - acc: 0.7500 - loss: 0.1070\n",
      "Epoch 170/300\n",
      "1/1 - 0s - 35ms/step - acc: 0.7500 - loss: 0.1066\n",
      "Epoch 171/300\n",
      "1/1 - 0s - 42ms/step - acc: 0.7500 - loss: 0.1061\n",
      "Epoch 172/300\n",
      "1/1 - 0s - 37ms/step - acc: 0.7500 - loss: 0.1057\n",
      "Epoch 173/300\n",
      "1/1 - 0s - 37ms/step - acc: 0.7500 - loss: 0.1053\n",
      "Epoch 174/300\n",
      "1/1 - 0s - 34ms/step - acc: 0.7500 - loss: 0.1050\n",
      "Epoch 175/300\n",
      "1/1 - 0s - 35ms/step - acc: 0.7500 - loss: 0.1046\n",
      "Epoch 176/300\n",
      "1/1 - 0s - 41ms/step - acc: 0.7500 - loss: 0.1042\n",
      "Epoch 177/300\n",
      "1/1 - 0s - 39ms/step - acc: 0.7500 - loss: 0.1038\n",
      "Epoch 178/300\n",
      "1/1 - 0s - 43ms/step - acc: 0.7500 - loss: 0.1034\n",
      "Epoch 179/300\n",
      "1/1 - 0s - 41ms/step - acc: 0.7500 - loss: 0.1030\n",
      "Epoch 180/300\n",
      "1/1 - 0s - 38ms/step - acc: 0.7500 - loss: 0.1027\n",
      "Epoch 181/300\n",
      "1/1 - 0s - 38ms/step - acc: 0.7500 - loss: 0.1023\n",
      "Epoch 182/300\n",
      "1/1 - 0s - 32ms/step - acc: 0.7500 - loss: 0.1019\n",
      "Epoch 183/300\n",
      "1/1 - 0s - 38ms/step - acc: 0.7500 - loss: 0.1016\n",
      "Epoch 184/300\n",
      "1/1 - 0s - 36ms/step - acc: 0.7500 - loss: 0.1012\n",
      "Epoch 185/300\n",
      "1/1 - 0s - 30ms/step - acc: 0.7500 - loss: 0.1009\n",
      "Epoch 186/300\n",
      "1/1 - 0s - 36ms/step - acc: 0.7500 - loss: 0.1005\n",
      "Epoch 187/300\n",
      "1/1 - 0s - 41ms/step - acc: 0.7500 - loss: 0.1002\n",
      "Epoch 188/300\n",
      "1/1 - 0s - 45ms/step - acc: 0.7500 - loss: 0.0998\n",
      "Epoch 189/300\n",
      "1/1 - 0s - 42ms/step - acc: 0.7500 - loss: 0.0995\n",
      "Epoch 190/300\n",
      "1/1 - 0s - 37ms/step - acc: 0.7500 - loss: 0.0991\n",
      "Epoch 191/300\n",
      "1/1 - 0s - 38ms/step - acc: 0.7500 - loss: 0.0988\n",
      "Epoch 192/300\n",
      "1/1 - 0s - 35ms/step - acc: 0.7500 - loss: 0.0985\n",
      "Epoch 193/300\n",
      "1/1 - 0s - 34ms/step - acc: 0.7500 - loss: 0.0981\n",
      "Epoch 194/300\n",
      "1/1 - 0s - 34ms/step - acc: 0.7500 - loss: 0.0978\n",
      "Epoch 195/300\n",
      "1/1 - 0s - 39ms/step - acc: 0.7500 - loss: 0.0975\n",
      "Epoch 196/300\n",
      "1/1 - 0s - 35ms/step - acc: 0.7500 - loss: 0.0972\n",
      "Epoch 197/300\n",
      "1/1 - 0s - 44ms/step - acc: 0.7500 - loss: 0.0969\n",
      "Epoch 198/300\n",
      "1/1 - 0s - 35ms/step - acc: 0.7500 - loss: 0.0965\n",
      "Epoch 199/300\n",
      "1/1 - 0s - 42ms/step - acc: 0.7500 - loss: 0.0962\n",
      "Epoch 200/300\n",
      "1/1 - 0s - 52ms/step - acc: 1.0000 - loss: 0.0959\n",
      "Epoch 201/300\n",
      "1/1 - 0s - 39ms/step - acc: 1.0000 - loss: 0.0956\n",
      "Epoch 202/300\n",
      "1/1 - 0s - 32ms/step - acc: 1.0000 - loss: 0.0953\n",
      "Epoch 203/300\n",
      "1/1 - 0s - 82ms/step - acc: 1.0000 - loss: 0.0950\n",
      "Epoch 204/300\n",
      "1/1 - 0s - 45ms/step - acc: 1.0000 - loss: 0.0947\n",
      "Epoch 205/300\n",
      "1/1 - 0s - 34ms/step - acc: 1.0000 - loss: 0.0944\n",
      "Epoch 206/300\n",
      "1/1 - 0s - 53ms/step - acc: 1.0000 - loss: 0.0941\n",
      "Epoch 207/300\n",
      "1/1 - 0s - 34ms/step - acc: 1.0000 - loss: 0.0939\n",
      "Epoch 208/300\n",
      "1/1 - 0s - 42ms/step - acc: 1.0000 - loss: 0.0936\n",
      "Epoch 209/300\n",
      "1/1 - 0s - 47ms/step - acc: 1.0000 - loss: 0.0933\n",
      "Epoch 210/300\n",
      "1/1 - 0s - 39ms/step - acc: 1.0000 - loss: 0.0930\n",
      "Epoch 211/300\n",
      "1/1 - 0s - 29ms/step - acc: 1.0000 - loss: 0.0927\n",
      "Epoch 212/300\n",
      "1/1 - 0s - 34ms/step - acc: 1.0000 - loss: 0.0925\n",
      "Epoch 213/300\n",
      "1/1 - 0s - 36ms/step - acc: 1.0000 - loss: 0.0922\n",
      "Epoch 214/300\n",
      "1/1 - 0s - 39ms/step - acc: 1.0000 - loss: 0.0919\n",
      "Epoch 215/300\n",
      "1/1 - 0s - 37ms/step - acc: 1.0000 - loss: 0.0916\n",
      "Epoch 216/300\n",
      "1/1 - 0s - 35ms/step - acc: 1.0000 - loss: 0.0914\n",
      "Epoch 217/300\n",
      "1/1 - 0s - 35ms/step - acc: 1.0000 - loss: 0.0911\n",
      "Epoch 218/300\n",
      "1/1 - 0s - 37ms/step - acc: 1.0000 - loss: 0.0909\n",
      "Epoch 219/300\n",
      "1/1 - 0s - 56ms/step - acc: 1.0000 - loss: 0.0906\n",
      "Epoch 220/300\n",
      "1/1 - 0s - 41ms/step - acc: 1.0000 - loss: 0.0903\n",
      "Epoch 221/300\n",
      "1/1 - 0s - 42ms/step - acc: 1.0000 - loss: 0.0901\n",
      "Epoch 222/300\n",
      "1/1 - 0s - 34ms/step - acc: 1.0000 - loss: 0.0898\n",
      "Epoch 223/300\n",
      "1/1 - 0s - 34ms/step - acc: 1.0000 - loss: 0.0896\n",
      "Epoch 224/300\n",
      "1/1 - 0s - 31ms/step - acc: 1.0000 - loss: 0.0894\n",
      "Epoch 225/300\n",
      "1/1 - 0s - 33ms/step - acc: 1.0000 - loss: 0.0891\n",
      "Epoch 226/300\n",
      "1/1 - 0s - 36ms/step - acc: 1.0000 - loss: 0.0889\n",
      "Epoch 227/300\n",
      "1/1 - 0s - 28ms/step - acc: 1.0000 - loss: 0.0886\n",
      "Epoch 228/300\n",
      "1/1 - 0s - 33ms/step - acc: 1.0000 - loss: 0.0884\n",
      "Epoch 229/300\n",
      "1/1 - 0s - 32ms/step - acc: 1.0000 - loss: 0.0882\n",
      "Epoch 230/300\n",
      "1/1 - 0s - 32ms/step - acc: 1.0000 - loss: 0.0879\n",
      "Epoch 231/300\n",
      "1/1 - 0s - 34ms/step - acc: 1.0000 - loss: 0.0877\n",
      "Epoch 232/300\n",
      "1/1 - 0s - 34ms/step - acc: 1.0000 - loss: 0.0875\n",
      "Epoch 233/300\n",
      "1/1 - 0s - 73ms/step - acc: 1.0000 - loss: 0.0872\n",
      "Epoch 234/300\n",
      "1/1 - 0s - 36ms/step - acc: 1.0000 - loss: 0.0870\n",
      "Epoch 235/300\n",
      "1/1 - 0s - 32ms/step - acc: 1.0000 - loss: 0.0868\n",
      "Epoch 236/300\n",
      "1/1 - 0s - 32ms/step - acc: 1.0000 - loss: 0.0866\n",
      "Epoch 237/300\n",
      "1/1 - 0s - 34ms/step - acc: 1.0000 - loss: 0.0864\n",
      "Epoch 238/300\n",
      "1/1 - 0s - 32ms/step - acc: 1.0000 - loss: 0.0861\n",
      "Epoch 239/300\n",
      "1/1 - 0s - 40ms/step - acc: 1.0000 - loss: 0.0859\n",
      "Epoch 240/300\n",
      "1/1 - 0s - 39ms/step - acc: 1.0000 - loss: 0.0857\n",
      "Epoch 241/300\n",
      "1/1 - 0s - 34ms/step - acc: 1.0000 - loss: 0.0855\n",
      "Epoch 242/300\n",
      "1/1 - 0s - 35ms/step - acc: 1.0000 - loss: 0.0853\n",
      "Epoch 243/300\n",
      "1/1 - 0s - 39ms/step - acc: 1.0000 - loss: 0.0851\n",
      "Epoch 244/300\n",
      "1/1 - 0s - 33ms/step - acc: 1.0000 - loss: 0.0849\n",
      "Epoch 245/300\n",
      "1/1 - 0s - 39ms/step - acc: 1.0000 - loss: 0.0847\n",
      "Epoch 246/300\n",
      "1/1 - 0s - 38ms/step - acc: 1.0000 - loss: 0.0845\n",
      "Epoch 247/300\n",
      "1/1 - 0s - 37ms/step - acc: 1.0000 - loss: 0.0843\n",
      "Epoch 248/300\n",
      "1/1 - 0s - 33ms/step - acc: 1.0000 - loss: 0.0841\n",
      "Epoch 249/300\n",
      "1/1 - 0s - 35ms/step - acc: 1.0000 - loss: 0.0839\n",
      "Epoch 250/300\n",
      "1/1 - 0s - 33ms/step - acc: 1.0000 - loss: 0.0837\n",
      "Epoch 251/300\n",
      "1/1 - 0s - 32ms/step - acc: 1.0000 - loss: 0.0835\n",
      "Epoch 252/300\n",
      "1/1 - 0s - 32ms/step - acc: 1.0000 - loss: 0.0833\n",
      "Epoch 253/300\n",
      "1/1 - 0s - 33ms/step - acc: 1.0000 - loss: 0.0831\n",
      "Epoch 254/300\n",
      "1/1 - 0s - 32ms/step - acc: 1.0000 - loss: 0.0830\n",
      "Epoch 255/300\n",
      "1/1 - 0s - 29ms/step - acc: 1.0000 - loss: 0.0828\n",
      "Epoch 256/300\n",
      "1/1 - 0s - 34ms/step - acc: 1.0000 - loss: 0.0826\n",
      "Epoch 257/300\n",
      "1/1 - 0s - 34ms/step - acc: 1.0000 - loss: 0.0824\n",
      "Epoch 258/300\n",
      "1/1 - 0s - 31ms/step - acc: 1.0000 - loss: 0.0822\n",
      "Epoch 259/300\n",
      "1/1 - 0s - 35ms/step - acc: 1.0000 - loss: 0.0821\n",
      "Epoch 260/300\n",
      "1/1 - 0s - 41ms/step - acc: 1.0000 - loss: 0.0819\n",
      "Epoch 261/300\n",
      "1/1 - 0s - 38ms/step - acc: 1.0000 - loss: 0.0817\n",
      "Epoch 262/300\n",
      "1/1 - 0s - 32ms/step - acc: 1.0000 - loss: 0.0815\n",
      "Epoch 263/300\n",
      "1/1 - 0s - 34ms/step - acc: 1.0000 - loss: 0.0814\n",
      "Epoch 264/300\n",
      "1/1 - 0s - 34ms/step - acc: 1.0000 - loss: 0.0812\n",
      "Epoch 265/300\n",
      "1/1 - 0s - 33ms/step - acc: 1.0000 - loss: 0.0810\n",
      "Epoch 266/300\n",
      "1/1 - 0s - 34ms/step - acc: 1.0000 - loss: 0.0809\n",
      "Epoch 267/300\n",
      "1/1 - 0s - 43ms/step - acc: 1.0000 - loss: 0.0807\n",
      "Epoch 268/300\n",
      "1/1 - 0s - 34ms/step - acc: 1.0000 - loss: 0.0805\n",
      "Epoch 269/300\n",
      "1/1 - 0s - 32ms/step - acc: 1.0000 - loss: 0.0804\n",
      "Epoch 270/300\n",
      "1/1 - 0s - 34ms/step - acc: 1.0000 - loss: 0.0802\n",
      "Epoch 271/300\n",
      "1/1 - 0s - 33ms/step - acc: 1.0000 - loss: 0.0801\n",
      "Epoch 272/300\n",
      "1/1 - 0s - 72ms/step - acc: 1.0000 - loss: 0.0799\n",
      "Epoch 273/300\n",
      "1/1 - 0s - 37ms/step - acc: 1.0000 - loss: 0.0797\n",
      "Epoch 274/300\n",
      "1/1 - 0s - 36ms/step - acc: 1.0000 - loss: 0.0796\n",
      "Epoch 275/300\n",
      "1/1 - 0s - 33ms/step - acc: 1.0000 - loss: 0.0794\n",
      "Epoch 276/300\n",
      "1/1 - 0s - 35ms/step - acc: 1.0000 - loss: 0.0793\n",
      "Epoch 277/300\n",
      "1/1 - 0s - 37ms/step - acc: 1.0000 - loss: 0.0791\n",
      "Epoch 278/300\n",
      "1/1 - 0s - 30ms/step - acc: 1.0000 - loss: 0.0790\n",
      "Epoch 279/300\n",
      "1/1 - 0s - 53ms/step - acc: 1.0000 - loss: 0.0788\n",
      "Epoch 280/300\n",
      "1/1 - 0s - 30ms/step - acc: 1.0000 - loss: 0.0787\n",
      "Epoch 281/300\n",
      "1/1 - 0s - 30ms/step - acc: 1.0000 - loss: 0.0786\n",
      "Epoch 282/300\n",
      "1/1 - 0s - 36ms/step - acc: 1.0000 - loss: 0.0784\n",
      "Epoch 283/300\n",
      "1/1 - 0s - 30ms/step - acc: 1.0000 - loss: 0.0783\n",
      "Epoch 284/300\n",
      "1/1 - 0s - 35ms/step - acc: 1.0000 - loss: 0.0781\n",
      "Epoch 285/300\n",
      "1/1 - 0s - 34ms/step - acc: 1.0000 - loss: 0.0780\n",
      "Epoch 286/300\n",
      "1/1 - 0s - 32ms/step - acc: 1.0000 - loss: 0.0779\n",
      "Epoch 287/300\n",
      "1/1 - 0s - 33ms/step - acc: 1.0000 - loss: 0.0777\n",
      "Epoch 288/300\n",
      "1/1 - 0s - 39ms/step - acc: 1.0000 - loss: 0.0776\n",
      "Epoch 289/300\n",
      "1/1 - 0s - 31ms/step - acc: 1.0000 - loss: 0.0775\n",
      "Epoch 290/300\n",
      "1/1 - 0s - 34ms/step - acc: 1.0000 - loss: 0.0773\n",
      "Epoch 291/300\n",
      "1/1 - 0s - 40ms/step - acc: 1.0000 - loss: 0.0772\n",
      "Epoch 292/300\n",
      "1/1 - 0s - 33ms/step - acc: 1.0000 - loss: 0.0771\n",
      "Epoch 293/300\n",
      "1/1 - 0s - 33ms/step - acc: 1.0000 - loss: 0.0769\n",
      "Epoch 294/300\n",
      "1/1 - 0s - 30ms/step - acc: 1.0000 - loss: 0.0768\n",
      "Epoch 295/300\n",
      "1/1 - 0s - 32ms/step - acc: 1.0000 - loss: 0.0767\n",
      "Epoch 296/300\n",
      "1/1 - 0s - 35ms/step - acc: 1.0000 - loss: 0.0765\n",
      "Epoch 297/300\n",
      "1/1 - 0s - 34ms/step - acc: 1.0000 - loss: 0.0764\n",
      "Epoch 298/300\n",
      "1/1 - 0s - 31ms/step - acc: 1.0000 - loss: 0.0763\n",
      "Epoch 299/300\n",
      "1/1 - 0s - 36ms/step - acc: 1.0000 - loss: 0.0762\n",
      "Epoch 300/300\n",
      "1/1 - 0s - 36ms/step - acc: 1.0000 - loss: 0.0761\n"
     ]
    },
    {
     "data": {
      "text/plain": [
       "<keras.src.callbacks.history.History at 0x1e9baca7290>"
      ]
     },
     "execution_count": 29,
     "metadata": {},
     "output_type": "execute_result"
    }
   ],
   "source": [
    "model = Sequential() #딥러닝 모델\n",
    "''' \n",
    "Dense : 밀집층\n",
    "Dense(1,input_shape=(2,),activation='linear')\n",
    "   1 : 출력값의 갯수\n",
    "   input_shape=(2,) : 입력값의 갯수\n",
    "   activation='linear' : 활성화 함수 \n",
    "     linear : 선형함수\n",
    "     \n",
    "'''\n",
    "model.add(Dense(1,input_shape=(2,),activation='linear'))\n",
    "''' \n",
    "  compile : 모델 설정. \n",
    "    optimizer=SGD() : 경사하강법 알고리즘 설정\n",
    "    loss=mse : 손실함수. mse : 평균제곱오차\n",
    "               mse 값이 적은 경우 \n",
    "    metrics=['acc'] : 평가 방법 지정. acc:정확도           \n",
    "'''\n",
    "model.compile(optimizer=SGD(),loss=mse,metrics=['acc'])\n",
    "''' \n",
    "   학습하기\n",
    "   data : 훈련데이터\n",
    "   label : 정답\n",
    "   epochs=300 : 반복횟수\n",
    "   verbose=0 : 학습과정 출력 생략\n",
    "   verbose=1 : 학습과정 상세출력 (기본값)\n",
    "   verbose=2 : 학습과정 간단 출력  \n",
    "'''\n",
    "model.fit(data,label,epochs=300,verbose=2)\n"
   ]
  },
  {
   "cell_type": "code",
   "execution_count": 30,
   "metadata": {},
   "outputs": [
    {
     "name": "stdout",
     "output_type": "stream",
     "text": [
      "[array([[0.4509821 ],\n",
      "       [0.72422534]], dtype=float32), array([0.14609146], dtype=float32)]\n",
      "\u001b[1m1/1\u001b[0m \u001b[32m━━━━━━━━━━━━━━━━━━━━\u001b[0m\u001b[37m\u001b[0m \u001b[1m0s\u001b[0m 44ms/step\n",
      "[[0.14609146]\n",
      " [0.8703168 ]\n",
      " [0.59707355]\n",
      " [1.3212988 ]]\n",
      "\u001b[1m1/1\u001b[0m \u001b[32m━━━━━━━━━━━━━━━━━━━━\u001b[0m\u001b[37m\u001b[0m \u001b[1m0s\u001b[0m 146ms/step - acc: 1.0000 - loss: 0.0759\n",
      "[0.07593577355146408, 1.0]\n"
     ]
    }
   ],
   "source": [
    "print(model.get_weights())  #가중치 출력\n",
    "print(model.predict(data))  #예측하기\n",
    "print(model.evaluate(data,label)) #평가"
   ]
  },
  {
   "cell_type": "code",
   "execution_count": 46,
   "metadata": {},
   "outputs": [],
   "source": [
    "#MNIST 데이터를 이용하여 숫자를 학습하여 숫자 인식하기.\n",
    "#MNIST 데이터셋 다운받기\n",
    "from tensorflow.keras.datasets.mnist import load_data\n",
    "(x_train, y_train),(x_test, y_test)=\\\n",
    "    load_data(path='mnist.npz')"
   ]
  },
  {
   "cell_type": "code",
   "execution_count": 32,
   "metadata": {},
   "outputs": [
    {
     "data": {
      "text/plain": [
       "(60000, 28, 28)"
      ]
     },
     "execution_count": 32,
     "metadata": {},
     "output_type": "execute_result"
    }
   ],
   "source": [
    "x_train.shape"
   ]
  },
  {
   "cell_type": "code",
   "execution_count": 19,
   "metadata": {},
   "outputs": [
    {
     "data": {
      "image/png": "[encoded data removed]",
      "text/plain": [
       "<Figure size 640x480 with 1 Axes>"
      ]
     },
     "metadata": {},
     "output_type": "display_data"
    },
    {
     "data": {
      "image/png": "[encoded data removed]",
      "text/plain": [
       "<Figure size 640x480 with 1 Axes>"
      ]
     },
     "metadata": {},
     "output_type": "display_data"
    },
    {
     "data": {
      "image/png": "[encoded data removed]",
      "text/plain": [
       "<Figure size 640x480 with 1 Axes>"
      ]
     },
     "metadata": {},
     "output_type": "display_data"
    }
   ],
   "source": [
    "import matplotlib.pyplot as plt\n",
    "import numpy as np\n",
    "random_idx = np.random.randint(60000,size=3) \n",
    "for idx in random_idx :\n",
    "    img = x_train[idx,:]\n",
    "    label=y_train[idx] \n",
    "    plt.figure()\n",
    "    plt.imshow(img)  #이미지 출력\n",
    "    plt.title('%d-th data, label is %d' % (idx,label),fontsize=15)\n"
   ]
  },
  {
   "cell_type": "code",
   "execution_count": 47,
   "metadata": {},
   "outputs": [],
   "source": [
    "from sklearn.model_selection import train_test_split\n",
    "#x_val : 검증데이터\n",
    "x_train,x_val,y_train,y_val = train_test_split\\\n",
    "    (x_train,y_train,test_size=0.3, random_state=777)  \n"
   ]
  },
  {
   "cell_type": "code",
   "execution_count": 36,
   "metadata": {},
   "outputs": [
    {
     "data": {
      "text/plain": [
       "(18000, 28, 28)"
      ]
     },
     "execution_count": 36,
     "metadata": {},
     "output_type": "execute_result"
    }
   ],
   "source": [
    "x_train.shape\n",
    "x_val.shape"
   ]
  },
  {
   "cell_type": "code",
   "execution_count": 48,
   "metadata": {},
   "outputs": [],
   "source": [
    "#데이터 정규화\n",
    "#이미지 데이터 : 28 * 28\n",
    "#              0 ~ 255사이의 값 => 0~1사이의값 정규화\n",
    "x_train = (x_train.reshape(42000,28*28))/255 #이미지를 1차원. 값/255 => 1이하값\n",
    "x_val = (x_val.reshape(18000,28*28))/255\n",
    "x_test = (x_test.reshape(10000,28*28))/255\n"
   ]
  },
  {
   "cell_type": "code",
   "execution_count": 37,
   "metadata": {},
   "outputs": [
    {
     "data": {
      "text/plain": [
       "array([2, 7, 6, 6, 4, 0, 2, 8, 7, 7], dtype=uint8)"
      ]
     },
     "execution_count": 37,
     "metadata": {},
     "output_type": "execute_result"
    }
   ],
   "source": [
    "y_train[:10]"
   ]
  },
  {
   "cell_type": "code",
   "execution_count": 49,
   "metadata": {},
   "outputs": [],
   "source": [
    "#원핫인코딩하기 => 다중분류 데이터\n",
    "from tensorflow.keras.utils import to_categorical\n",
    "y_train=to_categorical(y_train)\n",
    "y_val=to_categorical(y_val)\n",
    "y_test=to_categorical(y_test)\n"
   ]
  },
  {
   "cell_type": "code",
   "execution_count": 39,
   "metadata": {},
   "outputs": [
    {
     "data": {
      "text/plain": [
       "array([[0., 0., 1., 0., 0., 0., 0., 0., 0., 0.],\n",
       "       [0., 0., 0., 0., 0., 0., 0., 1., 0., 0.],\n",
       "       [0., 0., 0., 0., 0., 0., 1., 0., 0., 0.],\n",
       "       [0., 0., 0., 0., 0., 0., 1., 0., 0., 0.],\n",
       "       [0., 0., 0., 0., 1., 0., 0., 0., 0., 0.],\n",
       "       [1., 0., 0., 0., 0., 0., 0., 0., 0., 0.],\n",
       "       [0., 0., 1., 0., 0., 0., 0., 0., 0., 0.],\n",
       "       [0., 0., 0., 0., 0., 0., 0., 0., 1., 0.],\n",
       "       [0., 0., 0., 0., 0., 0., 0., 1., 0., 0.],\n",
       "       [0., 0., 0., 0., 0., 0., 0., 1., 0., 0.]])"
      ]
     },
     "execution_count": 39,
     "metadata": {},
     "output_type": "execute_result"
    }
   ],
   "source": [
    "y_train[:10]"
   ]
  },
  {
   "cell_type": "code",
   "execution_count": 50,
   "metadata": {},
   "outputs": [],
   "source": [
    "from tensorflow.keras.models import Sequential\n",
    "from tensorflow.keras.layers import Dense\n",
    "model = Sequential()  #모델 생성\n",
    "''' \n",
    "  Dense(64,activation=\"relu\",input_shape=(784,))\n",
    "     64 : 출력값\n",
    "     activation=\"relu\" : 활성화 함수\n",
    "     input_shape=(784,) : 이미지 데이터. 28*28=784\n",
    "'''\n",
    "model.add(Dense(64,activation=\"relu\",input_shape=(784,)))\n",
    "model.add(Dense(32,activation=\"relu\"))\n",
    "model.add(Dense(10,activation=\"softmax\"))\n"
   ]
  },
  {
   "cell_type": "code",
   "execution_count": 51,
   "metadata": {},
   "outputs": [
    {
     "data": {
      "text/html": [
       "<pre style=\"white-space:pre;overflow-x:auto;line-height:normal;font-family:Menlo,'DejaVu Sans Mono',consolas,'Courier New',monospace\"><span style=\"font-weight: bold\">Model: \"sequential_7\"</span>\n",
       "</pre>\n"
      ],
      "text/plain": [
       "\u001b[1mModel: \"sequential_7\"\u001b[0m\n"
      ]
     },
     "metadata": {},
     "output_type": "display_data"
    },
    {
     "data": {
      "text/html": [
       "<pre style=\"white-space:pre;overflow-x:auto;line-height:normal;font-family:Menlo,'DejaVu Sans Mono',consolas,'Courier New',monospace\">┏━━━━━━━━━━━━━━━━━━━━━━━━━━━━━━━━━┳━━━━━━━━━━━━━━━━━━━━━━━━┳━━━━━━━━━━━━━━━┓\n",
       "┃<span style=\"font-weight: bold\"> Layer (type)                    </span>┃<span style=\"font-weight: bold\"> Output Shape           </span>┃<span style=\"font-weight: bold\">       Param # </span>┃\n",
       "┡━━━━━━━━━━━━━━━━━━━━━━━━━━━━━━━━━╇━━━━━━━━━━━━━━━━━━━━━━━━╇━━━━━━━━━━━━━━━┩\n",
       "│ dense_11 (<span style=\"color: #0087ff; text-decoration-color: #0087ff\">Dense</span>)                │ (<span style=\"color: #00d7ff; text-decoration-color: #00d7ff\">None</span>, <span style=\"color: #00af00; text-decoration-color: #00af00\">64</span>)             │        <span style=\"color: #00af00; text-decoration-color: #00af00\">50,240</span> │\n",
       "├─────────────────────────────────┼────────────────────────┼───────────────┤\n",
       "│ dense_12 (<span style=\"color: #0087ff; text-decoration-color: #0087ff\">Dense</span>)                │ (<span style=\"color: #00d7ff; text-decoration-color: #00d7ff\">None</span>, <span style=\"color: #00af00; text-decoration-color: #00af00\">32</span>)             │         <span style=\"color: #00af00; text-decoration-color: #00af00\">2,080</span> │\n",
       "├─────────────────────────────────┼────────────────────────┼───────────────┤\n",
       "│ dense_13 (<span style=\"color: #0087ff; text-decoration-color: #0087ff\">Dense</span>)                │ (<span style=\"color: #00d7ff; text-decoration-color: #00d7ff\">None</span>, <span style=\"color: #00af00; text-decoration-color: #00af00\">10</span>)             │           <span style=\"color: #00af00; text-decoration-color: #00af00\">330</span> │\n",
       "└─────────────────────────────────┴────────────────────────┴───────────────┘\n",
       "</pre>\n"
      ],
      "text/plain": [
       "┏━━━━━━━━━━━━━━━━━━━━━━━━━━━━━━━━━┳━━━━━━━━━━━━━━━━━━━━━━━━┳━━━━━━━━━━━━━━━┓\n",
       "┃\u001b[1m \u001b[0m\u001b[1mLayer (type)                   \u001b[0m\u001b[1m \u001b[0m┃\u001b[1m \u001b[0m\u001b[1mOutput Shape          \u001b[0m\u001b[1m \u001b[0m┃\u001b[1m \u001b[0m\u001b[1m      Param #\u001b[0m\u001b[1m \u001b[0m┃\n",
       "┡━━━━━━━━━━━━━━━━━━━━━━━━━━━━━━━━━╇━━━━━━━━━━━━━━━━━━━━━━━━╇━━━━━━━━━━━━━━━┩\n",
       "│ dense_11 (\u001b[38;5;33mDense\u001b[0m)                │ (\u001b[38;5;45mNone\u001b[0m, \u001b[38;5;34m64\u001b[0m)             │        \u001b[38;5;34m50,240\u001b[0m │\n",
       "├─────────────────────────────────┼────────────────────────┼───────────────┤\n",
       "│ dense_12 (\u001b[38;5;33mDense\u001b[0m)                │ (\u001b[38;5;45mNone\u001b[0m, \u001b[38;5;34m32\u001b[0m)             │         \u001b[38;5;34m2,080\u001b[0m │\n",
       "├─────────────────────────────────┼────────────────────────┼───────────────┤\n",
       "│ dense_13 (\u001b[38;5;33mDense\u001b[0m)                │ (\u001b[38;5;45mNone\u001b[0m, \u001b[38;5;34m10\u001b[0m)             │           \u001b[38;5;34m330\u001b[0m │\n",
       "└─────────────────────────────────┴────────────────────────┴───────────────┘\n"
      ]
     },
     "metadata": {},
     "output_type": "display_data"
    },
    {
     "data": {
      "text/html": [
       "<pre style=\"white-space:pre;overflow-x:auto;line-height:normal;font-family:Menlo,'DejaVu Sans Mono',consolas,'Courier New',monospace\"><span style=\"font-weight: bold\"> Total params: </span><span style=\"color: #00af00; text-decoration-color: #00af00\">52,650</span> (205.66 KB)\n",
       "</pre>\n"
      ],
      "text/plain": [
       "\u001b[1m Total params: \u001b[0m\u001b[38;5;34m52,650\u001b[0m (205.66 KB)\n"
      ]
     },
     "metadata": {},
     "output_type": "display_data"
    },
    {
     "data": {
      "text/html": [
       "<pre style=\"white-space:pre;overflow-x:auto;line-height:normal;font-family:Menlo,'DejaVu Sans Mono',consolas,'Courier New',monospace\"><span style=\"font-weight: bold\"> Trainable params: </span><span style=\"color: #00af00; text-decoration-color: #00af00\">52,650</span> (205.66 KB)\n",
       "</pre>\n"
      ],
      "text/plain": [
       "\u001b[1m Trainable params: \u001b[0m\u001b[38;5;34m52,650\u001b[0m (205.66 KB)\n"
      ]
     },
     "metadata": {},
     "output_type": "display_data"
    },
    {
     "data": {
      "text/html": [
       "<pre style=\"white-space:pre;overflow-x:auto;line-height:normal;font-family:Menlo,'DejaVu Sans Mono',consolas,'Courier New',monospace\"><span style=\"font-weight: bold\"> Non-trainable params: </span><span style=\"color: #00af00; text-decoration-color: #00af00\">0</span> (0.00 B)\n",
       "</pre>\n"
      ],
      "text/plain": [
       "\u001b[1m Non-trainable params: \u001b[0m\u001b[38;5;34m0\u001b[0m (0.00 B)\n"
      ]
     },
     "metadata": {},
     "output_type": "display_data"
    },
    {
     "name": "stdout",
     "output_type": "stream",
     "text": [
      "None\n"
     ]
    }
   ],
   "source": [
    "print(model.summary())\n"
   ]
  },
  {
   "cell_type": "code",
   "execution_count": 52,
   "metadata": {},
   "outputs": [],
   "source": [
    "model.compile(optimizer=\"adam\", loss='categorical_crossentropy',\n",
    "              metrics=['acc'])\n"
   ]
  },
  {
   "cell_type": "code",
   "execution_count": 53,
   "metadata": {},
   "outputs": [
    {
     "name": "stdout",
     "output_type": "stream",
     "text": [
      "Epoch 1/30\n",
      "\u001b[1m331/331\u001b[0m \u001b[32m━━━━━━━━━━━━━━━━━━━━\u001b[0m\u001b[37m\u001b[0m \u001b[1m2s\u001b[0m 3ms/step - acc: 0.7069 - loss: 0.9485 - val_acc: 0.9277 - val_loss: 0.2522\n",
      "Epoch 2/30\n",
      "\u001b[1m331/331\u001b[0m \u001b[32m━━━━━━━━━━━━━━━━━━━━\u001b[0m\u001b[37m\u001b[0m \u001b[1m1s\u001b[0m 3ms/step - acc: 0.9320 - loss: 0.2339 - val_acc: 0.9459 - val_loss: 0.1889\n",
      "Epoch 3/30\n",
      "\u001b[1m331/331\u001b[0m \u001b[32m━━━━━━━━━━━━━━━━━━━━\u001b[0m\u001b[37m\u001b[0m \u001b[1m1s\u001b[0m 3ms/step - acc: 0.9534 - loss: 0.1635 - val_acc: 0.9564 - val_loss: 0.1532\n",
      "Epoch 4/30\n",
      "\u001b[1m331/331\u001b[0m \u001b[32m━━━━━━━━━━━━━━━━━━━━\u001b[0m\u001b[37m\u001b[0m \u001b[1m1s\u001b[0m 3ms/step - acc: 0.9627 - loss: 0.1285 - val_acc: 0.9599 - val_loss: 0.1428\n",
      "Epoch 5/30\n",
      "\u001b[1m331/331\u001b[0m \u001b[32m━━━━━━━━━━━━━━━━━━━━\u001b[0m\u001b[37m\u001b[0m \u001b[1m1s\u001b[0m 3ms/step - acc: 0.9697 - loss: 0.1050 - val_acc: 0.9603 - val_loss: 0.1364\n",
      "Epoch 6/30\n",
      "\u001b[1m331/331\u001b[0m \u001b[32m━━━━━━━━━━━━━━━━━━━━\u001b[0m\u001b[37m\u001b[0m \u001b[1m1s\u001b[0m 3ms/step - acc: 0.9719 - loss: 0.0922 - val_acc: 0.9652 - val_loss: 0.1189\n",
      "Epoch 7/30\n",
      "\u001b[1m331/331\u001b[0m \u001b[32m━━━━━━━━━━━━━━━━━━━━\u001b[0m\u001b[37m\u001b[0m \u001b[1m1s\u001b[0m 3ms/step - acc: 0.9772 - loss: 0.0773 - val_acc: 0.9657 - val_loss: 0.1152\n",
      "Epoch 8/30\n",
      "\u001b[1m331/331\u001b[0m \u001b[32m━━━━━━━━━━━━━━━━━━━━\u001b[0m\u001b[37m\u001b[0m \u001b[1m1s\u001b[0m 3ms/step - acc: 0.9818 - loss: 0.0641 - val_acc: 0.9662 - val_loss: 0.1115\n",
      "Epoch 9/30\n",
      "\u001b[1m331/331\u001b[0m \u001b[32m━━━━━━━━━━━━━━━━━━━━\u001b[0m\u001b[37m\u001b[0m \u001b[1m1s\u001b[0m 3ms/step - acc: 0.9834 - loss: 0.0574 - val_acc: 0.9683 - val_loss: 0.1082\n",
      "Epoch 10/30\n",
      "\u001b[1m331/331\u001b[0m \u001b[32m━━━━━━━━━━━━━━━━━━━━\u001b[0m\u001b[37m\u001b[0m \u001b[1m1s\u001b[0m 3ms/step - acc: 0.9844 - loss: 0.0521 - val_acc: 0.9677 - val_loss: 0.1098\n",
      "Epoch 11/30\n",
      "\u001b[1m331/331\u001b[0m \u001b[32m━━━━━━━━━━━━━━━━━━━━\u001b[0m\u001b[37m\u001b[0m \u001b[1m1s\u001b[0m 4ms/step - acc: 0.9873 - loss: 0.0449 - val_acc: 0.9687 - val_loss: 0.1073\n",
      "Epoch 12/30\n",
      "\u001b[1m331/331\u001b[0m \u001b[32m━━━━━━━━━━━━━━━━━━━━\u001b[0m\u001b[37m\u001b[0m \u001b[1m1s\u001b[0m 3ms/step - acc: 0.9894 - loss: 0.0384 - val_acc: 0.9704 - val_loss: 0.1065\n",
      "Epoch 13/30\n",
      "\u001b[1m331/331\u001b[0m \u001b[32m━━━━━━━━━━━━━━━━━━━━\u001b[0m\u001b[37m\u001b[0m \u001b[1m1s\u001b[0m 4ms/step - acc: 0.9903 - loss: 0.0332 - val_acc: 0.9689 - val_loss: 0.1107\n",
      "Epoch 14/30\n",
      "\u001b[1m331/331\u001b[0m \u001b[32m━━━━━━━━━━━━━━━━━━━━\u001b[0m\u001b[37m\u001b[0m \u001b[1m1s\u001b[0m 3ms/step - acc: 0.9920 - loss: 0.0296 - val_acc: 0.9681 - val_loss: 0.1152\n",
      "Epoch 15/30\n",
      "\u001b[1m331/331\u001b[0m \u001b[32m━━━━━━━━━━━━━━━━━━━━\u001b[0m\u001b[37m\u001b[0m \u001b[1m1s\u001b[0m 3ms/step - acc: 0.9919 - loss: 0.0274 - val_acc: 0.9689 - val_loss: 0.1098\n",
      "Epoch 16/30\n",
      "\u001b[1m331/331\u001b[0m \u001b[32m━━━━━━━━━━━━━━━━━━━━\u001b[0m\u001b[37m\u001b[0m \u001b[1m1s\u001b[0m 3ms/step - acc: 0.9945 - loss: 0.0212 - val_acc: 0.9702 - val_loss: 0.1142\n",
      "Epoch 17/30\n",
      "\u001b[1m331/331\u001b[0m \u001b[32m━━━━━━━━━━━━━━━━━━━━\u001b[0m\u001b[37m\u001b[0m \u001b[1m1s\u001b[0m 3ms/step - acc: 0.9944 - loss: 0.0212 - val_acc: 0.9693 - val_loss: 0.1217\n",
      "Epoch 18/30\n",
      "\u001b[1m331/331\u001b[0m \u001b[32m━━━━━━━━━━━━━━━━━━━━\u001b[0m\u001b[37m\u001b[0m \u001b[1m1s\u001b[0m 3ms/step - acc: 0.9943 - loss: 0.0196 - val_acc: 0.9688 - val_loss: 0.1215\n",
      "Epoch 19/30\n",
      "\u001b[1m331/331\u001b[0m \u001b[32m━━━━━━━━━━━━━━━━━━━━\u001b[0m\u001b[37m\u001b[0m \u001b[1m1s\u001b[0m 3ms/step - acc: 0.9947 - loss: 0.0176 - val_acc: 0.9712 - val_loss: 0.1176\n",
      "Epoch 20/30\n",
      "\u001b[1m331/331\u001b[0m \u001b[32m━━━━━━━━━━━━━━━━━━━━\u001b[0m\u001b[37m\u001b[0m \u001b[1m1s\u001b[0m 3ms/step - acc: 0.9971 - loss: 0.0131 - val_acc: 0.9688 - val_loss: 0.1254\n",
      "Epoch 21/30\n",
      "\u001b[1m331/331\u001b[0m \u001b[32m━━━━━━━━━━━━━━━━━━━━\u001b[0m\u001b[37m\u001b[0m \u001b[1m1s\u001b[0m 3ms/step - acc: 0.9968 - loss: 0.0134 - val_acc: 0.9659 - val_loss: 0.1428\n",
      "Epoch 22/30\n",
      "\u001b[1m331/331\u001b[0m \u001b[32m━━━━━━━━━━━━━━━━━━━━\u001b[0m\u001b[37m\u001b[0m \u001b[1m1s\u001b[0m 3ms/step - acc: 0.9971 - loss: 0.0113 - val_acc: 0.9706 - val_loss: 0.1225\n",
      "Epoch 23/30\n",
      "\u001b[1m331/331\u001b[0m \u001b[32m━━━━━━━━━━━━━━━━━━━━\u001b[0m\u001b[37m\u001b[0m \u001b[1m1s\u001b[0m 3ms/step - acc: 0.9970 - loss: 0.0115 - val_acc: 0.9701 - val_loss: 0.1280\n",
      "Epoch 24/30\n",
      "\u001b[1m331/331\u001b[0m \u001b[32m━━━━━━━━━━━━━━━━━━━━\u001b[0m\u001b[37m\u001b[0m \u001b[1m1s\u001b[0m 3ms/step - acc: 0.9972 - loss: 0.0102 - val_acc: 0.9679 - val_loss: 0.1440\n",
      "Epoch 25/30\n",
      "\u001b[1m331/331\u001b[0m \u001b[32m━━━━━━━━━━━━━━━━━━━━\u001b[0m\u001b[37m\u001b[0m \u001b[1m1s\u001b[0m 3ms/step - acc: 0.9970 - loss: 0.0107 - val_acc: 0.9703 - val_loss: 0.1293\n",
      "Epoch 26/30\n",
      "\u001b[1m331/331\u001b[0m \u001b[32m━━━━━━━━━━━━━━━━━━━━\u001b[0m\u001b[37m\u001b[0m \u001b[1m1s\u001b[0m 3ms/step - acc: 0.9988 - loss: 0.0066 - val_acc: 0.9686 - val_loss: 0.1422\n",
      "Epoch 27/30\n",
      "\u001b[1m331/331\u001b[0m \u001b[32m━━━━━━━━━━━━━━━━━━━━\u001b[0m\u001b[37m\u001b[0m \u001b[1m1s\u001b[0m 3ms/step - acc: 0.9978 - loss: 0.0081 - val_acc: 0.9686 - val_loss: 0.1506\n",
      "Epoch 28/30\n",
      "\u001b[1m331/331\u001b[0m \u001b[32m━━━━━━━━━━━━━━━━━━━━\u001b[0m\u001b[37m\u001b[0m \u001b[1m1s\u001b[0m 3ms/step - acc: 0.9982 - loss: 0.0071 - val_acc: 0.9708 - val_loss: 0.1438\n",
      "Epoch 29/30\n",
      "\u001b[1m331/331\u001b[0m \u001b[32m━━━━━━━━━━━━━━━━━━━━\u001b[0m\u001b[37m\u001b[0m \u001b[1m1s\u001b[0m 3ms/step - acc: 0.9995 - loss: 0.0038 - val_acc: 0.9703 - val_loss: 0.1515\n",
      "Epoch 30/30\n",
      "\u001b[1m331/331\u001b[0m \u001b[32m━━━━━━━━━━━━━━━━━━━━\u001b[0m\u001b[37m\u001b[0m \u001b[1m1s\u001b[0m 3ms/step - acc: 0.9987 - loss: 0.0053 - val_acc: 0.9704 - val_loss: 0.1527\n"
     ]
    }
   ],
   "source": [
    "#validation_data : 검증데이터 설정\n",
    "#          학습시 검증데이터로 중간 평가. \n",
    "#          중간데이터의 결과 : val_loss, val_acc\n",
    "history=model.fit(x_train,y_train,epochs=30,batch_size=127,\n",
    "                  validation_data=(x_val,y_val)) \n"
   ]
  },
  {
   "cell_type": "code",
   "execution_count": 55,
   "metadata": {},
   "outputs": [
    {
     "data": {
      "text/plain": [
       "{'acc': [0.8479523658752441,\n",
       "  0.9382143020629883,\n",
       "  0.9554047584533691,\n",
       "  0.9635952115058899,\n",
       "  0.9698809385299683,\n",
       "  0.9732381105422974,\n",
       "  0.9770714044570923,\n",
       "  0.9808333516120911,\n",
       "  0.9825237989425659,\n",
       "  0.9846904873847961,\n",
       "  0.9864524006843567,\n",
       "  0.9879999756813049,\n",
       "  0.9893571138381958,\n",
       "  0.9907380938529968,\n",
       "  0.991357147693634,\n",
       "  0.9933571219444275,\n",
       "  0.9938333630561829,\n",
       "  0.9941190481185913,\n",
       "  0.994952380657196,\n",
       "  0.9961190223693848,\n",
       "  0.9963095188140869,\n",
       "  0.9970476031303406,\n",
       "  0.99657142162323,\n",
       "  0.9966428279876709,\n",
       "  0.9972618818283081,\n",
       "  0.9983809590339661,\n",
       "  0.9973095059394836,\n",
       "  0.9981666803359985,\n",
       "  0.9993095397949219,\n",
       "  0.9988095164299011],\n",
       " 'loss': [0.5196716785430908,\n",
       "  0.21272091567516327,\n",
       "  0.15508601069450378,\n",
       "  0.12539082765579224,\n",
       "  0.10381666570901871,\n",
       "  0.09063511341810226,\n",
       "  0.07796407490968704,\n",
       "  0.06681406497955322,\n",
       "  0.06002325192093849,\n",
       "  0.05192416533827782,\n",
       "  0.04711725562810898,\n",
       "  0.04074695333838463,\n",
       "  0.036186981946229935,\n",
       "  0.032530777156353,\n",
       "  0.028980225324630737,\n",
       "  0.024483337998390198,\n",
       "  0.022192275151610374,\n",
       "  0.020694945007562637,\n",
       "  0.017851024866104126,\n",
       "  0.014819832518696785,\n",
       "  0.015185749158263206,\n",
       "  0.011577636934816837,\n",
       "  0.012245051562786102,\n",
       "  0.012000758200883865,\n",
       "  0.010256967507302761,\n",
       "  0.007922072894871235,\n",
       "  0.008920500054955482,\n",
       "  0.006817161105573177,\n",
       "  0.004179632291197777,\n",
       "  0.005165296606719494],\n",
       " 'val_acc': [0.9277222156524658,\n",
       "  0.945888876914978,\n",
       "  0.9563888907432556,\n",
       "  0.9598888754844666,\n",
       "  0.9603333473205566,\n",
       "  0.9652222394943237,\n",
       "  0.965666651725769,\n",
       "  0.9661666750907898,\n",
       "  0.9683333039283752,\n",
       "  0.9677222371101379,\n",
       "  0.968666672706604,\n",
       "  0.9703888893127441,\n",
       "  0.9688888788223267,\n",
       "  0.9681110978126526,\n",
       "  0.9689444303512573,\n",
       "  0.9702222347259521,\n",
       "  0.9692777991294861,\n",
       "  0.9687777757644653,\n",
       "  0.9712222218513489,\n",
       "  0.968833327293396,\n",
       "  0.9658889174461365,\n",
       "  0.9706110954284668,\n",
       "  0.9700555801391602,\n",
       "  0.9679444432258606,\n",
       "  0.9703333377838135,\n",
       "  0.9686111211776733,\n",
       "  0.9686111211776733,\n",
       "  0.9707777500152588,\n",
       "  0.9703333377838135,\n",
       "  0.9704444408416748],\n",
       " 'val_loss': [0.2521567642688751,\n",
       "  0.18886138498783112,\n",
       "  0.15320836007595062,\n",
       "  0.14284077286720276,\n",
       "  0.1363583505153656,\n",
       "  0.11886429786682129,\n",
       "  0.11519121378660202,\n",
       "  0.11147423088550568,\n",
       "  0.10819347947835922,\n",
       "  0.10982083529233932,\n",
       "  0.10728555172681808,\n",
       "  0.10647402703762054,\n",
       "  0.11070987582206726,\n",
       "  0.11523711681365967,\n",
       "  0.10982456803321838,\n",
       "  0.11421804130077362,\n",
       "  0.1217048168182373,\n",
       "  0.12154369056224823,\n",
       "  0.11758626252412796,\n",
       "  0.12539494037628174,\n",
       "  0.14279386401176453,\n",
       "  0.12250008434057236,\n",
       "  0.12800323963165283,\n",
       "  0.1440494805574417,\n",
       "  0.12933757901191711,\n",
       "  0.1422005593776703,\n",
       "  0.15062157809734344,\n",
       "  0.14383269846439362,\n",
       "  0.15154427289962769,\n",
       "  0.1527250111103058]}"
      ]
     },
     "execution_count": 55,
     "metadata": {},
     "output_type": "execute_result"
    }
   ],
   "source": [
    "history.history #학습 과정의 데이터 저장"
   ]
  },
  {
   "cell_type": "code",
   "execution_count": 56,
   "metadata": {},
   "outputs": [
    {
     "data": {
      "text/plain": [
       "[0.5196716785430908,\n",
       " 0.21272091567516327,\n",
       " 0.15508601069450378,\n",
       " 0.12539082765579224,\n",
       " 0.10381666570901871,\n",
       " 0.09063511341810226,\n",
       " 0.07796407490968704,\n",
       " 0.06681406497955322,\n",
       " 0.06002325192093849,\n",
       " 0.05192416533827782,\n",
       " 0.04711725562810898,\n",
       " 0.04074695333838463,\n",
       " 0.036186981946229935,\n",
       " 0.032530777156353,\n",
       " 0.028980225324630737,\n",
       " 0.024483337998390198,\n",
       " 0.022192275151610374,\n",
       " 0.020694945007562637,\n",
       " 0.017851024866104126,\n",
       " 0.014819832518696785,\n",
       " 0.015185749158263206,\n",
       " 0.011577636934816837,\n",
       " 0.012245051562786102,\n",
       " 0.012000758200883865,\n",
       " 0.010256967507302761,\n",
       " 0.007922072894871235,\n",
       " 0.008920500054955482,\n",
       " 0.006817161105573177,\n",
       " 0.004179632291197777,\n",
       " 0.005165296606719494]"
      ]
     },
     "execution_count": 56,
     "metadata": {},
     "output_type": "execute_result"
    }
   ],
   "source": [
    "history.history[\"loss\"]"
   ]
  },
  {
   "cell_type": "code",
   "execution_count": 27,
   "metadata": {},
   "outputs": [
    {
     "data": {
      "text/plain": [
       "<matplotlib.legend.Legend at 0x1e9baca4620>"
      ]
     },
     "execution_count": 27,
     "metadata": {},
     "output_type": "execute_result"
    },
    {
     "data": {
      "image/png": "[encoded data removed]",
      "text/plain": [
       "<Figure size 1000x500 with 2 Axes>"
      ]
     },
     "metadata": {},
     "output_type": "display_data"
    }
   ],
   "source": [
    "import matplotlib.pyplot as plt\n",
    "his_dict = history.history\n",
    "loss = his_dict['loss'] #학습데이터의 손실함수값\n",
    "val_loss = his_dict['val_loss'] #검증데이터의 손실함수값\n",
    "epochs = range(1, len(loss) + 1)\n",
    "fig = plt.figure(figsize = (10, 5))\n",
    "ax1 = fig.add_subplot(1, 2, 1) #1행2열 1번째 그래프\n",
    "ax1.plot(epochs, loss, color = 'blue', label = 'train_loss')\n",
    "ax1.plot(epochs, val_loss, color = 'orange', label = 'val_loss')\n",
    "ax1.set_title('train and val loss')\n",
    "ax1.set_xlabel('epochs')\n",
    "ax1.set_ylabel('loss')\n",
    "ax1.legend() \n",
    "\n",
    "#정확도 그래프\n",
    "acc = his_dict['acc']\n",
    "val_acc = his_dict['val_acc']\n",
    "ax2 = fig.add_subplot(1, 2, 2)  #1행2열 2번째 그래프\n",
    "ax2.plot(epochs, acc, color = 'blue', label = 'train_acc')\n",
    "ax2.plot(epochs, val_acc, color = 'orange', label = 'val_acc')\n",
    "ax2.set_title('train and val acc')\n",
    "ax2.set_xlabel('epochs')\n",
    "ax2.set_ylabel('acc')\n",
    "ax2.legend() \n"
   ]
  },
  {
   "cell_type": "code",
   "execution_count": 58,
   "metadata": {},
   "outputs": [
    {
     "name": "stdout",
     "output_type": "stream",
     "text": [
      "\u001b[1m313/313\u001b[0m \u001b[32m━━━━━━━━━━━━━━━━━━━━\u001b[0m\u001b[37m\u001b[0m \u001b[1m0s\u001b[0m 1ms/step\n"
     ]
    },
    {
     "data": {
      "text/plain": [
       "array([4.7325130e-12, 5.6981492e-14, 5.6724684e-11, 1.3131623e-07,\n",
       "       1.6500093e-17, 4.4700829e-13, 2.8049349e-21, 9.9999988e-01,\n",
       "       1.3253130e-11, 1.1538522e-08], dtype=float32)"
      ]
     },
     "execution_count": 58,
     "metadata": {},
     "output_type": "execute_result"
    }
   ],
   "source": [
    "#예측하기\n",
    "results = model.predict(x_test)\n",
    "results[0]"
   ]
  },
  {
   "cell_type": "code",
   "execution_count": 60,
   "metadata": {},
   "outputs": [
    {
     "data": {
      "image/png": "[encoded data removed]",
      "text/plain": [
       "<Figure size 600x600 with 16 Axes>"
      ]
     },
     "metadata": {},
     "output_type": "display_data"
    }
   ],
   "source": [
    "arg_results = np.argmax(results,axis=1)\n",
    "plt.figure(figsize=(6,6))\n",
    "for idx in range(16) :\n",
    "    plt.subplot(4,4,idx+1)\n",
    "    plt.axis(\"off\")\n",
    "    plt.imshow(x_test[idx].reshape(28,28))\n",
    "    plt.title(\"Pred:%d,lab:%d\" % \\\n",
    "              (arg_results[idx],np.argmax(y_test[idx],axis=-1)),fontsize=15)\n",
    "    plt.tight_layout()"
   ]
  }
 ],
 "metadata": {
  "kernelspec": {
   "display_name": "base",
   "language": "python",
   "name": "python3"
  },
  "language_info": {
   "codemirror_mode": {
    "name": "ipython",
    "version": 3
   },
   "file_extension": ".py",
   "mimetype": "text/x-python",
   "name": "python",
   "nbconvert_exporter": "python",
   "pygments_lexer": "ipython3",
   "version": "3.12.4"
  }
 },
 "nbformat": 4,
 "nbformat_minor": 2
}

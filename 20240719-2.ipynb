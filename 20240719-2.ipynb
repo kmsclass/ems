{
 "cells": [
  {
   "cell_type": "code",
   "execution_count": 1,
   "metadata": {},
   "outputs": [],
   "source": [
    "import pandas as pd\n",
    "df_train = pd.read_csv(\"data/titanic_train.csv\")\n",
    "df_test = pd.read_csv(\"data/titanic_test.csv\")"
   ]
  },
  {
   "cell_type": "code",
   "execution_count": null,
   "metadata": {},
   "outputs": [],
   "source": [
    "df_train.info()  #916"
   ]
  },
  {
   "cell_type": "code",
   "execution_count": 3,
   "metadata": {},
   "outputs": [
    {
     "name": "stdout",
     "output_type": "stream",
     "text": [
      "<class 'pandas.core.frame.DataFrame'>\n",
      "RangeIndex: 393 entries, 0 to 392\n",
      "Data columns (total 13 columns):\n",
      " #   Column     Non-Null Count  Dtype  \n",
      "---  ------     --------------  -----  \n",
      " 0   pclass     393 non-null    int64  \n",
      " 1   survived   393 non-null    int64  \n",
      " 2   name       393 non-null    object \n",
      " 3   sex        393 non-null    object \n",
      " 4   age        305 non-null    float64\n",
      " 5   sibsp      393 non-null    int64  \n",
      " 6   parch      393 non-null    int64  \n",
      " 7   ticket     393 non-null    object \n",
      " 8   fare       393 non-null    float64\n",
      " 9   cabin      81 non-null     object \n",
      " 10  embarked   393 non-null    object \n",
      " 11  body       36 non-null     float64\n",
      " 12  home.dest  218 non-null    object \n",
      "dtypes: float64(3), int64(4), object(6)\n",
      "memory usage: 40.0+ KB\n"
     ]
    }
   ],
   "source": [
    "df_test.info() #393"
   ]
  },
  {
   "cell_type": "code",
   "execution_count": null,
   "metadata": {},
   "outputs": [],
   "source": [
    "#df_train 데이터에서 생존여부를 그래프로 출력하기\n",
    "df_train[\"survived\"].value_counts().plot.bar()\n",
    "df_train[\"survived\"].value_counts()"
   ]
  },
  {
   "cell_type": "code",
   "execution_count": null,
   "metadata": {},
   "outputs": [],
   "source": [
    "df_train[\"survived\"].value_counts().plot(kind=\"bar\")"
   ]
  },
  {
   "cell_type": "code",
   "execution_count": 8,
   "metadata": {},
   "outputs": [
    {
     "data": {
      "text/plain": [
       "pclass  survived\n",
       "1       1           142\n",
       "        0            88\n",
       "2       0           106\n",
       "        1            82\n",
       "3       0           369\n",
       "        1           129\n",
       "Name: count, dtype: int64"
      ]
     },
     "execution_count": 8,
     "metadata": {},
     "output_type": "execute_result"
    }
   ],
   "source": [
    "#좌석등급(pclass)별 생존여부(survived) 조회하기\n",
    "df_train[[\"pclass\",\"survived\"]].value_counts()\n",
    "df_train.groupby(\"pclass\")[\"survived\"].value_counts()"
   ]
  },
  {
   "cell_type": "code",
   "execution_count": null,
   "metadata": {},
   "outputs": [],
   "source": [
    "#좌석등급(pclass)별 생존여부(survived) 정렬하여 조회하기\n",
    "#df_train[[\"pclass\",\"survived\"]].value_counts().sort_index()\n",
    "df_train.groupby(\"pclass\")[\"survived\"].value_counts().sort_index()"
   ]
  },
  {
   "cell_type": "code",
   "execution_count": null,
   "metadata": {},
   "outputs": [],
   "source": [
    "df_train.groupby(\"pclass\")[\"survived\"].value_counts().sort_index().\\\n",
    "    plot(kind=\"bar\")"
   ]
  },
  {
   "cell_type": "code",
   "execution_count": null,
   "metadata": {},
   "outputs": [],
   "source": [
    "import seaborn as sns\n",
    "#countplot : pclass의 값의 빈도값을 y축의 값으로 설정\n",
    "#sns.countplot(x=\"pclass\",data=df_train)\n",
    "#hue=\"survived\" : survived 컬럼으로 분리한 건수 y축의값으로 설정\n",
    "sns.countplot(x=\"pclass\",hue=\"survived\",data=df_train)"
   ]
  },
  {
   "cell_type": "code",
   "execution_count": null,
   "metadata": {},
   "outputs": [],
   "source": [
    "df_train.info()"
   ]
  },
  {
   "cell_type": "code",
   "execution_count": 16,
   "metadata": {},
   "outputs": [],
   "source": [
    "#1. age 결측값을 df_train 평균값으로 df_train,df_test 변경하기\n",
    "age_mean = df_train[\"age\"].mean()\n",
    "df_train[\"age\"] = df_train[\"age\"].fillna(age_mean)\n",
    "df_test[\"age\"] = df_test[\"age\"].fillna(age_mean)"
   ]
  },
  {
   "cell_type": "code",
   "execution_count": null,
   "metadata": {},
   "outputs": [],
   "source": [
    "df_train.info()\n",
    "#df_test.info()"
   ]
  },
  {
   "cell_type": "code",
   "execution_count": 20,
   "metadata": {},
   "outputs": [],
   "source": [
    "#2. embarked 컬럼의 결측값을 최빈값을 변경하기\n",
    "embarked_freq = df_train[\"embarked\"].value_counts().idxmax()\n",
    "df_train[\"embarked\"] = df_train[\"embarked\"].fillna(embarked_freq)\n",
    "df_test[\"embarked\"] = df_test[\"embarked\"].fillna(embarked_freq)"
   ]
  },
  {
   "cell_type": "markdown",
   "metadata": {},
   "source": [
    "    titanic 속성\n",
    "pclass : Passenger Class, 승객 등급\n",
    "survived : 생존 여부\n",
    "name : 승객 이름\n",
    "sex : 승객 성별\n",
    "age : 승객 나이\n",
    "sibsp : 탑승 한 형제/배우자 수\n",
    "parch : 탑승 한 부모/자녀 수\n",
    "ticket : 티켓 번호\n",
    "fare : 승객 지불 요금\n",
    "cabin : 선실 이름\n",
    "embarked : 승선항 (C = 쉘 부르그, Q = 퀸즈타운, S = 사우스 햄튼)\n",
    "body : 사망자 확인 번호\n",
    "home.dest : 고향/목적지"
   ]
  },
  {
   "cell_type": "code",
   "execution_count": 23,
   "metadata": {},
   "outputs": [],
   "source": [
    "#name,ticket,cabin,body,home.dest 컬럼 제거하기\n",
    "df_train = df_train.drop([\"name\",\"ticket\",\"cabin\",\"body\",\"home.dest\"],axis=1)\n",
    "df_test = df_test.drop([\"name\",\"ticket\",\"cabin\",\"body\",\"home.dest\"],axis=1)"
   ]
  },
  {
   "cell_type": "code",
   "execution_count": null,
   "metadata": {},
   "outputs": [],
   "source": [
    "#df_train,df_test 데이터를 통합하기\n",
    "#whole_df = df_train.append(df_test) #\n",
    "whole_df = pd.concat((df_train,df_test),sort=False)\n",
    "whole_df.info()\n",
    "train_num = len(df_train)\n",
    "train_num  #훈련데이터건수. "
   ]
  },
  {
   "cell_type": "code",
   "execution_count": null,
   "metadata": {},
   "outputs": [],
   "source": [
    "#원핫인코딩\n",
    "whole_df_encoded = pd.get_dummies(whole_df,dtype=\"int\")\n",
    "whole_df_encoded.info()"
   ]
  },
  {
   "cell_type": "code",
   "execution_count": 35,
   "metadata": {},
   "outputs": [],
   "source": [
    "#훈련데이터의 설명변수\n",
    "x_train = df_train.loc[:,df_train.columns!=\"survived\"].values\n",
    "#훈련데이터의 목표변수\n",
    "y_train = df_train[\"survived\"].values"
   ]
  },
  {
   "cell_type": "code",
   "execution_count": 38,
   "metadata": {},
   "outputs": [],
   "source": [
    "#테스트데이터의 설명변수\n",
    "x_test = df_test.loc[:,df_test.columns!=\"survived\"].values\n",
    "#테스트데이터의 목표변수\n",
    "y_test = df_test[\"survived\"].values"
   ]
  },
  {
   "cell_type": "code",
   "execution_count": null,
   "metadata": {},
   "outputs": [],
   "source": [
    "#로지스틱회귀분석을 이용하여 분류하기\n",
    "#로지스틱회귀분석 은 0~1사이의 값만 리턴\n",
    "from sklearn.linear_model import LogisticRegression\n",
    "lr = LogisticRegression(random_state=0)\n",
    "lr.fit(x_train,y_train) #학습하기"
   ]
  },
  {
   "cell_type": "code",
   "execution_count": 40,
   "metadata": {},
   "outputs": [],
   "source": [
    "y_pred = lr.predict(x_test)"
   ]
  },
  {
   "cell_type": "code",
   "execution_count": null,
   "metadata": {},
   "outputs": [],
   "source": [
    "y_pred[:10]"
   ]
  },
  {
   "cell_type": "code",
   "execution_count": null,
   "metadata": {},
   "outputs": [],
   "source": [
    "y_test[:10]"
   ]
  },
  {
   "cell_type": "code",
   "execution_count": 43,
   "metadata": {},
   "outputs": [
    {
     "data": {
      "text/plain": [
       "array([[214,  32],\n",
       "       [ 48,  99]], dtype=int64)"
      ]
     },
     "execution_count": 43,
     "metadata": {},
     "output_type": "execute_result"
    }
   ],
   "source": [
    "#모델 평가하기\n",
    "from sklearn.metrics import confusion_matrix\n",
    "con_mat = confusion_matrix(y_test,y_pred)\n",
    "con_mat\n"
   ]
  },
  {
   "cell_type": "code",
   "execution_count": 44,
   "metadata": {},
   "outputs": [
    {
     "name": "stdout",
     "output_type": "stream",
     "text": [
      "정확도: 0.7964376590330788\n",
      "정밀도: 0.7557251908396947\n",
      "재현율: 0.673469387755102\n",
      "f1-score: 0.7122302158273381\n"
     ]
    }
   ],
   "source": [
    "#2. 정확도, 정밀도,재현율,f1score 출력\n",
    "from sklearn.metrics import accuracy_score,\\\n",
    "    recall_score,precision_score,f1_score\n",
    "print(\"정확도:\",accuracy_score(y_test,y_pred))\n",
    "print(\"정밀도:\",precision_score(y_test,y_pred))\n",
    "print(\"재현율:\",recall_score(y_test,y_pred))\n",
    "print(\"f1-score:\",f1_score(y_test,y_pred))\n"
   ]
  },
  {
   "cell_type": "code",
   "execution_count": 45,
   "metadata": {},
   "outputs": [],
   "source": [
    "#선실(cabin),이름(name) 컬럼을 추가하여 예측하기\n",
    "df_train = pd.read_csv(\"data/titanic_train.csv\")\n",
    "df_test = pd.read_csv(\"data/titanic_test.csv\")\n"
   ]
  },
  {
   "cell_type": "code",
   "execution_count": 46,
   "metadata": {},
   "outputs": [],
   "source": [
    "# 1. age 컬럼의 결측값을 \n",
    "# df_train데이터의 평균값으로 변경하기 (df_train,df_test)\n",
    "age_mean = df_train[\"age\"].mean()\n",
    "df_train[\"age\"]=df_train[\"age\"].fillna(age_mean)\n",
    "df_test[\"age\"]=df_test[\"age\"].fillna(age_mean)"
   ]
  },
  {
   "cell_type": "code",
   "execution_count": 47,
   "metadata": {},
   "outputs": [],
   "source": [
    "#2. embarked 컬럼의 결측값을 최빈값으로 변경\n",
    "embarked_freq = df_train[\"embarked\"].value_counts().idxmax()\n",
    "df_train[\"embarked\"]=df_train[\"embarked\"].fillna(embarked_freq)\n",
    "df_test[\"embarked\"]=df_test[\"embarked\"].fillna(embarked_freq)"
   ]
  },
  {
   "cell_type": "code",
   "execution_count": null,
   "metadata": {},
   "outputs": [],
   "source": [
    "#df_train,df_test 데이터 합치기\n",
    "whole_df = pd.concat((df_train,df_test),sort=False)\n",
    "whole_df.info()"
   ]
  },
  {
   "cell_type": "code",
   "execution_count": null,
   "metadata": {},
   "outputs": [],
   "source": [
    "#cabin 컬럼의 값 조회하기\n",
    "whole_df[\"cabin\"].unique()"
   ]
  },
  {
   "cell_type": "code",
   "execution_count": 58,
   "metadata": {},
   "outputs": [
    {
     "data": {
      "text/plain": [
       "cabin\n",
       "X                  1015\n",
       "C23 C25 C27           6\n",
       "B57 B59 B63 B66       5\n",
       "G6                    5\n",
       "C22 C26               4\n",
       "                   ... \n",
       "B102                  1\n",
       "C91                   1\n",
       "D40                   1\n",
       "B3                    1\n",
       "F38                   1\n",
       "Name: count, Length: 186, dtype: int64"
      ]
     },
     "execution_count": 58,
     "metadata": {},
     "output_type": "execute_result"
    }
   ],
   "source": [
    "#결측값을 X로 치환하기\n",
    "whole_df[\"cabin\"] = whole_df[\"cabin\"].fillna(\"X\")\n",
    "whole_df[\"cabin\"].value_counts()\n",
    "#G,T데이터를 X로 치환하기\n",
    "whole_df[\"cabin\"]=whole_df[\"cabin\"].replace({\"G\":\"X\",\"T\":\"X\"})\n",
    "whole_df[\"cabin\"].value_counts()\n"
   ]
  },
  {
   "cell_type": "code",
   "execution_count": 60,
   "metadata": {},
   "outputs": [],
   "source": [
    "grade_dict = {\n",
    " \"A\":[\"Rev\",\"Col\",\"Major\",\"Dr\",\"Capt\",\"Sir\"], #명예직\n",
    " \"B\":[\"Ms\",\"Mme\",\"Mrs\",\"Dona\"],  #여성\n",
    " \"C\":[\"Jonkheer\",\"the Countess\"], #귀족\n",
    " \"D\":[\"Mr\",\"Don\"],               #남성\n",
    " \"E\":[\"Master\"],                 #젊은 남성\n",
    " \"F\":[\"Miss\",\"Mlle\",\"Lady\"]      #젊은 여성\n",
    "  }\n"
   ]
  },
  {
   "cell_type": "code",
   "execution_count": 61,
   "metadata": {},
   "outputs": [],
   "source": [
    "def give_grade(g) :\n",
    "    #k=F, v=[\"Miss\",\"Mlle\",\"Lady\"]\n",
    "    for k,v in grade_dict.items() :\n",
    "        for title in v:\n",
    "            if g == title :\n",
    "                return k\n",
    "    return 'G'\n"
   ]
  },
  {
   "cell_type": "code",
   "execution_count": 62,
   "metadata": {},
   "outputs": [],
   "source": [
    "name_grade = \\\n",
    "    list(name_grade.map(lambda x : give_grade(x))) \n",
    "whole_df[\"name\"]=name_grade\n",
    "           \n"
   ]
  },
  {
   "cell_type": "code",
   "execution_count": 63,
   "metadata": {},
   "outputs": [],
   "source": [
    "whole_df_encoded = pd.get_dummies(whole_df)\n"
   ]
  },
  {
   "cell_type": "code",
   "execution_count": 64,
   "metadata": {},
   "outputs": [],
   "source": [
    "df_train=whole_df_encoded[:train_num]\n",
    "df_test=whole_df_encoded[train_num:]\n"
   ]
  },
  {
   "cell_type": "code",
   "execution_count": 65,
   "metadata": {},
   "outputs": [],
   "source": [
    "x_train = \\\n",
    "  df_train.loc[:,df_train.columns !='survived'].values\n",
    "y_train=df_train[\"survived\"].values\n",
    "x_test = \\\n",
    "  df_test.loc[:,df_test.columns !='survived'].values\n",
    "y_test=df_test[\"survived\"].values\n"
   ]
  }
 ],
 "metadata": {
  "kernelspec": {
   "display_name": "base",
   "language": "python",
   "name": "python3"
  },
  "language_info": {
   "codemirror_mode": {
    "name": "ipython",
    "version": 3
   },
   "file_extension": ".py",
   "mimetype": "text/x-python",
   "name": "python",
   "nbconvert_exporter": "python",
   "pygments_lexer": "ipython3",
   "version": "3.12.4"
  }
 },
 "nbformat": 4,
 "nbformat_minor": 2
}

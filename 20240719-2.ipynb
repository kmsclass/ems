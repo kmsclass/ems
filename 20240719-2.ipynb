{
 "cells": [
  {
   "cell_type": "code",
   "execution_count": 1,
   "metadata": {},
   "outputs": [],
   "source": [
    "import pandas as pd\n",
    "df_train = pd.read_csv(\"data/titanic_train.csv\")\n",
    "df_test = pd.read_csv(\"data/titanic_test.csv\")"
   ]
  },
  {
   "cell_type": "code",
   "execution_count": null,
   "metadata": {},
   "outputs": [],
   "source": [
    "df_train.info()  #916"
   ]
  },
  {
   "cell_type": "code",
   "execution_count": 3,
   "metadata": {},
   "outputs": [
    {
     "name": "stdout",
     "output_type": "stream",
     "text": [
      "<class 'pandas.core.frame.DataFrame'>\n",
      "RangeIndex: 393 entries, 0 to 392\n",
      "Data columns (total 13 columns):\n",
      " #   Column     Non-Null Count  Dtype  \n",
      "---  ------     --------------  -----  \n",
      " 0   pclass     393 non-null    int64  \n",
      " 1   survived   393 non-null    int64  \n",
      " 2   name       393 non-null    object \n",
      " 3   sex        393 non-null    object \n",
      " 4   age        305 non-null    float64\n",
      " 5   sibsp      393 non-null    int64  \n",
      " 6   parch      393 non-null    int64  \n",
      " 7   ticket     393 non-null    object \n",
      " 8   fare       393 non-null    float64\n",
      " 9   cabin      81 non-null     object \n",
      " 10  embarked   393 non-null    object \n",
      " 11  body       36 non-null     float64\n",
      " 12  home.dest  218 non-null    object \n",
      "dtypes: float64(3), int64(4), object(6)\n",
      "memory usage: 40.0+ KB\n"
     ]
    }
   ],
   "source": [
    "df_test.info() #393"
   ]
  },
  {
   "cell_type": "code",
   "execution_count": null,
   "metadata": {},
   "outputs": [],
   "source": [
    "#df_train 데이터에서 생존여부를 그래프로 출력하기\n",
    "df_train[\"survived\"].value_counts().plot.bar()\n",
    "df_train[\"survived\"].value_counts()"
   ]
  },
  {
   "cell_type": "code",
   "execution_count": null,
   "metadata": {},
   "outputs": [],
   "source": [
    "df_train[\"survived\"].value_counts().plot(kind=\"bar\")"
   ]
  },
  {
   "cell_type": "code",
   "execution_count": 8,
   "metadata": {},
   "outputs": [
    {
     "data": {
      "text/plain": [
       "pclass  survived\n",
       "1       1           142\n",
       "        0            88\n",
       "2       0           106\n",
       "        1            82\n",
       "3       0           369\n",
       "        1           129\n",
       "Name: count, dtype: int64"
      ]
     },
     "execution_count": 8,
     "metadata": {},
     "output_type": "execute_result"
    }
   ],
   "source": [
    "#좌석등급(pclass)별 생존여부(survived) 조회하기\n",
    "df_train[[\"pclass\",\"survived\"]].value_counts()\n",
    "df_train.groupby(\"pclass\")[\"survived\"].value_counts()"
   ]
  },
  {
   "cell_type": "code",
   "execution_count": null,
   "metadata": {},
   "outputs": [],
   "source": [
    "#좌석등급(pclass)별 생존여부(survived) 정렬하여 조회하기\n",
    "#df_train[[\"pclass\",\"survived\"]].value_counts().sort_index()\n",
    "df_train.groupby(\"pclass\")[\"survived\"].value_counts().sort_index()"
   ]
  },
  {
   "cell_type": "code",
   "execution_count": null,
   "metadata": {},
   "outputs": [],
   "source": [
    "df_train.groupby(\"pclass\")[\"survived\"].value_counts().sort_index().\\\n",
    "    plot(kind=\"bar\")"
   ]
  },
  {
   "cell_type": "code",
   "execution_count": null,
   "metadata": {},
   "outputs": [],
   "source": [
    "import seaborn as sns\n",
    "#countplot : pclass의 값의 빈도값을 y축의 값으로 설정\n",
    "#sns.countplot(x=\"pclass\",data=df_train)\n",
    "#hue=\"survived\" : survived 컬럼으로 분리한 건수 y축의값으로 설정\n",
    "sns.countplot(x=\"pclass\",hue=\"survived\",data=df_train)"
   ]
  },
  {
   "cell_type": "code",
   "execution_count": null,
   "metadata": {},
   "outputs": [],
   "source": [
    "df_train.info()"
   ]
  },
  {
   "cell_type": "code",
   "execution_count": 16,
   "metadata": {},
   "outputs": [],
   "source": [
    "#1. age 결측값을 df_train 평균값으로 df_train,df_test 변경하기\n",
    "age_mean = df_train[\"age\"].mean()\n",
    "df_train[\"age\"] = df_train[\"age\"].fillna(age_mean)\n",
    "df_test[\"age\"] = df_test[\"age\"].fillna(age_mean)"
   ]
  },
  {
   "cell_type": "code",
   "execution_count": null,
   "metadata": {},
   "outputs": [],
   "source": [
    "df_train.info()\n",
    "#df_test.info()"
   ]
  },
  {
   "cell_type": "code",
   "execution_count": 20,
   "metadata": {},
   "outputs": [],
   "source": [
    "#2. embarked 컬럼의 결측값을 최빈값을 변경하기\n",
    "embarked_freq = df_train[\"embarked\"].value_counts().idxmax()\n",
    "df_train[\"embarked\"] = df_train[\"embarked\"].fillna(embarked_freq)\n",
    "df_test[\"embarked\"] = df_test[\"embarked\"].fillna(embarked_freq)"
   ]
  },
  {
   "cell_type": "markdown",
   "metadata": {},
   "source": [
    "    titanic 속성\n",
    "pclass : Passenger Class, 승객 등급\n",
    "survived : 생존 여부\n",
    "name : 승객 이름\n",
    "sex : 승객 성별\n",
    "age : 승객 나이\n",
    "sibsp : 탑승 한 형제/배우자 수\n",
    "parch : 탑승 한 부모/자녀 수\n",
    "ticket : 티켓 번호\n",
    "fare : 승객 지불 요금\n",
    "cabin : 선실 이름\n",
    "embarked : 승선항 (C = 쉘 부르그, Q = 퀸즈타운, S = 사우스 햄튼)\n",
    "body : 사망자 확인 번호\n",
    "home.dest : 고향/목적지"
   ]
  },
  {
   "cell_type": "code",
   "execution_count": 23,
   "metadata": {},
   "outputs": [],
   "source": [
    "#name,ticket,cabin,body,home.dest 컬럼 제거하기\n",
    "df_train = df_train.drop([\"name\",\"ticket\",\"cabin\",\"body\",\"home.dest\"],axis=1)\n",
    "df_test = df_test.drop([\"name\",\"ticket\",\"cabin\",\"body\",\"home.dest\"],axis=1)"
   ]
  },
  {
   "cell_type": "code",
   "execution_count": null,
   "metadata": {},
   "outputs": [],
   "source": [
    "#df_train,df_test 데이터를 통합하기\n",
    "#whole_df = df_train.append(df_test) #\n",
    "whole_df = pd.concat((df_train,df_test),sort=False)\n",
    "whole_df.info()\n",
    "train_num = len(df_train)\n",
    "train_num  #훈련데이터건수. "
   ]
  },
  {
   "cell_type": "code",
   "execution_count": null,
   "metadata": {},
   "outputs": [],
   "source": [
    "#원핫인코딩\n",
    "whole_df_encoded = pd.get_dummies(whole_df,dtype=\"int\")\n",
    "whole_df_encoded.info()"
   ]
  },
  {
   "cell_type": "code",
   "execution_count": 35,
   "metadata": {},
   "outputs": [],
   "source": [
    "#훈련데이터의 설명변수\n",
    "x_train = df_train.loc[:,df_train.columns!=\"survived\"].values\n",
    "#훈련데이터의 목표변수\n",
    "y_train = df_train[\"survived\"].values"
   ]
  },
  {
   "cell_type": "code",
   "execution_count": 38,
   "metadata": {},
   "outputs": [],
   "source": [
    "#테스트데이터의 설명변수\n",
    "x_test = df_test.loc[:,df_test.columns!=\"survived\"].values\n",
    "#테스트데이터의 목표변수\n",
    "y_test = df_test[\"survived\"].values"
   ]
  },
  {
   "cell_type": "code",
   "execution_count": null,
   "metadata": {},
   "outputs": [],
   "source": [
    "#로지스틱회귀분석을 이용하여 분류하기\n",
    "#로지스틱회귀분석 은 0~1사이의 값만 리턴\n",
    "from sklearn.linear_model import LogisticRegression\n",
    "lr = LogisticRegression(random_state=0)\n",
    "lr.fit(x_train,y_train) #학습하기"
   ]
  },
  {
   "cell_type": "code",
   "execution_count": 40,
   "metadata": {},
   "outputs": [],
   "source": [
    "y_pred = lr.predict(x_test)"
   ]
  },
  {
   "cell_type": "code",
   "execution_count": null,
   "metadata": {},
   "outputs": [],
   "source": [
    "y_pred[:10]"
   ]
  },
  {
   "cell_type": "code",
   "execution_count": null,
   "metadata": {},
   "outputs": [],
   "source": [
    "y_test[:10]"
   ]
  },
  {
   "cell_type": "code",
   "execution_count": 43,
   "metadata": {},
   "outputs": [
    {
     "data": {
      "text/plain": [
       "array([[214,  32],\n",
       "       [ 48,  99]], dtype=int64)"
      ]
     },
     "execution_count": 43,
     "metadata": {},
     "output_type": "execute_result"
    }
   ],
   "source": [
    "#모델 평가하기\n",
    "from sklearn.metrics import confusion_matrix\n",
    "con_mat = confusion_matrix(y_test,y_pred)\n",
    "con_mat\n"
   ]
  },
  {
   "cell_type": "code",
   "execution_count": 44,
   "metadata": {},
   "outputs": [
    {
     "name": "stdout",
     "output_type": "stream",
     "text": [
      "정확도: 0.7964376590330788\n",
      "정밀도: 0.7557251908396947\n",
      "재현율: 0.673469387755102\n",
      "f1-score: 0.7122302158273381\n"
     ]
    }
   ],
   "source": [
    "#2. 정확도, 정밀도,재현율,f1score 출력\n",
    "from sklearn.metrics import accuracy_score,\\\n",
    "    recall_score,precision_score,f1_score\n",
    "print(\"정확도:\",accuracy_score(y_test,y_pred))\n",
    "print(\"정밀도:\",precision_score(y_test,y_pred))\n",
    "print(\"재현율:\",recall_score(y_test,y_pred))\n",
    "print(\"f1-score:\",f1_score(y_test,y_pred))\n"
   ]
  },
  {
   "cell_type": "code",
   "execution_count": 68,
   "metadata": {},
   "outputs": [],
   "source": [
    "#선실(cabin),이름(name) 컬럼을 추가하여 예측하기\n",
    "df_train = pd.read_csv(\"data/titanic_train.csv\")\n",
    "df_test = pd.read_csv(\"data/titanic_test.csv\")\n"
   ]
  },
  {
   "cell_type": "code",
   "execution_count": 69,
   "metadata": {},
   "outputs": [],
   "source": [
    "# 1. age 컬럼의 결측값을 \n",
    "# df_train데이터의 평균값으로 변경하기 (df_train,df_test)\n",
    "age_mean = df_train[\"age\"].mean()\n",
    "df_train[\"age\"]=df_train[\"age\"].fillna(age_mean)\n",
    "df_test[\"age\"]=df_test[\"age\"].fillna(age_mean)"
   ]
  },
  {
   "cell_type": "code",
   "execution_count": 70,
   "metadata": {},
   "outputs": [],
   "source": [
    "#2. embarked 컬럼의 결측값을 최빈값으로 변경\n",
    "embarked_freq = df_train[\"embarked\"].value_counts().idxmax()\n",
    "df_train[\"embarked\"]=df_train[\"embarked\"].fillna(embarked_freq)\n",
    "df_test[\"embarked\"]=df_test[\"embarked\"].fillna(embarked_freq)"
   ]
  },
  {
   "cell_type": "code",
   "execution_count": 71,
   "metadata": {},
   "outputs": [
    {
     "name": "stdout",
     "output_type": "stream",
     "text": [
      "<class 'pandas.core.frame.DataFrame'>\n",
      "Index: 1309 entries, 0 to 392\n",
      "Data columns (total 13 columns):\n",
      " #   Column     Non-Null Count  Dtype  \n",
      "---  ------     --------------  -----  \n",
      " 0   pclass     1309 non-null   int64  \n",
      " 1   survived   1309 non-null   int64  \n",
      " 2   name       1309 non-null   object \n",
      " 3   sex        1309 non-null   object \n",
      " 4   age        1309 non-null   float64\n",
      " 5   sibsp      1309 non-null   int64  \n",
      " 6   parch      1309 non-null   int64  \n",
      " 7   ticket     1309 non-null   object \n",
      " 8   fare       1309 non-null   float64\n",
      " 9   cabin      295 non-null    object \n",
      " 10  embarked   1309 non-null   object \n",
      " 11  body       121 non-null    float64\n",
      " 12  home.dest  745 non-null    object \n",
      "dtypes: float64(3), int64(4), object(6)\n",
      "memory usage: 143.2+ KB\n"
     ]
    }
   ],
   "source": [
    "#df_train,df_test 데이터 합치기\n",
    "whole_df = pd.concat((df_train,df_test),sort=False)\n",
    "whole_df.info()"
   ]
  },
  {
   "cell_type": "code",
   "execution_count": 72,
   "metadata": {},
   "outputs": [
    {
     "data": {
      "text/plain": [
       "array([nan, 'E36', 'C68', 'E24', 'C22 C26', 'D38', 'B50', 'A24', 'C111',\n",
       "       'F', 'C6', 'C87', 'E8', 'B45', 'C93', 'D28', 'D36', 'C125', 'B35',\n",
       "       'T', 'B73', 'B57 B59 B63 B66', 'A26', 'A18', 'B96 B98', 'G6',\n",
       "       'C78', 'C101', 'D9', 'D33', 'C128', 'E50', 'B26', 'B69', 'E121',\n",
       "       'C123', 'B94', 'A34', 'D', 'C39', 'D43', 'E31', 'B5', 'D17', 'F33',\n",
       "       'E44', 'D7', 'A21', 'D34', 'A29', 'D35', 'A11', 'B51 B53 B55',\n",
       "       'D46', 'E60', 'C30', 'D26', 'E68', 'A9', 'B71', 'D37', 'F2',\n",
       "       'C55 C57', 'C89', 'C124', 'C23 C25 C27', 'C126', 'E49', 'F E46',\n",
       "       'E46', 'D19', 'B58 B60', 'C82', 'B52 B54 B56', 'C92', 'E45',\n",
       "       'F G73', 'C65', 'E25', 'B3', 'D40', 'C91', 'B102', 'B61', 'F G63',\n",
       "       'A20', 'B36', 'C7', 'B77', 'D20', 'C148', 'C105', 'E38', 'B86',\n",
       "       'C132', 'C86', 'A14', 'C54', 'A5', 'B49', 'B28', 'B24', 'C2', 'F4',\n",
       "       'A6', 'C83', 'B42', 'A36', 'C52', 'D56', 'C116', 'B19', 'E77',\n",
       "       'F E57', 'E101', 'B18', 'C95', 'D15', 'E33', 'B30', 'D21', 'E10',\n",
       "       'C130', 'D6', 'C51', 'D30', 'E67', 'C110', 'C103', 'C90', 'C118',\n",
       "       'C97', 'D47', 'E34', 'B4', 'D50', 'C62 C64', 'E17', 'B41', 'C49',\n",
       "       'C85', 'B20', 'C28', 'E63', 'C99', 'D49', 'A10', 'A16', 'B37',\n",
       "       'C80', 'B78', 'E12', 'C104', 'A31', 'D11', 'D48', 'D10 D12', 'B38',\n",
       "       'D45', 'C50', 'C31', 'B82 B84', 'A32', 'C53', 'B10', 'C70', 'A23',\n",
       "       'C106', 'C46', 'E58', 'B11', 'F E69', 'B80', 'E39 E41', 'D22',\n",
       "       'E40', 'A19', 'C32', 'B79', 'C45', 'B22', 'B39', 'C47', 'B101',\n",
       "       'A7', 'E52', 'F38'], dtype=object)"
      ]
     },
     "execution_count": 72,
     "metadata": {},
     "output_type": "execute_result"
    }
   ],
   "source": [
    "#cabin 컬럼의 값 조회하기\n",
    "whole_df[\"cabin\"].unique()"
   ]
  },
  {
   "cell_type": "code",
   "execution_count": 75,
   "metadata": {},
   "outputs": [
    {
     "data": {
      "text/plain": [
       "cabin\n",
       "X    1020\n",
       "C      94\n",
       "B      65\n",
       "D      46\n",
       "E      41\n",
       "A      22\n",
       "F      21\n",
       "Name: count, dtype: int64"
      ]
     },
     "execution_count": 75,
     "metadata": {},
     "output_type": "execute_result"
    }
   ],
   "source": [
    "\n",
    "whole_df[\"cabin\"]=whole_df[\"cabin\"].str[0] #E56 => E\n",
    "whole_df[\"cabin\"].value_counts()"
   ]
  },
  {
   "cell_type": "code",
   "execution_count": 76,
   "metadata": {},
   "outputs": [
    {
     "data": {
      "text/plain": [
       "cabin\n",
       "X    1020\n",
       "C      94\n",
       "B      65\n",
       "D      46\n",
       "E      41\n",
       "A      22\n",
       "F      21\n",
       "Name: count, dtype: int64"
      ]
     },
     "execution_count": 76,
     "metadata": {},
     "output_type": "execute_result"
    }
   ],
   "source": [
    "#결측값을 X로 치환하기\n",
    "whole_df[\"cabin\"] = whole_df[\"cabin\"].fillna(\"X\")\n",
    "whole_df[\"cabin\"].value_counts()\n",
    "#G,T데이터를 X로 치환하기\n",
    "whole_df[\"cabin\"]=whole_df[\"cabin\"].replace({\"G\":\"X\",\"T\":\"X\"})\n",
    "whole_df[\"cabin\"].value_counts()"
   ]
  },
  {
   "cell_type": "code",
   "execution_count": 77,
   "metadata": {},
   "outputs": [
    {
     "data": {
      "text/plain": [
       "array(['Mellinger, Miss. Madeleine Violet', 'Wells, Miss. Joan',\n",
       "       'Duran y More, Miss. Florentina', ..., \"O'Keefe, Mr. Patrick\",\n",
       "       'Tobin, Mr. Roger', 'Daniels, Miss. Sarah'], dtype=object)"
      ]
     },
     "execution_count": 77,
     "metadata": {},
     "output_type": "execute_result"
    }
   ],
   "source": [
    "whole_df[\"name\"].unique()"
   ]
  },
  {
   "cell_type": "code",
   "execution_count": 78,
   "metadata": {},
   "outputs": [],
   "source": [
    "grade_dict = {\n",
    " \"A\":[\"Rev\",\"Col\",\"Major\",\"Dr\",\"Capt\",\"Sir\"], #명예직\n",
    " \"B\":[\"Ms\",\"Mme\",\"Mrs\",\"Dona\"],  #여성\n",
    " \"C\":[\"Jonkheer\",\"the Countess\"], #귀족\n",
    " \"D\":[\"Mr\",\"Don\"],               #남성\n",
    " \"E\":[\"Master\"],                 #젊은 남성\n",
    " \"F\":[\"Miss\",\"Mlle\",\"Lady\"]      #젊은 여성\n",
    "  }\n"
   ]
  },
  {
   "cell_type": "code",
   "execution_count": 61,
   "metadata": {},
   "outputs": [],
   "source": [
    "def give_grade(g) :\n",
    "    #k=F, v=[\"Miss\",\"Mlle\",\"Lady\"]\n",
    "    for k,v in grade_dict.items() :\n",
    "        for title in v:\n",
    "            if g == title :\n",
    "                return k\n",
    "    return 'G' #그외 분류\n"
   ]
  },
  {
   "cell_type": "code",
   "execution_count": 79,
   "metadata": {},
   "outputs": [],
   "source": [
    "name_grade=whole_df[\"name\"].apply\\\n",
    "    (lambda x:x.split(\", \")[1].split(\".\")[0])\n",
    "name_grade = list(name_grade.map(lambda x : give_grade(x))) \n",
    "whole_df[\"name\"]=name_grade     \n"
   ]
  },
  {
   "cell_type": "code",
   "execution_count": 80,
   "metadata": {},
   "outputs": [],
   "source": [
    "#ticket,body,home.dest 컬럼 삭제\n",
    "whole_df = whole_df.drop([\"ticket\",\"body\",\"home.dest\"],axis=1)"
   ]
  },
  {
   "cell_type": "code",
   "execution_count": 82,
   "metadata": {},
   "outputs": [],
   "source": [
    "whole_df_encoded = pd.get_dummies(whole_df)"
   ]
  },
  {
   "cell_type": "code",
   "execution_count": 83,
   "metadata": {},
   "outputs": [],
   "source": [
    "df_train=whole_df_encoded[:train_num]\n",
    "df_test=whole_df_encoded[train_num:]"
   ]
  },
  {
   "cell_type": "code",
   "execution_count": 84,
   "metadata": {},
   "outputs": [],
   "source": [
    "x_train = df_train.loc[:,df_train.columns !='survived'].values\n",
    "y_train=df_train[\"survived\"].values\n",
    "x_test = df_test.loc[:,df_test.columns !='survived'].values\n",
    "y_test=df_test[\"survived\"].values\n"
   ]
  },
  {
   "cell_type": "code",
   "execution_count": 85,
   "metadata": {},
   "outputs": [
    {
     "name": "stderr",
     "output_type": "stream",
     "text": [
      "c:\\Users\\123rl\\miniconda3\\Lib\\site-packages\\sklearn\\linear_model\\_logistic.py:469: ConvergenceWarning: lbfgs failed to converge (status=1):\n",
      "STOP: TOTAL NO. of ITERATIONS REACHED LIMIT.\n",
      "\n",
      "Increase the number of iterations (max_iter) or scale the data as shown in:\n",
      "    https://scikit-learn.org/stable/modules/preprocessing.html\n",
      "Please also refer to the documentation for alternative solver options:\n",
      "    https://scikit-learn.org/stable/modules/linear_model.html#logistic-regression\n",
      "  n_iter_i = _check_optimize_result(\n"
     ]
    }
   ],
   "source": [
    "lr = LogisticRegression(random_state=0)\n",
    "lr.fit(x_train,y_train)\n",
    "y_pred = lr.predict(x_test)"
   ]
  },
  {
   "cell_type": "code",
   "execution_count": 86,
   "metadata": {},
   "outputs": [
    {
     "data": {
      "text/plain": [
       "array([[209,  37],\n",
       "       [ 44, 103]], dtype=int64)"
      ]
     },
     "execution_count": 86,
     "metadata": {},
     "output_type": "execute_result"
    }
   ],
   "source": [
    "con_mat = confusion_matrix(y_test,y_pred)\n",
    "con_mat"
   ]
  },
  {
   "cell_type": "code",
   "execution_count": 87,
   "metadata": {},
   "outputs": [
    {
     "name": "stdout",
     "output_type": "stream",
     "text": [
      "정확도: 0.7938931297709924\n",
      "정밀도: 0.7357142857142858\n",
      "재현율: 0.7006802721088435\n",
      "f1-score: 0.7177700348432056\n"
     ]
    }
   ],
   "source": [
    "print(\"정확도:\",accuracy_score(y_test,y_pred))\n",
    "print(\"정밀도:\",precision_score(y_test,y_pred))\n",
    "print(\"재현율:\",recall_score(y_test,y_pred))\n",
    "print(\"f1-score:\",f1_score(y_test,y_pred))"
   ]
  },
  {
   "cell_type": "code",
   "execution_count": 88,
   "metadata": {},
   "outputs": [
    {
     "data": {
      "text/plain": [
       "array([[-0.5379988 , -0.02037046, -0.48496679, -0.19401049,  0.00331902,\n",
       "        -0.0609525 ,  0.76659264, -0.0502325 , -1.13741437,  1.34544094,\n",
       "         0.39604561,  1.23394229,  0.02553752,  0.03360336,  0.4930336 ,\n",
       "        -0.43708706,  0.61707683,  0.61680289,  0.52777902, -0.59172882,\n",
       "         0.72498871,  0.34786884,  0.18662227]])"
      ]
     },
     "execution_count": 88,
     "metadata": {},
     "output_type": "execute_result"
    }
   ],
   "source": [
    "lr.coef_  #결정계수. 설명변수,목표변수의 상관표"
   ]
  },
  {
   "cell_type": "code",
   "execution_count": 89,
   "metadata": {},
   "outputs": [
    {
     "data": {
      "image/png": "[encoded data removed]",
      "text/plain": [
       "<Figure size 500x400 with 1 Axes>"
      ]
     },
     "metadata": {},
     "output_type": "display_data"
    }
   ],
   "source": [
    "#피처별 영향력을 그래프로 출력하기\n",
    "import numpy as np\n",
    "import matplotlib.pyplot as plt\n",
    "cols = df_train.columns.tolist()\n",
    "cols.remove(\"survived\")\n",
    "x_pos = np.arange(len(cols))\n",
    "plt.rcParams[\"figure.figsize\"]=[5,4]\n",
    "fig,ax = plt.subplots()\n",
    "ax.barh(x_pos,lr.coef_[0],\n",
    "        align=\"center\",color=\"green\",ecolor=\"black\")\n",
    "ax.set_yticks(x_pos)\n",
    "ax.set_yticks(x_pos)\n",
    "ax.set_yticklabels(cols)\n",
    "ax.invert_yaxis()\n",
    "ax.set_xlabel(\"Coef\")\n",
    "ax.set_title(\"Each Feature's Coef\")\n",
    "plt.show()\n"
   ]
  }
 ],
 "metadata": {
  "kernelspec": {
   "display_name": "base",
   "language": "python",
   "name": "python3"
  },
  "language_info": {
   "codemirror_mode": {
    "name": "ipython",
    "version": 3
   },
   "file_extension": ".py",
   "mimetype": "text/x-python",
   "name": "python",
   "nbconvert_exporter": "python",
   "pygments_lexer": "ipython3",
   "version": "3.12.4"
  }
 },
 "nbformat": 4,
 "nbformat_minor": 2
}

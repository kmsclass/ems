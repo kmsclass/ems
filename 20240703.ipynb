{
 "cells": [
  {
   "cell_type": "code",
   "execution_count": 1,
   "metadata": {},
   "outputs": [
    {
     "name": "stdout",
     "output_type": "stream",
     "text": [
      "파이썬 문자의 위치: [0, 13] ,문자의 갯수: 2\n"
     ]
    }
   ],
   "source": [
    "#mystr 문자열에 파이썬의 위치 정보를 strpos 리스트에 저장하기\n",
    "mystr = \"파이썬 공부 중입니다. 파이썬을 열심히 공부합시다\"\n",
    "strpos = []  # [0,13]\n",
    "index = 0    # 14\n",
    "while True :  #무한반복\n",
    "    try :   #예외 발생 가능성이 있는 문장들. 예외 발생시 제어 except 구문으로 이동. 예외처리 구문\n",
    "        index = mystr.index(\"파이썬\",index) # 14번인덱스 부터 파이썬 문자의 위치 리턴. 예외발생\n",
    "        strpos.append(index)\n",
    "        index += 1\n",
    "    except :\n",
    "        break    #반복문 빠짐\n",
    "print(\"파이썬 문자의 위치:\",strpos, \",문자의 갯수:\",len(strpos))            "
   ]
  },
  {
   "cell_type": "code",
   "execution_count": 20,
   "metadata": {},
   "outputs": [
    {
     "name": "stdout",
     "output_type": "stream",
     "text": [
      "10 0\n",
      "0으로는 나눌 수 없습니다.\n",
      "프로그램 종료\n"
     ]
    }
   ],
   "source": [
    "# 다중 예외 처리 : try 구문에 해당하는 except 구문이 여러개인 경우\n",
    "#                 예외 종류 별로 다른 예외 처리 가능\n",
    "num1 = input(\"문자 1 입력:\")\n",
    "num2 = input(\"문자 2 입력:\")\n",
    "try :\n",
    "    num1 = int(num1)\n",
    "    num2 = int(num2)\n",
    "    print(num1,num2)\n",
    "    while True :\n",
    "       res = num1/num2\n",
    "       print(res)\n",
    "       break\n",
    "except ValueError as e:\n",
    "    print(\"숫자만 입력하세요. 문자를 숫자로 변환 할 수 없습니다.\")    \n",
    "except ZeroDivisionError as e:\n",
    "    print(\"0으로는 나눌 수 없습니다.\")   \n",
    "except KeyboardInterrupt as e:\n",
    "    print(\"프로그램을 강제 종료 했습니다.\")   \n",
    "finally : #정상, 예외 발생 모두 실행 되는 영역\n",
    "    print(\"프로그램 종료\")          \n"
   ]
  },
  {
   "cell_type": "code",
   "execution_count": 10,
   "metadata": {},
   "outputs": [
    {
     "ename": "ZeroDivisionError",
     "evalue": "division by zero",
     "output_type": "error",
     "traceback": [
      "\u001b[1;31m---------------------------------------------------------------------------\u001b[0m",
      "\u001b[1;31mZeroDivisionError\u001b[0m                         Traceback (most recent call last)",
      "Cell \u001b[1;32mIn[10], line 2\u001b[0m\n\u001b[0;32m      1\u001b[0m \u001b[38;5;66;03m#print(int(\"aaa\")) #ValueError \u001b[39;00m\n\u001b[1;32m----> 2\u001b[0m \u001b[38;5;28mprint\u001b[39m(\u001b[38;5;241;43m10\u001b[39;49m\u001b[38;5;241;43m/\u001b[39;49m\u001b[38;5;241;43m0\u001b[39;49m)\n",
      "\u001b[1;31mZeroDivisionError\u001b[0m: division by zero"
     ]
    }
   ],
   "source": [
    "#print(int(\"aaa\")) #ValueError \n",
    "print(10/0)  #ZeroDivisionError"
   ]
  }
 ],
 "metadata": {
  "kernelspec": {
   "display_name": "base",
   "language": "python",
   "name": "python3"
  },
  "language_info": {
   "codemirror_mode": {
    "name": "ipython",
    "version": 3
   },
   "file_extension": ".py",
   "mimetype": "text/x-python",
   "name": "python",
   "nbconvert_exporter": "python",
   "pygments_lexer": "ipython3",
   "version": "3.12.4"
  }
 },
 "nbformat": 4,
 "nbformat_minor": 2
}

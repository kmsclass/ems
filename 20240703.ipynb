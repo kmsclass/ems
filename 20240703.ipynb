{
 "cells": [
  {
   "cell_type": "code",
   "execution_count": null,
   "metadata": {},
   "outputs": [],
   "source": [
    "#mystr 문자열에 파이썬의 위치 정보를 strpos 리스트에 저장하기\n",
    "mystr = \"파이썬 공부 중입니다. 파이썬을 열심히 공부합시다\"\n",
    "strpos = []  # [0,13]\n",
    "index = 0    # 14\n",
    "while True :  #무한반복\n",
    "    try :   #예외 발생 가능성이 있는 문장들. 예외 발생시 제어 except 구문으로 이동. 예외처리 구문\n",
    "        index = mystr.index(\"파이썬\",index) # 14번인덱스 부터 파이썬 문자의 위치 리턴. 예외발생\n",
    "        strpos.append(index)\n",
    "        index += 1\n",
    "    except :\n",
    "        break    #반복문 빠짐\n",
    "print(\"파이썬 문자의 위치:\",strpos, \",문자의 갯수:\",len(strpos))            "
   ]
  },
  {
   "cell_type": "code",
   "execution_count": null,
   "metadata": {},
   "outputs": [],
   "source": [
    "# 다중 예외 처리 : try 구문에 해당하는 except 구문이 여러개인 경우\n",
    "#                 예외 종류 별로 다른 예외 처리 가능\n",
    "num1 = input(\"문자 1 입력:\")\n",
    "num2 = input(\"문자 2 입력:\")\n",
    "try :\n",
    "    num1 = int(num1)\n",
    "    num2 = int(num2)\n",
    "    print(num1,num2)\n",
    "    while True :\n",
    "       res = num1/num2\n",
    "       print(res)\n",
    "       break\n",
    "except ValueError as e:\n",
    "    print(\"숫자만 입력하세요. 문자를 숫자로 변환 할 수 없습니다.\")    \n",
    "except ZeroDivisionError as e:\n",
    "    print(\"0으로는 나눌 수 없습니다.\")   \n",
    "except KeyboardInterrupt as e:\n",
    "    print(\"프로그램을 강제 종료 했습니다.\")   \n",
    "finally : #정상, 예외 발생 모두 실행 되는 영역\n",
    "    print(\"프로그램 종료\")          \n"
   ]
  },
  {
   "cell_type": "code",
   "execution_count": null,
   "metadata": {},
   "outputs": [],
   "source": [
    "#else 구문 : 예외 발생이 되지 않은 경우 실행 되는 영역\n",
    "# 나이를 입력받아 성인인지, 미성년인지 출력하기\n",
    "try :\n",
    "    age = int(input(\"나이를 입력하세요:\"))\n",
    "except :   #예외 발생시 실행 되는 영역\n",
    "    print(\"숫자만 입력하세요\")    \n",
    "else :   #예외 발생 없이 정상적인 경우 실행 되는 영역\n",
    "    if age < 19 :\n",
    "        print(age, \"미성년 입니다.\")\n",
    "    elif age >= 19 :\n",
    "        print(age, \"성인 입니다.\")"
   ]
  },
  {
   "cell_type": "code",
   "execution_count": null,
   "metadata": {},
   "outputs": [],
   "source": [
    "#raise : 강제로 예외 발생\n",
    "try :\n",
    "    print(1)\n",
    "    raise ValueError\n",
    "    print(2)\n",
    "except ValueError :\n",
    "    print(\"ValueError 강제 발생 시킴\")    "
   ]
  },
  {
   "cell_type": "code",
   "execution_count": null,
   "metadata": {},
   "outputs": [],
   "source": [
    "#pass 예약어 : 실행 문장이 없음\n",
    "n=19\n",
    "if n > 10 :\n",
    "    pass\n",
    "else :\n",
    "    print(\"n의 값은 10 이하 입니다\")    "
   ]
  },
  {
   "cell_type": "code",
   "execution_count": null,
   "metadata": {},
   "outputs": [],
   "source": [
    "try :\n",
    "    age = int(input(\"나이를 입력하세요 : \"))\n",
    "    if(age < 19) :\n",
    "        print(\"미성년\")\n",
    "    else :\n",
    "        print(\"성인\")  \n",
    "except ValueError as e:\n",
    "    #pass\n",
    "    print(e)\n",
    "\n",
    "print(\"종료\")"
   ]
  },
  {
   "cell_type": "code",
   "execution_count": 36,
   "metadata": {},
   "outputs": [],
   "source": [
    "#클래스 : 사용자 정의 자료형\n",
    "class Car :\n",
    "    color =\"\"\n",
    "    speed = 0\n",
    "    def upSpeed(self,value) :\n",
    "        self.speed += value\n",
    "    def downSpeed(self,value) :\n",
    "        self.speed -= value        "
   ]
  },
  {
   "cell_type": "code",
   "execution_count": 35,
   "metadata": {},
   "outputs": [
    {
     "name": "stdout",
     "output_type": "stream",
     "text": [
      "자동차1의 색상: 빨강 ,현재속도: 10\n",
      "자동차2의 색상: 파랑 ,현재속도: 50\n"
     ]
    }
   ],
   "source": [
    "car1 = Car() #객체화. Car(): 생성자 : 멤버변수의 초기화. 객체 생성시 호출됨. 기본생성자로 객체화 \n",
    "car1.color = \"빨강\"\n",
    "car1.speed = 10\n",
    "car2 = Car() #객체화\n",
    "car2.color = \"파랑\"\n",
    "car2.speed = 20\n",
    "car2.upSpeed(30)\n",
    "print(\"자동차1의 색상:\",car1.color,\",현재속도:\",car1.speed)\n",
    "print(\"자동차2의 색상:\",car2.color,\",현재속도:\",car2.speed)"
   ]
  },
  {
   "cell_type": "code",
   "execution_count": 66,
   "metadata": {},
   "outputs": [],
   "source": [
    "# 기본생성자 : 클래스에 생성자가 없는 경우 시스템이 생성해 주는 생성자\n",
    "# 생성자 : __init__ \n",
    "class Car :\n",
    "    color =\"\"\n",
    "    speed = 0\n",
    "    count = 0\n",
    "    #self : 자기참조변수. 현재 객체\n",
    "    def __init__(self,v1,v2) :   #생성자 : 객체 생성에 관여하는 메서드\n",
    "        self.color = v1  #color : 인스턴스변수(객체변수)\n",
    "        self.speed = v2  #speed : 인스턴스변수(객체변수)\n",
    "        Car.count += 1   #count : 클래스변수. 객체들의 공유변수. 클래스명.변수명\n",
    "    def upSpeed(self,value) :\n",
    "        self.speed += value    \n",
    "    def downSpeed(self,value) :\n",
    "        self.speed -= value       "
   ]
  },
  {
   "cell_type": "code",
   "execution_count": 67,
   "metadata": {},
   "outputs": [
    {
     "name": "stdout",
     "output_type": "stream",
     "text": [
      "자동차1의 색상: 빨강 ,현재속도: 10 ,자동차 생산갯수: 1\n",
      "자동차1의 색상: 빨강 ,현재속도: 10 ,자동차 생산갯수: 2\n",
      "자동차2의 색상: 파랑 ,현재속도: 20 ,자동차 생산갯수: 2\n"
     ]
    }
   ],
   "source": [
    "myCar1 = Car(\"빨강\",10)\n",
    "print(\"자동차1의 색상:\",myCar1.color,\",현재속도:\",myCar1.speed,\",자동차 생산갯수:\",Car.count)\n",
    "myCar2 = Car(\"파랑\",20)\n",
    "print(\"자동차1의 색상:\",myCar1.color,\",현재속도:\",myCar1.speed,\",자동차 생산갯수:\",Car.count)\n",
    "print(\"자동차2의 색상:\",myCar2.color,\",현재속도:\",myCar2.speed,\",자동차 생산갯수:\",Car.count)"
   ]
  },
  {
   "cell_type": "code",
   "execution_count": 93,
   "metadata": {},
   "outputs": [],
   "source": [
    "# 상속 : \n",
    "# class 자손클랫명 (부모클래스) : ...\n",
    "\n",
    "class Car :\n",
    "    speed = 0\n",
    "    door = 3\n",
    "    def upSpeed(self,value) :\n",
    "        self.speed += value\n",
    "        print(\"현재 속도(부모클래스): %d\" % self.speed)\n",
    "\n",
    "class Sedan(Car) :\n",
    "    def __repr__(self) :\n",
    "        return \"속도:\"+str(self.speed)+\",door:\"+str(self.door)\n",
    "    def __del__(self):  #소멸자:객체 제거시 호출되는 메서드\n",
    "        print(self.speed,\"자동차 객체가 제거 되었습니다.\")\n",
    "\n"
   ]
  },
  {
   "cell_type": "code",
   "execution_count": 97,
   "metadata": {},
   "outputs": [
    {
     "name": "stdout",
     "output_type": "stream",
     "text": [
      "현재 속도(부모클래스): 60\n",
      "sedan1: 60 , 3\n",
      "속도:60,door:3\n",
      "sedan2: 20 , 4\n",
      "속도:20,door:4\n",
      "60 자동차 객체가 제거 되었습니다.\n",
      "20 자동차 객체가 제거 되었습니다.\n"
     ]
    }
   ],
   "source": [
    "sedan1 = Sedan()\n",
    "sedan1.speed = 10\n",
    "sedan1.upSpeed(50)\n",
    "print(\"sedan1:\",sedan1.speed,\",\",sedan1.door)\n",
    "print(sedan1) #__repr__ 함수 자동 호출\n",
    "sedan2 = Sedan()\n",
    "sedan2.speed = 20\n",
    "sedan2.door = 4\n",
    "print(\"sedan2:\",sedan2.speed,\",\",sedan2.door)\n",
    "print(sedan2) #__repr__ 함수 자동 호출\n",
    "del sedan1  #객체 제거. 소멸자 호출됨\n",
    "del sedan2"
   ]
  },
  {
   "cell_type": "code",
   "execution_count": 101,
   "metadata": {},
   "outputs": [],
   "source": [
    "#추상메서드 : 오버라이딩을 반드시 해야 하는 메서드 \n",
    "# 오버라이딩 : 부모클래스의 함수를 자손 클래스에서 재정의 하는 기능 \n",
    "\n",
    "class SuperClass :\n",
    "    def method(self) :  #추상 메서드\n",
    "        raise NotImplementedError\n",
    "    \n",
    "class SubClass1(SuperClass) :\n",
    "    #pass    \n",
    "    def method(self) :  \n",
    "        print(\"SubClass1에서 오버라이딩한 메서드\")\n"
   ]
  },
  {
   "cell_type": "code",
   "execution_count": 102,
   "metadata": {},
   "outputs": [
    {
     "name": "stdout",
     "output_type": "stream",
     "text": [
      "SubClass1에서 오버라이딩한 메서드\n"
     ]
    }
   ],
   "source": [
    "sub1 = SubClass1()\n",
    "sub1.method()"
   ]
  },
  {
   "cell_type": "code",
   "execution_count": 113,
   "metadata": {},
   "outputs": [
    {
     "name": "stdout",
     "output_type": "stream",
     "text": [
      "30\n",
      "10\n"
     ]
    }
   ],
   "source": [
    "#모듈 \n",
    "import mod\n",
    "print(mod.add(10,20))\n",
    "print(mod.sub(30,20))"
   ]
  },
  {
   "cell_type": "code",
   "execution_count": 106,
   "metadata": {},
   "outputs": [
    {
     "name": "stdout",
     "output_type": "stream",
     "text": [
      "30\n"
     ]
    }
   ],
   "source": [
    "from mod import add\n",
    "print(add(10,20))\n",
    "# print(sub(10,20)) #sub 함수는 import 안함. 사용 불가"
   ]
  },
  {
   "cell_type": "code",
   "execution_count": 107,
   "metadata": {},
   "outputs": [
    {
     "name": "stdout",
     "output_type": "stream",
     "text": [
      "30\n",
      "-10\n"
     ]
    }
   ],
   "source": [
    "from mod import add,sub\n",
    "print(add(10,20))\n",
    "print(sub(10,20))"
   ]
  },
  {
   "cell_type": "code",
   "execution_count": 108,
   "metadata": {},
   "outputs": [
    {
     "name": "stdout",
     "output_type": "stream",
     "text": [
      "30\n",
      "10\n"
     ]
    }
   ],
   "source": [
    "import mod as m\n",
    "print(m.add(10,20))\n",
    "print(m.sub(30,20))"
   ]
  },
  {
   "cell_type": "code",
   "execution_count": 112,
   "metadata": {},
   "outputs": [
    {
     "name": "stdout",
     "output_type": "stream",
     "text": [
      "('_abc', '_ast', '_bisect', '_blake2', '_codecs', '_codecs_cn', '_codecs_hk', '_codecs_iso2022', '_codecs_jp', '_codecs_kr', '_codecs_tw', '_collections', '_contextvars', '_csv', '_datetime', '_functools', '_heapq', '_imp', '_io', '_json', '_locale', '_lsprof', '_md5', '_multibytecodec', '_opcode', '_operator', '_pickle', '_random', '_sha1', '_sha2', '_sha3', '_signal', '_sre', '_stat', '_statistics', '_string', '_struct', '_symtable', '_thread', '_tokenize', '_tracemalloc', '_typing', '_warnings', '_weakref', '_winapi', '_xxinterpchannels', '_xxsubinterpreters', 'array', 'atexit', 'audioop', 'binascii', 'builtins', 'cmath', 'errno', 'faulthandler', 'gc', 'itertools', 'marshal', 'math', 'mmap', 'msvcrt', 'nt', 'sys', 'time', 'winreg', 'xxsubtype', 'zlib')\n",
      "['ArithmeticError', 'AssertionError', 'AttributeError', 'BaseException', 'BaseExceptionGroup', 'BlockingIOError', 'BrokenPipeError', 'BufferError', 'BytesWarning', 'ChildProcessError', 'ConnectionAbortedError', 'ConnectionError', 'ConnectionRefusedError', 'ConnectionResetError', 'DeprecationWarning', 'EOFError', 'Ellipsis', 'EncodingWarning', 'EnvironmentError', 'Exception', 'ExceptionGroup', 'False', 'FileExistsError', 'FileNotFoundError', 'FloatingPointError', 'FutureWarning', 'GeneratorExit', 'IOError', 'ImportError', 'ImportWarning', 'IndentationError', 'IndexError', 'InterruptedError', 'IsADirectoryError', 'KeyError', 'KeyboardInterrupt', 'LookupError', 'MemoryError', 'ModuleNotFoundError', 'NameError', 'None', 'NotADirectoryError', 'NotImplemented', 'NotImplementedError', 'OSError', 'OverflowError', 'PendingDeprecationWarning', 'PermissionError', 'ProcessLookupError', 'RecursionError', 'ReferenceError', 'ResourceWarning', 'RuntimeError', 'RuntimeWarning', 'StopAsyncIteration', 'StopIteration', 'SyntaxError', 'SyntaxWarning', 'SystemError', 'SystemExit', 'TabError', 'TimeoutError', 'True', 'TypeError', 'UnboundLocalError', 'UnicodeDecodeError', 'UnicodeEncodeError', 'UnicodeError', 'UnicodeTranslateError', 'UnicodeWarning', 'UserWarning', 'ValueError', 'Warning', 'WindowsError', 'ZeroDivisionError', '__IPYTHON__', '__build_class__', '__debug__', '__doc__', '__import__', '__loader__', '__name__', '__package__', '__spec__', 'abs', 'aiter', 'all', 'anext', 'any', 'ascii', 'bin', 'bool', 'breakpoint', 'bytearray', 'bytes', 'callable', 'chr', 'classmethod', 'compile', 'complex', 'copyright', 'credits', 'delattr', 'dict', 'dir', 'display', 'divmod', 'enumerate', 'eval', 'exec', 'execfile', 'filter', 'float', 'format', 'frozenset', 'get_ipython', 'getattr', 'globals', 'hasattr', 'hash', 'help', 'hex', 'id', 'input', 'int', 'isinstance', 'issubclass', 'iter', 'len', 'license', 'list', 'locals', 'map', 'max', 'memoryview', 'min', 'next', 'object', 'oct', 'open', 'ord', 'pow', 'print', 'property', 'range', 'repr', 'reversed', 'round', 'runfile', 'set', 'setattr', 'slice', 'sorted', 'staticmethod', 'str', 'sum', 'super', 'tuple', 'type', 'vars', 'zip']\n",
      "['__doc__', '__loader__', '__name__', '__package__', '__spec__', 'acos', 'acosh', 'asin', 'asinh', 'atan', 'atan2', 'atanh', 'cbrt', 'ceil', 'comb', 'copysign', 'cos', 'cosh', 'degrees', 'dist', 'e', 'erf', 'erfc', 'exp', 'exp2', 'expm1', 'fabs', 'factorial', 'floor', 'fmod', 'frexp', 'fsum', 'gamma', 'gcd', 'hypot', 'inf', 'isclose', 'isfinite', 'isinf', 'isnan', 'isqrt', 'lcm', 'ldexp', 'lgamma', 'log', 'log10', 'log1p', 'log2', 'modf', 'nan', 'nextafter', 'perm', 'pi', 'pow', 'prod', 'radians', 'remainder', 'sin', 'sinh', 'sqrt', 'sumprod', 'tan', 'tanh', 'tau', 'trunc', 'ulp']\n",
      "['__builtins__', '__cached__', '__doc__', '__file__', '__loader__', '__name__', '__package__', '__spec__', 'add', 'sub']\n"
     ]
    }
   ],
   "source": [
    "import math\n",
    "import sys\n",
    "print(sys.builtin_module_names)\n",
    "print(dir(__builtins__))\n",
    "print(dir(math))\n",
    "print(dir(mod))"
   ]
  },
  {
   "cell_type": "code",
   "execution_count": 117,
   "metadata": {},
   "outputs": [
    {
     "name": "stdout",
     "output_type": "stream",
     "text": [
      "\n",
      "  park 800905-*******\n",
      "  kim 700905-*******\n",
      "  choi 850101-a234567\n",
      "\n"
     ]
    }
   ],
   "source": [
    "data = '''\n",
    "  park 800905-1234567\n",
    "  kim 700905-1234567\n",
    "  choi 850101-a234567\n",
    "'''\n",
    "result = []  #[\"park 800905-*******\",\"kim 700905-*******\",\"choi,850101-a234567\"]\n",
    "for line in data.split(\"\\n\") :\n",
    "    #line : choi 850101-a234567\n",
    "    word_result = [] #[choi ]\n",
    "    for word in line.split(\" \") : #[choi,850101-a234567]\n",
    "        #word : 800905-*******\n",
    "        if (len(word) == 14 and word[:6].isdigit() and word[7:].isdigit()) :\n",
    "            word = word[:6] + \"-\" + \"*******\"\n",
    "        word_result.append(word)\n",
    "        # 구분자.join(리스트) : 리스트의 요소들을 구분자로 연결. 문자열 리턴\n",
    "    result.append(\" \".join(word_result))\n",
    "print(\"\\n\".join(result))"
   ]
  },
  {
   "cell_type": "code",
   "execution_count": 138,
   "metadata": {},
   "outputs": [
    {
     "name": "stdout",
     "output_type": "stream",
     "text": [
      "\n",
      "  park 800905-*******\n",
      "  kim 700905-*******\n",
      "  choi 850101-a234567\n",
      "\n"
     ]
    },
    {
     "name": "stderr",
     "output_type": "stream",
     "text": [
      "<>:8: SyntaxWarning: invalid escape sequence '\\d'\n",
      "<>:19: SyntaxWarning: invalid escape sequence '\\g'\n",
      "<>:8: SyntaxWarning: invalid escape sequence '\\d'\n",
      "<>:19: SyntaxWarning: invalid escape sequence '\\g'\n",
      "C:\\Users\\123rl\\AppData\\Local\\Temp\\ipykernel_10996\\584022657.py:8: SyntaxWarning: invalid escape sequence '\\d'\n",
      "  '''\n",
      "C:\\Users\\123rl\\AppData\\Local\\Temp\\ipykernel_10996\\584022657.py:19: SyntaxWarning: invalid escape sequence '\\g'\n",
      "  '''\n"
     ]
    }
   ],
   "source": [
    "#정규식 이용하기\n",
    "import re   #정규식 처리를 위한 모듈\n",
    "data = '''\n",
    "  park 800905-1234567\n",
    "  kim 700905-1234567\n",
    "  choi 850101-a234567\n",
    "'''\n",
    "'''\n",
    "   re.compile(정규식패턴) : 패턴객체 객체 생성\n",
    "   (\\d{6})[-]\\d{7}\n",
    "   () : 그룹\n",
    "   \\d{6} : 숫자{갯수}. 숫자6개\n",
    "   \\d{7} : 숫자{갯수}. 숫자7개\n",
    "   \\d{6,7} : 숫자{갯수}. 숫자6~7개\n",
    "   [-] : - 한개의문자\n",
    "'''\n",
    "#pat = re.compile(r\"(\\d{6})[-]\\d{7}\")\n",
    "pat = re.compile(r\"([0-9]{6})[-][0-9]{7}\")\n",
    "'''\n",
    " pat.sub(지정문자열,원시데이터) :원시데이터에서 패턴에 맞는 문자열을 찾아서 지정한 문자열로 변경\n",
    " (\"\\g<1>-*******\",data) : data 문자열에서 패턴에 맞는 문자열을 첫번째그룹-******* 변경\n",
    "'''\n",
    "print(pat.sub(r\"\\g<1>-*******\",data))"
   ]
  },
  {
   "cell_type": "code",
   "execution_count": 125,
   "metadata": {},
   "outputs": [
    {
     "name": "stdout",
     "output_type": "stream",
     "text": [
      "['The', 'quick', 'brown', 'fox', 'jumps', 'over', 'the', 'laze', 'dog']\n"
     ]
    }
   ],
   "source": [
    "str1 = \"The quick brown fox jumps over the laze dog\"\n",
    "str_list = str1.split(\" \") \n",
    "print(str_list)"
   ]
  },
  {
   "cell_type": "code",
   "execution_count": 129,
   "metadata": {},
   "outputs": [
    {
     "name": "stdout",
     "output_type": "stream",
     "text": [
      "The,the,\n",
      "결과1=>갯수:2\n"
     ]
    }
   ],
   "source": [
    "pattern = re.compile(\"The\",re.I) #re.I: 대소문자 구문없이 검색\n",
    "count = 0\n",
    "for word in str_list :\n",
    "    if pattern.search(word) :\n",
    "        print(word, end=\",\")\n",
    "        count += 1\n",
    "print(\"\\n결과1=>갯수:%d\" % (count))"
   ]
  },
  {
   "cell_type": "code",
   "execution_count": 135,
   "metadata": {},
   "outputs": [
    {
     "name": "stdout",
     "output_type": "stream",
     "text": [
      "The,the,Teeeee,THhhhhhe,\n",
      "결과2=>갯수:4\n"
     ]
    }
   ],
   "source": [
    "str1 = \"The quick brown fox jumps over the laze dog Tae Teeeee THhhhhhe\"\n",
    "str_list = str1.split(\" \") \n",
    "pattern = re.compile(\"Th*e\",re.I) #h* : * h문자 0개이상. \n",
    "count = 0\n",
    "for word in str_list :\n",
    "    if pattern.search(word) :\n",
    "        print(word, end=\",\")\n",
    "        count += 1\n",
    "print(\"\\n결과2=>갯수:%d\" % (count))"
   ]
  },
  {
   "cell_type": "code",
   "execution_count": 136,
   "metadata": {},
   "outputs": [
    {
     "name": "stdout",
     "output_type": "stream",
     "text": [
      "결과3=> ['The', 'the', 'Te', 'THhhhhhe']\n"
     ]
    }
   ],
   "source": [
    "#str1 문자열에서 pattern에 맞는 문자열들을 찾아서 리스트로 리턴\n",
    "print(\"결과3=>\",re.findall(pattern,str1))"
   ]
  },
  {
   "cell_type": "code",
   "execution_count": 137,
   "metadata": {},
   "outputs": [
    {
     "name": "stdout",
     "output_type": "stream",
     "text": [
      "결과4=> aaa quick brown fox jumps over aaa laze dog Tae aaaeeee aaa\n"
     ]
    }
   ],
   "source": [
    "#str1 문자열에서 pattern 맞는 문자열을 \"aaa\" 문자로 치환하기\n",
    "print(\"결과4=>\",pattern.sub(\"aaa\",str1))"
   ]
  },
  {
   "cell_type": "markdown",
   "metadata": {},
   "source": [
    "정규식에서 사용되는 기호\n",
    "1. () : 그룹\n",
    "2. \\g<n> : n번째 그룹\n",
    "3. [] : 문자\n",
    "   [a] : a 문자\n",
    "   [a-z] : 소문자 한개\n",
    "   [A-Z] : 대문자 한개\n",
    "   [A-Za-z] : 영문자\n",
    "   [0-9A-Za-z] : 영문자+숫자\n",
    "   [0-9] : 숫자. \\d 와 같은 기능\n",
    "4. {n} : 글자의 갯수\n",
    "   ca{2}t \n",
    "   cat : false\n",
    "   caat : true  \n",
    "   {n,m} : 글자의 갯수 n개이상 m개이하\n",
    "5. ? : 0또는 1\n",
    "   * : 0개 이상\n",
    "   + : 1개 이상   \n",
    "6. \\s : 공백\n",
    "   \\s* : 공백 0개 이상\n",
    "   \\s+ : 공백 1개 이상    "
   ]
  },
  {
   "cell_type": "code",
   "execution_count": 152,
   "metadata": {},
   "outputs": [
    {
     "name": "stdout",
     "output_type": "stream",
     "text": [
      "aaa-bbbb-cccc\n"
     ]
    }
   ],
   "source": [
    "str2 = \"aaa    bbbb   cccc\"\n",
    "p = re.compile(r\"\\s+\")\n",
    "print(p.sub(\"-\",str2))"
   ]
  },
  {
   "cell_type": "code",
   "execution_count": 156,
   "metadata": {},
   "outputs": [
    {
     "name": "stdout",
     "output_type": "stream",
     "text": [
      "['25', '23', '27', '26', '25', '27']\n",
      "[25, 23, 27, 26, 25, 27]\n",
      "온도평균: 25.5\n"
     ]
    }
   ],
   "source": [
    "#문제 : str3 문자열에서 온도의 평균 출력하기\n",
    "str3 = \"서울:25도, 부산:23도, 대구:27도, 광주:26도, 대전:25도, 세종:27도\"\n",
    "pattern = re.compile(r\"\\d{2}\")\n",
    "tlist = re.findall(pattern, str3)\n",
    "print(tlist)\n",
    "tlist = list(map(int,tlist))\n",
    "print(tlist)\n",
    "print(\"온도평균:\",sum(tlist)/len(tlist))"
   ]
  },
  {
   "cell_type": "code",
   "execution_count": 161,
   "metadata": {},
   "outputs": [
    {
     "name": "stdout",
     "output_type": "stream",
     "text": [
      "['90', '80', '75', '50', '100']\n",
      "[90, 80, 75, 50, 100]\n",
      "총점: 395 ,평균: 79.0\n"
     ]
    }
   ],
   "source": [
    "#문제:점수의 총점과 평균 출력하기\n",
    "str4= 'hong:90,lee:80,kim:75,park:50,song:100'\n",
    "pattern = re.compile(r\"[0-9]{2,3}\")\n",
    "slist = re.findall(pattern,str4)\n",
    "print(slist)\n",
    "slist = list(map(int,slist))\n",
    "print(slist)\n",
    "print(\"총점:\",sum(slist),\",평균:\",sum(slist)/len(slist))"
   ]
  },
  {
   "cell_type": "code",
   "execution_count": 163,
   "metadata": {},
   "outputs": [
    {
     "name": "stdout",
     "output_type": "stream",
     "text": [
      "# 주석comment : 번역 되지 않는 영역. 한줄 주석\n",
      "#          기계어로 번역 되지 않으므로 참고사항 작성 \n",
      "\n",
      "'''\n",
      "   여러줄 주석. 여러줄 문자열 변수로도 사용됨   \n",
      "'''\n",
      "\n",
      "\"\"\"\n",
      "여러줄 주석. 여러줄 문자열 변수로도 사용됨\n",
      "\"\"\"\n",
      "#[shift]+[enter] => 현재 라인 실행 \n",
      "#[shift]+[enter] => 선택된 라인 실행\n",
      "print(\"\\\"안녕하세요\\\"라고 말했습니다.\"); \n",
      "\n",
      "#문자열\n",
      "print(\"hello\")\n",
      "print(len(\"hello\")) #len : 문자열의 길이 리턴 함수\n",
      "print(type(\"hello\"))\n",
      "\n",
      "print(\"안녕\"*3)\n",
      "print(\"안녕\"+\"하세요\")\n",
      "print(\"학번:\"+1000) #오류 발생 str+str끼리만 +연산 가능\n",
      "print(\"학번:\"+\"1000\") \n",
      "print(\"학번:\"+str(1000)) #str(데이터) => 데이터를 문자열로 변경\n",
      "\n",
      "a=10\n",
      "print(a)\n",
      "a+=10\n",
      "print(a)  #20\n",
      "\n",
      "a*=2\n",
      "print(a)  #40\n",
      "\n",
      "a -= 15\n",
      "print(a)\n",
      "a -= 15\n",
      "print(a)\n",
      "\n",
      "a = int(input(\"숫자를 입력하세요:\"))  #a : int(str 형) : 정수형으로 형변환 함수\n",
      "print(a + 100)                 # str + 숫자 => 오류 \n",
      "'''\n",
      "문자열[1:3] : 1번인덱스(두번째문자)부터 3번인덱스(네번째) 앞까지.\n",
      "         => 1,2 인덱스 까지의 부분문자열\n",
      "'''\n",
      "print(\"0123456\"[1:3])  #12\n",
      "\n",
      "#inch 단위를 입력받아 cm 단위로 출력하기\n",
      "# 1 inch = 2.54 cm\n",
      "inch = float(input(\"inch를 입력하세요\"))\n",
      "print(inch,\":\",inch*2.54,\"cm\")\n",
      "\n",
      "# 진수 변경하기\n",
      "sel = int(input(\"입력 진수 결정(16/10/8/2) : \"))\n",
      "num = input(\"값 입력 : \") #11\n",
      "num10 = int(num,16)  #11 16진수로 인식. \n",
      "print(num10) # 17\n",
      "num10 = int(num,10)  #기본은 10진수\n",
      "print(num10) #11\n",
      "num10 = int(num,8) \n",
      "print(num10) #9\n",
      "num10 = int(num,2)\n",
      "print(num10) #3\n",
      "# if 조건문\n",
      "'''\n",
      "   if 조건문 :\n",
      "      구문   => 조건문의 결과가 참인 경우만 실행\n",
      "  == : 등가연산자 \n",
      "  sel == 16 => sel 값이 16인 경우 결과가 참.    \n",
      "'''\n",
      "if sel == 16 :\n",
      "    num10 = int(num,16)\n",
      "if sel == 10 :\n",
      "    num10 = int(num,10)    \n",
      "if sel == 8 :\n",
      "    num10 = int(num,8)        \n",
      "if sel == 2 :\n",
      "    num10 = int(num,2)            \n",
      "print(num10) #10진수 출력\n",
      "\n",
      "#10진수 를 16,8,2 진수 변경하여 출력하기\n",
      "print(\"16진수=>\",hex(15)) #0xf\n",
      "print(\"8진수=>\",oct(10))  #0o12\n",
      "print(\"2진수=>\",bin(10))  #0b1010\n",
      "\n",
      "# print 함수 : 콘솔(화면) 출력\n",
      "a=10\n",
      "b=20\n",
      "#print(\"a=\"+a) #str + int 형의 + 연산 불가\n",
      "print(\"a=\",a)\n",
      "#a=10,b=20,a+b=30 => 출력하기\n",
      "print(\"a=\",a,\",b=\",b,\",a+b=\",a+b)\n",
      "print(\"a=%d,b=%d,a+b=%d\" % (a,b,a+b))\n",
      "print(f\"a={a},b={b},a+b={a+b}\") #변수값을 직접 출력\n",
      "print(\"a={0:d},b={1:d},a+b={2:d}\".format(a,b,a+b))\n",
      "print(\"a={2:d},b={1:d},a+b={0:d}\".format(a+b,b,a))\n",
      "print(\"안녕하세요\", end=\"=>\")\n",
      "print(\"홍길동 입니다.\")"
     ]
    }
   ],
   "source": [
    "infp = open(\"20240701.py\",\"rt\",encoding=\"UTF-8\")\n",
    "while True :\n",
    "    instr = infp.readline()  #한줄씩 읽기\n",
    "    if instr == None or instr == '' :  #instr==None : End Of File(EOF)\n",
    "        break\n",
    "    print(instr,end=\"\") #화면에 출력\n",
    "infp.close()    \n"
   ]
  },
  {
   "cell_type": "code",
   "execution_count": 165,
   "metadata": {},
   "outputs": [
    {
     "name": "stdout",
     "output_type": "stream",
     "text": [
      "프로그램 종료\n"
     ]
    }
   ],
   "source": [
    "#파일쓰기 : 입력받은 내용을 파일로 저장하기\n",
    "outfp = open(\"data.txt\",\"w\",encoding=\"UTF-8\")\n",
    "while True :\n",
    "    outstr = input(\"내용입력:\")\n",
    "    if outstr != \"\" :\n",
    "        outfp.writelines(outstr+\"\\n\") #텍스트모드에서만 사용가능\n",
    "    else :\n",
    "        break;    \n",
    "outfp.close()\n",
    "print(\"프로그램 종료\")"
   ]
  },
  {
   "cell_type": "code",
   "execution_count": 168,
   "metadata": {},
   "outputs": [
    {
     "name": "stdout",
     "output_type": "stream",
     "text": [
      "복사 완료\n"
     ]
    }
   ],
   "source": [
    "# 20240701.py 파일을 20240701_bak.txt 파일로 복사하기\n",
    "infp = open(\"20240701.py\",\"rt\",encoding=\"UTF-8\")\n",
    "outfp = open(\"20240701_bak.txt\",\"wt\",encoding=\"UTF-8\")\n",
    "\n",
    "while True :\n",
    "    instr = infp.readline() #한줄씩 읽기\n",
    "    if instr == None or instr == \"\" :\n",
    "        break;\n",
    "    outfp.writelines(instr) #라인으로 쓰기\n",
    "infp.close()\n",
    "outfp.close()\n",
    "print(\"복사 완료\")    "
   ]
  },
  {
   "cell_type": "code",
   "execution_count": 170,
   "metadata": {},
   "outputs": [
    {
     "name": "stdout",
     "output_type": "stream",
     "text": [
      "복사 완료\n"
     ]
    }
   ],
   "source": [
    "# github.com/kmsclass/ems : apple.gif 파일\n",
    "# 바이너리 파일을 복사하기\n",
    "# apple.gif, apple2.gif로 복사하기\n",
    "infp = open(\"apple.gif\",\"rb\")  #이진파일 인코딩없음\n",
    "outfp = open(\"apple2.gif\",\"wb\")\n",
    "\n",
    "while True :\n",
    "    indata = infp.read() #설정된 버퍼의 크기만큼 읽기\n",
    "    if not indata :\n",
    "        break;\n",
    "    outfp.write(indata) #indata를 쓰기\n",
    "infp.close()\n",
    "outfp.close()\n",
    "print(\"복사 완료\")     "
   ]
  },
  {
   "cell_type": "code",
   "execution_count": 176,
   "metadata": {},
   "outputs": [
    {
     "name": "stdout",
     "output_type": "stream",
     "text": [
      "['홍길동,100\\n', '김삿갓,50\\n', '이몽룡,90\\n', '임꺽정,80\\n']\n",
      "홍길동,100\n",
      " 김삿갓,50\n",
      " 이몽룡,90\n",
      " 임꺽정,80\n",
      "\n",
      "['100', '50', '90', '80']\n",
      "[100, 50, 90, 80]\n",
      "총점: 320 ,평균: 80.0\n"
     ]
    }
   ],
   "source": [
    "#문제 : score.txt 파일을 읽어서 점수의 총점과 평균 구하기\n",
    "infp = open(\"score.txt\",\"rt\",encoding=\"UTF-8\")\n",
    "list1 = []\n",
    "while True :\n",
    "    indata = infp.readline()\n",
    "    if indata == None or indata == \"\" :\n",
    "        break\n",
    "    list1.append(indata)\n",
    "print(list1)  \n",
    "data = \" \".join(list1)\n",
    "print(data)\n",
    "pattern = re.compile(r\"\\d{1,3}\")\n",
    "slist = re.findall(pattern,data)\n",
    "print(slist)\n",
    "slist = list(map(int,slist))\n",
    "print(slist)\n",
    "print(\"총점:\",sum(slist),\",평균:\",sum(slist)/len(slist))"
   ]
  }
 ],
 "metadata": {
  "kernelspec": {
   "display_name": "base",
   "language": "python",
   "name": "python3"
  },
  "language_info": {
   "codemirror_mode": {
    "name": "ipython",
    "version": 3
   },
   "file_extension": ".py",
   "mimetype": "text/x-python",
   "name": "python",
   "nbconvert_exporter": "python",
   "pygments_lexer": "ipython3",
   "version": "3.12.4"
  }
 },
 "nbformat": 4,
 "nbformat_minor": 2
}

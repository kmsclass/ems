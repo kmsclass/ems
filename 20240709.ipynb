{
 "cells": [
  {
   "cell_type": "code",
   "execution_count": 9,
   "metadata": {},
   "outputs": [],
   "source": [
    "import pandas as pd\n",
    "import folium\n",
    "import matplotlib.pyplot as plt"
   ]
  },
  {
   "cell_type": "code",
   "execution_count": 4,
   "metadata": {},
   "outputs": [
    {
     "name": "stdout",
     "output_type": "stream",
     "text": [
      "<class 'pandas.core.frame.DataFrame'>\n",
      "RangeIndex: 123 entries, 0 to 122\n",
      "Data columns (total 18 columns):\n",
      " #   Column  Non-Null Count  Dtype  \n",
      "---  ------  --------------  -----  \n",
      " 0   고유번호    123 non-null    int64  \n",
      " 1   구명      123 non-null    object \n",
      " 2   법정동명    123 non-null    object \n",
      " 3   산지여부    123 non-null    int64  \n",
      " 4   주지번     123 non-null    int64  \n",
      " 5   부지번     123 non-null    object \n",
      " 6   새주소명    123 non-null    object \n",
      " 7   시설명     123 non-null    object \n",
      " 8   운영기관    123 non-null    object \n",
      " 9   설립주체    123 non-null    object \n",
      " 10  시설구분    123 non-null    object \n",
      " 11  개관일     123 non-null    object \n",
      " 12  면적      123 non-null    float64\n",
      " 13  홈페이지주소  123 non-null    object \n",
      " 14  연락처     123 non-null    object \n",
      " 15  생성일     123 non-null    object \n",
      " 16  경도      123 non-null    float64\n",
      " 17  위도      123 non-null    float64\n",
      "dtypes: float64(3), int64(3), object(12)\n",
      "memory usage: 17.4+ KB\n"
     ]
    }
   ],
   "source": [
    "''' \n",
    "  시설구분 별로 색상 설정하기\n",
    "     구립,국립 : green\n",
    "     사립 : red\n",
    "     그외 : blue\n",
    "'''\n",
    "df = pd.read_csv(\"data/Library.csv\")\n",
    "df.info()"
   ]
  },
  {
   "cell_type": "code",
   "execution_count": 5,
   "metadata": {},
   "outputs": [
    {
     "data": {
      "text/plain": [
       "array(['구립도서관', '교육청도서관', '국립도서관', '사립도서관', '장애인도서관'], dtype=object)"
      ]
     },
     "execution_count": 5,
     "metadata": {},
     "output_type": "execute_result"
    }
   ],
   "source": [
    "#시설구분의 데이터를 조회하기\n",
    "df.시설구분.unique()"
   ]
  },
  {
   "cell_type": "code",
   "execution_count": 6,
   "metadata": {},
   "outputs": [
    {
     "data": {
      "text/plain": [
       "시설구분\n",
       "구립도서관     83\n",
       "교육청도서관    21\n",
       "장애인도서관     9\n",
       "사립도서관      7\n",
       "국립도서관      3\n",
       "Name: count, dtype: int64"
      ]
     },
     "execution_count": 6,
     "metadata": {},
     "output_type": "execute_result"
    }
   ],
   "source": [
    "#시설구분의 데이터의 건수 조회하기\n",
    "df.시설구분.value_counts()"
   ]
  },
  {
   "cell_type": "code",
   "execution_count": 16,
   "metadata": {},
   "outputs": [],
   "source": [
    "library_map = folium.Map(location=[37.55,126.98],zoom_start=12)\n",
    "\n",
    "for name,lat,lng,kbn in zip(df.시설명,df.위도,df.경도,df.시설구분) :\n",
    "    \n",
    "    if kbn == '구립도서관' or kbn == '국립도서관' :\n",
    "        color = \"green\"\n",
    "    elif kbn == '사립도서관' :    \n",
    "        color = \"red\"\n",
    "    else :\n",
    "        color = \"blue\"\n",
    "    \n",
    "    folium.Marker ([lat,lng],popup=name, tooltip=kbn,\n",
    "                   icon=folium.Icon(color=color,icon='bookmark')\n",
    "    ).add_to(library_map)\n",
    "\n",
    "library_map.save(\"library3.html\")\n"
   ]
  },
  {
   "cell_type": "code",
   "execution_count": 18,
   "metadata": {},
   "outputs": [],
   "source": [
    "#MarkerCluster 기능 \n",
    "#  지도 확대 정도에 따라 마커 표시를 그룹으로 출력 기능\n",
    "from folium.plugins import MarkerCluster\n",
    "library_map = folium.Map(location=[37.55,126.98],zoom_start=12)\n",
    "mc = MarkerCluster()\n",
    "''' \n",
    "df.iterrows() : 행 전체를 묶어 리스트 형태로 저장\n",
    "                반복문에서 사용시 순서,레코드값을 리턴\n",
    "    _ : 순서. 여기서는 변수를 사용하지 않음으로 _ 변수에 저장함            \n",
    "    row : df 데이터의 한개의 행\n",
    "'''\n",
    "for _,row in df.iterrows() :\n",
    "    mc.add_child(\n",
    "        folium.Marker(location=[row['위도'],row['경도']],\n",
    "                      popup=row['시설구분'],\n",
    "                      tooltip=row['시설명']\n",
    "        )\n",
    "    )\n",
    "\n",
    "library_map.add_child(mc)\n",
    "library_map.save(\"library4.html\")"
   ]
  },
  {
   "cell_type": "code",
   "execution_count": 19,
   "metadata": {},
   "outputs": [
    {
     "name": "stdout",
     "output_type": "stream",
     "text": [
      "<class 'pandas.core.frame.DataFrame'>\n",
      "Index: 44 entries, 수원시장안구 to 양평군\n",
      "Data columns (total 11 columns):\n",
      " #   Column  Non-Null Count  Dtype\n",
      "---  ------  --------------  -----\n",
      " 0   2007    44 non-null     int64\n",
      " 1   2008    44 non-null     int64\n",
      " 2   2009    44 non-null     int64\n",
      " 3   2010    44 non-null     int64\n",
      " 4   2011    44 non-null     int64\n",
      " 5   2012    44 non-null     int64\n",
      " 6   2013    44 non-null     int64\n",
      " 7   2014    44 non-null     int64\n",
      " 8   2015    44 non-null     int64\n",
      " 9   2016    44 non-null     int64\n",
      " 10  2017    44 non-null     int64\n",
      "dtypes: int64(11)\n",
      "memory usage: 4.1+ KB\n"
     ]
    }
   ],
   "source": [
    "#경기도의 인구 데이터와 위치 정보를 이용하여 지도에 인구를 표시하기\n",
    "import pandas as pd\n",
    "import folium\n",
    "import json\n",
    "df=pd.read_excel(\"data/경기도인구데이터.xlsx\",index_col='구분')\n",
    "df.info()\n"
   ]
  },
  {
   "cell_type": "code",
   "execution_count": 20,
   "metadata": {},
   "outputs": [
    {
     "data": {
      "text/plain": [
       "Index([2007, 2008, 2009, 2010, 2011, 2012, 2013, 2014, 2015, 2016, 2017], dtype='int64')"
      ]
     },
     "execution_count": 20,
     "metadata": {},
     "output_type": "execute_result"
    }
   ],
   "source": [
    "df.columns"
   ]
  },
  {
   "cell_type": "code",
   "execution_count": 21,
   "metadata": {},
   "outputs": [
    {
     "data": {
      "text/plain": [
       "Index(['2007', '2008', '2009', '2010', '2011', '2012', '2013', '2014', '2015',\n",
       "       '2016', '2017'],\n",
       "      dtype='object')"
      ]
     },
     "execution_count": 21,
     "metadata": {},
     "output_type": "execute_result"
    }
   ],
   "source": [
    "#컬럼 데이터의 자료형을 문자열형으로 변경\n",
    "df.columns = df.columns.map(str)\n",
    "df.columns"
   ]
  },
  {
   "cell_type": "code",
   "execution_count": 22,
   "metadata": {},
   "outputs": [
    {
     "data": {
      "text/plain": [
       "dict"
      ]
     },
     "execution_count": 22,
     "metadata": {},
     "output_type": "execute_result"
    }
   ],
   "source": [
    "#2. 위치정보 데이터읽기 \n",
    "#  json : {키 : 값,...} 형태의 데이터\n",
    "geo_data=json.load\\\n",
    "    (open(\"data/경기도행정구역경계.json\",encoding=\"utf-8\"))\n",
    "type(geo_data)"
   ]
  },
  {
   "cell_type": "code",
   "execution_count": 24,
   "metadata": {},
   "outputs": [
    {
     "data": {
      "text/plain": [
       "Index(['수원시장안구', '수원시권선구', '수원시팔달구', '수원시영통구', '성남시수정구', '성남시중원구', '성남시분당구',\n",
       "       '의정부시', '안양시만안구', '안양시동안구', '부천시원미구', '부천시소사구', '부천시오정구', '광명시', '평택시',\n",
       "       '동두천시', '안산시상록구', '안산시단원구', '고양시덕양구', '고양시일산동구', '고양시일산서구', '과천시',\n",
       "       '구리시', '남양주시', '오산시', '시흥시', '군포시', '의왕시', '하남시', '용인시처인구', '용인시기흥구',\n",
       "       '용인시수지구', '파주시', '이천시', '안성시', '김포시', '화성시', '광주시', '양주시', '포천시', '여주시',\n",
       "       '연천군', '가평군', '양평군'],\n",
       "      dtype='object', name='구분')"
      ]
     },
     "execution_count": 24,
     "metadata": {},
     "output_type": "execute_result"
    }
   ],
   "source": [
    "df.index"
   ]
  },
  {
   "cell_type": "code",
   "execution_count": 23,
   "metadata": {},
   "outputs": [],
   "source": [
    "#3. 지도에 표시하기\n",
    "g_map = folium.Map(location=[37.5502,126.982],zoom_start=9)\n",
    "year='2017'\n",
    "folium.Choropleth(geo_data=geo_data,  #위치 정보를 가진 딕셔너리 데이터\n",
    "                  data = df[year],    #표시 데이터\n",
    "                  columns = [df.index,df[year]], #지역명:데이터\n",
    "                  fill_color=\"YlOrRd\", #채워질 색상맵. 데이터의 값에 따라 색상 설정\n",
    "                  fill_opacity=0.7,  #내부 투명도\n",
    "                  line_opacity=0.3,  #경계 투명도\n",
    "                  #색상으로 표시될 데이터의 범위 지정\n",
    "                  threshold_scale=[10000,100000,200000,300000,400000,500000,600000,700000],\n",
    "                  key_on=\"feature.properties.name\",  #데이터와 지도표시될 지역부분을 연결 값 설정\n",
    ").add_to(g_map)\n",
    "g_map.save(\"경기1_\"+year+\".html\")"
   ]
  },
  {
   "cell_type": "code",
   "execution_count": 30,
   "metadata": {},
   "outputs": [
    {
     "data": {
      "text/html": [
       "<div>\n",
       "<style scoped>\n",
       "    .dataframe tbody tr th:only-of-type {\n",
       "        vertical-align: middle;\n",
       "    }\n",
       "\n",
       "    .dataframe tbody tr th {\n",
       "        vertical-align: top;\n",
       "    }\n",
       "\n",
       "    .dataframe thead th {\n",
       "        text-align: right;\n",
       "    }\n",
       "</style>\n",
       "<table border=\"1\" class=\"dataframe\">\n",
       "  <thead>\n",
       "    <tr style=\"text-align: right;\">\n",
       "      <th></th>\n",
       "      <th>2007</th>\n",
       "      <th>2008</th>\n",
       "      <th>2009</th>\n",
       "      <th>2010</th>\n",
       "      <th>2011</th>\n",
       "      <th>2012</th>\n",
       "      <th>2013</th>\n",
       "      <th>2014</th>\n",
       "      <th>2015</th>\n",
       "      <th>2016</th>\n",
       "      <th>2017</th>\n",
       "    </tr>\n",
       "    <tr>\n",
       "      <th>구분</th>\n",
       "      <th></th>\n",
       "      <th></th>\n",
       "      <th></th>\n",
       "      <th></th>\n",
       "      <th></th>\n",
       "      <th></th>\n",
       "      <th></th>\n",
       "      <th></th>\n",
       "      <th></th>\n",
       "      <th></th>\n",
       "      <th></th>\n",
       "    </tr>\n",
       "  </thead>\n",
       "  <tbody>\n",
       "    <tr>\n",
       "      <th>남양주시</th>\n",
       "      <td>492347</td>\n",
       "      <td>505867</td>\n",
       "      <td>525211</td>\n",
       "      <td>564141</td>\n",
       "      <td>578485</td>\n",
       "      <td>599539</td>\n",
       "      <td>618305</td>\n",
       "      <td>636256</td>\n",
       "      <td>653454</td>\n",
       "      <td>662154</td>\n",
       "      <td>665321</td>\n",
       "    </tr>\n",
       "    <tr>\n",
       "      <th>화성시</th>\n",
       "      <td>371972</td>\n",
       "      <td>449354</td>\n",
       "      <td>491528</td>\n",
       "      <td>505838</td>\n",
       "      <td>516765</td>\n",
       "      <td>525490</td>\n",
       "      <td>530251</td>\n",
       "      <td>540862</td>\n",
       "      <td>596525</td>\n",
       "      <td>640890</td>\n",
       "      <td>691086</td>\n",
       "    </tr>\n",
       "  </tbody>\n",
       "</table>\n",
       "</div>"
      ],
      "text/plain": [
       "        2007    2008    2009    2010    2011    2012    2013    2014    2015  \\\n",
       "구분                                                                             \n",
       "남양주시  492347  505867  525211  564141  578485  599539  618305  636256  653454   \n",
       "화성시   371972  449354  491528  505838  516765  525490  530251  540862  596525   \n",
       "\n",
       "        2016    2017  \n",
       "구분                    \n",
       "남양주시  662154  665321  \n",
       "화성시   640890  691086  "
      ]
     },
     "execution_count": 30,
     "metadata": {},
     "output_type": "execute_result"
    }
   ],
   "source": [
    "#남양주시, 화성시 데이터 조회하기\n",
    "#df.loc[\"남양주시\"][\"2017\"]\n",
    "#df.loc[\"화성시\"]\n",
    "#df.loc[[\"화성시\"]]\n",
    "df.loc[[\"남양주시\",\"화성시\"]]"
   ]
  },
  {
   "cell_type": "code",
   "execution_count": 35,
   "metadata": {},
   "outputs": [
    {
     "name": "stdout",
     "output_type": "stream",
     "text": [
      "<class 'pandas.core.frame.DataFrame'>\n",
      "RangeIndex: 50 entries, 0 to 49\n",
      "Data columns (total 2 columns):\n",
      " #   Column        Non-Null Count  Dtype  \n",
      "---  ------        --------------  -----  \n",
      " 0   State         50 non-null     object \n",
      " 1   Unemployment  50 non-null     float64\n",
      "dtypes: float64(1), object(1)\n",
      "memory usage: 932.0+ bytes\n"
     ]
    }
   ],
   "source": [
    "state_geo = \"data/us-states.json\"  #문자열. 파일위치정보를 가진 문자열\n",
    "state_unemployment = \"data/US_Unemployment_Oct2012.csv\"\n",
    "state_data = pd.read_csv(state_unemployment)  #지도에 표시할 데이터읽기\n",
    "state_data.info()"
   ]
  },
  {
   "cell_type": "code",
   "execution_count": 36,
   "metadata": {},
   "outputs": [
    {
     "data": {
      "text/html": [
       "<div>\n",
       "<style scoped>\n",
       "    .dataframe tbody tr th:only-of-type {\n",
       "        vertical-align: middle;\n",
       "    }\n",
       "\n",
       "    .dataframe tbody tr th {\n",
       "        vertical-align: top;\n",
       "    }\n",
       "\n",
       "    .dataframe thead th {\n",
       "        text-align: right;\n",
       "    }\n",
       "</style>\n",
       "<table border=\"1\" class=\"dataframe\">\n",
       "  <thead>\n",
       "    <tr style=\"text-align: right;\">\n",
       "      <th></th>\n",
       "      <th>State</th>\n",
       "      <th>Unemployment</th>\n",
       "    </tr>\n",
       "  </thead>\n",
       "  <tbody>\n",
       "    <tr>\n",
       "      <th>0</th>\n",
       "      <td>AL</td>\n",
       "      <td>7.1</td>\n",
       "    </tr>\n",
       "    <tr>\n",
       "      <th>1</th>\n",
       "      <td>AK</td>\n",
       "      <td>6.8</td>\n",
       "    </tr>\n",
       "    <tr>\n",
       "      <th>2</th>\n",
       "      <td>AZ</td>\n",
       "      <td>8.1</td>\n",
       "    </tr>\n",
       "    <tr>\n",
       "      <th>3</th>\n",
       "      <td>AR</td>\n",
       "      <td>7.2</td>\n",
       "    </tr>\n",
       "    <tr>\n",
       "      <th>4</th>\n",
       "      <td>CA</td>\n",
       "      <td>10.1</td>\n",
       "    </tr>\n",
       "  </tbody>\n",
       "</table>\n",
       "</div>"
      ],
      "text/plain": [
       "  State  Unemployment\n",
       "0    AL           7.1\n",
       "1    AK           6.8\n",
       "2    AZ           8.1\n",
       "3    AR           7.2\n",
       "4    CA          10.1"
      ]
     },
     "execution_count": 36,
     "metadata": {},
     "output_type": "execute_result"
    }
   ],
   "source": [
    "state_data.head()"
   ]
  },
  {
   "cell_type": "code",
   "execution_count": 34,
   "metadata": {},
   "outputs": [],
   "source": [
    "m = folium.Map(location=[48, -102], zoom_start=3)  #m : 지도 데이터만 저장\n",
    "folium.Choropleth(\n",
    "    state_geo,  #문자열. 파일의 위치.data/us-states.json\n",
    "    data=state_data,  #화면에 표시할 데이터\n",
    "    columns=[\"State\", \"Unemployment\"],\n",
    "    key_on=\"feature.id\", #데이터와 지도 위치 연결 컬럼\n",
    "    fill_color=\"YlGn\", \n",
    "    fill_opacity=0.7,\n",
    "    line_opacity=0.2,\n",
    "    legend_name=\"Unemployment Rate (%)\", #색상맵 아래에 표시되는 범례 데이터\n",
    ").add_to(m)\n",
    "m.save('usa1.html')\n"
   ]
  },
  {
   "cell_type": "code",
   "execution_count": 37,
   "metadata": {},
   "outputs": [],
   "source": [
    "######## numpy \n",
    "# 행렬,통계관련 기본함수, 배열 기능 제공하는 모듈\n",
    "import numpy as np"
   ]
  },
  {
   "cell_type": "code",
   "execution_count": 39,
   "metadata": {},
   "outputs": [
    {
     "data": {
      "text/plain": [
       "array([[ 0,  1,  2,  3,  4],\n",
       "       [ 5,  6,  7,  8,  9],\n",
       "       [10, 11, 12, 13, 14]])"
      ]
     },
     "execution_count": 39,
     "metadata": {},
     "output_type": "execute_result"
    }
   ],
   "source": [
    "#배열 생성하기\n",
    "np.arange(15)  #0~14까지의 숫자를 1차원 배열로 생성\n",
    "a=np.arange(15).reshape(3,5) #0~14까지의 값을 3행5열의 2차원 배열로 생성\n",
    "a"
   ]
  },
  {
   "cell_type": "code",
   "execution_count": 46,
   "metadata": {},
   "outputs": [
    {
     "name": "stdout",
     "output_type": "stream",
     "text": [
      "a의 자료형 <class 'numpy.ndarray'>\n",
      "a의 형태 (3, 5)\n",
      "np.arange(15) 의 형태 (15,)\n",
      "a 배열의 차수: 2\n",
      "np.arange(15) 의 차수: 1\n",
      "a 배열의 요소의 갯수: 15\n",
      "a 배열의 요소의 자료형의 바이트 크기: 8\n"
     ]
    }
   ],
   "source": [
    "print(\"a의 자료형\",type(a))\n",
    "print(\"a의 형태\",a.shape)  #(3, 5) : 2차원배열\n",
    "print(\"np.arange(15) 의 형태\",np.arange(15).shape) #(15,) : 1차원 배열\n",
    "print(\"a 배열의 차수:\",a.ndim)\n",
    "print(\"np.arange(15) 의 차수:\",np.arange(15).ndim)\n",
    "print(\"a 배열의 요소의 갯수:\",a.size)\n",
    "print(\"a 배열의 요소의 자료형의 바이트 크기:\",a.itemsize)\n"
   ]
  },
  {
   "cell_type": "code",
   "execution_count": 49,
   "metadata": {},
   "outputs": [
    {
     "name": "stdout",
     "output_type": "stream",
     "text": [
      "<class 'numpy.ndarray'>\n",
      "<class 'list'>\n"
     ]
    }
   ],
   "source": [
    "#리스트로 배열 생성하기\n",
    "b = np.array([6,7,8])\n",
    "b\n",
    "print(type(b))\n",
    "print(type([6,7,8]))"
   ]
  },
  {
   "cell_type": "code",
   "execution_count": 50,
   "metadata": {},
   "outputs": [
    {
     "data": {
      "text/plain": [
       "array([6, 7, 8])"
      ]
     },
     "execution_count": 50,
     "metadata": {},
     "output_type": "execute_result"
    }
   ],
   "source": [
    "#튜플로 배열 생성하여 c에 저장하기\n",
    "c = np.array((6,7,8))\n",
    "c"
   ]
  },
  {
   "cell_type": "code",
   "execution_count": 51,
   "metadata": {},
   "outputs": [
    {
     "data": {
      "text/plain": [
       "array([[6, 7, 8],\n",
       "       [1, 2, 3]])"
      ]
     },
     "execution_count": 51,
     "metadata": {},
     "output_type": "execute_result"
    }
   ],
   "source": [
    "#리스트로 2차원 배열 생성하기\n",
    "d = np.array([[6,7,8],[1,2,3]])\n",
    "d"
   ]
  },
  {
   "cell_type": "code",
   "execution_count": 52,
   "metadata": {},
   "outputs": [
    {
     "data": {
      "text/plain": [
       "array([[0, 0, 0, 0],\n",
       "       [0, 0, 0, 0],\n",
       "       [0, 0, 0, 0]])"
      ]
     },
     "execution_count": 52,
     "metadata": {},
     "output_type": "execute_result"
    }
   ],
   "source": [
    "#요소의 값이 0인 3행 4열 배열 e를 생성하기\n",
    "e = np.array([[0,0,0,0],[0,0,0,0],[0,0,0,0]])\n",
    "e"
   ]
  },
  {
   "cell_type": "code",
   "execution_count": 54,
   "metadata": {},
   "outputs": [
    {
     "data": {
      "text/plain": [
       "array([0., 0., 0., 0., 0., 0., 0., 0., 0., 0., 0., 0., 0., 0., 0., 0., 0.,\n",
       "       0., 0., 0., 0., 0., 0., 0., 0., 0., 0., 0., 0., 0., 0., 0., 0., 0.,\n",
       "       0., 0., 0., 0., 0., 0., 0., 0., 0., 0., 0., 0., 0., 0., 0., 0., 0.,\n",
       "       0., 0., 0., 0., 0., 0., 0., 0., 0., 0., 0., 0., 0., 0., 0., 0., 0.,\n",
       "       0., 0., 0., 0., 0., 0., 0., 0., 0., 0., 0., 0., 0., 0., 0., 0., 0.,\n",
       "       0., 0., 0., 0., 0., 0., 0., 0., 0., 0., 0., 0., 0., 0., 0.])"
      ]
     },
     "execution_count": 54,
     "metadata": {},
     "output_type": "execute_result"
    }
   ],
   "source": [
    "#zeros :요소의 값이 0인 배열 생성하기\n",
    "f = np.zeros((3,4))\n",
    "f\n",
    "f = np.zeros(100)\n",
    "f"
   ]
  },
  {
   "cell_type": "code",
   "execution_count": 56,
   "metadata": {},
   "outputs": [
    {
     "data": {
      "text/plain": [
       "array([[1., 1., 1., 1., 1., 1., 1., 1., 1., 1.],\n",
       "       [1., 1., 1., 1., 1., 1., 1., 1., 1., 1.],\n",
       "       [1., 1., 1., 1., 1., 1., 1., 1., 1., 1.],\n",
       "       [1., 1., 1., 1., 1., 1., 1., 1., 1., 1.],\n",
       "       [1., 1., 1., 1., 1., 1., 1., 1., 1., 1.],\n",
       "       [1., 1., 1., 1., 1., 1., 1., 1., 1., 1.],\n",
       "       [1., 1., 1., 1., 1., 1., 1., 1., 1., 1.],\n",
       "       [1., 1., 1., 1., 1., 1., 1., 1., 1., 1.],\n",
       "       [1., 1., 1., 1., 1., 1., 1., 1., 1., 1.],\n",
       "       [1., 1., 1., 1., 1., 1., 1., 1., 1., 1.]])"
      ]
     },
     "execution_count": 56,
     "metadata": {},
     "output_type": "execute_result"
    }
   ],
   "source": [
    "#ones :요소의 값이 1인 배열 생성하기\n",
    "g = np.ones(100)  #100개\n",
    "g\n",
    "g = np.ones((10,10)) #10행 10열\n",
    "g"
   ]
  },
  {
   "cell_type": "code",
   "execution_count": 57,
   "metadata": {},
   "outputs": [
    {
     "data": {
      "text/plain": [
       "array([[   0,    1,    2, ...,   97,   98,   99],\n",
       "       [ 100,  101,  102, ...,  197,  198,  199],\n",
       "       [ 200,  201,  202, ...,  297,  298,  299],\n",
       "       ...,\n",
       "       [9700, 9701, 9702, ..., 9797, 9798, 9799],\n",
       "       [9800, 9801, 9802, ..., 9897, 9898, 9899],\n",
       "       [9900, 9901, 9902, ..., 9997, 9998, 9999]])"
      ]
     },
     "execution_count": 57,
     "metadata": {},
     "output_type": "execute_result"
    }
   ],
   "source": [
    "#0~9999까지의 값을 가진 배열을 100행 100열 의 배열 i를 생성하기\n",
    "i = np.arange(10000).reshape(100,100)\n",
    "i"
   ]
  },
  {
   "cell_type": "code",
   "execution_count": 58,
   "metadata": {},
   "outputs": [
    {
     "data": {
      "text/plain": [
       "array([0.  , 0.25, 0.5 , 0.75, 1.  , 1.25, 1.5 , 1.75, 2.  ])"
      ]
     },
     "execution_count": 58,
     "metadata": {},
     "output_type": "execute_result"
    }
   ],
   "source": [
    "#0~2사이의 숫자를 9개로 균등분할하여 배열 저장하기\n",
    "j = np.linspace(0,2,9)\n",
    "j"
   ]
  },
  {
   "cell_type": "code",
   "execution_count": 59,
   "metadata": {},
   "outputs": [
    {
     "data": {
      "text/plain": [
       "array([0.        , 0.47368421, 0.94736842, 1.42105263, 1.89473684,\n",
       "       2.36842105, 2.84210526, 3.31578947, 3.78947368, 4.26315789,\n",
       "       4.73684211, 5.21052632, 5.68421053, 6.15789474, 6.63157895,\n",
       "       7.10526316, 7.57894737, 8.05263158, 8.52631579, 9.        ])"
      ]
     },
     "execution_count": 59,
     "metadata": {},
     "output_type": "execute_result"
    }
   ],
   "source": [
    "#0~9사이의 숫자를 20개로 균등분할하여 배열 저장하기\n",
    "l = np.linspace(0,9,20)\n",
    "l"
   ]
  },
  {
   "cell_type": "code",
   "execution_count": 61,
   "metadata": {},
   "outputs": [
    {
     "data": {
      "text/plain": [
       "array([1, 1, 1, 1, 1, 1, 1, 1, 1, 1])"
      ]
     },
     "execution_count": 61,
     "metadata": {},
     "output_type": "execute_result"
    }
   ],
   "source": [
    "#정수형값 1을 요소로 가진 배열 m을 생성하기\n",
    "m = np.ones(10,dtype=int)\n",
    "m"
   ]
  },
  {
   "cell_type": "code",
   "execution_count": 62,
   "metadata": {},
   "outputs": [
    {
     "data": {
      "text/plain": [
       "3.141592653589793"
      ]
     },
     "execution_count": 62,
     "metadata": {},
     "output_type": "execute_result"
    }
   ],
   "source": [
    "#numpy에 저장된 상수\n",
    "np.pi"
   ]
  },
  {
   "cell_type": "code",
   "execution_count": 63,
   "metadata": {},
   "outputs": [
    {
     "name": "stdout",
     "output_type": "stream",
     "text": [
      "[20 30 40 50] [0 1 2 3]\n"
     ]
    }
   ],
   "source": [
    "#numpy 데이터 연산\n",
    "#1. 1차원 배열의 연산\n",
    "a = np.array([20,30,40,50])\n",
    "b = np.arange(4)\n",
    "print(a,b)"
   ]
  },
  {
   "cell_type": "code",
   "execution_count": 64,
   "metadata": {},
   "outputs": [
    {
     "data": {
      "text/plain": [
       "array([20, 29, 38, 47])"
      ]
     },
     "execution_count": 64,
     "metadata": {},
     "output_type": "execute_result"
    }
   ],
   "source": [
    "c = a - b\n",
    "c"
   ]
  },
  {
   "cell_type": "code",
   "execution_count": 65,
   "metadata": {},
   "outputs": [
    {
     "data": {
      "text/plain": [
       "array([20, 31, 42, 53])"
      ]
     },
     "execution_count": 65,
     "metadata": {},
     "output_type": "execute_result"
    }
   ],
   "source": [
    "c = a + b\n",
    "c"
   ]
  },
  {
   "cell_type": "code",
   "execution_count": 66,
   "metadata": {},
   "outputs": [
    {
     "data": {
      "text/plain": [
       "array([     1,     30,   1600, 125000])"
      ]
     },
     "execution_count": 66,
     "metadata": {},
     "output_type": "execute_result"
    }
   ],
   "source": [
    "c = a ** b\n",
    "c"
   ]
  },
  {
   "cell_type": "code",
   "execution_count": 69,
   "metadata": {},
   "outputs": [
    {
     "data": {
      "text/plain": [
       "array([0, 2, 4, 6])"
      ]
     },
     "execution_count": 69,
     "metadata": {},
     "output_type": "execute_result"
    }
   ],
   "source": [
    "c = a < 35\n",
    "c\n",
    "d = b ** 2\n",
    "d\n",
    "e = b * 2\n",
    "e"
   ]
  },
  {
   "cell_type": "code",
   "execution_count": 70,
   "metadata": {},
   "outputs": [
    {
     "name": "stdout",
     "output_type": "stream",
     "text": [
      "[[1 1]\n",
      " [0 1]]\n",
      "[[2 0]\n",
      " [3 4]]\n"
     ]
    }
   ],
   "source": [
    "#2차원 배열의 연산\n",
    "a = np.array([[1,1],[0,1]])\n",
    "b = np.array([[2,0],[3,4]])\n",
    "print(a)\n",
    "print(b)"
   ]
  },
  {
   "cell_type": "code",
   "execution_count": 71,
   "metadata": {},
   "outputs": [
    {
     "name": "stdout",
     "output_type": "stream",
     "text": [
      "[[3 1]\n",
      " [3 5]]\n"
     ]
    }
   ],
   "source": [
    "c = a+b\n",
    "print(c)"
   ]
  },
  {
   "cell_type": "code",
   "execution_count": 72,
   "metadata": {},
   "outputs": [
    {
     "name": "stdout",
     "output_type": "stream",
     "text": [
      "[[-1  1]\n",
      " [-3 -3]]\n"
     ]
    }
   ],
   "source": [
    "c = a-b  # [[1 1],[0 1]]  -  [[2 0],[3 4]]\n",
    "print(c)"
   ]
  },
  {
   "cell_type": "code",
   "execution_count": 73,
   "metadata": {},
   "outputs": [
    {
     "name": "stdout",
     "output_type": "stream",
     "text": [
      "[[2 0]\n",
      " [0 4]]\n"
     ]
    }
   ],
   "source": [
    "c = a*b  # [[1 1],[0 1]]  *  [[2 0],[3 4]]\n",
    "print(c)"
   ]
  },
  {
   "cell_type": "code",
   "execution_count": 74,
   "metadata": {},
   "outputs": [
    {
     "name": "stdout",
     "output_type": "stream",
     "text": [
      "[[5 4]\n",
      " [3 4]]\n"
     ]
    }
   ],
   "source": [
    "#@, dot : 행렬의 곱\n",
    "c = a@b  # [[1 1],[0 1]]  *  [[2 0],[3 4]]\n",
    "print(c)\n",
    "''' \n",
    " [[5,4],        [[1 1]  @  [[2 0]   : [1*2 + 1*3][1*0 + 1*4]\n",
    "  [3,4]]         [0 1]]    [3 4]]    [0*2 + 1*3][0*0 + 1*4]\n",
    "'''"
   ]
  },
  {
   "cell_type": "code",
   "execution_count": 75,
   "metadata": {},
   "outputs": [
    {
     "name": "stdout",
     "output_type": "stream",
     "text": [
      "[[5 4]\n",
      " [3 4]]\n"
     ]
    }
   ],
   "source": [
    "c = a.dot(b)\n",
    "print(c)"
   ]
  },
  {
   "cell_type": "code",
   "execution_count": 77,
   "metadata": {},
   "outputs": [
    {
     "data": {
      "text/plain": [
       "array([[0.51182162, 0.9504637 , 0.14415961],\n",
       "       [0.94864945, 0.31183145, 0.42332645]])"
      ]
     },
     "execution_count": 77,
     "metadata": {},
     "output_type": "execute_result"
    }
   ],
   "source": [
    "#난수 : 임의의 수\n",
    "rg = np.random.default_rng(1) #seed값 설정\n",
    "a = rg.random((2,3))  #2행 3열의 배열\n",
    "a"
   ]
  },
  {
   "cell_type": "code",
   "execution_count": 81,
   "metadata": {},
   "outputs": [
    {
     "data": {
      "text/plain": [
       "array([[0.51182162, 0.9504637 , 0.14415961],\n",
       "       [0.94864945, 0.31183145, 0.42332645]])"
      ]
     },
     "execution_count": 81,
     "metadata": {},
     "output_type": "execute_result"
    }
   ],
   "source": [
    "rg = np.random.default_rng(1)\n",
    "a = rg.random((2,3))\n",
    "a"
   ]
  },
  {
   "cell_type": "code",
   "execution_count": 92,
   "metadata": {},
   "outputs": [
    {
     "data": {
      "text/plain": [
       "np.float64(0.3050167130701734)"
      ]
     },
     "execution_count": 92,
     "metadata": {},
     "output_type": "execute_result"
    }
   ],
   "source": [
    "a.sum()  #합계\n",
    "a.min()  #최소값\n",
    "a.max()  #최대값\n",
    "a.mean() #평균\n",
    "#a.median() #중간값 . 오류\n",
    "a.std() #표준편차\n"
   ]
  },
  {
   "cell_type": "code",
   "execution_count": 97,
   "metadata": {},
   "outputs": [
    {
     "data": {
      "text/plain": [
       "array([[0.51182162, 0.9504637 , 0.14415961],\n",
       "       [0.94864945, 0.31183145, 0.42332645]])"
      ]
     },
     "execution_count": 97,
     "metadata": {},
     "output_type": "execute_result"
    }
   ],
   "source": [
    "a"
   ]
  },
  {
   "cell_type": "code",
   "execution_count": 99,
   "metadata": {},
   "outputs": [
    {
     "data": {
      "text/plain": [
       "array([0.94864945, 0.9504637 , 0.42332645])"
      ]
     },
     "execution_count": 99,
     "metadata": {},
     "output_type": "execute_result"
    }
   ],
   "source": [
    "#a배열의 행 중 최대값\n",
    "a.max(axis=1) #행별. 컬럼의 값중 최대값\n",
    "#a배열의 열 중 최대값\n",
    "a.max(axis=0)\n"
   ]
  },
  {
   "cell_type": "code",
   "execution_count": 100,
   "metadata": {},
   "outputs": [
    {
     "data": {
      "text/plain": [
       "array([1.60644493, 1.68380735])"
      ]
     },
     "execution_count": 100,
     "metadata": {},
     "output_type": "execute_result"
    }
   ],
   "source": [
    "#a 배열의 행별 합계\n",
    "a.sum(axis=1)"
   ]
  },
  {
   "cell_type": "code",
   "execution_count": 101,
   "metadata": {},
   "outputs": [
    {
     "data": {
      "text/plain": [
       "array([[0.51182162, 1.46228532, 1.60644493],\n",
       "       [0.94864945, 1.2604809 , 1.68380735]])"
      ]
     },
     "execution_count": 101,
     "metadata": {},
     "output_type": "execute_result"
    }
   ],
   "source": [
    "#cumsum : 누적합계\n",
    "a.cumsum(axis=1)"
   ]
  },
  {
   "cell_type": "code",
   "execution_count": 106,
   "metadata": {},
   "outputs": [],
   "source": [
    "#0~9사이의 정수형 난수값을 가진 2행 2열 배열 생성하기\n",
    "#randint(num) : 정수형 난수\n",
    "#   0~num-1 까지의 정수의 범위 설정\n",
    "#   size=(2,2) : shape\n",
    "i = np.random.randint(10,size=(2,2))\n",
    "j = np.random.randint(10,size=(2,2))\n"
   ]
  },
  {
   "cell_type": "code",
   "execution_count": 107,
   "metadata": {},
   "outputs": [
    {
     "name": "stdout",
     "output_type": "stream",
     "text": [
      "[[2 3]\n",
      " [6 6]]\n",
      "[[7 9]\n",
      " [1 2]]\n"
     ]
    }
   ],
   "source": [
    "print(i)\n",
    "print(j)"
   ]
  },
  {
   "cell_type": "code",
   "execution_count": 108,
   "metadata": {},
   "outputs": [
    {
     "data": {
      "text/plain": [
       "array([[2, 3],\n",
       "       [6, 6],\n",
       "       [7, 9],\n",
       "       [1, 2]], dtype=int32)"
      ]
     },
     "execution_count": 108,
     "metadata": {},
     "output_type": "execute_result"
    }
   ],
   "source": [
    "np.vstack((i,j)) #행 기준으로 추가하기. 열의 갯수가 같아야 함"
   ]
  },
  {
   "cell_type": "code",
   "execution_count": 109,
   "metadata": {},
   "outputs": [
    {
     "data": {
      "text/plain": [
       "array([[2, 3, 7, 9],\n",
       "       [6, 6, 1, 2]], dtype=int32)"
      ]
     },
     "execution_count": 109,
     "metadata": {},
     "output_type": "execute_result"
    }
   ],
   "source": [
    "np.hstack((i,j)) #열 기준으로 추가하기. 행의 갯수가 같아야 함"
   ]
  },
  {
   "cell_type": "code",
   "execution_count": 114,
   "metadata": {},
   "outputs": [
    {
     "data": {
      "text/plain": [
       "array([[6, 0, 8, 0, 8, 9, 2, 1, 3, 6, 6, 2],\n",
       "       [7, 4, 7, 4, 5, 5, 4, 9, 1, 3, 8, 2]], dtype=int32)"
      ]
     },
     "execution_count": 114,
     "metadata": {},
     "output_type": "execute_result"
    }
   ],
   "source": [
    "#배열 나누기\n",
    "k = np.random.randint(10,size=(2,12))\n",
    "k"
   ]
  },
  {
   "cell_type": "code",
   "execution_count": 115,
   "metadata": {},
   "outputs": [
    {
     "data": {
      "text/plain": [
       "[array([[6, 0, 8, 0],\n",
       "        [7, 4, 7, 4]], dtype=int32),\n",
       " array([[8, 9, 2, 1],\n",
       "        [5, 5, 4, 9]], dtype=int32),\n",
       " array([[3, 6, 6, 2],\n",
       "        [1, 3, 8, 2]], dtype=int32)]"
      ]
     },
     "execution_count": 115,
     "metadata": {},
     "output_type": "execute_result"
    }
   ],
   "source": [
    "np.hsplit(k,3) #열을 분리 3개의 배열 분리"
   ]
  },
  {
   "cell_type": "code",
   "execution_count": 116,
   "metadata": {},
   "outputs": [
    {
     "data": {
      "text/plain": [
       "[array([[6, 0, 8, 0, 8, 9, 2, 1, 3, 6, 6, 2]], dtype=int32),\n",
       " array([[7, 4, 7, 4, 5, 5, 4, 9, 1, 3, 8, 2]], dtype=int32)]"
      ]
     },
     "execution_count": 116,
     "metadata": {},
     "output_type": "execute_result"
    }
   ],
   "source": [
    "np.vsplit(k,2)"
   ]
  },
  {
   "cell_type": "code",
   "execution_count": 117,
   "metadata": {},
   "outputs": [
    {
     "data": {
      "text/plain": [
       "array([[100,   0,   8,   0,   8,   9,   2,   1,   3,   6,   6,   2],\n",
       "       [  7,   4,   7,   4,   5,   5,   4,   9,   1,   3,   8,   2]],\n",
       "      dtype=int32)"
      ]
     },
     "execution_count": 117,
     "metadata": {},
     "output_type": "execute_result"
    }
   ],
   "source": [
    "#k 배열의 모든 요소의 값을 100으로 변경하기\n",
    "#k = 100  #k 자료형이 배열에서 k 자료형이 정수형 변경\n",
    "#k\n",
    "k[0,0] = 100  #한개의 값에 100값을 저장\n",
    "k"
   ]
  },
  {
   "cell_type": "code",
   "execution_count": 118,
   "metadata": {},
   "outputs": [
    {
     "data": {
      "text/plain": [
       "array([[100, 100, 100, 100, 100, 100, 100, 100, 100, 100, 100, 100],\n",
       "       [  7,   4,   7,   4,   5,   5,   4,   9,   1,   3,   8,   2]],\n",
       "      dtype=int32)"
      ]
     },
     "execution_count": 118,
     "metadata": {},
     "output_type": "execute_result"
    }
   ],
   "source": [
    "k[0,:] = 100  #한개 행의 요소값이 100값으로 저장\n",
    "k"
   ]
  },
  {
   "cell_type": "code",
   "execution_count": 119,
   "metadata": {},
   "outputs": [
    {
     "data": {
      "text/plain": [
       "array([[100, 100, 100, 100, 100, 100, 100, 100, 100, 100, 100, 100],\n",
       "       [100, 100, 100, 100, 100, 100, 100, 100, 100, 100, 100, 100]],\n",
       "      dtype=int32)"
      ]
     },
     "execution_count": 119,
     "metadata": {},
     "output_type": "execute_result"
    }
   ],
   "source": [
    "k[:] = 100  #전체 요소값이 100값으로 저장\n",
    "k"
   ]
  },
  {
   "cell_type": "code",
   "execution_count": 120,
   "metadata": {},
   "outputs": [
    {
     "data": {
      "text/plain": [
       "array([[3, 9, 9, 4, 4, 9, 9, 0, 2, 9, 7, 3],\n",
       "       [4, 0, 7, 2, 5, 5, 8, 4, 0, 1, 9, 5]], dtype=int32)"
      ]
     },
     "execution_count": 120,
     "metadata": {},
     "output_type": "execute_result"
    }
   ],
   "source": [
    "l = np.random.randint(10,size=(2,12))\n",
    "l"
   ]
  },
  {
   "cell_type": "code",
   "execution_count": 121,
   "metadata": {},
   "outputs": [
    {
     "data": {
      "text/plain": [
       "array([[200, 200, 200, 200, 200, 200, 200, 200, 200, 200, 200, 200],\n",
       "       [200, 200, 200, 200, 200, 200, 200, 200, 200, 200, 200, 200]],\n",
       "      dtype=int32)"
      ]
     },
     "execution_count": 121,
     "metadata": {},
     "output_type": "execute_result"
    }
   ],
   "source": [
    "l[:,:] = 200\n",
    "l"
   ]
  },
  {
   "cell_type": "code",
   "execution_count": 123,
   "metadata": {},
   "outputs": [
    {
     "data": {
      "text/plain": [
       "array([[ 4,  0,  2, 13],\n",
       "       [ 5,  7, 18, 11],\n",
       "       [14, 15,  2,  3],\n",
       "       [14, 15,  7, 19],\n",
       "       [ 5, 15,  3,  5]], dtype=int32)"
      ]
     },
     "execution_count": 123,
     "metadata": {},
     "output_type": "execute_result"
    }
   ],
   "source": [
    "#0~19사이의 임의의 정수를 가진 5행 4열 배열 m을 생성하기\n",
    "m=np.random.randint(20,size=(5,4))\n",
    "m"
   ]
  },
  {
   "cell_type": "code",
   "execution_count": 128,
   "metadata": {},
   "outputs": [
    {
     "name": "stdout",
     "output_type": "stream",
     "text": [
      "[[ 4  0  2 13]\n",
      " [ 5  7 18 11]\n",
      " [14 15  2  3]\n",
      " [14 15  7 19]\n",
      " [ 5 15  3  5]]\n",
      "m배열의 최대값 :  19\n",
      "m배열의 각행의 최대값 :  [13 18 15 19 15]\n",
      "m배열의 각열의 최대값 :  [14 15 18 19]\n",
      "m배열의 각행의 최대값의 위치 :  [3 2 1 3 1]\n",
      "m배열의 각열의 최대값의 위치 :  [2 2 1 3]\n"
     ]
    }
   ],
   "source": [
    "#m배열의 최대값 출력하기\n",
    "print(m)\n",
    "print(\"m배열의 최대값 : \",m.max())\n",
    "print(\"m배열의 각행의 최대값 : \",m.max(axis=1))\n",
    "print(\"m배열의 각열의 최대값 : \",m.max(axis=0))\n",
    "print(\"m배열의 각행의 최대값의 위치 : \",m.argmax(axis=1)) #컬럼의 위치값\n",
    "print(\"m배열의 각열의 최대값의 위치 : \",m.argmax(axis=0)) #행의 위치값\n",
    "\n"
   ]
  },
  {
   "cell_type": "code",
   "execution_count": 129,
   "metadata": {},
   "outputs": [
    {
     "data": {
      "text/plain": [
       "array([[1., 0., 0., 0., 0., 0., 0., 0., 0., 0.],\n",
       "       [0., 1., 0., 0., 0., 0., 0., 0., 0., 0.],\n",
       "       [0., 0., 1., 0., 0., 0., 0., 0., 0., 0.],\n",
       "       [0., 0., 0., 1., 0., 0., 0., 0., 0., 0.],\n",
       "       [0., 0., 0., 0., 1., 0., 0., 0., 0., 0.],\n",
       "       [0., 0., 0., 0., 0., 1., 0., 0., 0., 0.],\n",
       "       [0., 0., 0., 0., 0., 0., 1., 0., 0., 0.],\n",
       "       [0., 0., 0., 0., 0., 0., 0., 1., 0., 0.],\n",
       "       [0., 0., 0., 0., 0., 0., 0., 0., 1., 0.],\n",
       "       [0., 0., 0., 0., 0., 0., 0., 0., 0., 1.]])"
      ]
     },
     "execution_count": 129,
     "metadata": {},
     "output_type": "execute_result"
    }
   ],
   "source": [
    "#단위 행렬 : 대각선(행==열)셀의 값이 1인 배열\n",
    "n = np.eye(10,10)\n",
    "n"
   ]
  },
  {
   "cell_type": "code",
   "execution_count": 130,
   "metadata": {},
   "outputs": [
    {
     "data": {
      "text/plain": [
       "(array([0, 1, 2, 3, 4, 5, 6, 7, 8, 9]), array([0, 1, 2, 3, 4, 5, 6, 7, 8, 9]))"
      ]
     },
     "execution_count": 130,
     "metadata": {},
     "output_type": "execute_result"
    }
   ],
   "source": [
    "#n 배열 중 0이 아닌 요소의 위치값을 조회하기\n",
    "np.nonzero(n)"
   ]
  },
  {
   "cell_type": "code",
   "execution_count": 138,
   "metadata": {},
   "outputs": [
    {
     "name": "stdout",
     "output_type": "stream",
     "text": [
      "평균: 0.006352576619938143\n",
      "표준편차: 1.0083285235027755\n"
     ]
    }
   ],
   "source": [
    "#정규분포 형태의 난수 생성하기\n",
    "# \n",
    "o = np.random.normal(0,1,10000)\n",
    "o\n",
    "print(\"평균:\",o.mean())\n",
    "print(\"표준편차:\",o.std())"
   ]
  },
  {
   "cell_type": "code",
   "execution_count": 139,
   "metadata": {},
   "outputs": [
    {
     "data": {
      "text/plain": [
       "(array([  1.,   1.,   0.,   1.,   0.,   0.,   3.,   1.,   2.,   2.,   3.,\n",
       "          4.,   5.,   5.,   8.,   8.,  14.,  18.,  17.,  25.,  20.,  28.,\n",
       "         32.,  36.,  51.,  60.,  45.,  87.,  68.,  77.,  94., 121., 145.,\n",
       "        126., 144., 163., 204., 212., 207., 218., 291., 251., 254., 254.,\n",
       "        270., 270., 267., 316., 285., 306., 323., 285., 315., 299., 319.,\n",
       "        307., 266., 246., 247., 215., 215., 199., 214., 180., 151., 151.,\n",
       "        121., 127., 115.,  91.,  88.,  82.,  69.,  61.,  44.,  49.,  25.,\n",
       "         41.,  21.,  25.,  12.,  18.,  14.,   8.,   7.,   5.,   4.,   3.,\n",
       "          4.,   6.,   1.,   1.,   0.,   1.,   2.,   0.,   1.,   1.,   0.,\n",
       "          1.]),\n",
       " array([-3.86998778, -3.79211938, -3.71425098, -3.63638258, -3.55851418,\n",
       "        -3.48064578, -3.40277738, -3.32490899, -3.24704059, -3.16917219,\n",
       "        -3.09130379, -3.01343539, -2.93556699, -2.85769859, -2.77983019,\n",
       "        -2.70196179, -2.62409339, -2.54622499, -2.46835659, -2.3904882 ,\n",
       "        -2.3126198 , -2.2347514 , -2.156883  , -2.0790146 , -2.0011462 ,\n",
       "        -1.9232778 , -1.8454094 , -1.767541  , -1.6896726 , -1.6118042 ,\n",
       "        -1.5339358 , -1.4560674 , -1.37819901, -1.30033061, -1.22246221,\n",
       "        -1.14459381, -1.06672541, -0.98885701, -0.91098861, -0.83312021,\n",
       "        -0.75525181, -0.67738341, -0.59951501, -0.52164661, -0.44377821,\n",
       "        -0.36590982, -0.28804142, -0.21017302, -0.13230462, -0.05443622,\n",
       "         0.02343218,  0.10130058,  0.17916898,  0.25703738,  0.33490578,\n",
       "         0.41277418,  0.49064258,  0.56851098,  0.64637937,  0.72424777,\n",
       "         0.80211617,  0.87998457,  0.95785297,  1.03572137,  1.11358977,\n",
       "         1.19145817,  1.26932657,  1.34719497,  1.42506337,  1.50293177,\n",
       "         1.58080017,  1.65866856,  1.73653696,  1.81440536,  1.89227376,\n",
       "         1.97014216,  2.04801056,  2.12587896,  2.20374736,  2.28161576,\n",
       "         2.35948416,  2.43735256,  2.51522096,  2.59308936,  2.67095775,\n",
       "         2.74882615,  2.82669455,  2.90456295,  2.98243135,  3.06029975,\n",
       "         3.13816815,  3.21603655,  3.29390495,  3.37177335,  3.44964175,\n",
       "         3.52751015,  3.60537855,  3.68324694,  3.76111534,  3.83898374,\n",
       "         3.91685214]),\n",
       " <BarContainer object of 100 artists>)"
      ]
     },
     "execution_count": 139,
     "metadata": {},
     "output_type": "execute_result"
    },
    {
     "data": {
      "image/png": "[encoded data removed]",
      "text/plain": [
       "<Figure size 640x480 with 1 Axes>"
      ]
     },
     "metadata": {},
     "output_type": "display_data"
    }
   ],
   "source": [
    "#히스토그램으로 o 배열의 분포를 확인하기\n",
    "import matplotlib.pyplot as plt\n",
    "plt.rcParams['axes.unicode_minus']=False\n",
    "plt.hist(o,bins=100)"
   ]
  },
  {
   "cell_type": "code",
   "execution_count": 143,
   "metadata": {},
   "outputs": [
    {
     "name": "stdout",
     "output_type": "stream",
     "text": [
      "평균: 2.0112962885111796\n",
      "표준편차: 2.0035206131299352\n"
     ]
    },
    {
     "data": {
      "text/plain": [
       "(array([  1.,   0.,   0.,   0.,   0.,   0.,   0.,   0.,   0.,   1.,   1.,\n",
       "          0.,   1.,   1.,   1.,   2.,   0.,   1.,   5.,   4.,   5.,   5.,\n",
       "          4.,   8.,  16.,  10.,  17.,  17.,  24.,  34.,  27.,  35.,  52.,\n",
       "         47.,  50.,  64.,  79.,  88., 111., 119., 108., 134., 146., 200.,\n",
       "        187., 188., 216., 220., 247., 252., 264., 318., 302., 293., 302.,\n",
       "        304., 337., 312., 317., 305., 323., 329., 242., 276., 280., 229.,\n",
       "        259., 230., 219., 188., 182., 147., 173., 146., 133., 128., 113.,\n",
       "         91.,  77.,  74.,  63.,  66.,  43.,  28.,  26.,  27.,  20.,  13.,\n",
       "         19.,  19.,  11.,  11.,  12.,   8.,   4.,   3.,   4.,   0.,   0.,\n",
       "          2.]),\n",
       " array([-7.09819355, -6.93994453, -6.78169551, -6.6234465 , -6.46519748,\n",
       "        -6.30694846, -6.14869944, -5.99045042, -5.8322014 , -5.67395238,\n",
       "        -5.51570336, -5.35745434, -5.19920532, -5.04095631, -4.88270729,\n",
       "        -4.72445827, -4.56620925, -4.40796023, -4.24971121, -4.09146219,\n",
       "        -3.93321317, -3.77496415, -3.61671513, -3.45846612, -3.3002171 ,\n",
       "        -3.14196808, -2.98371906, -2.82547004, -2.66722102, -2.508972  ,\n",
       "        -2.35072298, -2.19247396, -2.03422494, -1.87597592, -1.71772691,\n",
       "        -1.55947789, -1.40122887, -1.24297985, -1.08473083, -0.92648181,\n",
       "        -0.76823279, -0.60998377, -0.45173475, -0.29348573, -0.13523672,\n",
       "         0.0230123 ,  0.18126132,  0.33951034,  0.49775936,  0.65600838,\n",
       "         0.8142574 ,  0.97250642,  1.13075544,  1.28900446,  1.44725347,\n",
       "         1.60550249,  1.76375151,  1.92200053,  2.08024955,  2.23849857,\n",
       "         2.39674759,  2.55499661,  2.71324563,  2.87149465,  3.02974367,\n",
       "         3.18799268,  3.3462417 ,  3.50449072,  3.66273974,  3.82098876,\n",
       "         3.97923778,  4.1374868 ,  4.29573582,  4.45398484,  4.61223386,\n",
       "         4.77048287,  4.92873189,  5.08698091,  5.24522993,  5.40347895,\n",
       "         5.56172797,  5.71997699,  5.87822601,  6.03647503,  6.19472405,\n",
       "         6.35297306,  6.51122208,  6.6694711 ,  6.82772012,  6.98596914,\n",
       "         7.14421816,  7.30246718,  7.4607162 ,  7.61896522,  7.77721424,\n",
       "         7.93546326,  8.09371227,  8.25196129,  8.41021031,  8.56845933,\n",
       "         8.72670835]),\n",
       " <BarContainer object of 100 artists>)"
      ]
     },
     "execution_count": 143,
     "metadata": {},
     "output_type": "execute_result"
    },
    {
     "data": {
      "image/png": "[encoded data removed]",
      "text/plain": [
       "<Figure size 640x480 with 1 Axes>"
      ]
     },
     "metadata": {},
     "output_type": "display_data"
    }
   ],
   "source": [
    "#평균:2, 표준편차:2인  난수 10000개를 생성하고, 히스토그램 그래프로 출력하기\n",
    "p = np.random.normal(2,2,10000) #(평균,표준편차,갯수)\n",
    "p\n",
    "print(\"평균:\",p.mean())\n",
    "print(\"표준편차:\",p.std())\n",
    "plt.hist(p,bins=100)"
   ]
  },
  {
   "cell_type": "code",
   "execution_count": 159,
   "metadata": {},
   "outputs": [
    {
     "data": {
      "text/plain": [
       "array([2, 8, 4, 9, 9, 1, 6, 1, 6, 9, 9], dtype=int32)"
      ]
     },
     "execution_count": 159,
     "metadata": {},
     "output_type": "execute_result"
    }
   ],
   "source": [
    "''' \n",
    "  choice 함수 : 값을 선택\n",
    "     choice(값의범위,선택갯수,재선택여부)\n",
    "        choice(10,5,replace=True)\n",
    "          10 : 0~9 사이의 값\n",
    "          5  : 5개 선택\n",
    "          replace=True/False : 재선택 가능/불가    \n",
    "'''\n",
    "q=np.random.choice(10,5,replace=True)\n",
    "q"
   ]
  },
  {
   "cell_type": "code",
   "execution_count": 181,
   "metadata": {},
   "outputs": [
    {
     "data": {
      "text/plain": [
       "array([ 3, 14, 15, 18, 25, 32], dtype=int32)"
      ]
     },
     "execution_count": 181,
     "metadata": {},
     "output_type": "execute_result"
    }
   ],
   "source": [
    "#1~45사이의 수를 중복없이 6개를 선택하여 lotto 변수에 저장하기\n",
    "lotto = np.random.choice(45,6,replace=False) + 1 #(0~44) + 1 사이의 임의의 정수 6개 선택\n",
    "lotto.sort()\n",
    "lotto"
   ]
  },
  {
   "cell_type": "markdown",
   "metadata": {},
   "source": [
    "# 행정안전부 : www.mois.go.kr\n",
    "-> 정책자료 -> 주민등록인구통계 -> 연령별인구현황\n",
    "   -> 계:선택, 남여구분:선택안함\n",
    "   -> 연령 구분 단위 : 1세\n",
    "   -> 만 연령구분 : 0세 ~ 100세이상->검색버튼클릭\n",
    "   -> 전체읍면동현황 선택\n",
    "   -> csv파일로 다운받기 (age.csv 파일로 이름 변경)\n",
    " -- age.csv 파일 data폴더에 저장하기"
   ]
  },
  {
   "cell_type": "code",
   "execution_count": 184,
   "metadata": {},
   "outputs": [
    {
     "data": {
      "text/plain": [
       "_csv.reader"
      ]
     },
     "execution_count": 184,
     "metadata": {},
     "output_type": "execute_result"
    }
   ],
   "source": [
    "import numpy as np\n",
    "import csv\n",
    "import re\n",
    "f = open(\"data/age.csv\",encoding=\"cp949\")\n",
    "data = csv.reader(f)\n",
    "type(data)"
   ]
  },
  {
   "cell_type": "code",
   "execution_count": 185,
   "metadata": {},
   "outputs": [
    {
     "name": "stdout",
     "output_type": "stream",
     "text": [
      "['서울특별시 강남구 역삼1동(1168064000)', '34,237', '34,237', '128', '83', '73', '69', '65', '70', '69', '70', '81', '93', '78', '115', '120', '112', '125', '116', '145', '138', '136', '172', '215', '249', '292', '473', '570', '693', '895', '959', '1,134', '1,170', '1,245', '1,280', '1,232', '1,056', '1,032', '887', '743', '757', '722', '717', '738', '706', '743', '744', '631', '581', '534', '473', '482', '464', '478', '527', '498', '495', '441', '423', '383', '351', '346', '326', '309', '349', '293', '314', '349', '291', '297', '280', '259', '266', '207', '197', '181', '147', '169', '173', '164', '179', '110', '141', '102', '113', '128', '86', '68', '69', '46', '36', '43', '38', '21', '10', '11', '10', '14', '8', '5', '4', '3', '1', '3']\n",
      "['서울특별시 강남구 역삼2동(1168065000)', '36,256', '36,256', '107', '111', '124', '123', '134', '183', '222', '298', '345', '439', '464', '550', '640', '711', '611', '633', '634', '545', '502', '478', '426', '356', '347', '409', '407', '415', '523', '480', '521', '517', '516', '496', '478', '435', '431', '398', '395', '438', '434', '436', '571', '668', '773', '856', '938', '831', '868', '912', '892', '898', '906', '855', '798', '780', '636', '538', '451', '380', '399', '295', '279', '289', '240', '282', '264', '252', '240', '240', '242', '239', '234', '195', '213', '162', '201', '198', '183', '204', '156', '144', '118', '129', '113', '87', '78', '64', '54', '46', '37', '31', '24', '14', '11', '15', '5', '5', '3', '2', '3', '0', '3']\n"
     ]
    }
   ],
   "source": [
    "import matplotlib.pyplot as plt\n",
    "name = \"역삼\"\n",
    "for row in data :\n",
    "    if row[0].find(name) >= 0 :\n",
    "        print(row)"
   ]
  },
  {
   "cell_type": "code",
   "execution_count": 277,
   "metadata": {},
   "outputs": [
    {
     "data": {
      "text/html": [
       "<div>\n",
       "<style scoped>\n",
       "    .dataframe tbody tr th:only-of-type {\n",
       "        vertical-align: middle;\n",
       "    }\n",
       "\n",
       "    .dataframe tbody tr th {\n",
       "        vertical-align: top;\n",
       "    }\n",
       "\n",
       "    .dataframe thead th {\n",
       "        text-align: right;\n",
       "    }\n",
       "</style>\n",
       "<table border=\"1\" class=\"dataframe\">\n",
       "  <thead>\n",
       "    <tr style=\"text-align: right;\">\n",
       "      <th></th>\n",
       "      <th>2024년06월_계_총인구수</th>\n",
       "      <th>2024년06월_계_연령구간인구수</th>\n",
       "      <th>2024년06월_계_0세</th>\n",
       "      <th>2024년06월_계_1세</th>\n",
       "      <th>2024년06월_계_2세</th>\n",
       "      <th>2024년06월_계_3세</th>\n",
       "      <th>2024년06월_계_4세</th>\n",
       "      <th>2024년06월_계_5세</th>\n",
       "      <th>2024년06월_계_6세</th>\n",
       "      <th>2024년06월_계_7세</th>\n",
       "      <th>...</th>\n",
       "      <th>2024년06월_계_91세</th>\n",
       "      <th>2024년06월_계_92세</th>\n",
       "      <th>2024년06월_계_93세</th>\n",
       "      <th>2024년06월_계_94세</th>\n",
       "      <th>2024년06월_계_95세</th>\n",
       "      <th>2024년06월_계_96세</th>\n",
       "      <th>2024년06월_계_97세</th>\n",
       "      <th>2024년06월_계_98세</th>\n",
       "      <th>2024년06월_계_99세</th>\n",
       "      <th>2024년06월_계_100세 이상</th>\n",
       "    </tr>\n",
       "    <tr>\n",
       "      <th>행정구역</th>\n",
       "      <th></th>\n",
       "      <th></th>\n",
       "      <th></th>\n",
       "      <th></th>\n",
       "      <th></th>\n",
       "      <th></th>\n",
       "      <th></th>\n",
       "      <th></th>\n",
       "      <th></th>\n",
       "      <th></th>\n",
       "      <th></th>\n",
       "      <th></th>\n",
       "      <th></th>\n",
       "      <th></th>\n",
       "      <th></th>\n",
       "      <th></th>\n",
       "      <th></th>\n",
       "      <th></th>\n",
       "      <th></th>\n",
       "      <th></th>\n",
       "      <th></th>\n",
       "    </tr>\n",
       "  </thead>\n",
       "  <tbody>\n",
       "    <tr>\n",
       "      <th>서울특별시  (1100000000)</th>\n",
       "      <td>9366283</td>\n",
       "      <td>9366283</td>\n",
       "      <td>37461</td>\n",
       "      <td>39642</td>\n",
       "      <td>41067</td>\n",
       "      <td>43089</td>\n",
       "      <td>45114</td>\n",
       "      <td>48661</td>\n",
       "      <td>52273</td>\n",
       "      <td>57940</td>\n",
       "      <td>...</td>\n",
       "      <td>9350</td>\n",
       "      <td>7375</td>\n",
       "      <td>5270</td>\n",
       "      <td>4361</td>\n",
       "      <td>3474</td>\n",
       "      <td>2428</td>\n",
       "      <td>1666</td>\n",
       "      <td>918</td>\n",
       "      <td>650</td>\n",
       "      <td>1511</td>\n",
       "    </tr>\n",
       "    <tr>\n",
       "      <th>서울특별시 종로구 (1111000000)</th>\n",
       "      <td>139189</td>\n",
       "      <td>139189</td>\n",
       "      <td>385</td>\n",
       "      <td>423</td>\n",
       "      <td>480</td>\n",
       "      <td>460</td>\n",
       "      <td>543</td>\n",
       "      <td>523</td>\n",
       "      <td>605</td>\n",
       "      <td>689</td>\n",
       "      <td>...</td>\n",
       "      <td>198</td>\n",
       "      <td>163</td>\n",
       "      <td>114</td>\n",
       "      <td>89</td>\n",
       "      <td>75</td>\n",
       "      <td>56</td>\n",
       "      <td>45</td>\n",
       "      <td>24</td>\n",
       "      <td>18</td>\n",
       "      <td>43</td>\n",
       "    </tr>\n",
       "    <tr>\n",
       "      <th>서울특별시 종로구 청운효자동(1111051500)</th>\n",
       "      <td>11190</td>\n",
       "      <td>11190</td>\n",
       "      <td>47</td>\n",
       "      <td>32</td>\n",
       "      <td>41</td>\n",
       "      <td>50</td>\n",
       "      <td>47</td>\n",
       "      <td>49</td>\n",
       "      <td>53</td>\n",
       "      <td>81</td>\n",
       "      <td>...</td>\n",
       "      <td>20</td>\n",
       "      <td>12</td>\n",
       "      <td>12</td>\n",
       "      <td>5</td>\n",
       "      <td>6</td>\n",
       "      <td>5</td>\n",
       "      <td>3</td>\n",
       "      <td>1</td>\n",
       "      <td>1</td>\n",
       "      <td>6</td>\n",
       "    </tr>\n",
       "    <tr>\n",
       "      <th>서울특별시 종로구 사직동(1111053000)</th>\n",
       "      <td>8977</td>\n",
       "      <td>8977</td>\n",
       "      <td>19</td>\n",
       "      <td>31</td>\n",
       "      <td>42</td>\n",
       "      <td>31</td>\n",
       "      <td>39</td>\n",
       "      <td>46</td>\n",
       "      <td>52</td>\n",
       "      <td>55</td>\n",
       "      <td>...</td>\n",
       "      <td>16</td>\n",
       "      <td>10</td>\n",
       "      <td>14</td>\n",
       "      <td>8</td>\n",
       "      <td>13</td>\n",
       "      <td>2</td>\n",
       "      <td>4</td>\n",
       "      <td>2</td>\n",
       "      <td>1</td>\n",
       "      <td>6</td>\n",
       "    </tr>\n",
       "    <tr>\n",
       "      <th>서울특별시 종로구 삼청동(1111054000)</th>\n",
       "      <td>2226</td>\n",
       "      <td>2226</td>\n",
       "      <td>4</td>\n",
       "      <td>6</td>\n",
       "      <td>7</td>\n",
       "      <td>7</td>\n",
       "      <td>6</td>\n",
       "      <td>6</td>\n",
       "      <td>13</td>\n",
       "      <td>7</td>\n",
       "      <td>...</td>\n",
       "      <td>7</td>\n",
       "      <td>6</td>\n",
       "      <td>4</td>\n",
       "      <td>5</td>\n",
       "      <td>0</td>\n",
       "      <td>2</td>\n",
       "      <td>1</td>\n",
       "      <td>0</td>\n",
       "      <td>0</td>\n",
       "      <td>2</td>\n",
       "    </tr>\n",
       "  </tbody>\n",
       "</table>\n",
       "<p>5 rows × 103 columns</p>\n",
       "</div>"
      ],
      "text/plain": [
       "                             2024년06월_계_총인구수  2024년06월_계_연령구간인구수  \\\n",
       "행정구역                                                               \n",
       "서울특별시  (1100000000)                  9366283             9366283   \n",
       "서울특별시 종로구 (1111000000)                139189              139189   \n",
       "서울특별시 종로구 청운효자동(1111051500)            11190               11190   \n",
       "서울특별시 종로구 사직동(1111053000)               8977                8977   \n",
       "서울특별시 종로구 삼청동(1111054000)               2226                2226   \n",
       "\n",
       "                             2024년06월_계_0세  2024년06월_계_1세  2024년06월_계_2세  \\\n",
       "행정구역                                                                       \n",
       "서울특별시  (1100000000)                  37461          39642          41067   \n",
       "서울특별시 종로구 (1111000000)                 385            423            480   \n",
       "서울특별시 종로구 청운효자동(1111051500)             47             32             41   \n",
       "서울특별시 종로구 사직동(1111053000)               19             31             42   \n",
       "서울특별시 종로구 삼청동(1111054000)                4              6              7   \n",
       "\n",
       "                             2024년06월_계_3세  2024년06월_계_4세  2024년06월_계_5세  \\\n",
       "행정구역                                                                       \n",
       "서울특별시  (1100000000)                  43089          45114          48661   \n",
       "서울특별시 종로구 (1111000000)                 460            543            523   \n",
       "서울특별시 종로구 청운효자동(1111051500)             50             47             49   \n",
       "서울특별시 종로구 사직동(1111053000)               31             39             46   \n",
       "서울특별시 종로구 삼청동(1111054000)                7              6              6   \n",
       "\n",
       "                             2024년06월_계_6세  2024년06월_계_7세  ...  \\\n",
       "행정구역                                                       ...   \n",
       "서울특별시  (1100000000)                  52273          57940  ...   \n",
       "서울특별시 종로구 (1111000000)                 605            689  ...   \n",
       "서울특별시 종로구 청운효자동(1111051500)             53             81  ...   \n",
       "서울특별시 종로구 사직동(1111053000)               52             55  ...   \n",
       "서울특별시 종로구 삼청동(1111054000)               13              7  ...   \n",
       "\n",
       "                             2024년06월_계_91세  2024년06월_계_92세  2024년06월_계_93세  \\\n",
       "행정구역                                                                          \n",
       "서울특별시  (1100000000)                    9350            7375            5270   \n",
       "서울특별시 종로구 (1111000000)                  198             163             114   \n",
       "서울특별시 종로구 청운효자동(1111051500)              20              12              12   \n",
       "서울특별시 종로구 사직동(1111053000)                16              10              14   \n",
       "서울특별시 종로구 삼청동(1111054000)                 7               6               4   \n",
       "\n",
       "                             2024년06월_계_94세  2024년06월_계_95세  2024년06월_계_96세  \\\n",
       "행정구역                                                                          \n",
       "서울특별시  (1100000000)                    4361            3474            2428   \n",
       "서울특별시 종로구 (1111000000)                   89              75              56   \n",
       "서울특별시 종로구 청운효자동(1111051500)               5               6               5   \n",
       "서울특별시 종로구 사직동(1111053000)                 8              13               2   \n",
       "서울특별시 종로구 삼청동(1111054000)                 5               0               2   \n",
       "\n",
       "                             2024년06월_계_97세  2024년06월_계_98세  2024년06월_계_99세  \\\n",
       "행정구역                                                                          \n",
       "서울특별시  (1100000000)                    1666             918             650   \n",
       "서울특별시 종로구 (1111000000)                   45              24              18   \n",
       "서울특별시 종로구 청운효자동(1111051500)               3               1               1   \n",
       "서울특별시 종로구 사직동(1111053000)                 4               2               1   \n",
       "서울특별시 종로구 삼청동(1111054000)                 1               0               0   \n",
       "\n",
       "                             2024년06월_계_100세 이상  \n",
       "행정구역                                             \n",
       "서울특별시  (1100000000)                        1511  \n",
       "서울특별시 종로구 (1111000000)                       43  \n",
       "서울특별시 종로구 청운효자동(1111051500)                   6  \n",
       "서울특별시 종로구 사직동(1111053000)                     6  \n",
       "서울특별시 종로구 삼청동(1111054000)                     2  \n",
       "\n",
       "[5 rows x 103 columns]"
      ]
     },
     "execution_count": 277,
     "metadata": {},
     "output_type": "execute_result"
    }
   ],
   "source": [
    "#pandas로 데이터 읽기\n",
    "import pandas as pd\n",
    "''' \n",
    "   pandas 모듈의 기본 인코딩 방식 : UTF-8 \n",
    "   기본인코딩이 아닌 경우 encoding=\"cp949\" 설정해야함\n",
    "   thousands=\",\" : 숫자데이터에 세자리마다 ,가 있는 경우 ,제거후 숫자형태로 읽음\n",
    "   index_col=0 : 0번 컬럼을 인덱스로 설정\n",
    "\n",
    "'''\n",
    "df = pd.read_csv(\"data/age.csv\", encoding=\"cp949\",thousands=\",\",index_col=0)\n",
    "df.head()"
   ]
  },
  {
   "cell_type": "code",
   "execution_count": 278,
   "metadata": {},
   "outputs": [
    {
     "data": {
      "text/plain": [
       "Index(['2024년06월_계_총인구수', '2024년06월_계_연령구간인구수', '2024년06월_계_0세',\n",
       "       '2024년06월_계_1세', '2024년06월_계_2세', '2024년06월_계_3세', '2024년06월_계_4세',\n",
       "       '2024년06월_계_5세', '2024년06월_계_6세', '2024년06월_계_7세',\n",
       "       ...\n",
       "       '2024년06월_계_91세', '2024년06월_계_92세', '2024년06월_계_93세', '2024년06월_계_94세',\n",
       "       '2024년06월_계_95세', '2024년06월_계_96세', '2024년06월_계_97세', '2024년06월_계_98세',\n",
       "       '2024년06월_계_99세', '2024년06월_계_100세 이상'],\n",
       "      dtype='object', length=103)"
      ]
     },
     "execution_count": 278,
     "metadata": {},
     "output_type": "execute_result"
    }
   ],
   "source": [
    "df.columns"
   ]
  },
  {
   "cell_type": "code",
   "execution_count": 279,
   "metadata": {},
   "outputs": [
    {
     "data": {
      "text/plain": [
       "['총인구수',\n",
       " '연령구간인구수',\n",
       " '0세',\n",
       " '1세',\n",
       " '2세',\n",
       " '3세',\n",
       " '4세',\n",
       " '5세',\n",
       " '6세',\n",
       " '7세',\n",
       " '8세',\n",
       " '9세',\n",
       " '10세',\n",
       " '11세',\n",
       " '12세',\n",
       " '13세',\n",
       " '14세',\n",
       " '15세',\n",
       " '16세',\n",
       " '17세',\n",
       " '18세',\n",
       " '19세',\n",
       " '20세',\n",
       " '21세',\n",
       " '22세',\n",
       " '23세',\n",
       " '24세',\n",
       " '25세',\n",
       " '26세',\n",
       " '27세',\n",
       " '28세',\n",
       " '29세',\n",
       " '30세',\n",
       " '31세',\n",
       " '32세',\n",
       " '33세',\n",
       " '34세',\n",
       " '35세',\n",
       " '36세',\n",
       " '37세',\n",
       " '38세',\n",
       " '39세',\n",
       " '40세',\n",
       " '41세',\n",
       " '42세',\n",
       " '43세',\n",
       " '44세',\n",
       " '45세',\n",
       " '46세',\n",
       " '47세',\n",
       " '48세',\n",
       " '49세',\n",
       " '50세',\n",
       " '51세',\n",
       " '52세',\n",
       " '53세',\n",
       " '54세',\n",
       " '55세',\n",
       " '56세',\n",
       " '57세',\n",
       " '58세',\n",
       " '59세',\n",
       " '60세',\n",
       " '61세',\n",
       " '62세',\n",
       " '63세',\n",
       " '64세',\n",
       " '65세',\n",
       " '66세',\n",
       " '67세',\n",
       " '68세',\n",
       " '69세',\n",
       " '70세',\n",
       " '71세',\n",
       " '72세',\n",
       " '73세',\n",
       " '74세',\n",
       " '75세',\n",
       " '76세',\n",
       " '77세',\n",
       " '78세',\n",
       " '79세',\n",
       " '80세',\n",
       " '81세',\n",
       " '82세',\n",
       " '83세',\n",
       " '84세',\n",
       " '85세',\n",
       " '86세',\n",
       " '87세',\n",
       " '88세',\n",
       " '89세',\n",
       " '90세',\n",
       " '91세',\n",
       " '92세',\n",
       " '93세',\n",
       " '94세',\n",
       " '95세',\n",
       " '96세',\n",
       " '97세',\n",
       " '98세',\n",
       " '99세',\n",
       " '100세']"
      ]
     },
     "execution_count": 279,
     "metadata": {},
     "output_type": "execute_result"
    }
   ],
   "source": [
    "#컬럼명 변경하기\n",
    "col_name=[\"총인구수\",\"연령구간인구수\"]\n",
    "for i in range(0,101) :  #i : 0~ 100 사이의 값\n",
    "    col_name.append(str(i)+\"세\") #0세 ~ 100세\n",
    "col_name\n"
   ]
  },
  {
   "cell_type": "code",
   "execution_count": 280,
   "metadata": {},
   "outputs": [
    {
     "data": {
      "text/plain": [
       "Index(['총인구수', '연령구간인구수', '0세', '1세', '2세', '3세', '4세', '5세', '6세', '7세',\n",
       "       ...\n",
       "       '91세', '92세', '93세', '94세', '95세', '96세', '97세', '98세', '99세', '100세'],\n",
       "      dtype='object', length=103)"
      ]
     },
     "execution_count": 280,
     "metadata": {},
     "output_type": "execute_result"
    }
   ],
   "source": [
    "df.columns = col_name  #df의 컬럼명을 수정.\n",
    "df.columns"
   ]
  },
  {
   "cell_type": "code",
   "execution_count": 281,
   "metadata": {},
   "outputs": [
    {
     "name": "stdout",
     "output_type": "stream",
     "text": [
      "<class 'pandas.core.frame.DataFrame'>\n",
      "Index: 3909 entries, 서울특별시  (1100000000) to 제주특별자치도 서귀포시 예래동(5013062000)\n",
      "Columns: 103 entries, 총인구수 to 100세\n",
      "dtypes: int64(103)\n",
      "memory usage: 3.1+ MB\n"
     ]
    }
   ],
   "source": [
    "df.info()"
   ]
  },
  {
   "cell_type": "code",
   "execution_count": 282,
   "metadata": {},
   "outputs": [],
   "source": [
    "df.count()\n",
    "#fillna : 결측값이 있는 경우. 다른 값(0)으로 치환하기\n",
    "df.fillna(0,inplace=True)"
   ]
  },
  {
   "cell_type": "code",
   "execution_count": 299,
   "metadata": {},
   "outputs": [
    {
     "data": {
      "text/html": [
       "<div>\n",
       "<style scoped>\n",
       "    .dataframe tbody tr th:only-of-type {\n",
       "        vertical-align: middle;\n",
       "    }\n",
       "\n",
       "    .dataframe tbody tr th {\n",
       "        vertical-align: top;\n",
       "    }\n",
       "\n",
       "    .dataframe thead th {\n",
       "        text-align: right;\n",
       "    }\n",
       "</style>\n",
       "<table border=\"1\" class=\"dataframe\">\n",
       "  <thead>\n",
       "    <tr style=\"text-align: right;\">\n",
       "      <th></th>\n",
       "      <th>총인구수</th>\n",
       "      <th>연령구간인구수</th>\n",
       "      <th>0세</th>\n",
       "      <th>1세</th>\n",
       "      <th>2세</th>\n",
       "      <th>3세</th>\n",
       "      <th>4세</th>\n",
       "      <th>5세</th>\n",
       "      <th>6세</th>\n",
       "      <th>7세</th>\n",
       "      <th>...</th>\n",
       "      <th>91세</th>\n",
       "      <th>92세</th>\n",
       "      <th>93세</th>\n",
       "      <th>94세</th>\n",
       "      <th>95세</th>\n",
       "      <th>96세</th>\n",
       "      <th>97세</th>\n",
       "      <th>98세</th>\n",
       "      <th>99세</th>\n",
       "      <th>100세</th>\n",
       "    </tr>\n",
       "    <tr>\n",
       "      <th>행정구역</th>\n",
       "      <th></th>\n",
       "      <th></th>\n",
       "      <th></th>\n",
       "      <th></th>\n",
       "      <th></th>\n",
       "      <th></th>\n",
       "      <th></th>\n",
       "      <th></th>\n",
       "      <th></th>\n",
       "      <th></th>\n",
       "      <th></th>\n",
       "      <th></th>\n",
       "      <th></th>\n",
       "      <th></th>\n",
       "      <th></th>\n",
       "      <th></th>\n",
       "      <th></th>\n",
       "      <th></th>\n",
       "      <th></th>\n",
       "      <th></th>\n",
       "      <th></th>\n",
       "    </tr>\n",
       "  </thead>\n",
       "  <tbody>\n",
       "    <tr>\n",
       "      <th>서울특별시 강남구 역삼2동(1168065000)</th>\n",
       "      <td>36256</td>\n",
       "      <td>36256</td>\n",
       "      <td>107</td>\n",
       "      <td>111</td>\n",
       "      <td>124</td>\n",
       "      <td>123</td>\n",
       "      <td>134</td>\n",
       "      <td>183</td>\n",
       "      <td>222</td>\n",
       "      <td>298</td>\n",
       "      <td>...</td>\n",
       "      <td>14</td>\n",
       "      <td>11</td>\n",
       "      <td>15</td>\n",
       "      <td>5</td>\n",
       "      <td>5</td>\n",
       "      <td>3</td>\n",
       "      <td>2</td>\n",
       "      <td>3</td>\n",
       "      <td>0</td>\n",
       "      <td>3</td>\n",
       "    </tr>\n",
       "  </tbody>\n",
       "</table>\n",
       "<p>1 rows × 103 columns</p>\n",
       "</div>"
      ],
      "text/plain": [
       "                             총인구수  연령구간인구수   0세   1세   2세   3세   4세   5세   6세  \\\n",
       "행정구역                                                                            \n",
       "서울특별시 강남구 역삼2동(1168065000)  36256    36256  107  111  124  123  134  183  222   \n",
       "\n",
       "                             7세  ...  91세  92세  93세  94세  95세  96세  97세  98세  \\\n",
       "행정구역                             ...                                           \n",
       "서울특별시 강남구 역삼2동(1168065000)  298  ...   14   11   15    5    5    3    2    3   \n",
       "\n",
       "                            99세  100세  \n",
       "행정구역                                   \n",
       "서울특별시 강남구 역삼2동(1168065000)    0     3  \n",
       "\n",
       "[1 rows x 103 columns]"
      ]
     },
     "execution_count": 299,
     "metadata": {},
     "output_type": "execute_result"
    }
   ],
   "source": [
    "name=\"역삼2동\"\n",
    "''' \n",
    "df.index : df의 인덱스목록\n",
    "str : 문자열 형태로 변경\n",
    "contains(name) : name 값을 포함?\n",
    "            포함: true\n",
    "       없는경우 : false\n",
    "'''\n",
    "a = df.index.str.contains(name)\n",
    "a\n",
    "df2 = df[a]   #\n",
    "df2  #name 값을 가진 데이터를 저장 . 역삼1동의 데이터"
   ]
  },
  {
   "cell_type": "code",
   "execution_count": 300,
   "metadata": {},
   "outputs": [],
   "source": [
    "del df2[\"총인구수\"], df2[\"연령구간인구수\"]"
   ]
  },
  {
   "cell_type": "code",
   "execution_count": 301,
   "metadata": {},
   "outputs": [
    {
     "data": {
      "text/html": [
       "<div>\n",
       "<style scoped>\n",
       "    .dataframe tbody tr th:only-of-type {\n",
       "        vertical-align: middle;\n",
       "    }\n",
       "\n",
       "    .dataframe tbody tr th {\n",
       "        vertical-align: top;\n",
       "    }\n",
       "\n",
       "    .dataframe thead th {\n",
       "        text-align: right;\n",
       "    }\n",
       "</style>\n",
       "<table border=\"1\" class=\"dataframe\">\n",
       "  <thead>\n",
       "    <tr style=\"text-align: right;\">\n",
       "      <th></th>\n",
       "      <th>0세</th>\n",
       "      <th>1세</th>\n",
       "      <th>2세</th>\n",
       "      <th>3세</th>\n",
       "      <th>4세</th>\n",
       "      <th>5세</th>\n",
       "      <th>6세</th>\n",
       "      <th>7세</th>\n",
       "      <th>8세</th>\n",
       "      <th>9세</th>\n",
       "      <th>...</th>\n",
       "      <th>91세</th>\n",
       "      <th>92세</th>\n",
       "      <th>93세</th>\n",
       "      <th>94세</th>\n",
       "      <th>95세</th>\n",
       "      <th>96세</th>\n",
       "      <th>97세</th>\n",
       "      <th>98세</th>\n",
       "      <th>99세</th>\n",
       "      <th>100세</th>\n",
       "    </tr>\n",
       "    <tr>\n",
       "      <th>행정구역</th>\n",
       "      <th></th>\n",
       "      <th></th>\n",
       "      <th></th>\n",
       "      <th></th>\n",
       "      <th></th>\n",
       "      <th></th>\n",
       "      <th></th>\n",
       "      <th></th>\n",
       "      <th></th>\n",
       "      <th></th>\n",
       "      <th></th>\n",
       "      <th></th>\n",
       "      <th></th>\n",
       "      <th></th>\n",
       "      <th></th>\n",
       "      <th></th>\n",
       "      <th></th>\n",
       "      <th></th>\n",
       "      <th></th>\n",
       "      <th></th>\n",
       "      <th></th>\n",
       "    </tr>\n",
       "  </thead>\n",
       "  <tbody>\n",
       "    <tr>\n",
       "      <th>서울특별시 강남구 역삼2동(1168065000)</th>\n",
       "      <td>107</td>\n",
       "      <td>111</td>\n",
       "      <td>124</td>\n",
       "      <td>123</td>\n",
       "      <td>134</td>\n",
       "      <td>183</td>\n",
       "      <td>222</td>\n",
       "      <td>298</td>\n",
       "      <td>345</td>\n",
       "      <td>439</td>\n",
       "      <td>...</td>\n",
       "      <td>14</td>\n",
       "      <td>11</td>\n",
       "      <td>15</td>\n",
       "      <td>5</td>\n",
       "      <td>5</td>\n",
       "      <td>3</td>\n",
       "      <td>2</td>\n",
       "      <td>3</td>\n",
       "      <td>0</td>\n",
       "      <td>3</td>\n",
       "    </tr>\n",
       "  </tbody>\n",
       "</table>\n",
       "<p>1 rows × 101 columns</p>\n",
       "</div>"
      ],
      "text/plain": [
       "                             0세   1세   2세   3세   4세   5세   6세   7세   8세   9세  \\\n",
       "행정구역                                                                           \n",
       "서울특별시 강남구 역삼2동(1168065000)  107  111  124  123  134  183  222  298  345  439   \n",
       "\n",
       "                            ...  91세  92세  93세  94세  95세  96세  97세  98세  99세  \\\n",
       "행정구역                        ...                                                \n",
       "서울특별시 강남구 역삼2동(1168065000)  ...   14   11   15    5    5    3    2    3    0   \n",
       "\n",
       "                            100세  \n",
       "행정구역                              \n",
       "서울특별시 강남구 역삼2동(1168065000)     3  \n",
       "\n",
       "[1 rows x 101 columns]"
      ]
     },
     "execution_count": 301,
     "metadata": {},
     "output_type": "execute_result"
    }
   ],
   "source": [
    "df2 #총인구수, 연령구간인구수 컬럼을 제거"
   ]
  },
  {
   "cell_type": "code",
   "execution_count": 302,
   "metadata": {},
   "outputs": [
    {
     "data": {
      "text/html": [
       "<div>\n",
       "<style scoped>\n",
       "    .dataframe tbody tr th:only-of-type {\n",
       "        vertical-align: middle;\n",
       "    }\n",
       "\n",
       "    .dataframe tbody tr th {\n",
       "        vertical-align: top;\n",
       "    }\n",
       "\n",
       "    .dataframe thead th {\n",
       "        text-align: right;\n",
       "    }\n",
       "</style>\n",
       "<table border=\"1\" class=\"dataframe\">\n",
       "  <thead>\n",
       "    <tr style=\"text-align: right;\">\n",
       "      <th></th>\n",
       "      <th>총인구수</th>\n",
       "      <th>연령구간인구수</th>\n",
       "      <th>0세</th>\n",
       "      <th>1세</th>\n",
       "      <th>2세</th>\n",
       "      <th>3세</th>\n",
       "      <th>4세</th>\n",
       "      <th>5세</th>\n",
       "      <th>6세</th>\n",
       "      <th>7세</th>\n",
       "      <th>...</th>\n",
       "      <th>91세</th>\n",
       "      <th>92세</th>\n",
       "      <th>93세</th>\n",
       "      <th>94세</th>\n",
       "      <th>95세</th>\n",
       "      <th>96세</th>\n",
       "      <th>97세</th>\n",
       "      <th>98세</th>\n",
       "      <th>99세</th>\n",
       "      <th>100세</th>\n",
       "    </tr>\n",
       "    <tr>\n",
       "      <th>행정구역</th>\n",
       "      <th></th>\n",
       "      <th></th>\n",
       "      <th></th>\n",
       "      <th></th>\n",
       "      <th></th>\n",
       "      <th></th>\n",
       "      <th></th>\n",
       "      <th></th>\n",
       "      <th></th>\n",
       "      <th></th>\n",
       "      <th></th>\n",
       "      <th></th>\n",
       "      <th></th>\n",
       "      <th></th>\n",
       "      <th></th>\n",
       "      <th></th>\n",
       "      <th></th>\n",
       "      <th></th>\n",
       "      <th></th>\n",
       "      <th></th>\n",
       "      <th></th>\n",
       "    </tr>\n",
       "  </thead>\n",
       "  <tbody>\n",
       "    <tr>\n",
       "      <th>서울특별시  (1100000000)</th>\n",
       "      <td>9366283</td>\n",
       "      <td>9366283</td>\n",
       "      <td>37461</td>\n",
       "      <td>39642</td>\n",
       "      <td>41067</td>\n",
       "      <td>43089</td>\n",
       "      <td>45114</td>\n",
       "      <td>48661</td>\n",
       "      <td>52273</td>\n",
       "      <td>57940</td>\n",
       "      <td>...</td>\n",
       "      <td>9350</td>\n",
       "      <td>7375</td>\n",
       "      <td>5270</td>\n",
       "      <td>4361</td>\n",
       "      <td>3474</td>\n",
       "      <td>2428</td>\n",
       "      <td>1666</td>\n",
       "      <td>918</td>\n",
       "      <td>650</td>\n",
       "      <td>1511</td>\n",
       "    </tr>\n",
       "    <tr>\n",
       "      <th>서울특별시 종로구 (1111000000)</th>\n",
       "      <td>139189</td>\n",
       "      <td>139189</td>\n",
       "      <td>385</td>\n",
       "      <td>423</td>\n",
       "      <td>480</td>\n",
       "      <td>460</td>\n",
       "      <td>543</td>\n",
       "      <td>523</td>\n",
       "      <td>605</td>\n",
       "      <td>689</td>\n",
       "      <td>...</td>\n",
       "      <td>198</td>\n",
       "      <td>163</td>\n",
       "      <td>114</td>\n",
       "      <td>89</td>\n",
       "      <td>75</td>\n",
       "      <td>56</td>\n",
       "      <td>45</td>\n",
       "      <td>24</td>\n",
       "      <td>18</td>\n",
       "      <td>43</td>\n",
       "    </tr>\n",
       "    <tr>\n",
       "      <th>서울특별시 종로구 청운효자동(1111051500)</th>\n",
       "      <td>11190</td>\n",
       "      <td>11190</td>\n",
       "      <td>47</td>\n",
       "      <td>32</td>\n",
       "      <td>41</td>\n",
       "      <td>50</td>\n",
       "      <td>47</td>\n",
       "      <td>49</td>\n",
       "      <td>53</td>\n",
       "      <td>81</td>\n",
       "      <td>...</td>\n",
       "      <td>20</td>\n",
       "      <td>12</td>\n",
       "      <td>12</td>\n",
       "      <td>5</td>\n",
       "      <td>6</td>\n",
       "      <td>5</td>\n",
       "      <td>3</td>\n",
       "      <td>1</td>\n",
       "      <td>1</td>\n",
       "      <td>6</td>\n",
       "    </tr>\n",
       "    <tr>\n",
       "      <th>서울특별시 종로구 사직동(1111053000)</th>\n",
       "      <td>8977</td>\n",
       "      <td>8977</td>\n",
       "      <td>19</td>\n",
       "      <td>31</td>\n",
       "      <td>42</td>\n",
       "      <td>31</td>\n",
       "      <td>39</td>\n",
       "      <td>46</td>\n",
       "      <td>52</td>\n",
       "      <td>55</td>\n",
       "      <td>...</td>\n",
       "      <td>16</td>\n",
       "      <td>10</td>\n",
       "      <td>14</td>\n",
       "      <td>8</td>\n",
       "      <td>13</td>\n",
       "      <td>2</td>\n",
       "      <td>4</td>\n",
       "      <td>2</td>\n",
       "      <td>1</td>\n",
       "      <td>6</td>\n",
       "    </tr>\n",
       "    <tr>\n",
       "      <th>서울특별시 종로구 삼청동(1111054000)</th>\n",
       "      <td>2226</td>\n",
       "      <td>2226</td>\n",
       "      <td>4</td>\n",
       "      <td>6</td>\n",
       "      <td>7</td>\n",
       "      <td>7</td>\n",
       "      <td>6</td>\n",
       "      <td>6</td>\n",
       "      <td>13</td>\n",
       "      <td>7</td>\n",
       "      <td>...</td>\n",
       "      <td>7</td>\n",
       "      <td>6</td>\n",
       "      <td>4</td>\n",
       "      <td>5</td>\n",
       "      <td>0</td>\n",
       "      <td>2</td>\n",
       "      <td>1</td>\n",
       "      <td>0</td>\n",
       "      <td>0</td>\n",
       "      <td>2</td>\n",
       "    </tr>\n",
       "  </tbody>\n",
       "</table>\n",
       "<p>5 rows × 103 columns</p>\n",
       "</div>"
      ],
      "text/plain": [
       "                                총인구수  연령구간인구수     0세     1세     2세     3세  \\\n",
       "행정구역                                                                        \n",
       "서울특별시  (1100000000)          9366283  9366283  37461  39642  41067  43089   \n",
       "서울특별시 종로구 (1111000000)        139189   139189    385    423    480    460   \n",
       "서울특별시 종로구 청운효자동(1111051500)    11190    11190     47     32     41     50   \n",
       "서울특별시 종로구 사직동(1111053000)       8977     8977     19     31     42     31   \n",
       "서울특별시 종로구 삼청동(1111054000)       2226     2226      4      6      7      7   \n",
       "\n",
       "                                4세     5세     6세     7세  ...   91세   92세  \\\n",
       "행정구역                                                     ...               \n",
       "서울특별시  (1100000000)          45114  48661  52273  57940  ...  9350  7375   \n",
       "서울특별시 종로구 (1111000000)         543    523    605    689  ...   198   163   \n",
       "서울특별시 종로구 청운효자동(1111051500)     47     49     53     81  ...    20    12   \n",
       "서울특별시 종로구 사직동(1111053000)       39     46     52     55  ...    16    10   \n",
       "서울특별시 종로구 삼청동(1111054000)        6      6     13      7  ...     7     6   \n",
       "\n",
       "                              93세   94세   95세   96세   97세  98세  99세  100세  \n",
       "행정구역                                                                       \n",
       "서울특별시  (1100000000)          5270  4361  3474  2428  1666  918  650  1511  \n",
       "서울특별시 종로구 (1111000000)        114    89    75    56    45   24   18    43  \n",
       "서울특별시 종로구 청운효자동(1111051500)    12     5     6     5     3    1    1     6  \n",
       "서울특별시 종로구 사직동(1111053000)      14     8    13     2     4    2    1     6  \n",
       "서울특별시 종로구 삼청동(1111054000)       4     5     0     2     1    0    0     2  \n",
       "\n",
       "[5 rows x 103 columns]"
      ]
     },
     "execution_count": 302,
     "metadata": {},
     "output_type": "execute_result"
    }
   ],
   "source": [
    "#인덱스의 값이 역삼1동을 포함한 경우 : True, 아닌 경우 : False\n",
    "a \n",
    "#인덱스의 값이 역삼1동을 포함한 경우 : False, 아닌 경우 : True\n",
    "#b :  a 값의 반대 데이터를 저장하고 있는 값\n",
    "b = list(map(lambda x : not x, a))\n",
    "b\n",
    "df3 = df[b]\n",
    "df3.head()  #역삼1동을 제외한 데이터 저장"
   ]
  },
  {
   "cell_type": "code",
   "execution_count": 303,
   "metadata": {},
   "outputs": [
    {
     "name": "stdout",
     "output_type": "stream",
     "text": [
      "<class 'pandas.core.frame.DataFrame'>\n",
      "Index: 3908 entries, 서울특별시  (1100000000) to 제주특별자치도 서귀포시 예래동(5013062000)\n",
      "Columns: 103 entries, 총인구수 to 100세\n",
      "dtypes: int64(103)\n",
      "memory usage: 3.1+ MB\n"
     ]
    }
   ],
   "source": [
    "df3.info()"
   ]
  },
  {
   "cell_type": "code",
   "execution_count": 304,
   "metadata": {},
   "outputs": [],
   "source": [
    "df3.head()\n",
    "del df3[\"총인구수\"],df3[\"연령구간인구수\"]"
   ]
  },
  {
   "cell_type": "code",
   "execution_count": 305,
   "metadata": {},
   "outputs": [
    {
     "data": {
      "text/html": [
       "<div>\n",
       "<style scoped>\n",
       "    .dataframe tbody tr th:only-of-type {\n",
       "        vertical-align: middle;\n",
       "    }\n",
       "\n",
       "    .dataframe tbody tr th {\n",
       "        vertical-align: top;\n",
       "    }\n",
       "\n",
       "    .dataframe thead th {\n",
       "        text-align: right;\n",
       "    }\n",
       "</style>\n",
       "<table border=\"1\" class=\"dataframe\">\n",
       "  <thead>\n",
       "    <tr style=\"text-align: right;\">\n",
       "      <th></th>\n",
       "      <th>0세</th>\n",
       "      <th>1세</th>\n",
       "      <th>2세</th>\n",
       "      <th>3세</th>\n",
       "      <th>4세</th>\n",
       "      <th>5세</th>\n",
       "      <th>6세</th>\n",
       "      <th>7세</th>\n",
       "      <th>8세</th>\n",
       "      <th>9세</th>\n",
       "      <th>...</th>\n",
       "      <th>91세</th>\n",
       "      <th>92세</th>\n",
       "      <th>93세</th>\n",
       "      <th>94세</th>\n",
       "      <th>95세</th>\n",
       "      <th>96세</th>\n",
       "      <th>97세</th>\n",
       "      <th>98세</th>\n",
       "      <th>99세</th>\n",
       "      <th>100세</th>\n",
       "    </tr>\n",
       "    <tr>\n",
       "      <th>행정구역</th>\n",
       "      <th></th>\n",
       "      <th></th>\n",
       "      <th></th>\n",
       "      <th></th>\n",
       "      <th></th>\n",
       "      <th></th>\n",
       "      <th></th>\n",
       "      <th></th>\n",
       "      <th></th>\n",
       "      <th></th>\n",
       "      <th></th>\n",
       "      <th></th>\n",
       "      <th></th>\n",
       "      <th></th>\n",
       "      <th></th>\n",
       "      <th></th>\n",
       "      <th></th>\n",
       "      <th></th>\n",
       "      <th></th>\n",
       "      <th></th>\n",
       "      <th></th>\n",
       "    </tr>\n",
       "  </thead>\n",
       "  <tbody>\n",
       "    <tr>\n",
       "      <th>서울특별시  (1100000000)</th>\n",
       "      <td>37461</td>\n",
       "      <td>39642</td>\n",
       "      <td>41067</td>\n",
       "      <td>43089</td>\n",
       "      <td>45114</td>\n",
       "      <td>48661</td>\n",
       "      <td>52273</td>\n",
       "      <td>57940</td>\n",
       "      <td>64865</td>\n",
       "      <td>67342</td>\n",
       "      <td>...</td>\n",
       "      <td>9350</td>\n",
       "      <td>7375</td>\n",
       "      <td>5270</td>\n",
       "      <td>4361</td>\n",
       "      <td>3474</td>\n",
       "      <td>2428</td>\n",
       "      <td>1666</td>\n",
       "      <td>918</td>\n",
       "      <td>650</td>\n",
       "      <td>1511</td>\n",
       "    </tr>\n",
       "    <tr>\n",
       "      <th>서울특별시 종로구 (1111000000)</th>\n",
       "      <td>385</td>\n",
       "      <td>423</td>\n",
       "      <td>480</td>\n",
       "      <td>460</td>\n",
       "      <td>543</td>\n",
       "      <td>523</td>\n",
       "      <td>605</td>\n",
       "      <td>689</td>\n",
       "      <td>805</td>\n",
       "      <td>793</td>\n",
       "      <td>...</td>\n",
       "      <td>198</td>\n",
       "      <td>163</td>\n",
       "      <td>114</td>\n",
       "      <td>89</td>\n",
       "      <td>75</td>\n",
       "      <td>56</td>\n",
       "      <td>45</td>\n",
       "      <td>24</td>\n",
       "      <td>18</td>\n",
       "      <td>43</td>\n",
       "    </tr>\n",
       "    <tr>\n",
       "      <th>서울특별시 종로구 청운효자동(1111051500)</th>\n",
       "      <td>47</td>\n",
       "      <td>32</td>\n",
       "      <td>41</td>\n",
       "      <td>50</td>\n",
       "      <td>47</td>\n",
       "      <td>49</td>\n",
       "      <td>53</td>\n",
       "      <td>81</td>\n",
       "      <td>83</td>\n",
       "      <td>78</td>\n",
       "      <td>...</td>\n",
       "      <td>20</td>\n",
       "      <td>12</td>\n",
       "      <td>12</td>\n",
       "      <td>5</td>\n",
       "      <td>6</td>\n",
       "      <td>5</td>\n",
       "      <td>3</td>\n",
       "      <td>1</td>\n",
       "      <td>1</td>\n",
       "      <td>6</td>\n",
       "    </tr>\n",
       "    <tr>\n",
       "      <th>서울특별시 종로구 사직동(1111053000)</th>\n",
       "      <td>19</td>\n",
       "      <td>31</td>\n",
       "      <td>42</td>\n",
       "      <td>31</td>\n",
       "      <td>39</td>\n",
       "      <td>46</td>\n",
       "      <td>52</td>\n",
       "      <td>55</td>\n",
       "      <td>62</td>\n",
       "      <td>73</td>\n",
       "      <td>...</td>\n",
       "      <td>16</td>\n",
       "      <td>10</td>\n",
       "      <td>14</td>\n",
       "      <td>8</td>\n",
       "      <td>13</td>\n",
       "      <td>2</td>\n",
       "      <td>4</td>\n",
       "      <td>2</td>\n",
       "      <td>1</td>\n",
       "      <td>6</td>\n",
       "    </tr>\n",
       "    <tr>\n",
       "      <th>서울특별시 종로구 삼청동(1111054000)</th>\n",
       "      <td>4</td>\n",
       "      <td>6</td>\n",
       "      <td>7</td>\n",
       "      <td>7</td>\n",
       "      <td>6</td>\n",
       "      <td>6</td>\n",
       "      <td>13</td>\n",
       "      <td>7</td>\n",
       "      <td>15</td>\n",
       "      <td>10</td>\n",
       "      <td>...</td>\n",
       "      <td>7</td>\n",
       "      <td>6</td>\n",
       "      <td>4</td>\n",
       "      <td>5</td>\n",
       "      <td>0</td>\n",
       "      <td>2</td>\n",
       "      <td>1</td>\n",
       "      <td>0</td>\n",
       "      <td>0</td>\n",
       "      <td>2</td>\n",
       "    </tr>\n",
       "  </tbody>\n",
       "</table>\n",
       "<p>5 rows × 101 columns</p>\n",
       "</div>"
      ],
      "text/plain": [
       "                                0세     1세     2세     3세     4세     5세     6세  \\\n",
       "행정구역                                                                           \n",
       "서울특별시  (1100000000)          37461  39642  41067  43089  45114  48661  52273   \n",
       "서울특별시 종로구 (1111000000)         385    423    480    460    543    523    605   \n",
       "서울특별시 종로구 청운효자동(1111051500)     47     32     41     50     47     49     53   \n",
       "서울특별시 종로구 사직동(1111053000)       19     31     42     31     39     46     52   \n",
       "서울특별시 종로구 삼청동(1111054000)        4      6      7      7      6      6     13   \n",
       "\n",
       "                                7세     8세     9세  ...   91세   92세   93세   94세  \\\n",
       "행정구역                                              ...                           \n",
       "서울특별시  (1100000000)          57940  64865  67342  ...  9350  7375  5270  4361   \n",
       "서울특별시 종로구 (1111000000)         689    805    793  ...   198   163   114    89   \n",
       "서울특별시 종로구 청운효자동(1111051500)     81     83     78  ...    20    12    12     5   \n",
       "서울특별시 종로구 사직동(1111053000)       55     62     73  ...    16    10    14     8   \n",
       "서울특별시 종로구 삼청동(1111054000)        7     15     10  ...     7     6     4     5   \n",
       "\n",
       "                              95세   96세   97세  98세  99세  100세  \n",
       "행정구역                                                           \n",
       "서울특별시  (1100000000)          3474  2428  1666  918  650  1511  \n",
       "서울특별시 종로구 (1111000000)         75    56    45   24   18    43  \n",
       "서울특별시 종로구 청운효자동(1111051500)     6     5     3    1    1     6  \n",
       "서울특별시 종로구 사직동(1111053000)      13     2     4    2    1     6  \n",
       "서울특별시 종로구 삼청동(1111054000)       0     2     1    0    0     2  \n",
       "\n",
       "[5 rows x 101 columns]"
      ]
     },
     "execution_count": 305,
     "metadata": {},
     "output_type": "execute_result"
    }
   ],
   "source": [
    "df3.head()"
   ]
  },
  {
   "cell_type": "code",
   "execution_count": 306,
   "metadata": {},
   "outputs": [
    {
     "data": {
      "text/html": [
       "<div>\n",
       "<style scoped>\n",
       "    .dataframe tbody tr th:only-of-type {\n",
       "        vertical-align: middle;\n",
       "    }\n",
       "\n",
       "    .dataframe tbody tr th {\n",
       "        vertical-align: top;\n",
       "    }\n",
       "\n",
       "    .dataframe thead th {\n",
       "        text-align: right;\n",
       "    }\n",
       "</style>\n",
       "<table border=\"1\" class=\"dataframe\">\n",
       "  <thead>\n",
       "    <tr style=\"text-align: right;\">\n",
       "      <th>행정구역</th>\n",
       "      <th>서울특별시 강남구 역삼2동(1168065000)</th>\n",
       "    </tr>\n",
       "  </thead>\n",
       "  <tbody>\n",
       "    <tr>\n",
       "      <th>0세</th>\n",
       "      <td>107</td>\n",
       "    </tr>\n",
       "    <tr>\n",
       "      <th>1세</th>\n",
       "      <td>111</td>\n",
       "    </tr>\n",
       "    <tr>\n",
       "      <th>2세</th>\n",
       "      <td>124</td>\n",
       "    </tr>\n",
       "    <tr>\n",
       "      <th>3세</th>\n",
       "      <td>123</td>\n",
       "    </tr>\n",
       "    <tr>\n",
       "      <th>4세</th>\n",
       "      <td>134</td>\n",
       "    </tr>\n",
       "    <tr>\n",
       "      <th>...</th>\n",
       "      <td>...</td>\n",
       "    </tr>\n",
       "    <tr>\n",
       "      <th>96세</th>\n",
       "      <td>3</td>\n",
       "    </tr>\n",
       "    <tr>\n",
       "      <th>97세</th>\n",
       "      <td>2</td>\n",
       "    </tr>\n",
       "    <tr>\n",
       "      <th>98세</th>\n",
       "      <td>3</td>\n",
       "    </tr>\n",
       "    <tr>\n",
       "      <th>99세</th>\n",
       "      <td>0</td>\n",
       "    </tr>\n",
       "    <tr>\n",
       "      <th>100세</th>\n",
       "      <td>3</td>\n",
       "    </tr>\n",
       "  </tbody>\n",
       "</table>\n",
       "<p>101 rows × 1 columns</p>\n",
       "</div>"
      ],
      "text/plain": [
       "행정구역  서울특별시 강남구 역삼2동(1168065000)\n",
       "0세                           107\n",
       "1세                           111\n",
       "2세                           124\n",
       "3세                           123\n",
       "4세                           134\n",
       "...                          ...\n",
       "96세                            3\n",
       "97세                            2\n",
       "98세                            3\n",
       "99세                            0\n",
       "100세                           3\n",
       "\n",
       "[101 rows x 1 columns]"
      ]
     },
     "execution_count": 306,
     "metadata": {},
     "output_type": "execute_result"
    }
   ],
   "source": [
    "df2.T"
   ]
  },
  {
   "cell_type": "code",
   "execution_count": 307,
   "metadata": {},
   "outputs": [],
   "source": [
    "plt.rc('font',family='Malgun Gothic') #한글 설정"
   ]
  },
  {
   "cell_type": "code",
   "execution_count": 308,
   "metadata": {},
   "outputs": [
    {
     "data": {
      "text/plain": [
       "['서울특별시 강남구 역삼2동(1168065000)']"
      ]
     },
     "execution_count": 308,
     "metadata": {},
     "output_type": "execute_result"
    }
   ],
   "source": [
    "names = list(df2.index)\n",
    "names  #리스트 객체. 요소는 한개"
   ]
  },
  {
   "cell_type": "code",
   "execution_count": 309,
   "metadata": {},
   "outputs": [
    {
     "data": {
      "text/plain": [
       "'서울특별시 강남구 역삼2동'"
      ]
     },
     "execution_count": 309,
     "metadata": {},
     "output_type": "execute_result"
    }
   ],
   "source": [
    "names[0]\n",
    "names[0][:names[0].find('(')]"
   ]
  },
  {
   "cell_type": "code",
   "execution_count": 310,
   "metadata": {},
   "outputs": [],
   "source": [
    "names[0] = names[0][:names[0].find('(')]\n",
    "df2.index = names"
   ]
  },
  {
   "cell_type": "code",
   "execution_count": 311,
   "metadata": {},
   "outputs": [
    {
     "data": {
      "text/plain": [
       "Text(0.5, 1.0, '역삼2동 지역의 인구구조')"
      ]
     },
     "execution_count": 311,
     "metadata": {},
     "output_type": "execute_result"
    },
    {
     "data": {
      "image/png": "[encoded data removed]",
      "text/plain": [
       "<Figure size 640x480 with 1 Axes>"
      ]
     },
     "metadata": {},
     "output_type": "display_data"
    }
   ],
   "source": [
    "plt.style.use(\"ggplot\")\n",
    "df2.T.plot()\n",
    "plt.title(name + \" 지역의 인구구조\")"
   ]
  },
  {
   "cell_type": "code",
   "execution_count": 318,
   "metadata": {},
   "outputs": [],
   "source": [
    "#지정한 동과 비슷한 인구구조(비율)를 가지고 있는 동을 검색하기\n",
    "df = pd.read_csv(\"data/age.csv\",encoding=\"cp949\",thousands=\",\",index_col=0)\n",
    "#컬럼명 변경하기\n",
    "col_name=['총인구수','연령구간인구수']\n",
    "for i in range(0,101) :\n",
    "    col_name.append(str(i)+'세')\n",
    "col_name    \n",
    "df.columns = col_name"
   ]
  },
  {
   "cell_type": "code",
   "execution_count": 313,
   "metadata": {},
   "outputs": [
    {
     "name": "stdout",
     "output_type": "stream",
     "text": [
      "<class 'pandas.core.frame.DataFrame'>\n",
      "Index: 3909 entries, 서울특별시  (1100000000) to 제주특별자치도 서귀포시 예래동(5013062000)\n",
      "Columns: 103 entries, 총인구수 to 100세\n",
      "dtypes: int64(103)\n",
      "memory usage: 3.1+ MB\n"
     ]
    }
   ],
   "source": [
    "df.info()"
   ]
  },
  {
   "cell_type": "code",
   "execution_count": 319,
   "metadata": {},
   "outputs": [],
   "source": [
    "#인구 구조 비율. 모든 컬럼의 값을 총인구수로 나누기\n",
    "df = df.div(df[\"총인구수\"],axis=0)"
   ]
  },
  {
   "cell_type": "code",
   "execution_count": 315,
   "metadata": {},
   "outputs": [
    {
     "data": {
      "text/html": [
       "<div>\n",
       "<style scoped>\n",
       "    .dataframe tbody tr th:only-of-type {\n",
       "        vertical-align: middle;\n",
       "    }\n",
       "\n",
       "    .dataframe tbody tr th {\n",
       "        vertical-align: top;\n",
       "    }\n",
       "\n",
       "    .dataframe thead th {\n",
       "        text-align: right;\n",
       "    }\n",
       "</style>\n",
       "<table border=\"1\" class=\"dataframe\">\n",
       "  <thead>\n",
       "    <tr style=\"text-align: right;\">\n",
       "      <th></th>\n",
       "      <th>총인구수</th>\n",
       "      <th>연령구간인구수</th>\n",
       "      <th>0세</th>\n",
       "      <th>1세</th>\n",
       "      <th>2세</th>\n",
       "      <th>3세</th>\n",
       "      <th>4세</th>\n",
       "      <th>5세</th>\n",
       "      <th>6세</th>\n",
       "      <th>7세</th>\n",
       "      <th>...</th>\n",
       "      <th>91세</th>\n",
       "      <th>92세</th>\n",
       "      <th>93세</th>\n",
       "      <th>94세</th>\n",
       "      <th>95세</th>\n",
       "      <th>96세</th>\n",
       "      <th>97세</th>\n",
       "      <th>98세</th>\n",
       "      <th>99세</th>\n",
       "      <th>100세</th>\n",
       "    </tr>\n",
       "    <tr>\n",
       "      <th>행정구역</th>\n",
       "      <th></th>\n",
       "      <th></th>\n",
       "      <th></th>\n",
       "      <th></th>\n",
       "      <th></th>\n",
       "      <th></th>\n",
       "      <th></th>\n",
       "      <th></th>\n",
       "      <th></th>\n",
       "      <th></th>\n",
       "      <th></th>\n",
       "      <th></th>\n",
       "      <th></th>\n",
       "      <th></th>\n",
       "      <th></th>\n",
       "      <th></th>\n",
       "      <th></th>\n",
       "      <th></th>\n",
       "      <th></th>\n",
       "      <th></th>\n",
       "      <th></th>\n",
       "    </tr>\n",
       "  </thead>\n",
       "  <tbody>\n",
       "    <tr>\n",
       "      <th>서울특별시  (1100000000)</th>\n",
       "      <td>1.0</td>\n",
       "      <td>1.0</td>\n",
       "      <td>0.004000</td>\n",
       "      <td>0.004232</td>\n",
       "      <td>0.004385</td>\n",
       "      <td>0.004600</td>\n",
       "      <td>0.004817</td>\n",
       "      <td>0.005195</td>\n",
       "      <td>0.005581</td>\n",
       "      <td>0.006186</td>\n",
       "      <td>...</td>\n",
       "      <td>0.000998</td>\n",
       "      <td>0.000787</td>\n",
       "      <td>0.000563</td>\n",
       "      <td>0.000466</td>\n",
       "      <td>0.000371</td>\n",
       "      <td>0.000259</td>\n",
       "      <td>0.000178</td>\n",
       "      <td>0.000098</td>\n",
       "      <td>0.000069</td>\n",
       "      <td>0.000161</td>\n",
       "    </tr>\n",
       "    <tr>\n",
       "      <th>서울특별시 종로구 (1111000000)</th>\n",
       "      <td>1.0</td>\n",
       "      <td>1.0</td>\n",
       "      <td>0.002766</td>\n",
       "      <td>0.003039</td>\n",
       "      <td>0.003449</td>\n",
       "      <td>0.003305</td>\n",
       "      <td>0.003901</td>\n",
       "      <td>0.003757</td>\n",
       "      <td>0.004347</td>\n",
       "      <td>0.004950</td>\n",
       "      <td>...</td>\n",
       "      <td>0.001423</td>\n",
       "      <td>0.001171</td>\n",
       "      <td>0.000819</td>\n",
       "      <td>0.000639</td>\n",
       "      <td>0.000539</td>\n",
       "      <td>0.000402</td>\n",
       "      <td>0.000323</td>\n",
       "      <td>0.000172</td>\n",
       "      <td>0.000129</td>\n",
       "      <td>0.000309</td>\n",
       "    </tr>\n",
       "    <tr>\n",
       "      <th>서울특별시 종로구 청운효자동(1111051500)</th>\n",
       "      <td>1.0</td>\n",
       "      <td>1.0</td>\n",
       "      <td>0.004200</td>\n",
       "      <td>0.002860</td>\n",
       "      <td>0.003664</td>\n",
       "      <td>0.004468</td>\n",
       "      <td>0.004200</td>\n",
       "      <td>0.004379</td>\n",
       "      <td>0.004736</td>\n",
       "      <td>0.007239</td>\n",
       "      <td>...</td>\n",
       "      <td>0.001787</td>\n",
       "      <td>0.001072</td>\n",
       "      <td>0.001072</td>\n",
       "      <td>0.000447</td>\n",
       "      <td>0.000536</td>\n",
       "      <td>0.000447</td>\n",
       "      <td>0.000268</td>\n",
       "      <td>0.000089</td>\n",
       "      <td>0.000089</td>\n",
       "      <td>0.000536</td>\n",
       "    </tr>\n",
       "    <tr>\n",
       "      <th>서울특별시 종로구 사직동(1111053000)</th>\n",
       "      <td>1.0</td>\n",
       "      <td>1.0</td>\n",
       "      <td>0.002117</td>\n",
       "      <td>0.003453</td>\n",
       "      <td>0.004679</td>\n",
       "      <td>0.003453</td>\n",
       "      <td>0.004344</td>\n",
       "      <td>0.005124</td>\n",
       "      <td>0.005793</td>\n",
       "      <td>0.006127</td>\n",
       "      <td>...</td>\n",
       "      <td>0.001782</td>\n",
       "      <td>0.001114</td>\n",
       "      <td>0.001560</td>\n",
       "      <td>0.000891</td>\n",
       "      <td>0.001448</td>\n",
       "      <td>0.000223</td>\n",
       "      <td>0.000446</td>\n",
       "      <td>0.000223</td>\n",
       "      <td>0.000111</td>\n",
       "      <td>0.000668</td>\n",
       "    </tr>\n",
       "    <tr>\n",
       "      <th>서울특별시 종로구 삼청동(1111054000)</th>\n",
       "      <td>1.0</td>\n",
       "      <td>1.0</td>\n",
       "      <td>0.001797</td>\n",
       "      <td>0.002695</td>\n",
       "      <td>0.003145</td>\n",
       "      <td>0.003145</td>\n",
       "      <td>0.002695</td>\n",
       "      <td>0.002695</td>\n",
       "      <td>0.005840</td>\n",
       "      <td>0.003145</td>\n",
       "      <td>...</td>\n",
       "      <td>0.003145</td>\n",
       "      <td>0.002695</td>\n",
       "      <td>0.001797</td>\n",
       "      <td>0.002246</td>\n",
       "      <td>0.000000</td>\n",
       "      <td>0.000898</td>\n",
       "      <td>0.000449</td>\n",
       "      <td>0.000000</td>\n",
       "      <td>0.000000</td>\n",
       "      <td>0.000898</td>\n",
       "    </tr>\n",
       "  </tbody>\n",
       "</table>\n",
       "<p>5 rows × 103 columns</p>\n",
       "</div>"
      ],
      "text/plain": [
       "                             총인구수  연령구간인구수        0세        1세        2세  \\\n",
       "행정구역                                                                       \n",
       "서울특별시  (1100000000)           1.0      1.0  0.004000  0.004232  0.004385   \n",
       "서울특별시 종로구 (1111000000)        1.0      1.0  0.002766  0.003039  0.003449   \n",
       "서울특별시 종로구 청운효자동(1111051500)   1.0      1.0  0.004200  0.002860  0.003664   \n",
       "서울특별시 종로구 사직동(1111053000)     1.0      1.0  0.002117  0.003453  0.004679   \n",
       "서울특별시 종로구 삼청동(1111054000)     1.0      1.0  0.001797  0.002695  0.003145   \n",
       "\n",
       "                                   3세        4세        5세        6세        7세  \\\n",
       "행정구역                                                                            \n",
       "서울특별시  (1100000000)          0.004600  0.004817  0.005195  0.005581  0.006186   \n",
       "서울특별시 종로구 (1111000000)       0.003305  0.003901  0.003757  0.004347  0.004950   \n",
       "서울특별시 종로구 청운효자동(1111051500)  0.004468  0.004200  0.004379  0.004736  0.007239   \n",
       "서울특별시 종로구 사직동(1111053000)    0.003453  0.004344  0.005124  0.005793  0.006127   \n",
       "서울특별시 종로구 삼청동(1111054000)    0.003145  0.002695  0.002695  0.005840  0.003145   \n",
       "\n",
       "                             ...       91세       92세       93세       94세  \\\n",
       "행정구역                         ...                                           \n",
       "서울특별시  (1100000000)          ...  0.000998  0.000787  0.000563  0.000466   \n",
       "서울특별시 종로구 (1111000000)       ...  0.001423  0.001171  0.000819  0.000639   \n",
       "서울특별시 종로구 청운효자동(1111051500)  ...  0.001787  0.001072  0.001072  0.000447   \n",
       "서울특별시 종로구 사직동(1111053000)    ...  0.001782  0.001114  0.001560  0.000891   \n",
       "서울특별시 종로구 삼청동(1111054000)    ...  0.003145  0.002695  0.001797  0.002246   \n",
       "\n",
       "                                  95세       96세       97세       98세       99세  \\\n",
       "행정구역                                                                            \n",
       "서울특별시  (1100000000)          0.000371  0.000259  0.000178  0.000098  0.000069   \n",
       "서울특별시 종로구 (1111000000)       0.000539  0.000402  0.000323  0.000172  0.000129   \n",
       "서울특별시 종로구 청운효자동(1111051500)  0.000536  0.000447  0.000268  0.000089  0.000089   \n",
       "서울특별시 종로구 사직동(1111053000)    0.001448  0.000223  0.000446  0.000223  0.000111   \n",
       "서울특별시 종로구 삼청동(1111054000)    0.000000  0.000898  0.000449  0.000000  0.000000   \n",
       "\n",
       "                                 100세  \n",
       "행정구역                                   \n",
       "서울특별시  (1100000000)          0.000161  \n",
       "서울특별시 종로구 (1111000000)       0.000309  \n",
       "서울특별시 종로구 청운효자동(1111051500)  0.000536  \n",
       "서울특별시 종로구 사직동(1111053000)    0.000668  \n",
       "서울특별시 종로구 삼청동(1111054000)    0.000898  \n",
       "\n",
       "[5 rows x 103 columns]"
      ]
     },
     "execution_count": 315,
     "metadata": {},
     "output_type": "execute_result"
    }
   ],
   "source": [
    "df.head()"
   ]
  },
  {
   "cell_type": "code",
   "execution_count": 320,
   "metadata": {},
   "outputs": [],
   "source": [
    "#총인구수, 연령별인구수컬럼 제거\n",
    "del df[\"총인구수\"],df[\"연령구간인구수\"]"
   ]
  },
  {
   "cell_type": "code",
   "execution_count": 321,
   "metadata": {},
   "outputs": [
    {
     "data": {
      "text/html": [
       "<div>\n",
       "<style scoped>\n",
       "    .dataframe tbody tr th:only-of-type {\n",
       "        vertical-align: middle;\n",
       "    }\n",
       "\n",
       "    .dataframe tbody tr th {\n",
       "        vertical-align: top;\n",
       "    }\n",
       "\n",
       "    .dataframe thead th {\n",
       "        text-align: right;\n",
       "    }\n",
       "</style>\n",
       "<table border=\"1\" class=\"dataframe\">\n",
       "  <thead>\n",
       "    <tr style=\"text-align: right;\">\n",
       "      <th></th>\n",
       "      <th>0세</th>\n",
       "      <th>1세</th>\n",
       "      <th>2세</th>\n",
       "      <th>3세</th>\n",
       "      <th>4세</th>\n",
       "      <th>5세</th>\n",
       "      <th>6세</th>\n",
       "      <th>7세</th>\n",
       "      <th>8세</th>\n",
       "      <th>9세</th>\n",
       "      <th>...</th>\n",
       "      <th>91세</th>\n",
       "      <th>92세</th>\n",
       "      <th>93세</th>\n",
       "      <th>94세</th>\n",
       "      <th>95세</th>\n",
       "      <th>96세</th>\n",
       "      <th>97세</th>\n",
       "      <th>98세</th>\n",
       "      <th>99세</th>\n",
       "      <th>100세</th>\n",
       "    </tr>\n",
       "    <tr>\n",
       "      <th>행정구역</th>\n",
       "      <th></th>\n",
       "      <th></th>\n",
       "      <th></th>\n",
       "      <th></th>\n",
       "      <th></th>\n",
       "      <th></th>\n",
       "      <th></th>\n",
       "      <th></th>\n",
       "      <th></th>\n",
       "      <th></th>\n",
       "      <th></th>\n",
       "      <th></th>\n",
       "      <th></th>\n",
       "      <th></th>\n",
       "      <th></th>\n",
       "      <th></th>\n",
       "      <th></th>\n",
       "      <th></th>\n",
       "      <th></th>\n",
       "      <th></th>\n",
       "      <th></th>\n",
       "    </tr>\n",
       "  </thead>\n",
       "  <tbody>\n",
       "    <tr>\n",
       "      <th>서울특별시  (1100000000)</th>\n",
       "      <td>0.004000</td>\n",
       "      <td>0.004232</td>\n",
       "      <td>0.004385</td>\n",
       "      <td>0.004600</td>\n",
       "      <td>0.004817</td>\n",
       "      <td>0.005195</td>\n",
       "      <td>0.005581</td>\n",
       "      <td>0.006186</td>\n",
       "      <td>0.006925</td>\n",
       "      <td>0.007190</td>\n",
       "      <td>...</td>\n",
       "      <td>0.000998</td>\n",
       "      <td>0.000787</td>\n",
       "      <td>0.000563</td>\n",
       "      <td>0.000466</td>\n",
       "      <td>0.000371</td>\n",
       "      <td>0.000259</td>\n",
       "      <td>0.000178</td>\n",
       "      <td>0.000098</td>\n",
       "      <td>0.000069</td>\n",
       "      <td>0.000161</td>\n",
       "    </tr>\n",
       "    <tr>\n",
       "      <th>서울특별시 종로구 (1111000000)</th>\n",
       "      <td>0.002766</td>\n",
       "      <td>0.003039</td>\n",
       "      <td>0.003449</td>\n",
       "      <td>0.003305</td>\n",
       "      <td>0.003901</td>\n",
       "      <td>0.003757</td>\n",
       "      <td>0.004347</td>\n",
       "      <td>0.004950</td>\n",
       "      <td>0.005784</td>\n",
       "      <td>0.005697</td>\n",
       "      <td>...</td>\n",
       "      <td>0.001423</td>\n",
       "      <td>0.001171</td>\n",
       "      <td>0.000819</td>\n",
       "      <td>0.000639</td>\n",
       "      <td>0.000539</td>\n",
       "      <td>0.000402</td>\n",
       "      <td>0.000323</td>\n",
       "      <td>0.000172</td>\n",
       "      <td>0.000129</td>\n",
       "      <td>0.000309</td>\n",
       "    </tr>\n",
       "    <tr>\n",
       "      <th>서울특별시 종로구 청운효자동(1111051500)</th>\n",
       "      <td>0.004200</td>\n",
       "      <td>0.002860</td>\n",
       "      <td>0.003664</td>\n",
       "      <td>0.004468</td>\n",
       "      <td>0.004200</td>\n",
       "      <td>0.004379</td>\n",
       "      <td>0.004736</td>\n",
       "      <td>0.007239</td>\n",
       "      <td>0.007417</td>\n",
       "      <td>0.006971</td>\n",
       "      <td>...</td>\n",
       "      <td>0.001787</td>\n",
       "      <td>0.001072</td>\n",
       "      <td>0.001072</td>\n",
       "      <td>0.000447</td>\n",
       "      <td>0.000536</td>\n",
       "      <td>0.000447</td>\n",
       "      <td>0.000268</td>\n",
       "      <td>0.000089</td>\n",
       "      <td>0.000089</td>\n",
       "      <td>0.000536</td>\n",
       "    </tr>\n",
       "    <tr>\n",
       "      <th>서울특별시 종로구 사직동(1111053000)</th>\n",
       "      <td>0.002117</td>\n",
       "      <td>0.003453</td>\n",
       "      <td>0.004679</td>\n",
       "      <td>0.003453</td>\n",
       "      <td>0.004344</td>\n",
       "      <td>0.005124</td>\n",
       "      <td>0.005793</td>\n",
       "      <td>0.006127</td>\n",
       "      <td>0.006907</td>\n",
       "      <td>0.008132</td>\n",
       "      <td>...</td>\n",
       "      <td>0.001782</td>\n",
       "      <td>0.001114</td>\n",
       "      <td>0.001560</td>\n",
       "      <td>0.000891</td>\n",
       "      <td>0.001448</td>\n",
       "      <td>0.000223</td>\n",
       "      <td>0.000446</td>\n",
       "      <td>0.000223</td>\n",
       "      <td>0.000111</td>\n",
       "      <td>0.000668</td>\n",
       "    </tr>\n",
       "    <tr>\n",
       "      <th>서울특별시 종로구 삼청동(1111054000)</th>\n",
       "      <td>0.001797</td>\n",
       "      <td>0.002695</td>\n",
       "      <td>0.003145</td>\n",
       "      <td>0.003145</td>\n",
       "      <td>0.002695</td>\n",
       "      <td>0.002695</td>\n",
       "      <td>0.005840</td>\n",
       "      <td>0.003145</td>\n",
       "      <td>0.006739</td>\n",
       "      <td>0.004492</td>\n",
       "      <td>...</td>\n",
       "      <td>0.003145</td>\n",
       "      <td>0.002695</td>\n",
       "      <td>0.001797</td>\n",
       "      <td>0.002246</td>\n",
       "      <td>0.000000</td>\n",
       "      <td>0.000898</td>\n",
       "      <td>0.000449</td>\n",
       "      <td>0.000000</td>\n",
       "      <td>0.000000</td>\n",
       "      <td>0.000898</td>\n",
       "    </tr>\n",
       "  </tbody>\n",
       "</table>\n",
       "<p>5 rows × 101 columns</p>\n",
       "</div>"
      ],
      "text/plain": [
       "                                   0세        1세        2세        3세        4세  \\\n",
       "행정구역                                                                            \n",
       "서울특별시  (1100000000)          0.004000  0.004232  0.004385  0.004600  0.004817   \n",
       "서울특별시 종로구 (1111000000)       0.002766  0.003039  0.003449  0.003305  0.003901   \n",
       "서울특별시 종로구 청운효자동(1111051500)  0.004200  0.002860  0.003664  0.004468  0.004200   \n",
       "서울특별시 종로구 사직동(1111053000)    0.002117  0.003453  0.004679  0.003453  0.004344   \n",
       "서울특별시 종로구 삼청동(1111054000)    0.001797  0.002695  0.003145  0.003145  0.002695   \n",
       "\n",
       "                                   5세        6세        7세        8세        9세  \\\n",
       "행정구역                                                                            \n",
       "서울특별시  (1100000000)          0.005195  0.005581  0.006186  0.006925  0.007190   \n",
       "서울특별시 종로구 (1111000000)       0.003757  0.004347  0.004950  0.005784  0.005697   \n",
       "서울특별시 종로구 청운효자동(1111051500)  0.004379  0.004736  0.007239  0.007417  0.006971   \n",
       "서울특별시 종로구 사직동(1111053000)    0.005124  0.005793  0.006127  0.006907  0.008132   \n",
       "서울특별시 종로구 삼청동(1111054000)    0.002695  0.005840  0.003145  0.006739  0.004492   \n",
       "\n",
       "                             ...       91세       92세       93세       94세  \\\n",
       "행정구역                         ...                                           \n",
       "서울특별시  (1100000000)          ...  0.000998  0.000787  0.000563  0.000466   \n",
       "서울특별시 종로구 (1111000000)       ...  0.001423  0.001171  0.000819  0.000639   \n",
       "서울특별시 종로구 청운효자동(1111051500)  ...  0.001787  0.001072  0.001072  0.000447   \n",
       "서울특별시 종로구 사직동(1111053000)    ...  0.001782  0.001114  0.001560  0.000891   \n",
       "서울특별시 종로구 삼청동(1111054000)    ...  0.003145  0.002695  0.001797  0.002246   \n",
       "\n",
       "                                  95세       96세       97세       98세       99세  \\\n",
       "행정구역                                                                            \n",
       "서울특별시  (1100000000)          0.000371  0.000259  0.000178  0.000098  0.000069   \n",
       "서울특별시 종로구 (1111000000)       0.000539  0.000402  0.000323  0.000172  0.000129   \n",
       "서울특별시 종로구 청운효자동(1111051500)  0.000536  0.000447  0.000268  0.000089  0.000089   \n",
       "서울특별시 종로구 사직동(1111053000)    0.001448  0.000223  0.000446  0.000223  0.000111   \n",
       "서울특별시 종로구 삼청동(1111054000)    0.000000  0.000898  0.000449  0.000000  0.000000   \n",
       "\n",
       "                                 100세  \n",
       "행정구역                                   \n",
       "서울특별시  (1100000000)          0.000161  \n",
       "서울특별시 종로구 (1111000000)       0.000309  \n",
       "서울특별시 종로구 청운효자동(1111051500)  0.000536  \n",
       "서울특별시 종로구 사직동(1111053000)    0.000668  \n",
       "서울특별시 종로구 삼청동(1111054000)    0.000898  \n",
       "\n",
       "[5 rows x 101 columns]"
      ]
     },
     "execution_count": 321,
     "metadata": {},
     "output_type": "execute_result"
    }
   ],
   "source": [
    "df.head()"
   ]
  },
  {
   "cell_type": "code",
   "execution_count": 322,
   "metadata": {},
   "outputs": [],
   "source": [
    "#결측값을 0으로 치환하기\n",
    "df.fillna(0,inplace=True)"
   ]
  },
  {
   "cell_type": "code",
   "execution_count": 330,
   "metadata": {},
   "outputs": [
    {
     "data": {
      "text/html": [
       "<div>\n",
       "<style scoped>\n",
       "    .dataframe tbody tr th:only-of-type {\n",
       "        vertical-align: middle;\n",
       "    }\n",
       "\n",
       "    .dataframe tbody tr th {\n",
       "        vertical-align: top;\n",
       "    }\n",
       "\n",
       "    .dataframe thead th {\n",
       "        text-align: right;\n",
       "    }\n",
       "</style>\n",
       "<table border=\"1\" class=\"dataframe\">\n",
       "  <thead>\n",
       "    <tr style=\"text-align: right;\">\n",
       "      <th></th>\n",
       "      <th>0세</th>\n",
       "      <th>1세</th>\n",
       "      <th>2세</th>\n",
       "      <th>3세</th>\n",
       "      <th>4세</th>\n",
       "      <th>5세</th>\n",
       "      <th>6세</th>\n",
       "      <th>7세</th>\n",
       "      <th>8세</th>\n",
       "      <th>9세</th>\n",
       "      <th>...</th>\n",
       "      <th>91세</th>\n",
       "      <th>92세</th>\n",
       "      <th>93세</th>\n",
       "      <th>94세</th>\n",
       "      <th>95세</th>\n",
       "      <th>96세</th>\n",
       "      <th>97세</th>\n",
       "      <th>98세</th>\n",
       "      <th>99세</th>\n",
       "      <th>100세</th>\n",
       "    </tr>\n",
       "    <tr>\n",
       "      <th>행정구역</th>\n",
       "      <th></th>\n",
       "      <th></th>\n",
       "      <th></th>\n",
       "      <th></th>\n",
       "      <th></th>\n",
       "      <th></th>\n",
       "      <th></th>\n",
       "      <th></th>\n",
       "      <th></th>\n",
       "      <th></th>\n",
       "      <th></th>\n",
       "      <th></th>\n",
       "      <th></th>\n",
       "      <th></th>\n",
       "      <th></th>\n",
       "      <th></th>\n",
       "      <th></th>\n",
       "      <th></th>\n",
       "      <th></th>\n",
       "      <th></th>\n",
       "      <th></th>\n",
       "    </tr>\n",
       "  </thead>\n",
       "  <tbody>\n",
       "    <tr>\n",
       "      <th>서울특별시 금천구 가산동(1154551000)</th>\n",
       "      <td>0.00236</td>\n",
       "      <td>0.003041</td>\n",
       "      <td>0.0022</td>\n",
       "      <td>0.00232</td>\n",
       "      <td>0.00192</td>\n",
       "      <td>0.00196</td>\n",
       "      <td>0.00196</td>\n",
       "      <td>0.0022</td>\n",
       "      <td>0.00192</td>\n",
       "      <td>0.002561</td>\n",
       "      <td>...</td>\n",
       "      <td>0.00036</td>\n",
       "      <td>0.00032</td>\n",
       "      <td>0.00028</td>\n",
       "      <td>0.00008</td>\n",
       "      <td>0.00008</td>\n",
       "      <td>0.00016</td>\n",
       "      <td>0.0</td>\n",
       "      <td>0.00008</td>\n",
       "      <td>0.00008</td>\n",
       "      <td>0.00016</td>\n",
       "    </tr>\n",
       "  </tbody>\n",
       "</table>\n",
       "<p>1 rows × 101 columns</p>\n",
       "</div>"
      ],
      "text/plain": [
       "                                0세        1세      2세       3세       4세  \\\n",
       "행정구역                                                                     \n",
       "서울특별시 금천구 가산동(1154551000)  0.00236  0.003041  0.0022  0.00232  0.00192   \n",
       "\n",
       "                                5세       6세      7세       8세        9세  ...  \\\n",
       "행정구역                                                                    ...   \n",
       "서울특별시 금천구 가산동(1154551000)  0.00196  0.00196  0.0022  0.00192  0.002561  ...   \n",
       "\n",
       "                               91세      92세      93세      94세      95세  \\\n",
       "행정구역                                                                     \n",
       "서울특별시 금천구 가산동(1154551000)  0.00036  0.00032  0.00028  0.00008  0.00008   \n",
       "\n",
       "                               96세  97세      98세      99세     100세  \n",
       "행정구역                                                                \n",
       "서울특별시 금천구 가산동(1154551000)  0.00016  0.0  0.00008  0.00008  0.00016  \n",
       "\n",
       "[1 rows x 101 columns]"
      ]
     },
     "execution_count": 330,
     "metadata": {},
     "output_type": "execute_result"
    }
   ],
   "source": [
    "name=\"가산동\"\n",
    "df2 = df[df.index.str.contains(name)]\n",
    "df2"
   ]
  },
  {
   "cell_type": "code",
   "execution_count": 331,
   "metadata": {},
   "outputs": [
    {
     "data": {
      "text/plain": [
       "Index(['서울특별시 금천구 가산동'], dtype='object')"
      ]
     },
     "execution_count": 331,
     "metadata": {},
     "output_type": "execute_result"
    }
   ],
   "source": [
    "#df2.index에서 행정동코드 제거하기\n",
    "names = list(df2.index)\n",
    "names[0] = names[0][:names[0].find('(')]\n",
    "df2.index = names\n",
    "df2.index"
   ]
  },
  {
   "cell_type": "code",
   "execution_count": 332,
   "metadata": {},
   "outputs": [
    {
     "data": {
      "text/plain": [
       "<Axes: >"
      ]
     },
     "execution_count": 332,
     "metadata": {},
     "output_type": "execute_result"
    },
    {
     "data": {
      "image/png": "[encoded data removed]",
      "text/plain": [
       "<Figure size 640x480 with 1 Axes>"
      ]
     },
     "metadata": {},
     "output_type": "display_data"
    }
   ],
   "source": [
    "df2.T.plot()"
   ]
  },
  {
   "cell_type": "code",
   "execution_count": 333,
   "metadata": {},
   "outputs": [
    {
     "data": {
      "text/html": [
       "<div>\n",
       "<style scoped>\n",
       "    .dataframe tbody tr th:only-of-type {\n",
       "        vertical-align: middle;\n",
       "    }\n",
       "\n",
       "    .dataframe tbody tr th {\n",
       "        vertical-align: top;\n",
       "    }\n",
       "\n",
       "    .dataframe thead th {\n",
       "        text-align: right;\n",
       "    }\n",
       "</style>\n",
       "<table border=\"1\" class=\"dataframe\">\n",
       "  <thead>\n",
       "    <tr style=\"text-align: right;\">\n",
       "      <th></th>\n",
       "      <th>0세</th>\n",
       "      <th>1세</th>\n",
       "      <th>2세</th>\n",
       "      <th>3세</th>\n",
       "      <th>4세</th>\n",
       "      <th>5세</th>\n",
       "      <th>6세</th>\n",
       "      <th>7세</th>\n",
       "      <th>8세</th>\n",
       "      <th>9세</th>\n",
       "      <th>...</th>\n",
       "      <th>91세</th>\n",
       "      <th>92세</th>\n",
       "      <th>93세</th>\n",
       "      <th>94세</th>\n",
       "      <th>95세</th>\n",
       "      <th>96세</th>\n",
       "      <th>97세</th>\n",
       "      <th>98세</th>\n",
       "      <th>99세</th>\n",
       "      <th>100세</th>\n",
       "    </tr>\n",
       "    <tr>\n",
       "      <th>행정구역</th>\n",
       "      <th></th>\n",
       "      <th></th>\n",
       "      <th></th>\n",
       "      <th></th>\n",
       "      <th></th>\n",
       "      <th></th>\n",
       "      <th></th>\n",
       "      <th></th>\n",
       "      <th></th>\n",
       "      <th></th>\n",
       "      <th></th>\n",
       "      <th></th>\n",
       "      <th></th>\n",
       "      <th></th>\n",
       "      <th></th>\n",
       "      <th></th>\n",
       "      <th></th>\n",
       "      <th></th>\n",
       "      <th></th>\n",
       "      <th></th>\n",
       "      <th></th>\n",
       "    </tr>\n",
       "  </thead>\n",
       "  <tbody>\n",
       "    <tr>\n",
       "      <th>서울특별시  (1100000000)</th>\n",
       "      <td>0.004000</td>\n",
       "      <td>0.004232</td>\n",
       "      <td>0.004385</td>\n",
       "      <td>0.004600</td>\n",
       "      <td>0.004817</td>\n",
       "      <td>0.005195</td>\n",
       "      <td>0.005581</td>\n",
       "      <td>0.006186</td>\n",
       "      <td>0.006925</td>\n",
       "      <td>0.007190</td>\n",
       "      <td>...</td>\n",
       "      <td>0.000998</td>\n",
       "      <td>0.000787</td>\n",
       "      <td>0.000563</td>\n",
       "      <td>0.000466</td>\n",
       "      <td>0.000371</td>\n",
       "      <td>0.000259</td>\n",
       "      <td>0.000178</td>\n",
       "      <td>0.000098</td>\n",
       "      <td>0.000069</td>\n",
       "      <td>0.000161</td>\n",
       "    </tr>\n",
       "    <tr>\n",
       "      <th>서울특별시 종로구 (1111000000)</th>\n",
       "      <td>0.002766</td>\n",
       "      <td>0.003039</td>\n",
       "      <td>0.003449</td>\n",
       "      <td>0.003305</td>\n",
       "      <td>0.003901</td>\n",
       "      <td>0.003757</td>\n",
       "      <td>0.004347</td>\n",
       "      <td>0.004950</td>\n",
       "      <td>0.005784</td>\n",
       "      <td>0.005697</td>\n",
       "      <td>...</td>\n",
       "      <td>0.001423</td>\n",
       "      <td>0.001171</td>\n",
       "      <td>0.000819</td>\n",
       "      <td>0.000639</td>\n",
       "      <td>0.000539</td>\n",
       "      <td>0.000402</td>\n",
       "      <td>0.000323</td>\n",
       "      <td>0.000172</td>\n",
       "      <td>0.000129</td>\n",
       "      <td>0.000309</td>\n",
       "    </tr>\n",
       "    <tr>\n",
       "      <th>서울특별시 종로구 청운효자동(1111051500)</th>\n",
       "      <td>0.004200</td>\n",
       "      <td>0.002860</td>\n",
       "      <td>0.003664</td>\n",
       "      <td>0.004468</td>\n",
       "      <td>0.004200</td>\n",
       "      <td>0.004379</td>\n",
       "      <td>0.004736</td>\n",
       "      <td>0.007239</td>\n",
       "      <td>0.007417</td>\n",
       "      <td>0.006971</td>\n",
       "      <td>...</td>\n",
       "      <td>0.001787</td>\n",
       "      <td>0.001072</td>\n",
       "      <td>0.001072</td>\n",
       "      <td>0.000447</td>\n",
       "      <td>0.000536</td>\n",
       "      <td>0.000447</td>\n",
       "      <td>0.000268</td>\n",
       "      <td>0.000089</td>\n",
       "      <td>0.000089</td>\n",
       "      <td>0.000536</td>\n",
       "    </tr>\n",
       "    <tr>\n",
       "      <th>서울특별시 종로구 사직동(1111053000)</th>\n",
       "      <td>0.002117</td>\n",
       "      <td>0.003453</td>\n",
       "      <td>0.004679</td>\n",
       "      <td>0.003453</td>\n",
       "      <td>0.004344</td>\n",
       "      <td>0.005124</td>\n",
       "      <td>0.005793</td>\n",
       "      <td>0.006127</td>\n",
       "      <td>0.006907</td>\n",
       "      <td>0.008132</td>\n",
       "      <td>...</td>\n",
       "      <td>0.001782</td>\n",
       "      <td>0.001114</td>\n",
       "      <td>0.001560</td>\n",
       "      <td>0.000891</td>\n",
       "      <td>0.001448</td>\n",
       "      <td>0.000223</td>\n",
       "      <td>0.000446</td>\n",
       "      <td>0.000223</td>\n",
       "      <td>0.000111</td>\n",
       "      <td>0.000668</td>\n",
       "    </tr>\n",
       "    <tr>\n",
       "      <th>서울특별시 종로구 삼청동(1111054000)</th>\n",
       "      <td>0.001797</td>\n",
       "      <td>0.002695</td>\n",
       "      <td>0.003145</td>\n",
       "      <td>0.003145</td>\n",
       "      <td>0.002695</td>\n",
       "      <td>0.002695</td>\n",
       "      <td>0.005840</td>\n",
       "      <td>0.003145</td>\n",
       "      <td>0.006739</td>\n",
       "      <td>0.004492</td>\n",
       "      <td>...</td>\n",
       "      <td>0.003145</td>\n",
       "      <td>0.002695</td>\n",
       "      <td>0.001797</td>\n",
       "      <td>0.002246</td>\n",
       "      <td>0.000000</td>\n",
       "      <td>0.000898</td>\n",
       "      <td>0.000449</td>\n",
       "      <td>0.000000</td>\n",
       "      <td>0.000000</td>\n",
       "      <td>0.000898</td>\n",
       "    </tr>\n",
       "  </tbody>\n",
       "</table>\n",
       "<p>5 rows × 101 columns</p>\n",
       "</div>"
      ],
      "text/plain": [
       "                                   0세        1세        2세        3세        4세  \\\n",
       "행정구역                                                                            \n",
       "서울특별시  (1100000000)          0.004000  0.004232  0.004385  0.004600  0.004817   \n",
       "서울특별시 종로구 (1111000000)       0.002766  0.003039  0.003449  0.003305  0.003901   \n",
       "서울특별시 종로구 청운효자동(1111051500)  0.004200  0.002860  0.003664  0.004468  0.004200   \n",
       "서울특별시 종로구 사직동(1111053000)    0.002117  0.003453  0.004679  0.003453  0.004344   \n",
       "서울특별시 종로구 삼청동(1111054000)    0.001797  0.002695  0.003145  0.003145  0.002695   \n",
       "\n",
       "                                   5세        6세        7세        8세        9세  \\\n",
       "행정구역                                                                            \n",
       "서울특별시  (1100000000)          0.005195  0.005581  0.006186  0.006925  0.007190   \n",
       "서울특별시 종로구 (1111000000)       0.003757  0.004347  0.004950  0.005784  0.005697   \n",
       "서울특별시 종로구 청운효자동(1111051500)  0.004379  0.004736  0.007239  0.007417  0.006971   \n",
       "서울특별시 종로구 사직동(1111053000)    0.005124  0.005793  0.006127  0.006907  0.008132   \n",
       "서울특별시 종로구 삼청동(1111054000)    0.002695  0.005840  0.003145  0.006739  0.004492   \n",
       "\n",
       "                             ...       91세       92세       93세       94세  \\\n",
       "행정구역                         ...                                           \n",
       "서울특별시  (1100000000)          ...  0.000998  0.000787  0.000563  0.000466   \n",
       "서울특별시 종로구 (1111000000)       ...  0.001423  0.001171  0.000819  0.000639   \n",
       "서울특별시 종로구 청운효자동(1111051500)  ...  0.001787  0.001072  0.001072  0.000447   \n",
       "서울특별시 종로구 사직동(1111053000)    ...  0.001782  0.001114  0.001560  0.000891   \n",
       "서울특별시 종로구 삼청동(1111054000)    ...  0.003145  0.002695  0.001797  0.002246   \n",
       "\n",
       "                                  95세       96세       97세       98세       99세  \\\n",
       "행정구역                                                                            \n",
       "서울특별시  (1100000000)          0.000371  0.000259  0.000178  0.000098  0.000069   \n",
       "서울특별시 종로구 (1111000000)       0.000539  0.000402  0.000323  0.000172  0.000129   \n",
       "서울특별시 종로구 청운효자동(1111051500)  0.000536  0.000447  0.000268  0.000089  0.000089   \n",
       "서울특별시 종로구 사직동(1111053000)    0.001448  0.000223  0.000446  0.000223  0.000111   \n",
       "서울특별시 종로구 삼청동(1111054000)    0.000000  0.000898  0.000449  0.000000  0.000000   \n",
       "\n",
       "                                 100세  \n",
       "행정구역                                   \n",
       "서울특별시  (1100000000)          0.000161  \n",
       "서울특별시 종로구 (1111000000)       0.000309  \n",
       "서울특별시 종로구 청운효자동(1111051500)  0.000536  \n",
       "서울특별시 종로구 사직동(1111053000)    0.000668  \n",
       "서울특별시 종로구 삼청동(1111054000)    0.000898  \n",
       "\n",
       "[5 rows x 101 columns]"
      ]
     },
     "execution_count": 333,
     "metadata": {},
     "output_type": "execute_result"
    }
   ],
   "source": [
    "#역삼2동을 제외한 다른 데이터를 저장하는 df3를 생성하기\n",
    "a = df.index.str.contains(name)\n",
    "b = list(map(lambda x : not x,a))\n",
    "df3 = df[b]\n",
    "df3.head()"
   ]
  },
  {
   "cell_type": "code",
   "execution_count": 334,
   "metadata": {},
   "outputs": [
    {
     "name": "stdout",
     "output_type": "stream",
     "text": [
      "<class 'pandas.core.frame.DataFrame'>\n",
      "Index: 3908 entries, 서울특별시  (1100000000) to 제주특별자치도 서귀포시 예래동(5013062000)\n",
      "Columns: 101 entries, 0세 to 100세\n",
      "dtypes: float64(101)\n",
      "memory usage: 3.0+ MB\n"
     ]
    }
   ],
   "source": [
    "df3.info()"
   ]
  },
  {
   "cell_type": "code",
   "execution_count": 335,
   "metadata": {},
   "outputs": [
    {
     "data": {
      "text/plain": [
       "<matplotlib.legend.Legend at 0x17b4c9b2390>"
      ]
     },
     "execution_count": 335,
     "metadata": {},
     "output_type": "execute_result"
    },
    {
     "data": {
      "image/png": "[encoded data removed]",
      "text/plain": [
       "<Figure size 640x480 with 1 Axes>"
      ]
     },
     "metadata": {},
     "output_type": "display_data"
    }
   ],
   "source": [
    "mn=1 #오차 최대값 초기화. \n",
    "for label,content in df3.T.items() : \n",
    "    s=sum((content - df2.iloc[0]) ** 2)  #현재레코드와 df2 데이터의 오차값의 합\n",
    "    if s < mn :\n",
    "        mn = s;\n",
    "        result = content\n",
    "        name = result.name\n",
    "        result.name = name[:name.find('(')]\n",
    "df2.T.plot()  #역삼2동 데이터\n",
    "result.plot() #df2 데이터와 오차값이 가장 적은 데이터\n",
    "plt.legend()   #범례 출력    "
   ]
  }
 ],
 "metadata": {
  "kernelspec": {
   "display_name": "base",
   "language": "python",
   "name": "python3"
  },
  "language_info": {
   "codemirror_mode": {
    "name": "ipython",
    "version": 3
   },
   "file_extension": ".py",
   "mimetype": "text/x-python",
   "name": "python",
   "nbconvert_exporter": "python",
   "pygments_lexer": "ipython3",
   "version": "3.12.4"
  }
 },
 "nbformat": 4,
 "nbformat_minor": 2
}

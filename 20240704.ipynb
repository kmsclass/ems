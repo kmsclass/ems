{
 "cells": [
  {
   "cell_type": "markdown",
   "metadata": {},
   "source": [
    "pandas : 표형태의 데이터를 분석. 저장\n",
    "\n",
    "DataFrame :  행(row, record),열(column, field)이루어짐. 2차원형태의 데이터\n",
    "             Series 데이터의 모임\n",
    "Series : 1차원형태의 데이터. 벡터"
   ]
  },
  {
   "cell_type": "code",
   "execution_count": 2,
   "metadata": {},
   "outputs": [],
   "source": [
    "import pandas as pd #pip install pandas"
   ]
  },
  {
   "cell_type": "code",
   "execution_count": 3,
   "metadata": {},
   "outputs": [
    {
     "name": "stdout",
     "output_type": "stream",
     "text": [
      "a    1\n",
      "b    2\n",
      "c    3\n",
      "dtype: int64\n",
      "[1 2 3]\n"
     ]
    }
   ],
   "source": [
    "#딕셔너리 데이터를 Series 데이터로 생성하기\n",
    "dict_data = {'a':1,'b':2,'c':3}\n",
    "sr = pd.Series(dict_data)\n",
    "print(sr)\n",
    "print(sr.values)"
   ]
  },
  {
   "cell_type": "code",
   "execution_count": 9,
   "metadata": {},
   "outputs": [
    {
     "name": "stdout",
     "output_type": "stream",
     "text": [
      "이름             홍길동\n",
      "생일      1990-01-01\n",
      "성별               남\n",
      "학생여부          True\n",
      "나이              30\n",
      "dtype: object\n",
      "Index(['이름', '생일', '성별', '학생여부', '나이'], dtype='object')\n",
      "['홍길동' '1990-01-01' '남' True 30]\n"
     ]
    }
   ],
   "source": [
    "#튜플데이터를 Series 데이터로 생성하기\n",
    "tuple_data = (\"홍길동\",\"1990-01-01\", '남',True,30)\n",
    "sr = pd.Series(tuple_data,index=[\"이름\",\"생일\",\"성별\",\"학생여부\",\"나이\"])\n",
    "print(sr)\n",
    "#인덱스값만 조회하기\n",
    "print(sr.index)\n",
    "#값만 조회하기\n",
    "print(sr.values)\n"
   ]
  },
  {
   "cell_type": "code",
   "execution_count": 13,
   "metadata": {},
   "outputs": [
    {
     "name": "stdout",
     "output_type": "stream",
     "text": [
      "홍길동\n",
      "홍길동\n",
      "홍길동\n",
      "1990-01-01\n",
      "1990-01-01\n",
      "1990-01-01\n"
     ]
    },
    {
     "name": "stderr",
     "output_type": "stream",
     "text": [
      "C:\\Users\\123rl\\AppData\\Local\\Temp\\ipykernel_8572\\220494420.py:1: FutureWarning: Series.__getitem__ treating keys as positions is deprecated. In a future version, integer keys will always be treated as labels (consistent with DataFrame behavior). To access a value by position, use `ser.iloc[pos]`\n",
      "  print(sr[0])  #i-index. 순서. 0부터시작\n",
      "C:\\Users\\123rl\\AppData\\Local\\Temp\\ipykernel_8572\\220494420.py:4: FutureWarning: Series.__getitem__ treating keys as positions is deprecated. In a future version, integer keys will always be treated as labels (consistent with DataFrame behavior). To access a value by position, use `ser.iloc[pos]`\n",
      "  print(sr[1])  #i-index. 순서. 0부터시작\n"
     ]
    }
   ],
   "source": [
    "print(sr[0])  #i-index. 순서. 0부터시작\n",
    "print(sr[\"이름\"]) #인덱스\n",
    "print(sr.이름) #인덱스\n",
    "print(sr[1])  #i-index. 순서. 0부터시작\n",
    "print(sr[\"생일\"]) #인덱스\n",
    "print(sr.생일) #인덱스"
   ]
  },
  {
   "cell_type": "code",
   "execution_count": 18,
   "metadata": {},
   "outputs": [
    {
     "name": "stdout",
     "output_type": "stream",
     "text": [
      "이름           홍길동\n",
      "생일    1990-01-01\n",
      "dtype: object\n",
      "이름           홍길동\n",
      "생일    1990-01-01\n",
      "dtype: object\n"
     ]
    },
    {
     "name": "stderr",
     "output_type": "stream",
     "text": [
      "C:\\Users\\123rl\\AppData\\Local\\Temp\\ipykernel_8572\\1699553211.py:2: FutureWarning: Series.__getitem__ treating keys as positions is deprecated. In a future version, integer keys will always be treated as labels (consistent with DataFrame behavior). To access a value by position, use `ser.iloc[pos]`\n",
      "  print(sr[[0,1]])\n"
     ]
    }
   ],
   "source": [
    "#여러개의 값 조회\n",
    "print(sr[[0,1]])\n",
    "#print(sr[0,1])  #오류\n",
    "print(sr[[\"이름\",\"생일\"]])\n",
    "\n"
   ]
  },
  {
   "cell_type": "code",
   "execution_count": 22,
   "metadata": {},
   "outputs": [
    {
     "name": "stdout",
     "output_type": "stream",
     "text": [
      "이름             홍길동\n",
      "생일      1990-01-01\n",
      "성별               남\n",
      "학생여부          True\n",
      "나이              30\n",
      "dtype: object\n",
      "이름           홍길동\n",
      "생일    1990-01-01\n",
      "성별             남\n",
      "dtype: object\n",
      "이름           홍길동\n",
      "생일    1990-01-01\n",
      "성별             남\n",
      "dtype: object\n"
     ]
    }
   ],
   "source": [
    "#여러개의 값을 범위를 지정하여 조회\n",
    "print(sr)\n",
    "print(sr[0:3])  #순서로 조회. 0~2번째 순서 Series[첫번째순서:마지막순서+1]\n",
    "print(sr[\"이름\":\"성별\"])  #순서로 조회. 이름~성별 순서 Series[첫번째인덱스:마지막인덱스]"
   ]
  },
  {
   "cell_type": "code",
   "execution_count": 25,
   "metadata": {},
   "outputs": [
    {
     "name": "stdout",
     "output_type": "stream",
     "text": [
      "   c0  c1  c2  c3  c4\n",
      "0   1   4   7  10  13\n",
      "1   2   5   8  11  14\n",
      "2   3   6   9  12  15\n",
      "컬럼명: Index(['c0', 'c1', 'c2', 'c3', 'c4'], dtype='object')\n",
      "인덱스명: RangeIndex(start=0, stop=3, step=1)\n"
     ]
    }
   ],
   "source": [
    "#데이터프레임 객체 생성하기\n",
    "#딕셔너리 이용\n",
    "dict_data = {\"c0\":[1,2,3],\"c1\":[4,5,6],\"c2\":[7,8,9],\"c3\":[10,11,12],\"c4\":[13,14,15]}\n",
    "df = pd.DataFrame(dict_data)\n",
    "print(df)\n",
    "print(\"컬럼명:\",df.columns)\n",
    "print(\"인덱스명:\",df.index)"
   ]
  },
  {
   "cell_type": "code",
   "execution_count": 28,
   "metadata": {},
   "outputs": [
    {
     "name": "stdout",
     "output_type": "stream",
     "text": [
      "0    1\n",
      "1    2\n",
      "2    3\n",
      "Name: c0, dtype: int64\n",
      "<class 'pandas.core.series.Series'>\n",
      "0    1\n",
      "1    2\n",
      "2    3\n",
      "Name: c0, dtype: int64\n"
     ]
    }
   ],
   "source": [
    "print(df[\"c0\"])  #컬럼명으로 조회. \n",
    "print(type(df[\"c0\"]))  #Series 데이터\n",
    "print(df.c0)  #컬럼명으로 조회. "
   ]
  },
  {
   "cell_type": "code",
   "execution_count": 32,
   "metadata": {},
   "outputs": [
    {
     "name": "stdout",
     "output_type": "stream",
     "text": [
      "   c0  c3\n",
      "0   1  10\n",
      "1   2  11\n",
      "2   3  12\n",
      "<class 'pandas.core.frame.DataFrame'>\n",
      "   c0\n",
      "0   1\n",
      "1   2\n",
      "2   3\n",
      "<class 'pandas.core.frame.DataFrame'>\n"
     ]
    }
   ],
   "source": [
    "#여러개의 컬럼 조회\n",
    "print(df[[\"c0\",\"c3\"]])\n",
    "print(type(df[[\"c0\",\"c3\"]]))\n",
    "print(df[[\"c0\"]])\n",
    "print(type(df[[\"c0\"]]))"
   ]
  },
  {
   "cell_type": "code",
   "execution_count": 35,
   "metadata": {},
   "outputs": [
    {
     "name": "stdout",
     "output_type": "stream",
     "text": [
      "     나이 성별    학교\n",
      "홍길동  15  남   서울중\n",
      "성춘향  17  여  서울여고\n",
      "이몽룡  17  남   서울고\n",
      "컬럼명: Index(['나이', '성별', '학교'], dtype='object')\n",
      "인덱스명: Index(['홍길동', '성춘향', '이몽룡'], dtype='object')\n"
     ]
    }
   ],
   "source": [
    "#리스트를 이용하여 데이터프레임 객체 생성\n",
    "df = pd.DataFrame([[15,\"남\",\"서울중\"],[17,\"여\",\"서울여고\"],[17,\"남\",\"서울고\"]],\\\n",
    "                  index=[\"홍길동\",\"성춘향\",\"이몽룡\"],columns=[\"나이\",\"성별\",\"학교\"])\n",
    "print(df)\n",
    "print(\"컬럼명:\",df.columns)\n",
    "print(\"인덱스명:\",df.index)"
   ]
  },
  {
   "cell_type": "code",
   "execution_count": 37,
   "metadata": {},
   "outputs": [
    {
     "name": "stdout",
     "output_type": "stream",
     "text": [
      "     나이 성별    학교\n",
      "학생1  15  남   서울중\n",
      "학생2  17  여  서울여고\n",
      "학생3  17  남   서울고\n",
      "     age gender school\n",
      "학생1   15      남    서울중\n",
      "학생2   17      여   서울여고\n",
      "학생3   17      남    서울고\n"
     ]
    }
   ],
   "source": [
    "#인덱스 변경하기\n",
    "df.index = [\"학생1\",\"학생2\",\"학생3\"]\n",
    "print(df)\n",
    "#컬럼명 변경하기\n",
    "df.columns=[\"age\",\"gender\",\"school\"]\n",
    "print(df)"
   ]
  },
  {
   "cell_type": "code",
   "execution_count": 39,
   "metadata": {},
   "outputs": [
    {
     "name": "stdout",
     "output_type": "stream",
     "text": [
      "     나이 gender school\n",
      "학생1  15      남    서울중\n",
      "학생2  17      여   서울여고\n",
      "학생3  17      남    서울고\n"
     ]
    }
   ],
   "source": [
    "#컬럼명의 일부만 수정하기\n",
    "#inplace=True : 객체 자체를 변경\n",
    "df.rename(columns={\"age\":\"나이\"},inplace=True)\n",
    "print(df)"
   ]
  },
  {
   "cell_type": "code",
   "execution_count": 41,
   "metadata": {},
   "outputs": [
    {
     "name": "stdout",
     "output_type": "stream",
     "text": [
      "     age gender school\n",
      "학생1   15      남    서울중\n",
      "학생2   17      여   서울여고\n",
      "학생3   17      남    서울고\n"
     ]
    }
   ],
   "source": [
    "df=df.rename(columns={\"나이\":\"age\"}) #inplace=True 를 사용하지 않으면 df에 대입하면 됨\n",
    "print(df)"
   ]
  },
  {
   "cell_type": "code",
   "execution_count": 43,
   "metadata": {},
   "outputs": [
    {
     "name": "stdout",
     "output_type": "stream",
     "text": [
      "     수학  영어   음악   체육\n",
      "홍길동  90  98   85  100\n",
      "이몽룡  80  88   95   90\n",
      "김삿갓  70  95  100   90\n",
      "     수학  영어   음악   체육\n",
      "홍길동  90  98   85  100\n",
      "이몽룡  80  88   95   90\n",
      "김삿갓  70  95  100   90\n"
     ]
    }
   ],
   "source": [
    "#문제 : exam_data를 이용하여 인덱스는 홍길동,이몽룡,김삿갓인 DataFrame 객체 생성하기\n",
    "exam_data={\"수학\":[90,80,70],\"영어\":[98,88,95],\"음악\":[85,95,100],\"체육\":[100,90,90]}\n",
    "#1\n",
    "df = pd.DataFrame(exam_data,index=[\"홍길동\",\"이몽룡\",\"김삿갓\"])\n",
    "print(df)\n",
    "#2\n",
    "df = pd.DataFrame(exam_data)\n",
    "df.index=[\"홍길동\",\"이몽룡\",\"김삿갓\"]\n",
    "print(df)"
   ]
  },
  {
   "cell_type": "code",
   "execution_count": 46,
   "metadata": {},
   "outputs": [
    {
     "name": "stdout",
     "output_type": "stream",
     "text": [
      "수학    80.000000\n",
      "영어    93.666667\n",
      "음악    93.333333\n",
      "체육    93.333333\n",
      "dtype: float64\n",
      "<class 'pandas.core.series.Series'>\n"
     ]
    }
   ],
   "source": [
    "#평균 구하기\n",
    "print(df.mean())\n",
    "print(type(df.mean()))"
   ]
  },
  {
   "cell_type": "code",
   "execution_count": 50,
   "metadata": {},
   "outputs": [
    {
     "name": "stdout",
     "output_type": "stream",
     "text": [
      "수학평균: 80.0\n",
      "수학평균: 80.0\n",
      "수학평균: 80.0\n",
      "수학평균: 80.0\n",
      "수학평균: 80.0\n"
     ]
    },
    {
     "name": "stderr",
     "output_type": "stream",
     "text": [
      "C:\\Users\\123rl\\AppData\\Local\\Temp\\ipykernel_8572\\2633141806.py:4: FutureWarning: Series.__getitem__ treating keys as positions is deprecated. In a future version, integer keys will always be treated as labels (consistent with DataFrame behavior). To access a value by position, use `ser.iloc[pos]`\n",
      "  print(\"수학평균:\",df.mean()[0])\n"
     ]
    }
   ],
   "source": [
    "#수학평균\n",
    "print(\"수학평균:\",df.mean()[\"수학\"])\n",
    "print(\"수학평균:\",df.mean().수학)\n",
    "print(\"수학평균:\",df.mean()[0])\n",
    "print(\"수학평균:\",df[\"수학\"].mean())\n",
    "print(\"수학평균:\",df.수학.mean())"
   ]
  },
  {
   "cell_type": "code",
   "execution_count": 51,
   "metadata": {},
   "outputs": [
    {
     "name": "stdout",
     "output_type": "stream",
     "text": [
      "수학    240\n",
      "영어    281\n",
      "음악    280\n",
      "체육    280\n",
      "dtype: int64\n"
     ]
    }
   ],
   "source": [
    "#총점 : df.sum() \n",
    "print(df.sum())"
   ]
  },
  {
   "cell_type": "code",
   "execution_count": 53,
   "metadata": {},
   "outputs": [
    {
     "name": "stdout",
     "output_type": "stream",
     "text": [
      "240\n",
      "240\n"
     ]
    }
   ],
   "source": [
    "#수학 총점\n",
    "print(df.sum()[\"수학\"])\n",
    "print(df[\"수학\"].sum())"
   ]
  },
  {
   "cell_type": "code",
   "execution_count": 56,
   "metadata": {},
   "outputs": [
    {
     "name": "stdout",
     "output_type": "stream",
     "text": [
      "수학     90\n",
      "영어     98\n",
      "음악    100\n",
      "체육    100\n",
      "dtype: int64\n",
      "90\n",
      "수학    70\n",
      "영어    88\n",
      "음악    85\n",
      "체육    90\n",
      "dtype: int64\n",
      "70\n"
     ]
    }
   ],
   "source": [
    "#최대점수 출력\n",
    "print(df.max())\n",
    "#수학최대점수\n",
    "print(df.max()[\"수학\"])\n",
    "#최소점수 출력\n",
    "print(df.min())\n",
    "#수학최소점수\n",
    "print(df.min()[\"수학\"])"
   ]
  },
  {
   "cell_type": "code",
   "execution_count": 58,
   "metadata": {},
   "outputs": [
    {
     "name": "stdout",
     "output_type": "stream",
     "text": [
      "     수학  영어   음악   체육\n",
      "홍길동  90  98   85  100\n",
      "이몽룡  80  88   95   90\n",
      "김삿갓  70  95  100   90\n",
      "수학    80.0\n",
      "영어    95.0\n",
      "음악    95.0\n",
      "체육    90.0\n",
      "dtype: float64\n"
     ]
    }
   ],
   "source": [
    "#중간값 : median.\n",
    "# 데이터의 중간값 : 홀수 : 가운데값, 짝수:가운데값2의 평균\n",
    "print(df)\n",
    "print(df.median())"
   ]
  },
  {
   "cell_type": "code",
   "execution_count": 61,
   "metadata": {},
   "outputs": [
    {
     "name": "stdout",
     "output_type": "stream",
     "text": [
      "90\n",
      "수학     90\n",
      "영어     98\n",
      "음악     85\n",
      "체육    100\n",
      "Name: 홍길동, dtype: int64\n",
      "수학     90\n",
      "영어     98\n",
      "음악     85\n",
      "체육    100\n",
      "Name: 홍길동, dtype: int64\n"
     ]
    }
   ],
   "source": [
    "print(df.수학.홍길동) #홍길동의 수학 점수 조회\n",
    "#데이터프레임의 인덱스값조회하기\n",
    "# loc[인덱스]\n",
    "# iloc[순서]\n",
    "#홍길동 데이터 조회하기\n",
    "print(df.loc[\"홍길동\"]) #인덱스 이름 홍길동인 행 조회\n",
    "print(df.iloc[0])      # 첫번째 행 조회"
   ]
  },
  {
   "cell_type": "code",
   "execution_count": 64,
   "metadata": {},
   "outputs": [
    {
     "name": "stdout",
     "output_type": "stream",
     "text": [
      "     수학  영어   음악   체육\n",
      "홍길동  90  98   85  100\n",
      "김삿갓  70  95  100   90\n",
      "     수학  영어   음악   체육\n",
      "홍길동  90  98   85  100\n",
      "김삿갓  70  95  100   90\n"
     ]
    }
   ],
   "source": [
    "#홍길동, 김삿갓의 정보 조회하기\n",
    "print(df.loc[[\"홍길동\",\"김삿갓\"]])\n",
    "print(df.iloc[[0,2]])"
   ]
  },
  {
   "cell_type": "code",
   "execution_count": 66,
   "metadata": {},
   "outputs": [
    {
     "name": "stdout",
     "output_type": "stream",
     "text": [
      "홍길동의 평균: 93.25\n",
      "홍길동의 총점: 373\n"
     ]
    }
   ],
   "source": [
    "#홍길동의 평균,총점 출력하기\n",
    "print(\"홍길동의 평균:\",df.loc[\"홍길동\"].mean())\n",
    "print(\"홍길동의 총점:\",df.loc[\"홍길동\"].sum())"
   ]
  },
  {
   "cell_type": "code",
   "execution_count": 83,
   "metadata": {},
   "outputs": [
    {
     "name": "stdout",
     "output_type": "stream",
     "text": [
      "홍길동    93.25\n",
      "이몽룡    88.25\n",
      "김삿갓    88.75\n",
      "dtype: float64\n",
      "홍길동    93.25\n",
      "이몽룡    88.25\n",
      "김삿갓    88.75\n",
      "dtype: float64\n",
      "수학    80.000000\n",
      "영어    93.666667\n",
      "음악    93.333333\n",
      "체육    93.333333\n",
      "dtype: float64\n",
      "수학    80.000000\n",
      "영어    93.666667\n",
      "음악    93.333333\n",
      "체육    93.333333\n",
      "dtype: float64\n",
      "수학    80.000000\n",
      "영어    93.666667\n",
      "음악    93.333333\n",
      "체육    93.333333\n",
      "dtype: float64\n"
     ]
    }
   ],
   "source": [
    "#모든 학생의 평균 출력하기\n",
    "print(df.mean(axis=\"columns\")) #행기준 평균\n",
    "print(df.mean(axis=1))         #행기준 평균\n",
    "print(df.mean(axis=\"index\"))   #열기준 평균\n",
    "print(df.mean(axis=0))         #열기준 평균. 기본값\n",
    "print(df.mean())         #열기준 평균"
   ]
  },
  {
   "cell_type": "code",
   "execution_count": 86,
   "metadata": {},
   "outputs": [
    {
     "name": "stdout",
     "output_type": "stream",
     "text": [
      "수학    10.000000\n",
      "영어     5.131601\n",
      "음악     7.637626\n",
      "체육     5.773503\n",
      "dtype: float64\n",
      "수학    100.000000\n",
      "영어     26.333333\n",
      "음악     58.333333\n",
      "체육     33.333333\n",
      "dtype: float64\n"
     ]
    }
   ],
   "source": [
    "#표준편차 : std, 분산 : var\n",
    "# 분산 : (평균값 - 현재값) ** 2 의 합의 평균\n",
    "# 표준편차 : sqrt(분산)\n",
    "print(df.std())\n",
    "print(df.var())"
   ]
  },
  {
   "cell_type": "code",
   "execution_count": 87,
   "metadata": {},
   "outputs": [
    {
     "data": {
      "text/html": [
       "<div>\n",
       "<style scoped>\n",
       "    .dataframe tbody tr th:only-of-type {\n",
       "        vertical-align: middle;\n",
       "    }\n",
       "\n",
       "    .dataframe tbody tr th {\n",
       "        vertical-align: top;\n",
       "    }\n",
       "\n",
       "    .dataframe thead th {\n",
       "        text-align: right;\n",
       "    }\n",
       "</style>\n",
       "<table border=\"1\" class=\"dataframe\">\n",
       "  <thead>\n",
       "    <tr style=\"text-align: right;\">\n",
       "      <th></th>\n",
       "      <th>수학</th>\n",
       "      <th>영어</th>\n",
       "      <th>음악</th>\n",
       "      <th>체육</th>\n",
       "    </tr>\n",
       "  </thead>\n",
       "  <tbody>\n",
       "    <tr>\n",
       "      <th>count</th>\n",
       "      <td>3.0</td>\n",
       "      <td>3.000000</td>\n",
       "      <td>3.000000</td>\n",
       "      <td>3.000000</td>\n",
       "    </tr>\n",
       "    <tr>\n",
       "      <th>mean</th>\n",
       "      <td>80.0</td>\n",
       "      <td>93.666667</td>\n",
       "      <td>93.333333</td>\n",
       "      <td>93.333333</td>\n",
       "    </tr>\n",
       "    <tr>\n",
       "      <th>std</th>\n",
       "      <td>10.0</td>\n",
       "      <td>5.131601</td>\n",
       "      <td>7.637626</td>\n",
       "      <td>5.773503</td>\n",
       "    </tr>\n",
       "    <tr>\n",
       "      <th>min</th>\n",
       "      <td>70.0</td>\n",
       "      <td>88.000000</td>\n",
       "      <td>85.000000</td>\n",
       "      <td>90.000000</td>\n",
       "    </tr>\n",
       "    <tr>\n",
       "      <th>25%</th>\n",
       "      <td>75.0</td>\n",
       "      <td>91.500000</td>\n",
       "      <td>90.000000</td>\n",
       "      <td>90.000000</td>\n",
       "    </tr>\n",
       "    <tr>\n",
       "      <th>50%</th>\n",
       "      <td>80.0</td>\n",
       "      <td>95.000000</td>\n",
       "      <td>95.000000</td>\n",
       "      <td>90.000000</td>\n",
       "    </tr>\n",
       "    <tr>\n",
       "      <th>75%</th>\n",
       "      <td>85.0</td>\n",
       "      <td>96.500000</td>\n",
       "      <td>97.500000</td>\n",
       "      <td>95.000000</td>\n",
       "    </tr>\n",
       "    <tr>\n",
       "      <th>max</th>\n",
       "      <td>90.0</td>\n",
       "      <td>98.000000</td>\n",
       "      <td>100.000000</td>\n",
       "      <td>100.000000</td>\n",
       "    </tr>\n",
       "  </tbody>\n",
       "</table>\n",
       "</div>"
      ],
      "text/plain": [
       "         수학         영어          음악          체육\n",
       "count   3.0   3.000000    3.000000    3.000000\n",
       "mean   80.0  93.666667   93.333333   93.333333\n",
       "std    10.0   5.131601    7.637626    5.773503\n",
       "min    70.0  88.000000   85.000000   90.000000\n",
       "25%    75.0  91.500000   90.000000   90.000000\n",
       "50%    80.0  95.000000   95.000000   90.000000\n",
       "75%    85.0  96.500000   97.500000   95.000000\n",
       "max    90.0  98.000000  100.000000  100.000000"
      ]
     },
     "execution_count": 87,
     "metadata": {},
     "output_type": "execute_result"
    }
   ],
   "source": [
    "#기술통계 : 기본적인 수치데이트 분석\n",
    "df.describe()"
   ]
  },
  {
   "cell_type": "code",
   "execution_count": 89,
   "metadata": {},
   "outputs": [
    {
     "name": "stdout",
     "output_type": "stream",
     "text": [
      "<class 'pandas.core.frame.DataFrame'>\n",
      "Index: 3 entries, 홍길동 to 김삿갓\n",
      "Data columns (total 4 columns):\n",
      " #   Column  Non-Null Count  Dtype\n",
      "---  ------  --------------  -----\n",
      " 0   수학      3 non-null      int64\n",
      " 1   영어      3 non-null      int64\n",
      " 2   음악      3 non-null      int64\n",
      " 3   체육      3 non-null      int64\n",
      "dtypes: int64(4)\n",
      "memory usage: 228.0+ bytes\n",
      "<class 'pandas.core.series.Series'>\n",
      "Index: 3 entries, 홍길동 to 김삿갓\n",
      "Series name: 수학\n",
      "Non-Null Count  Dtype\n",
      "--------------  -----\n",
      "3 non-null      int64\n",
      "dtypes: int64(1)\n",
      "memory usage: 156.0+ bytes\n"
     ]
    }
   ],
   "source": [
    "#dataframe의 기본 정보\n",
    "df.info()\n",
    "df.수학.info()"
   ]
  },
  {
   "cell_type": "code",
   "execution_count": 90,
   "metadata": {},
   "outputs": [
    {
     "data": {
      "text/html": [
       "<div>\n",
       "<style scoped>\n",
       "    .dataframe tbody tr th:only-of-type {\n",
       "        vertical-align: middle;\n",
       "    }\n",
       "\n",
       "    .dataframe tbody tr th {\n",
       "        vertical-align: top;\n",
       "    }\n",
       "\n",
       "    .dataframe thead th {\n",
       "        text-align: right;\n",
       "    }\n",
       "</style>\n",
       "<table border=\"1\" class=\"dataframe\">\n",
       "  <thead>\n",
       "    <tr style=\"text-align: right;\">\n",
       "      <th></th>\n",
       "      <th>수학</th>\n",
       "      <th>영어</th>\n",
       "      <th>음악</th>\n",
       "      <th>체육</th>\n",
       "    </tr>\n",
       "  </thead>\n",
       "  <tbody>\n",
       "    <tr>\n",
       "      <th>홍길동</th>\n",
       "      <td>90</td>\n",
       "      <td>98</td>\n",
       "      <td>85</td>\n",
       "      <td>100</td>\n",
       "    </tr>\n",
       "    <tr>\n",
       "      <th>이몽룡</th>\n",
       "      <td>80</td>\n",
       "      <td>88</td>\n",
       "      <td>95</td>\n",
       "      <td>90</td>\n",
       "    </tr>\n",
       "    <tr>\n",
       "      <th>김삿갓</th>\n",
       "      <td>70</td>\n",
       "      <td>95</td>\n",
       "      <td>100</td>\n",
       "      <td>90</td>\n",
       "    </tr>\n",
       "  </tbody>\n",
       "</table>\n",
       "</div>"
      ],
      "text/plain": [
       "     수학  영어   음악   체육\n",
       "홍길동  90  98   85  100\n",
       "이몽룡  80  88   95   90\n",
       "김삿갓  70  95  100   90"
      ]
     },
     "execution_count": 90,
     "metadata": {},
     "output_type": "execute_result"
    }
   ],
   "source": [
    "df.head() #데이터 처음 5개만 출력\n",
    "df.tail() #데이터 마지막 5개만 출력"
   ]
  },
  {
   "cell_type": "code",
   "execution_count": 92,
   "metadata": {},
   "outputs": [
    {
     "name": "stdout",
     "output_type": "stream",
     "text": [
      "     수학  영어   음악   체육\n",
      "홍길동  90  98   85  100\n",
      "이몽룡  80  88   95   90\n",
      "김삿갓  70  95  100   90\n",
      "     수학  영어   음악   체육\n",
      "홍길동  90  98   85  100\n",
      "이몽룡  80  88   95   90\n",
      "김삿갓  70  95  100   90\n"
     ]
    }
   ],
   "source": [
    "#df 데이터 복사하기 => 얕은복사\n",
    "df2 = df\n",
    "print(df)\n",
    "print(df2)\n",
    "df.columns=[\"m\",\"e\",\"mu\",\"p\"]"
   ]
  },
  {
   "cell_type": "code",
   "execution_count": 94,
   "metadata": {},
   "outputs": [
    {
     "name": "stdout",
     "output_type": "stream",
     "text": [
      "      m   e   mu    p\n",
      "홍길동  90  98   85  100\n",
      "이몽룡  80  88   95   90\n",
      "김삿갓  70  95  100   90\n",
      "      m   e   mu    p\n",
      "홍길동  90  98   85  100\n",
      "이몽룡  80  88   95   90\n",
      "김삿갓  70  95  100   90\n"
     ]
    }
   ],
   "source": [
    "print(df)\n",
    "print(df2)"
   ]
  },
  {
   "cell_type": "code",
   "execution_count": 97,
   "metadata": {},
   "outputs": [
    {
     "name": "stdout",
     "output_type": "stream",
     "text": [
      "      m   e   mu    p\n",
      "홍길동  90  98   85  100\n",
      "이몽룡  80  88   95   90\n",
      "김삿갓  70  95  100   90\n",
      "      m   e   mu    p\n",
      "홍길동  90  98   85  100\n",
      "이몽룡  80  88   95   90\n",
      "김삿갓  70  95  100   90\n"
     ]
    }
   ],
   "source": [
    "#df 데이터 복사하기 => 깊은복사\n",
    "df2 =df[:]\n",
    "print(df)\n",
    "print(df2)\n",
    "df.columns=[\"수학\",\"영어\",\"음악\",\"체육\"]"
   ]
  },
  {
   "cell_type": "code",
   "execution_count": 107,
   "metadata": {},
   "outputs": [
    {
     "name": "stdout",
     "output_type": "stream",
     "text": [
      "     수학  영어   음악  체육\n",
      "이몽룡  80  88   95  90\n",
      "김삿갓  70  95  100  90\n"
     ]
    }
   ],
   "source": [
    "#drop : 행 또는 열을 제거\n",
    "# axis = 0 : 행을 의미\n",
    "# axis = 1 : 컬럼을 의미\n",
    "# 행제거\n",
    "df2=df[:]\n",
    "#df2.drop([\"홍길동\"],axis=0,inplace=True)\n",
    "df2 = df2.drop([\"홍길동\"],axis=0)\n",
    "print(df2)"
   ]
  },
  {
   "cell_type": "code",
   "execution_count": 108,
   "metadata": {},
   "outputs": [
    {
     "name": "stdout",
     "output_type": "stream",
     "text": [
      "     수학  영어   음악   체육\n",
      "홍길동  90  98   85  100\n",
      "이몽룡  80  88   95   90\n",
      "김삿갓  70  95  100   90\n",
      "     수학  영어   음악  체육\n",
      "이몽룡  80  88   95  90\n",
      "김삿갓  70  95  100  90\n"
     ]
    }
   ],
   "source": [
    "print(df)\n",
    "print(df2)"
   ]
  },
  {
   "cell_type": "code",
   "execution_count": 109,
   "metadata": {},
   "outputs": [
    {
     "name": "stdout",
     "output_type": "stream",
     "text": [
      "     수학  영어   음악\n",
      "홍길동  90  98   85\n",
      "이몽룡  80  88   95\n",
      "김삿갓  70  95  100\n"
     ]
    }
   ],
   "source": [
    "#체육 제거하기\n",
    "df2 = df[:]\n",
    "df2 = df2.drop([\"체육\"],axis=1)\n",
    "print(df2)"
   ]
  },
  {
   "cell_type": "code",
   "execution_count": 110,
   "metadata": {},
   "outputs": [
    {
     "name": "stdout",
     "output_type": "stream",
     "text": [
      "     수학  영어\n",
      "홍길동  90  98\n",
      "이몽룡  80  88\n",
      "김삿갓  70  95\n"
     ]
    }
   ],
   "source": [
    "#열 제거\n",
    "del df2[\"음악\"]\n",
    "print(df2)"
   ]
  },
  {
   "cell_type": "code",
   "execution_count": 111,
   "metadata": {},
   "outputs": [
    {
     "name": "stdout",
     "output_type": "stream",
     "text": [
      "     수학  영어   음악   체육\n",
      "홍길동  90  98   85  100\n",
      "이몽룡  80  88   95   90\n",
      "김삿갓  70  95  100   90\n"
     ]
    }
   ],
   "source": [
    "df3 = df.copy() #깊은 복사\n",
    "print(df3)"
   ]
  },
  {
   "cell_type": "code",
   "execution_count": 112,
   "metadata": {},
   "outputs": [],
   "source": [
    "del df3[\"음악\"],df3[\"체육\"]"
   ]
  },
  {
   "cell_type": "code",
   "execution_count": 113,
   "metadata": {},
   "outputs": [
    {
     "name": "stdout",
     "output_type": "stream",
     "text": [
      "     수학  영어\n",
      "홍길동  90  98\n",
      "이몽룡  80  88\n",
      "김삿갓  70  95\n"
     ]
    }
   ],
   "source": [
    "print(df3)"
   ]
  },
  {
   "cell_type": "code",
   "execution_count": 114,
   "metadata": {},
   "outputs": [
    {
     "name": "stdout",
     "output_type": "stream",
     "text": [
      "     수학  영어\n",
      "홍길동  90  98\n",
      "이몽룡  80  88\n",
      "김삿갓  70  95\n"
     ]
    }
   ],
   "source": [
    "#drop 함수를 이용하여 음악,체육 과목 제거 하기\n",
    "df4 = df.copy()\n",
    "df4 = df4.drop([\"음악\",\"체육\"],axis=1)\n",
    "print(df4)"
   ]
  },
  {
   "cell_type": "code",
   "execution_count": 116,
   "metadata": {},
   "outputs": [
    {
     "data": {
      "text/html": [
       "<div>\n",
       "<style scoped>\n",
       "    .dataframe tbody tr th:only-of-type {\n",
       "        vertical-align: middle;\n",
       "    }\n",
       "\n",
       "    .dataframe tbody tr th {\n",
       "        vertical-align: top;\n",
       "    }\n",
       "\n",
       "    .dataframe thead th {\n",
       "        text-align: right;\n",
       "    }\n",
       "</style>\n",
       "<table border=\"1\" class=\"dataframe\">\n",
       "  <thead>\n",
       "    <tr style=\"text-align: right;\">\n",
       "      <th></th>\n",
       "      <th>수학</th>\n",
       "      <th>영어</th>\n",
       "      <th>음악</th>\n",
       "      <th>체육</th>\n",
       "    </tr>\n",
       "  </thead>\n",
       "  <tbody>\n",
       "    <tr>\n",
       "      <th>이몽룡</th>\n",
       "      <td>80</td>\n",
       "      <td>88</td>\n",
       "      <td>95</td>\n",
       "      <td>90</td>\n",
       "    </tr>\n",
       "    <tr>\n",
       "      <th>김삿갓</th>\n",
       "      <td>70</td>\n",
       "      <td>95</td>\n",
       "      <td>100</td>\n",
       "      <td>90</td>\n",
       "    </tr>\n",
       "  </tbody>\n",
       "</table>\n",
       "</div>"
      ],
      "text/plain": [
       "     수학  영어   음악  체육\n",
       "이몽룡  80  88   95  90\n",
       "김삿갓  70  95  100  90"
      ]
     },
     "execution_count": 116,
     "metadata": {},
     "output_type": "execute_result"
    }
   ],
   "source": [
    "#문제 : 김삿갓, 이몽룡 데이터만 조회하기\n",
    "df.loc[[\"김삿갓\",\"이몽룡\"]]\n",
    "df.loc[\"이몽룡\":\"김삿갓\"]"
   ]
  },
  {
   "cell_type": "code",
   "execution_count": 118,
   "metadata": {},
   "outputs": [
    {
     "data": {
      "text/html": [
       "<div>\n",
       "<style scoped>\n",
       "    .dataframe tbody tr th:only-of-type {\n",
       "        vertical-align: middle;\n",
       "    }\n",
       "\n",
       "    .dataframe tbody tr th {\n",
       "        vertical-align: top;\n",
       "    }\n",
       "\n",
       "    .dataframe thead th {\n",
       "        text-align: right;\n",
       "    }\n",
       "</style>\n",
       "<table border=\"1\" class=\"dataframe\">\n",
       "  <thead>\n",
       "    <tr style=\"text-align: right;\">\n",
       "      <th></th>\n",
       "      <th>수학</th>\n",
       "      <th>영어</th>\n",
       "      <th>음악</th>\n",
       "      <th>체육</th>\n",
       "    </tr>\n",
       "  </thead>\n",
       "  <tbody>\n",
       "    <tr>\n",
       "      <th>홍길동</th>\n",
       "      <td>90</td>\n",
       "      <td>98</td>\n",
       "      <td>85</td>\n",
       "      <td>100</td>\n",
       "    </tr>\n",
       "    <tr>\n",
       "      <th>이몽룡</th>\n",
       "      <td>80</td>\n",
       "      <td>88</td>\n",
       "      <td>95</td>\n",
       "      <td>90</td>\n",
       "    </tr>\n",
       "    <tr>\n",
       "      <th>김삿갓</th>\n",
       "      <td>70</td>\n",
       "      <td>95</td>\n",
       "      <td>100</td>\n",
       "      <td>90</td>\n",
       "    </tr>\n",
       "  </tbody>\n",
       "</table>\n",
       "</div>"
      ],
      "text/plain": [
       "     수학  영어   음악   체육\n",
       "홍길동  90  98   85  100\n",
       "이몽룡  80  88   95   90\n",
       "김삿갓  70  95  100   90"
      ]
     },
     "execution_count": 118,
     "metadata": {},
     "output_type": "execute_result"
    }
   ],
   "source": [
    "#전체 데이터\n",
    "df.loc[:]\n",
    "df.iloc[:]"
   ]
  }
 ],
 "metadata": {
  "kernelspec": {
   "display_name": "base",
   "language": "python",
   "name": "python3"
  },
  "language_info": {
   "codemirror_mode": {
    "name": "ipython",
    "version": 3
   },
   "file_extension": ".py",
   "mimetype": "text/x-python",
   "name": "python",
   "nbconvert_exporter": "python",
   "pygments_lexer": "ipython3",
   "version": "3.12.4"
  }
 },
 "nbformat": 4,
 "nbformat_minor": 2
}

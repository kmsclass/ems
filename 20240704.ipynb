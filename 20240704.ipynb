{
 "cells": [
  {
   "cell_type": "markdown",
   "metadata": {},
   "source": [
    "pandas : 표형태의 데이터를 분석. 저장\n",
    "\n",
    "DataFrame :  행(row, record),열(column, field)이루어짐. 2차원형태의 데이터\n",
    "             Series 데이터의 모임\n",
    "Series : 1차원형태의 데이터. 벡터"
   ]
  },
  {
   "cell_type": "code",
   "execution_count": 2,
   "metadata": {},
   "outputs": [],
   "source": [
    "import pandas as pd #pip install pandas"
   ]
  },
  {
   "cell_type": "code",
   "execution_count": 3,
   "metadata": {},
   "outputs": [
    {
     "name": "stdout",
     "output_type": "stream",
     "text": [
      "a    1\n",
      "b    2\n",
      "c    3\n",
      "dtype: int64\n",
      "[1 2 3]\n"
     ]
    }
   ],
   "source": [
    "#딕셔너리 데이터를 Series 데이터로 생성하기\n",
    "dict_data = {'a':1,'b':2,'c':3}\n",
    "sr = pd.Series(dict_data)\n",
    "print(sr)\n",
    "print(sr.values)"
   ]
  },
  {
   "cell_type": "code",
   "execution_count": 9,
   "metadata": {},
   "outputs": [
    {
     "name": "stdout",
     "output_type": "stream",
     "text": [
      "이름             홍길동\n",
      "생일      1990-01-01\n",
      "성별               남\n",
      "학생여부          True\n",
      "나이              30\n",
      "dtype: object\n",
      "Index(['이름', '생일', '성별', '학생여부', '나이'], dtype='object')\n",
      "['홍길동' '1990-01-01' '남' True 30]\n"
     ]
    }
   ],
   "source": [
    "#튜플데이터를 Series 데이터로 생성하기\n",
    "tuple_data = (\"홍길동\",\"1990-01-01\", '남',True,30)\n",
    "sr = pd.Series(tuple_data,index=[\"이름\",\"생일\",\"성별\",\"학생여부\",\"나이\"])\n",
    "print(sr)\n",
    "#인덱스값만 조회하기\n",
    "print(sr.index)\n",
    "#값만 조회하기\n",
    "print(sr.values)\n"
   ]
  },
  {
   "cell_type": "code",
   "execution_count": 13,
   "metadata": {},
   "outputs": [
    {
     "name": "stdout",
     "output_type": "stream",
     "text": [
      "홍길동\n",
      "홍길동\n",
      "홍길동\n",
      "1990-01-01\n",
      "1990-01-01\n",
      "1990-01-01\n"
     ]
    },
    {
     "name": "stderr",
     "output_type": "stream",
     "text": [
      "C:\\Users\\123rl\\AppData\\Local\\Temp\\ipykernel_8572\\220494420.py:1: FutureWarning: Series.__getitem__ treating keys as positions is deprecated. In a future version, integer keys will always be treated as labels (consistent with DataFrame behavior). To access a value by position, use `ser.iloc[pos]`\n",
      "  print(sr[0])  #i-index. 순서. 0부터시작\n",
      "C:\\Users\\123rl\\AppData\\Local\\Temp\\ipykernel_8572\\220494420.py:4: FutureWarning: Series.__getitem__ treating keys as positions is deprecated. In a future version, integer keys will always be treated as labels (consistent with DataFrame behavior). To access a value by position, use `ser.iloc[pos]`\n",
      "  print(sr[1])  #i-index. 순서. 0부터시작\n"
     ]
    }
   ],
   "source": [
    "print(sr[0])  #i-index. 순서. 0부터시작\n",
    "print(sr[\"이름\"]) #인덱스\n",
    "print(sr.이름) #인덱스\n",
    "print(sr[1])  #i-index. 순서. 0부터시작\n",
    "print(sr[\"생일\"]) #인덱스\n",
    "print(sr.생일) #인덱스"
   ]
  },
  {
   "cell_type": "code",
   "execution_count": 18,
   "metadata": {},
   "outputs": [
    {
     "name": "stdout",
     "output_type": "stream",
     "text": [
      "이름           홍길동\n",
      "생일    1990-01-01\n",
      "dtype: object\n",
      "이름           홍길동\n",
      "생일    1990-01-01\n",
      "dtype: object\n"
     ]
    },
    {
     "name": "stderr",
     "output_type": "stream",
     "text": [
      "C:\\Users\\123rl\\AppData\\Local\\Temp\\ipykernel_8572\\1699553211.py:2: FutureWarning: Series.__getitem__ treating keys as positions is deprecated. In a future version, integer keys will always be treated as labels (consistent with DataFrame behavior). To access a value by position, use `ser.iloc[pos]`\n",
      "  print(sr[[0,1]])\n"
     ]
    }
   ],
   "source": [
    "#여러개의 값 조회\n",
    "print(sr[[0,1]])\n",
    "#print(sr[0,1])  #오류\n",
    "print(sr[[\"이름\",\"생일\"]])\n",
    "\n"
   ]
  },
  {
   "cell_type": "code",
   "execution_count": 22,
   "metadata": {},
   "outputs": [
    {
     "name": "stdout",
     "output_type": "stream",
     "text": [
      "이름             홍길동\n",
      "생일      1990-01-01\n",
      "성별               남\n",
      "학생여부          True\n",
      "나이              30\n",
      "dtype: object\n",
      "이름           홍길동\n",
      "생일    1990-01-01\n",
      "성별             남\n",
      "dtype: object\n",
      "이름           홍길동\n",
      "생일    1990-01-01\n",
      "성별             남\n",
      "dtype: object\n"
     ]
    }
   ],
   "source": [
    "#여러개의 값을 범위를 지정하여 조회\n",
    "print(sr)\n",
    "print(sr[0:3])  #순서로 조회. 0~2번째 순서 Series[첫번째순서:마지막순서+1]\n",
    "print(sr[\"이름\":\"성별\"])  #순서로 조회. 이름~성별 순서 Series[첫번째인덱스:마지막인덱스]"
   ]
  },
  {
   "cell_type": "code",
   "execution_count": 25,
   "metadata": {},
   "outputs": [
    {
     "name": "stdout",
     "output_type": "stream",
     "text": [
      "   c0  c1  c2  c3  c4\n",
      "0   1   4   7  10  13\n",
      "1   2   5   8  11  14\n",
      "2   3   6   9  12  15\n",
      "컬럼명: Index(['c0', 'c1', 'c2', 'c3', 'c4'], dtype='object')\n",
      "인덱스명: RangeIndex(start=0, stop=3, step=1)\n"
     ]
    }
   ],
   "source": [
    "#데이터프레임 객체 생성하기\n",
    "#딕셔너리 이용\n",
    "dict_data = {\"c0\":[1,2,3],\"c1\":[4,5,6],\"c2\":[7,8,9],\"c3\":[10,11,12],\"c4\":[13,14,15]}\n",
    "df = pd.DataFrame(dict_data)\n",
    "print(df)\n",
    "print(\"컬럼명:\",df.columns)\n",
    "print(\"인덱스명:\",df.index)"
   ]
  },
  {
   "cell_type": "code",
   "execution_count": 28,
   "metadata": {},
   "outputs": [
    {
     "name": "stdout",
     "output_type": "stream",
     "text": [
      "0    1\n",
      "1    2\n",
      "2    3\n",
      "Name: c0, dtype: int64\n",
      "<class 'pandas.core.series.Series'>\n",
      "0    1\n",
      "1    2\n",
      "2    3\n",
      "Name: c0, dtype: int64\n"
     ]
    }
   ],
   "source": [
    "print(df[\"c0\"])  #컬럼명으로 조회. \n",
    "print(type(df[\"c0\"]))  #Series 데이터\n",
    "print(df.c0)  #컬럼명으로 조회. "
   ]
  },
  {
   "cell_type": "code",
   "execution_count": 32,
   "metadata": {},
   "outputs": [
    {
     "name": "stdout",
     "output_type": "stream",
     "text": [
      "   c0  c3\n",
      "0   1  10\n",
      "1   2  11\n",
      "2   3  12\n",
      "<class 'pandas.core.frame.DataFrame'>\n",
      "   c0\n",
      "0   1\n",
      "1   2\n",
      "2   3\n",
      "<class 'pandas.core.frame.DataFrame'>\n"
     ]
    }
   ],
   "source": [
    "#여러개의 컬럼 조회\n",
    "print(df[[\"c0\",\"c3\"]])\n",
    "print(type(df[[\"c0\",\"c3\"]]))\n",
    "print(df[[\"c0\"]])\n",
    "print(type(df[[\"c0\"]]))"
   ]
  },
  {
   "cell_type": "code",
   "execution_count": 35,
   "metadata": {},
   "outputs": [
    {
     "name": "stdout",
     "output_type": "stream",
     "text": [
      "     나이 성별    학교\n",
      "홍길동  15  남   서울중\n",
      "성춘향  17  여  서울여고\n",
      "이몽룡  17  남   서울고\n",
      "컬럼명: Index(['나이', '성별', '학교'], dtype='object')\n",
      "인덱스명: Index(['홍길동', '성춘향', '이몽룡'], dtype='object')\n"
     ]
    }
   ],
   "source": [
    "#리스트를 이용하여 데이터프레임 객체 생성\n",
    "df = pd.DataFrame([[15,\"남\",\"서울중\"],[17,\"여\",\"서울여고\"],[17,\"남\",\"서울고\"]],\\\n",
    "                  index=[\"홍길동\",\"성춘향\",\"이몽룡\"],columns=[\"나이\",\"성별\",\"학교\"])\n",
    "print(df)\n",
    "print(\"컬럼명:\",df.columns)\n",
    "print(\"인덱스명:\",df.index)"
   ]
  },
  {
   "cell_type": "code",
   "execution_count": 37,
   "metadata": {},
   "outputs": [
    {
     "name": "stdout",
     "output_type": "stream",
     "text": [
      "     나이 성별    학교\n",
      "학생1  15  남   서울중\n",
      "학생2  17  여  서울여고\n",
      "학생3  17  남   서울고\n",
      "     age gender school\n",
      "학생1   15      남    서울중\n",
      "학생2   17      여   서울여고\n",
      "학생3   17      남    서울고\n"
     ]
    }
   ],
   "source": [
    "#인덱스 변경하기\n",
    "df.index = [\"학생1\",\"학생2\",\"학생3\"]\n",
    "print(df)\n",
    "#컬럼명 변경하기\n",
    "df.columns=[\"age\",\"gender\",\"school\"]\n",
    "print(df)"
   ]
  },
  {
   "cell_type": "code",
   "execution_count": 39,
   "metadata": {},
   "outputs": [
    {
     "name": "stdout",
     "output_type": "stream",
     "text": [
      "     나이 gender school\n",
      "학생1  15      남    서울중\n",
      "학생2  17      여   서울여고\n",
      "학생3  17      남    서울고\n"
     ]
    }
   ],
   "source": [
    "#컬럼명의 일부만 수정하기\n",
    "#inplace=True : 객체 자체를 변경\n",
    "df.rename(columns={\"age\":\"나이\"},inplace=True)\n",
    "print(df)"
   ]
  },
  {
   "cell_type": "code",
   "execution_count": 41,
   "metadata": {},
   "outputs": [
    {
     "name": "stdout",
     "output_type": "stream",
     "text": [
      "     age gender school\n",
      "학생1   15      남    서울중\n",
      "학생2   17      여   서울여고\n",
      "학생3   17      남    서울고\n"
     ]
    }
   ],
   "source": [
    "df=df.rename(columns={\"나이\":\"age\"}) #inplace=True 를 사용하지 않으면 df에 대입하면 됨\n",
    "print(df)"
   ]
  },
  {
   "cell_type": "code",
   "execution_count": 43,
   "metadata": {},
   "outputs": [
    {
     "name": "stdout",
     "output_type": "stream",
     "text": [
      "     수학  영어   음악   체육\n",
      "홍길동  90  98   85  100\n",
      "이몽룡  80  88   95   90\n",
      "김삿갓  70  95  100   90\n",
      "     수학  영어   음악   체육\n",
      "홍길동  90  98   85  100\n",
      "이몽룡  80  88   95   90\n",
      "김삿갓  70  95  100   90\n"
     ]
    }
   ],
   "source": [
    "#문제 : exam_data를 이용하여 인덱스는 홍길동,이몽룡,김삿갓인 DataFrame 객체 생성하기\n",
    "exam_data={\"수학\":[90,80,70],\"영어\":[98,88,95],\"음악\":[85,95,100],\"체육\":[100,90,90]}\n",
    "#1\n",
    "df = pd.DataFrame(exam_data,index=[\"홍길동\",\"이몽룡\",\"김삿갓\"])\n",
    "print(df)\n",
    "#2\n",
    "df = pd.DataFrame(exam_data)\n",
    "df.index=[\"홍길동\",\"이몽룡\",\"김삿갓\"]\n",
    "print(df)"
   ]
  },
  {
   "cell_type": "code",
   "execution_count": 46,
   "metadata": {},
   "outputs": [
    {
     "name": "stdout",
     "output_type": "stream",
     "text": [
      "수학    80.000000\n",
      "영어    93.666667\n",
      "음악    93.333333\n",
      "체육    93.333333\n",
      "dtype: float64\n",
      "<class 'pandas.core.series.Series'>\n"
     ]
    }
   ],
   "source": [
    "#평균 구하기\n",
    "print(df.mean())\n",
    "print(type(df.mean()))"
   ]
  },
  {
   "cell_type": "code",
   "execution_count": 50,
   "metadata": {},
   "outputs": [
    {
     "name": "stdout",
     "output_type": "stream",
     "text": [
      "수학평균: 80.0\n",
      "수학평균: 80.0\n",
      "수학평균: 80.0\n",
      "수학평균: 80.0\n",
      "수학평균: 80.0\n"
     ]
    },
    {
     "name": "stderr",
     "output_type": "stream",
     "text": [
      "C:\\Users\\123rl\\AppData\\Local\\Temp\\ipykernel_8572\\2633141806.py:4: FutureWarning: Series.__getitem__ treating keys as positions is deprecated. In a future version, integer keys will always be treated as labels (consistent with DataFrame behavior). To access a value by position, use `ser.iloc[pos]`\n",
      "  print(\"수학평균:\",df.mean()[0])\n"
     ]
    }
   ],
   "source": [
    "#수학평균\n",
    "print(\"수학평균:\",df.mean()[\"수학\"])\n",
    "print(\"수학평균:\",df.mean().수학)\n",
    "print(\"수학평균:\",df.mean()[0])\n",
    "print(\"수학평균:\",df[\"수학\"].mean())\n",
    "print(\"수학평균:\",df.수학.mean())"
   ]
  },
  {
   "cell_type": "code",
   "execution_count": 51,
   "metadata": {},
   "outputs": [
    {
     "name": "stdout",
     "output_type": "stream",
     "text": [
      "수학    240\n",
      "영어    281\n",
      "음악    280\n",
      "체육    280\n",
      "dtype: int64\n"
     ]
    }
   ],
   "source": [
    "#총점 : df.sum() \n",
    "print(df.sum())"
   ]
  },
  {
   "cell_type": "code",
   "execution_count": 53,
   "metadata": {},
   "outputs": [
    {
     "name": "stdout",
     "output_type": "stream",
     "text": [
      "240\n",
      "240\n"
     ]
    }
   ],
   "source": [
    "#수학 총점\n",
    "print(df.sum()[\"수학\"])\n",
    "print(df[\"수학\"].sum())"
   ]
  },
  {
   "cell_type": "code",
   "execution_count": 56,
   "metadata": {},
   "outputs": [
    {
     "name": "stdout",
     "output_type": "stream",
     "text": [
      "수학     90\n",
      "영어     98\n",
      "음악    100\n",
      "체육    100\n",
      "dtype: int64\n",
      "90\n",
      "수학    70\n",
      "영어    88\n",
      "음악    85\n",
      "체육    90\n",
      "dtype: int64\n",
      "70\n"
     ]
    }
   ],
   "source": [
    "#최대점수 출력\n",
    "print(df.max())\n",
    "#수학최대점수\n",
    "print(df.max()[\"수학\"])\n",
    "#최소점수 출력\n",
    "print(df.min())\n",
    "#수학최소점수\n",
    "print(df.min()[\"수학\"])"
   ]
  },
  {
   "cell_type": "code",
   "execution_count": 58,
   "metadata": {},
   "outputs": [
    {
     "name": "stdout",
     "output_type": "stream",
     "text": [
      "     수학  영어   음악   체육\n",
      "홍길동  90  98   85  100\n",
      "이몽룡  80  88   95   90\n",
      "김삿갓  70  95  100   90\n",
      "수학    80.0\n",
      "영어    95.0\n",
      "음악    95.0\n",
      "체육    90.0\n",
      "dtype: float64\n"
     ]
    }
   ],
   "source": [
    "#중간값 : median.\n",
    "# 데이터의 중간값 : 홀수 : 가운데값, 짝수:가운데값2의 평균\n",
    "print(df)\n",
    "print(df.median())"
   ]
  },
  {
   "cell_type": "code",
   "execution_count": 61,
   "metadata": {},
   "outputs": [
    {
     "name": "stdout",
     "output_type": "stream",
     "text": [
      "90\n",
      "수학     90\n",
      "영어     98\n",
      "음악     85\n",
      "체육    100\n",
      "Name: 홍길동, dtype: int64\n",
      "수학     90\n",
      "영어     98\n",
      "음악     85\n",
      "체육    100\n",
      "Name: 홍길동, dtype: int64\n"
     ]
    }
   ],
   "source": [
    "print(df.수학.홍길동) #홍길동의 수학 점수 조회\n",
    "#데이터프레임의 인덱스값조회하기\n",
    "# loc[인덱스]\n",
    "# iloc[순서]\n",
    "#홍길동 데이터 조회하기\n",
    "print(df.loc[\"홍길동\"]) #인덱스 이름 홍길동인 행 조회\n",
    "print(df.iloc[0])      # 첫번째 행 조회"
   ]
  },
  {
   "cell_type": "code",
   "execution_count": 64,
   "metadata": {},
   "outputs": [
    {
     "name": "stdout",
     "output_type": "stream",
     "text": [
      "     수학  영어   음악   체육\n",
      "홍길동  90  98   85  100\n",
      "김삿갓  70  95  100   90\n",
      "     수학  영어   음악   체육\n",
      "홍길동  90  98   85  100\n",
      "김삿갓  70  95  100   90\n"
     ]
    }
   ],
   "source": [
    "#홍길동, 김삿갓의 정보 조회하기\n",
    "print(df.loc[[\"홍길동\",\"김삿갓\"]])\n",
    "print(df.iloc[[0,2]])"
   ]
  },
  {
   "cell_type": "code",
   "execution_count": 66,
   "metadata": {},
   "outputs": [
    {
     "name": "stdout",
     "output_type": "stream",
     "text": [
      "홍길동의 평균: 93.25\n",
      "홍길동의 총점: 373\n"
     ]
    }
   ],
   "source": [
    "#홍길동의 평균,총점 출력하기\n",
    "print(\"홍길동의 평균:\",df.loc[\"홍길동\"].mean())\n",
    "print(\"홍길동의 총점:\",df.loc[\"홍길동\"].sum())"
   ]
  },
  {
   "cell_type": "code",
   "execution_count": 83,
   "metadata": {},
   "outputs": [
    {
     "name": "stdout",
     "output_type": "stream",
     "text": [
      "홍길동    93.25\n",
      "이몽룡    88.25\n",
      "김삿갓    88.75\n",
      "dtype: float64\n",
      "홍길동    93.25\n",
      "이몽룡    88.25\n",
      "김삿갓    88.75\n",
      "dtype: float64\n",
      "수학    80.000000\n",
      "영어    93.666667\n",
      "음악    93.333333\n",
      "체육    93.333333\n",
      "dtype: float64\n",
      "수학    80.000000\n",
      "영어    93.666667\n",
      "음악    93.333333\n",
      "체육    93.333333\n",
      "dtype: float64\n",
      "수학    80.000000\n",
      "영어    93.666667\n",
      "음악    93.333333\n",
      "체육    93.333333\n",
      "dtype: float64\n"
     ]
    }
   ],
   "source": [
    "#모든 학생의 평균 출력하기\n",
    "print(df.mean(axis=\"columns\")) #행기준 평균\n",
    "print(df.mean(axis=1))         #행기준 평균\n",
    "print(df.mean(axis=\"index\"))   #열기준 평균\n",
    "print(df.mean(axis=0))         #열기준 평균. 기본값\n",
    "print(df.mean())         #열기준 평균"
   ]
  },
  {
   "cell_type": "code",
   "execution_count": 86,
   "metadata": {},
   "outputs": [
    {
     "name": "stdout",
     "output_type": "stream",
     "text": [
      "수학    10.000000\n",
      "영어     5.131601\n",
      "음악     7.637626\n",
      "체육     5.773503\n",
      "dtype: float64\n",
      "수학    100.000000\n",
      "영어     26.333333\n",
      "음악     58.333333\n",
      "체육     33.333333\n",
      "dtype: float64\n"
     ]
    }
   ],
   "source": [
    "#표준편차 : std, 분산 : var\n",
    "# 분산 : (평균값 - 현재값) ** 2 의 합의 평균\n",
    "# 표준편차 : sqrt(분산)\n",
    "print(df.std())\n",
    "print(df.var())"
   ]
  },
  {
   "cell_type": "code",
   "execution_count": 87,
   "metadata": {},
   "outputs": [
    {
     "data": {
      "text/html": [
       "<div>\n",
       "<style scoped>\n",
       "    .dataframe tbody tr th:only-of-type {\n",
       "        vertical-align: middle;\n",
       "    }\n",
       "\n",
       "    .dataframe tbody tr th {\n",
       "        vertical-align: top;\n",
       "    }\n",
       "\n",
       "    .dataframe thead th {\n",
       "        text-align: right;\n",
       "    }\n",
       "</style>\n",
       "<table border=\"1\" class=\"dataframe\">\n",
       "  <thead>\n",
       "    <tr style=\"text-align: right;\">\n",
       "      <th></th>\n",
       "      <th>수학</th>\n",
       "      <th>영어</th>\n",
       "      <th>음악</th>\n",
       "      <th>체육</th>\n",
       "    </tr>\n",
       "  </thead>\n",
       "  <tbody>\n",
       "    <tr>\n",
       "      <th>count</th>\n",
       "      <td>3.0</td>\n",
       "      <td>3.000000</td>\n",
       "      <td>3.000000</td>\n",
       "      <td>3.000000</td>\n",
       "    </tr>\n",
       "    <tr>\n",
       "      <th>mean</th>\n",
       "      <td>80.0</td>\n",
       "      <td>93.666667</td>\n",
       "      <td>93.333333</td>\n",
       "      <td>93.333333</td>\n",
       "    </tr>\n",
       "    <tr>\n",
       "      <th>std</th>\n",
       "      <td>10.0</td>\n",
       "      <td>5.131601</td>\n",
       "      <td>7.637626</td>\n",
       "      <td>5.773503</td>\n",
       "    </tr>\n",
       "    <tr>\n",
       "      <th>min</th>\n",
       "      <td>70.0</td>\n",
       "      <td>88.000000</td>\n",
       "      <td>85.000000</td>\n",
       "      <td>90.000000</td>\n",
       "    </tr>\n",
       "    <tr>\n",
       "      <th>25%</th>\n",
       "      <td>75.0</td>\n",
       "      <td>91.500000</td>\n",
       "      <td>90.000000</td>\n",
       "      <td>90.000000</td>\n",
       "    </tr>\n",
       "    <tr>\n",
       "      <th>50%</th>\n",
       "      <td>80.0</td>\n",
       "      <td>95.000000</td>\n",
       "      <td>95.000000</td>\n",
       "      <td>90.000000</td>\n",
       "    </tr>\n",
       "    <tr>\n",
       "      <th>75%</th>\n",
       "      <td>85.0</td>\n",
       "      <td>96.500000</td>\n",
       "      <td>97.500000</td>\n",
       "      <td>95.000000</td>\n",
       "    </tr>\n",
       "    <tr>\n",
       "      <th>max</th>\n",
       "      <td>90.0</td>\n",
       "      <td>98.000000</td>\n",
       "      <td>100.000000</td>\n",
       "      <td>100.000000</td>\n",
       "    </tr>\n",
       "  </tbody>\n",
       "</table>\n",
       "</div>"
      ],
      "text/plain": [
       "         수학         영어          음악          체육\n",
       "count   3.0   3.000000    3.000000    3.000000\n",
       "mean   80.0  93.666667   93.333333   93.333333\n",
       "std    10.0   5.131601    7.637626    5.773503\n",
       "min    70.0  88.000000   85.000000   90.000000\n",
       "25%    75.0  91.500000   90.000000   90.000000\n",
       "50%    80.0  95.000000   95.000000   90.000000\n",
       "75%    85.0  96.500000   97.500000   95.000000\n",
       "max    90.0  98.000000  100.000000  100.000000"
      ]
     },
     "execution_count": 87,
     "metadata": {},
     "output_type": "execute_result"
    }
   ],
   "source": [
    "#기술통계 : 기본적인 수치데이트 분석\n",
    "df.describe()"
   ]
  },
  {
   "cell_type": "code",
   "execution_count": 89,
   "metadata": {},
   "outputs": [
    {
     "name": "stdout",
     "output_type": "stream",
     "text": [
      "<class 'pandas.core.frame.DataFrame'>\n",
      "Index: 3 entries, 홍길동 to 김삿갓\n",
      "Data columns (total 4 columns):\n",
      " #   Column  Non-Null Count  Dtype\n",
      "---  ------  --------------  -----\n",
      " 0   수학      3 non-null      int64\n",
      " 1   영어      3 non-null      int64\n",
      " 2   음악      3 non-null      int64\n",
      " 3   체육      3 non-null      int64\n",
      "dtypes: int64(4)\n",
      "memory usage: 228.0+ bytes\n",
      "<class 'pandas.core.series.Series'>\n",
      "Index: 3 entries, 홍길동 to 김삿갓\n",
      "Series name: 수학\n",
      "Non-Null Count  Dtype\n",
      "--------------  -----\n",
      "3 non-null      int64\n",
      "dtypes: int64(1)\n",
      "memory usage: 156.0+ bytes\n"
     ]
    }
   ],
   "source": [
    "#dataframe의 기본 정보\n",
    "df.info()\n",
    "df.수학.info()"
   ]
  },
  {
   "cell_type": "code",
   "execution_count": 90,
   "metadata": {},
   "outputs": [
    {
     "data": {
      "text/html": [
       "<div>\n",
       "<style scoped>\n",
       "    .dataframe tbody tr th:only-of-type {\n",
       "        vertical-align: middle;\n",
       "    }\n",
       "\n",
       "    .dataframe tbody tr th {\n",
       "        vertical-align: top;\n",
       "    }\n",
       "\n",
       "    .dataframe thead th {\n",
       "        text-align: right;\n",
       "    }\n",
       "</style>\n",
       "<table border=\"1\" class=\"dataframe\">\n",
       "  <thead>\n",
       "    <tr style=\"text-align: right;\">\n",
       "      <th></th>\n",
       "      <th>수학</th>\n",
       "      <th>영어</th>\n",
       "      <th>음악</th>\n",
       "      <th>체육</th>\n",
       "    </tr>\n",
       "  </thead>\n",
       "  <tbody>\n",
       "    <tr>\n",
       "      <th>홍길동</th>\n",
       "      <td>90</td>\n",
       "      <td>98</td>\n",
       "      <td>85</td>\n",
       "      <td>100</td>\n",
       "    </tr>\n",
       "    <tr>\n",
       "      <th>이몽룡</th>\n",
       "      <td>80</td>\n",
       "      <td>88</td>\n",
       "      <td>95</td>\n",
       "      <td>90</td>\n",
       "    </tr>\n",
       "    <tr>\n",
       "      <th>김삿갓</th>\n",
       "      <td>70</td>\n",
       "      <td>95</td>\n",
       "      <td>100</td>\n",
       "      <td>90</td>\n",
       "    </tr>\n",
       "  </tbody>\n",
       "</table>\n",
       "</div>"
      ],
      "text/plain": [
       "     수학  영어   음악   체육\n",
       "홍길동  90  98   85  100\n",
       "이몽룡  80  88   95   90\n",
       "김삿갓  70  95  100   90"
      ]
     },
     "execution_count": 90,
     "metadata": {},
     "output_type": "execute_result"
    }
   ],
   "source": [
    "df.head() #데이터 처음 5개만 출력\n",
    "df.tail() #데이터 마지막 5개만 출력"
   ]
  },
  {
   "cell_type": "code",
   "execution_count": 92,
   "metadata": {},
   "outputs": [
    {
     "name": "stdout",
     "output_type": "stream",
     "text": [
      "     수학  영어   음악   체육\n",
      "홍길동  90  98   85  100\n",
      "이몽룡  80  88   95   90\n",
      "김삿갓  70  95  100   90\n",
      "     수학  영어   음악   체육\n",
      "홍길동  90  98   85  100\n",
      "이몽룡  80  88   95   90\n",
      "김삿갓  70  95  100   90\n"
     ]
    }
   ],
   "source": [
    "#df 데이터 복사하기 => 얕은복사\n",
    "df2 = df\n",
    "print(df)\n",
    "print(df2)\n",
    "df.columns=[\"m\",\"e\",\"mu\",\"p\"]"
   ]
  },
  {
   "cell_type": "code",
   "execution_count": 94,
   "metadata": {},
   "outputs": [
    {
     "name": "stdout",
     "output_type": "stream",
     "text": [
      "      m   e   mu    p\n",
      "홍길동  90  98   85  100\n",
      "이몽룡  80  88   95   90\n",
      "김삿갓  70  95  100   90\n",
      "      m   e   mu    p\n",
      "홍길동  90  98   85  100\n",
      "이몽룡  80  88   95   90\n",
      "김삿갓  70  95  100   90\n"
     ]
    }
   ],
   "source": [
    "print(df)\n",
    "print(df2)"
   ]
  },
  {
   "cell_type": "code",
   "execution_count": 97,
   "metadata": {},
   "outputs": [
    {
     "name": "stdout",
     "output_type": "stream",
     "text": [
      "      m   e   mu    p\n",
      "홍길동  90  98   85  100\n",
      "이몽룡  80  88   95   90\n",
      "김삿갓  70  95  100   90\n",
      "      m   e   mu    p\n",
      "홍길동  90  98   85  100\n",
      "이몽룡  80  88   95   90\n",
      "김삿갓  70  95  100   90\n"
     ]
    }
   ],
   "source": [
    "#df 데이터 복사하기 => 깊은복사\n",
    "df2 =df[:]\n",
    "print(df)\n",
    "print(df2)\n",
    "df.columns=[\"수학\",\"영어\",\"음악\",\"체육\"]"
   ]
  },
  {
   "cell_type": "code",
   "execution_count": 107,
   "metadata": {},
   "outputs": [
    {
     "name": "stdout",
     "output_type": "stream",
     "text": [
      "     수학  영어   음악  체육\n",
      "이몽룡  80  88   95  90\n",
      "김삿갓  70  95  100  90\n"
     ]
    }
   ],
   "source": [
    "#drop : 행 또는 열을 제거\n",
    "# axis = 0 : 행을 의미\n",
    "# axis = 1 : 컬럼을 의미\n",
    "# 행제거\n",
    "df2=df[:]\n",
    "#df2.drop([\"홍길동\"],axis=0,inplace=True)\n",
    "df2 = df2.drop([\"홍길동\"],axis=0)\n",
    "print(df2)"
   ]
  },
  {
   "cell_type": "code",
   "execution_count": 108,
   "metadata": {},
   "outputs": [
    {
     "name": "stdout",
     "output_type": "stream",
     "text": [
      "     수학  영어   음악   체육\n",
      "홍길동  90  98   85  100\n",
      "이몽룡  80  88   95   90\n",
      "김삿갓  70  95  100   90\n",
      "     수학  영어   음악  체육\n",
      "이몽룡  80  88   95  90\n",
      "김삿갓  70  95  100  90\n"
     ]
    }
   ],
   "source": [
    "print(df)\n",
    "print(df2)"
   ]
  },
  {
   "cell_type": "code",
   "execution_count": 109,
   "metadata": {},
   "outputs": [
    {
     "name": "stdout",
     "output_type": "stream",
     "text": [
      "     수학  영어   음악\n",
      "홍길동  90  98   85\n",
      "이몽룡  80  88   95\n",
      "김삿갓  70  95  100\n"
     ]
    }
   ],
   "source": [
    "#체육 제거하기\n",
    "df2 = df[:]\n",
    "df2 = df2.drop([\"체육\"],axis=1)\n",
    "print(df2)"
   ]
  },
  {
   "cell_type": "code",
   "execution_count": 110,
   "metadata": {},
   "outputs": [
    {
     "name": "stdout",
     "output_type": "stream",
     "text": [
      "     수학  영어\n",
      "홍길동  90  98\n",
      "이몽룡  80  88\n",
      "김삿갓  70  95\n"
     ]
    }
   ],
   "source": [
    "#열 제거\n",
    "del df2[\"음악\"]\n",
    "print(df2)"
   ]
  },
  {
   "cell_type": "code",
   "execution_count": 111,
   "metadata": {},
   "outputs": [
    {
     "name": "stdout",
     "output_type": "stream",
     "text": [
      "     수학  영어   음악   체육\n",
      "홍길동  90  98   85  100\n",
      "이몽룡  80  88   95   90\n",
      "김삿갓  70  95  100   90\n"
     ]
    }
   ],
   "source": [
    "df3 = df.copy() #깊은 복사\n",
    "print(df3)"
   ]
  },
  {
   "cell_type": "code",
   "execution_count": 112,
   "metadata": {},
   "outputs": [],
   "source": [
    "del df3[\"음악\"],df3[\"체육\"]"
   ]
  },
  {
   "cell_type": "code",
   "execution_count": 113,
   "metadata": {},
   "outputs": [
    {
     "name": "stdout",
     "output_type": "stream",
     "text": [
      "     수학  영어\n",
      "홍길동  90  98\n",
      "이몽룡  80  88\n",
      "김삿갓  70  95\n"
     ]
    }
   ],
   "source": [
    "print(df3)"
   ]
  },
  {
   "cell_type": "code",
   "execution_count": 114,
   "metadata": {},
   "outputs": [
    {
     "name": "stdout",
     "output_type": "stream",
     "text": [
      "     수학  영어\n",
      "홍길동  90  98\n",
      "이몽룡  80  88\n",
      "김삿갓  70  95\n"
     ]
    }
   ],
   "source": [
    "#drop 함수를 이용하여 음악,체육 과목 제거 하기\n",
    "df4 = df.copy()\n",
    "df4 = df4.drop([\"음악\",\"체육\"],axis=1)\n",
    "print(df4)"
   ]
  },
  {
   "cell_type": "code",
   "execution_count": 116,
   "metadata": {},
   "outputs": [
    {
     "data": {
      "text/html": [
       "<div>\n",
       "<style scoped>\n",
       "    .dataframe tbody tr th:only-of-type {\n",
       "        vertical-align: middle;\n",
       "    }\n",
       "\n",
       "    .dataframe tbody tr th {\n",
       "        vertical-align: top;\n",
       "    }\n",
       "\n",
       "    .dataframe thead th {\n",
       "        text-align: right;\n",
       "    }\n",
       "</style>\n",
       "<table border=\"1\" class=\"dataframe\">\n",
       "  <thead>\n",
       "    <tr style=\"text-align: right;\">\n",
       "      <th></th>\n",
       "      <th>수학</th>\n",
       "      <th>영어</th>\n",
       "      <th>음악</th>\n",
       "      <th>체육</th>\n",
       "    </tr>\n",
       "  </thead>\n",
       "  <tbody>\n",
       "    <tr>\n",
       "      <th>이몽룡</th>\n",
       "      <td>80</td>\n",
       "      <td>88</td>\n",
       "      <td>95</td>\n",
       "      <td>90</td>\n",
       "    </tr>\n",
       "    <tr>\n",
       "      <th>김삿갓</th>\n",
       "      <td>70</td>\n",
       "      <td>95</td>\n",
       "      <td>100</td>\n",
       "      <td>90</td>\n",
       "    </tr>\n",
       "  </tbody>\n",
       "</table>\n",
       "</div>"
      ],
      "text/plain": [
       "     수학  영어   음악  체육\n",
       "이몽룡  80  88   95  90\n",
       "김삿갓  70  95  100  90"
      ]
     },
     "execution_count": 116,
     "metadata": {},
     "output_type": "execute_result"
    }
   ],
   "source": [
    "#문제 : 김삿갓, 이몽룡 데이터만 조회하기\n",
    "df.loc[[\"김삿갓\",\"이몽룡\"]]\n",
    "df.loc[\"이몽룡\":\"김삿갓\"]"
   ]
  },
  {
   "cell_type": "code",
   "execution_count": 119,
   "metadata": {},
   "outputs": [
    {
     "data": {
      "text/html": [
       "<div>\n",
       "<style scoped>\n",
       "    .dataframe tbody tr th:only-of-type {\n",
       "        vertical-align: middle;\n",
       "    }\n",
       "\n",
       "    .dataframe tbody tr th {\n",
       "        vertical-align: top;\n",
       "    }\n",
       "\n",
       "    .dataframe thead th {\n",
       "        text-align: right;\n",
       "    }\n",
       "</style>\n",
       "<table border=\"1\" class=\"dataframe\">\n",
       "  <thead>\n",
       "    <tr style=\"text-align: right;\">\n",
       "      <th></th>\n",
       "      <th>수학</th>\n",
       "      <th>영어</th>\n",
       "      <th>음악</th>\n",
       "      <th>체육</th>\n",
       "    </tr>\n",
       "  </thead>\n",
       "  <tbody>\n",
       "    <tr>\n",
       "      <th>홍길동</th>\n",
       "      <td>90</td>\n",
       "      <td>98</td>\n",
       "      <td>85</td>\n",
       "      <td>100</td>\n",
       "    </tr>\n",
       "    <tr>\n",
       "      <th>이몽룡</th>\n",
       "      <td>80</td>\n",
       "      <td>88</td>\n",
       "      <td>95</td>\n",
       "      <td>90</td>\n",
       "    </tr>\n",
       "    <tr>\n",
       "      <th>김삿갓</th>\n",
       "      <td>70</td>\n",
       "      <td>95</td>\n",
       "      <td>100</td>\n",
       "      <td>90</td>\n",
       "    </tr>\n",
       "  </tbody>\n",
       "</table>\n",
       "</div>"
      ],
      "text/plain": [
       "     수학  영어   음악   체육\n",
       "홍길동  90  98   85  100\n",
       "이몽룡  80  88   95   90\n",
       "김삿갓  70  95  100   90"
      ]
     },
     "execution_count": 119,
     "metadata": {},
     "output_type": "execute_result"
    }
   ],
   "source": [
    "#전체 데이터\n",
    "df.loc[:]\n",
    "df.iloc[:]"
   ]
  },
  {
   "cell_type": "code",
   "execution_count": 120,
   "metadata": {},
   "outputs": [
    {
     "data": {
      "text/html": [
       "<div>\n",
       "<style scoped>\n",
       "    .dataframe tbody tr th:only-of-type {\n",
       "        vertical-align: middle;\n",
       "    }\n",
       "\n",
       "    .dataframe tbody tr th {\n",
       "        vertical-align: top;\n",
       "    }\n",
       "\n",
       "    .dataframe thead th {\n",
       "        text-align: right;\n",
       "    }\n",
       "</style>\n",
       "<table border=\"1\" class=\"dataframe\">\n",
       "  <thead>\n",
       "    <tr style=\"text-align: right;\">\n",
       "      <th></th>\n",
       "      <th>수학</th>\n",
       "      <th>영어</th>\n",
       "      <th>음악</th>\n",
       "      <th>체육</th>\n",
       "    </tr>\n",
       "  </thead>\n",
       "  <tbody>\n",
       "    <tr>\n",
       "      <th>홍길동</th>\n",
       "      <td>90</td>\n",
       "      <td>98</td>\n",
       "      <td>85</td>\n",
       "      <td>100</td>\n",
       "    </tr>\n",
       "    <tr>\n",
       "      <th>김삿갓</th>\n",
       "      <td>70</td>\n",
       "      <td>95</td>\n",
       "      <td>100</td>\n",
       "      <td>90</td>\n",
       "    </tr>\n",
       "  </tbody>\n",
       "</table>\n",
       "</div>"
      ],
      "text/plain": [
       "     수학  영어   음악   체육\n",
       "홍길동  90  98   85  100\n",
       "김삿갓  70  95  100   90"
      ]
     },
     "execution_count": 120,
     "metadata": {},
     "output_type": "execute_result"
    }
   ],
   "source": [
    "df.loc[::2]"
   ]
  },
  {
   "cell_type": "code",
   "execution_count": 121,
   "metadata": {},
   "outputs": [
    {
     "data": {
      "text/html": [
       "<div>\n",
       "<style scoped>\n",
       "    .dataframe tbody tr th:only-of-type {\n",
       "        vertical-align: middle;\n",
       "    }\n",
       "\n",
       "    .dataframe tbody tr th {\n",
       "        vertical-align: top;\n",
       "    }\n",
       "\n",
       "    .dataframe thead th {\n",
       "        text-align: right;\n",
       "    }\n",
       "</style>\n",
       "<table border=\"1\" class=\"dataframe\">\n",
       "  <thead>\n",
       "    <tr style=\"text-align: right;\">\n",
       "      <th></th>\n",
       "      <th>수학</th>\n",
       "      <th>영어</th>\n",
       "      <th>음악</th>\n",
       "      <th>체육</th>\n",
       "    </tr>\n",
       "  </thead>\n",
       "  <tbody>\n",
       "    <tr>\n",
       "      <th>김삿갓</th>\n",
       "      <td>70</td>\n",
       "      <td>95</td>\n",
       "      <td>100</td>\n",
       "      <td>90</td>\n",
       "    </tr>\n",
       "    <tr>\n",
       "      <th>이몽룡</th>\n",
       "      <td>80</td>\n",
       "      <td>88</td>\n",
       "      <td>95</td>\n",
       "      <td>90</td>\n",
       "    </tr>\n",
       "    <tr>\n",
       "      <th>홍길동</th>\n",
       "      <td>90</td>\n",
       "      <td>98</td>\n",
       "      <td>85</td>\n",
       "      <td>100</td>\n",
       "    </tr>\n",
       "  </tbody>\n",
       "</table>\n",
       "</div>"
      ],
      "text/plain": [
       "     수학  영어   음악   체육\n",
       "김삿갓  70  95  100   90\n",
       "이몽룡  80  88   95   90\n",
       "홍길동  90  98   85  100"
      ]
     },
     "execution_count": 121,
     "metadata": {},
     "output_type": "execute_result"
    }
   ],
   "source": [
    "df.loc[::-1]"
   ]
  },
  {
   "cell_type": "code",
   "execution_count": 122,
   "metadata": {},
   "outputs": [
    {
     "data": {
      "text/html": [
       "<div>\n",
       "<style scoped>\n",
       "    .dataframe tbody tr th:only-of-type {\n",
       "        vertical-align: middle;\n",
       "    }\n",
       "\n",
       "    .dataframe tbody tr th {\n",
       "        vertical-align: top;\n",
       "    }\n",
       "\n",
       "    .dataframe thead th {\n",
       "        text-align: right;\n",
       "    }\n",
       "</style>\n",
       "<table border=\"1\" class=\"dataframe\">\n",
       "  <thead>\n",
       "    <tr style=\"text-align: right;\">\n",
       "      <th></th>\n",
       "      <th>수학</th>\n",
       "      <th>영어</th>\n",
       "      <th>음악</th>\n",
       "      <th>체육</th>\n",
       "    </tr>\n",
       "  </thead>\n",
       "  <tbody>\n",
       "    <tr>\n",
       "      <th>홍길동</th>\n",
       "      <td>90</td>\n",
       "      <td>98</td>\n",
       "      <td>85</td>\n",
       "      <td>100</td>\n",
       "    </tr>\n",
       "    <tr>\n",
       "      <th>김삿갓</th>\n",
       "      <td>70</td>\n",
       "      <td>95</td>\n",
       "      <td>100</td>\n",
       "      <td>90</td>\n",
       "    </tr>\n",
       "  </tbody>\n",
       "</table>\n",
       "</div>"
      ],
      "text/plain": [
       "     수학  영어   음악   체육\n",
       "홍길동  90  98   85  100\n",
       "김삿갓  70  95  100   90"
      ]
     },
     "execution_count": 122,
     "metadata": {},
     "output_type": "execute_result"
    }
   ],
   "source": [
    "df.iloc[::2]"
   ]
  },
  {
   "cell_type": "code",
   "execution_count": 123,
   "metadata": {},
   "outputs": [
    {
     "data": {
      "text/html": [
       "<div>\n",
       "<style scoped>\n",
       "    .dataframe tbody tr th:only-of-type {\n",
       "        vertical-align: middle;\n",
       "    }\n",
       "\n",
       "    .dataframe tbody tr th {\n",
       "        vertical-align: top;\n",
       "    }\n",
       "\n",
       "    .dataframe thead th {\n",
       "        text-align: right;\n",
       "    }\n",
       "</style>\n",
       "<table border=\"1\" class=\"dataframe\">\n",
       "  <thead>\n",
       "    <tr style=\"text-align: right;\">\n",
       "      <th></th>\n",
       "      <th>수학</th>\n",
       "      <th>영어</th>\n",
       "      <th>음악</th>\n",
       "      <th>체육</th>\n",
       "    </tr>\n",
       "  </thead>\n",
       "  <tbody>\n",
       "    <tr>\n",
       "      <th>김삿갓</th>\n",
       "      <td>70</td>\n",
       "      <td>95</td>\n",
       "      <td>100</td>\n",
       "      <td>90</td>\n",
       "    </tr>\n",
       "    <tr>\n",
       "      <th>이몽룡</th>\n",
       "      <td>80</td>\n",
       "      <td>88</td>\n",
       "      <td>95</td>\n",
       "      <td>90</td>\n",
       "    </tr>\n",
       "    <tr>\n",
       "      <th>홍길동</th>\n",
       "      <td>90</td>\n",
       "      <td>98</td>\n",
       "      <td>85</td>\n",
       "      <td>100</td>\n",
       "    </tr>\n",
       "  </tbody>\n",
       "</table>\n",
       "</div>"
      ],
      "text/plain": [
       "     수학  영어   음악   체육\n",
       "김삿갓  70  95  100   90\n",
       "이몽룡  80  88   95   90\n",
       "홍길동  90  98   85  100"
      ]
     },
     "execution_count": 123,
     "metadata": {},
     "output_type": "execute_result"
    }
   ],
   "source": [
    "df.iloc[::-1]"
   ]
  },
  {
   "cell_type": "code",
   "execution_count": 126,
   "metadata": {},
   "outputs": [
    {
     "data": {
      "text/html": [
       "<div>\n",
       "<style scoped>\n",
       "    .dataframe tbody tr th:only-of-type {\n",
       "        vertical-align: middle;\n",
       "    }\n",
       "\n",
       "    .dataframe tbody tr th {\n",
       "        vertical-align: top;\n",
       "    }\n",
       "\n",
       "    .dataframe thead th {\n",
       "        text-align: right;\n",
       "    }\n",
       "</style>\n",
       "<table border=\"1\" class=\"dataframe\">\n",
       "  <thead>\n",
       "    <tr style=\"text-align: right;\">\n",
       "      <th></th>\n",
       "      <th>수학</th>\n",
       "      <th>영어</th>\n",
       "      <th>음악</th>\n",
       "      <th>체육</th>\n",
       "    </tr>\n",
       "  </thead>\n",
       "  <tbody>\n",
       "    <tr>\n",
       "      <th>홍길동</th>\n",
       "      <td>90</td>\n",
       "      <td>98</td>\n",
       "      <td>85</td>\n",
       "      <td>100</td>\n",
       "    </tr>\n",
       "    <tr>\n",
       "      <th>김삿갓</th>\n",
       "      <td>70</td>\n",
       "      <td>95</td>\n",
       "      <td>100</td>\n",
       "      <td>90</td>\n",
       "    </tr>\n",
       "  </tbody>\n",
       "</table>\n",
       "</div>"
      ],
      "text/plain": [
       "     수학  영어   음악   체육\n",
       "홍길동  90  98   85  100\n",
       "김삿갓  70  95  100   90"
      ]
     },
     "execution_count": 126,
     "metadata": {},
     "output_type": "execute_result"
    }
   ],
   "source": [
    "df[::2]"
   ]
  },
  {
   "cell_type": "code",
   "execution_count": 127,
   "metadata": {},
   "outputs": [
    {
     "data": {
      "text/html": [
       "<div>\n",
       "<style scoped>\n",
       "    .dataframe tbody tr th:only-of-type {\n",
       "        vertical-align: middle;\n",
       "    }\n",
       "\n",
       "    .dataframe tbody tr th {\n",
       "        vertical-align: top;\n",
       "    }\n",
       "\n",
       "    .dataframe thead th {\n",
       "        text-align: right;\n",
       "    }\n",
       "</style>\n",
       "<table border=\"1\" class=\"dataframe\">\n",
       "  <thead>\n",
       "    <tr style=\"text-align: right;\">\n",
       "      <th></th>\n",
       "      <th>수학</th>\n",
       "      <th>영어</th>\n",
       "      <th>음악</th>\n",
       "      <th>체육</th>\n",
       "    </tr>\n",
       "  </thead>\n",
       "  <tbody>\n",
       "    <tr>\n",
       "      <th>김삿갓</th>\n",
       "      <td>70</td>\n",
       "      <td>95</td>\n",
       "      <td>100</td>\n",
       "      <td>90</td>\n",
       "    </tr>\n",
       "    <tr>\n",
       "      <th>이몽룡</th>\n",
       "      <td>80</td>\n",
       "      <td>88</td>\n",
       "      <td>95</td>\n",
       "      <td>90</td>\n",
       "    </tr>\n",
       "    <tr>\n",
       "      <th>홍길동</th>\n",
       "      <td>90</td>\n",
       "      <td>98</td>\n",
       "      <td>85</td>\n",
       "      <td>100</td>\n",
       "    </tr>\n",
       "  </tbody>\n",
       "</table>\n",
       "</div>"
      ],
      "text/plain": [
       "     수학  영어   음악   체육\n",
       "김삿갓  70  95  100   90\n",
       "이몽룡  80  88   95   90\n",
       "홍길동  90  98   85  100"
      ]
     },
     "execution_count": 127,
     "metadata": {},
     "output_type": "execute_result"
    }
   ],
   "source": [
    "df[::-1]"
   ]
  },
  {
   "cell_type": "code",
   "execution_count": 130,
   "metadata": {},
   "outputs": [
    {
     "data": {
      "text/html": [
       "<div>\n",
       "<style scoped>\n",
       "    .dataframe tbody tr th:only-of-type {\n",
       "        vertical-align: middle;\n",
       "    }\n",
       "\n",
       "    .dataframe tbody tr th {\n",
       "        vertical-align: top;\n",
       "    }\n",
       "\n",
       "    .dataframe thead th {\n",
       "        text-align: right;\n",
       "    }\n",
       "</style>\n",
       "<table border=\"1\" class=\"dataframe\">\n",
       "  <thead>\n",
       "    <tr style=\"text-align: right;\">\n",
       "      <th></th>\n",
       "      <th>수학</th>\n",
       "      <th>영어</th>\n",
       "    </tr>\n",
       "  </thead>\n",
       "  <tbody>\n",
       "    <tr>\n",
       "      <th>홍길동</th>\n",
       "      <td>90</td>\n",
       "      <td>98</td>\n",
       "    </tr>\n",
       "    <tr>\n",
       "      <th>이몽룡</th>\n",
       "      <td>80</td>\n",
       "      <td>88</td>\n",
       "    </tr>\n",
       "    <tr>\n",
       "      <th>김삿갓</th>\n",
       "      <td>70</td>\n",
       "      <td>95</td>\n",
       "    </tr>\n",
       "  </tbody>\n",
       "</table>\n",
       "</div>"
      ],
      "text/plain": [
       "     수학  영어\n",
       "홍길동  90  98\n",
       "이몽룡  80  88\n",
       "김삿갓  70  95"
      ]
     },
     "execution_count": 130,
     "metadata": {},
     "output_type": "execute_result"
    }
   ],
   "source": [
    "#df[[0,3]]\n",
    "df[[\"수학\",\"영어\"]]"
   ]
  },
  {
   "cell_type": "code",
   "execution_count": 132,
   "metadata": {},
   "outputs": [
    {
     "data": {
      "text/plain": [
       "수학    80\n",
       "영어    88\n",
       "Name: 이몽룡, dtype: int64"
      ]
     },
     "execution_count": 132,
     "metadata": {},
     "output_type": "execute_result"
    }
   ],
   "source": [
    "#이몽룡의 수학,영어 점수 조회하기\n",
    "df.loc[\"이몽룡\"][[\"수학\",\"영어\"]] #Series 객체"
   ]
  },
  {
   "cell_type": "code",
   "execution_count": 133,
   "metadata": {},
   "outputs": [
    {
     "data": {
      "text/plain": [
       "수학    80\n",
       "영어    88\n",
       "Name: 이몽룡, dtype: int64"
      ]
     },
     "execution_count": 133,
     "metadata": {},
     "output_type": "execute_result"
    }
   ],
   "source": [
    "#이몽룡의 수학,영어 점수 조회하기\n",
    "df.loc[\"이몽룡\",[\"수학\",\"영어\"]] #Series 객체"
   ]
  },
  {
   "cell_type": "code",
   "execution_count": 134,
   "metadata": {},
   "outputs": [
    {
     "data": {
      "text/html": [
       "<div>\n",
       "<style scoped>\n",
       "    .dataframe tbody tr th:only-of-type {\n",
       "        vertical-align: middle;\n",
       "    }\n",
       "\n",
       "    .dataframe tbody tr th {\n",
       "        vertical-align: top;\n",
       "    }\n",
       "\n",
       "    .dataframe thead th {\n",
       "        text-align: right;\n",
       "    }\n",
       "</style>\n",
       "<table border=\"1\" class=\"dataframe\">\n",
       "  <thead>\n",
       "    <tr style=\"text-align: right;\">\n",
       "      <th></th>\n",
       "      <th>수학</th>\n",
       "      <th>영어</th>\n",
       "    </tr>\n",
       "  </thead>\n",
       "  <tbody>\n",
       "    <tr>\n",
       "      <th>이몽룡</th>\n",
       "      <td>80</td>\n",
       "      <td>88</td>\n",
       "    </tr>\n",
       "  </tbody>\n",
       "</table>\n",
       "</div>"
      ],
      "text/plain": [
       "     수학  영어\n",
       "이몽룡  80  88"
      ]
     },
     "execution_count": 134,
     "metadata": {},
     "output_type": "execute_result"
    }
   ],
   "source": [
    "#이몽룡의 수학,영어 점수 조회하기\n",
    "df.loc[[\"이몽룡\"],[\"수학\",\"영어\"]] #DataFrame 객체\n",
    "#df.loc[행의범위,열의범위]"
   ]
  },
  {
   "cell_type": "code",
   "execution_count": 135,
   "metadata": {},
   "outputs": [
    {
     "data": {
      "text/html": [
       "<div>\n",
       "<style scoped>\n",
       "    .dataframe tbody tr th:only-of-type {\n",
       "        vertical-align: middle;\n",
       "    }\n",
       "\n",
       "    .dataframe tbody tr th {\n",
       "        vertical-align: top;\n",
       "    }\n",
       "\n",
       "    .dataframe thead th {\n",
       "        text-align: right;\n",
       "    }\n",
       "</style>\n",
       "<table border=\"1\" class=\"dataframe\">\n",
       "  <thead>\n",
       "    <tr style=\"text-align: right;\">\n",
       "      <th></th>\n",
       "      <th>수학</th>\n",
       "      <th>영어</th>\n",
       "    </tr>\n",
       "  </thead>\n",
       "  <tbody>\n",
       "    <tr>\n",
       "      <th>이몽룡</th>\n",
       "      <td>80</td>\n",
       "      <td>88</td>\n",
       "    </tr>\n",
       "  </tbody>\n",
       "</table>\n",
       "</div>"
      ],
      "text/plain": [
       "     수학  영어\n",
       "이몽룡  80  88"
      ]
     },
     "execution_count": 135,
     "metadata": {},
     "output_type": "execute_result"
    }
   ],
   "source": [
    "#이몽룡의 수학,영어 점수 조회하기\n",
    "df.loc[[\"이몽룡\"]][[\"수학\",\"영어\"]] #DataFrame 객체"
   ]
  },
  {
   "cell_type": "code",
   "execution_count": 138,
   "metadata": {},
   "outputs": [
    {
     "name": "stdout",
     "output_type": "stream",
     "text": [
      "<class 'pandas.core.frame.DataFrame'>\n",
      "RangeIndex: 393 entries, 0 to 392\n",
      "Data columns (total 13 columns):\n",
      " #   Column     Non-Null Count  Dtype  \n",
      "---  ------     --------------  -----  \n",
      " 0   pclass     393 non-null    int64  \n",
      " 1   survived   393 non-null    int64  \n",
      " 2   name       393 non-null    object \n",
      " 3   sex        393 non-null    object \n",
      " 4   age        305 non-null    float64\n",
      " 5   sibsp      393 non-null    int64  \n",
      " 6   parch      393 non-null    int64  \n",
      " 7   ticket     393 non-null    object \n",
      " 8   fare       393 non-null    float64\n",
      " 9   cabin      81 non-null     object \n",
      " 10  embarked   393 non-null    object \n",
      " 11  body       36 non-null     float64\n",
      " 12  home.dest  218 non-null    object \n",
      "dtypes: float64(3), int64(4), object(6)\n",
      "memory usage: 40.0+ KB\n"
     ]
    }
   ],
   "source": [
    "tatinic = pd.read_csv(\"./data/titanic.csv\")\n",
    "tatinic.info()"
   ]
  },
  {
   "cell_type": "code",
   "execution_count": 141,
   "metadata": {},
   "outputs": [
    {
     "name": "stdout",
     "output_type": "stream",
     "text": [
      "<class 'pandas.core.frame.DataFrame'>\n",
      "RangeIndex: 6 entries, 0 to 5\n",
      "Data columns (total 5 columns):\n",
      " #   Column          Non-Null Count  Dtype         \n",
      "---  ------          --------------  -----         \n",
      " 0   Customer ID     6 non-null      int64         \n",
      " 1   Customer Name   6 non-null      object        \n",
      " 2   Invoice Number  6 non-null      object        \n",
      " 3   Sale Amount     6 non-null      int64         \n",
      " 4   Purchase Date   6 non-null      datetime64[ns]\n",
      "dtypes: datetime64[ns](1), int64(2), object(2)\n",
      "memory usage: 372.0+ bytes\n"
     ]
    },
    {
     "name": "stderr",
     "output_type": "stream",
     "text": [
      "c:\\Users\\123rl\\miniconda3\\Lib\\site-packages\\openpyxl\\worksheet\\_reader.py:329: UserWarning: Unknown extension is not supported and will be removed\n",
      "  warn(msg)\n"
     ]
    }
   ],
   "source": [
    "#excel 파일 읽기\n",
    "sales = pd.read_excel(\"./data/sales_2013.xlsx\",sheet_name=\"january_2013\") #pip install openpyxl\n",
    "sales.info()"
   ]
  },
  {
   "cell_type": "code",
   "execution_count": 142,
   "metadata": {},
   "outputs": [
    {
     "name": "stdout",
     "output_type": "stream",
     "text": [
      "   Customer ID       Customer Name Invoice Number  Sale Amount Purchase Date\n",
      "0         1234          John Smith       100-0002         1200    2013-01-01\n",
      "1         2345       Mary Harrison       100-0003         1425    2013-01-06\n",
      "2         3456          Lucy Gomez       100-0004         1390    2013-01-11\n",
      "3         4567        Rupert Jones       100-0005         1257    2013-01-18\n",
      "4         5678       Jenny Walters       100-0006         1725    2013-01-24\n",
      "5         6789  Samantha Donaldson       100-0007         1995    2013-01-31\n"
     ]
    }
   ],
   "source": [
    "print(sales)"
   ]
  },
  {
   "cell_type": "code",
   "execution_count": 147,
   "metadata": {},
   "outputs": [
    {
     "data": {
      "text/html": [
       "<div>\n",
       "<style scoped>\n",
       "    .dataframe tbody tr th:only-of-type {\n",
       "        vertical-align: middle;\n",
       "    }\n",
       "\n",
       "    .dataframe tbody tr th {\n",
       "        vertical-align: top;\n",
       "    }\n",
       "\n",
       "    .dataframe thead th {\n",
       "        text-align: right;\n",
       "    }\n",
       "</style>\n",
       "<table border=\"1\" class=\"dataframe\">\n",
       "  <thead>\n",
       "    <tr style=\"text-align: right;\">\n",
       "      <th></th>\n",
       "      <th>pclass</th>\n",
       "      <th>survived</th>\n",
       "      <th>name</th>\n",
       "      <th>sex</th>\n",
       "      <th>age</th>\n",
       "      <th>sibsp</th>\n",
       "      <th>parch</th>\n",
       "      <th>ticket</th>\n",
       "      <th>fare</th>\n",
       "      <th>cabin</th>\n",
       "      <th>embarked</th>\n",
       "      <th>body</th>\n",
       "      <th>home.dest</th>\n",
       "    </tr>\n",
       "  </thead>\n",
       "  <tbody>\n",
       "    <tr>\n",
       "      <th>383</th>\n",
       "      <td>1</td>\n",
       "      <td>0</td>\n",
       "      <td>Compton, Mr. Alexander Taylor Jr</td>\n",
       "      <td>male</td>\n",
       "      <td>37.0</td>\n",
       "      <td>1</td>\n",
       "      <td>1</td>\n",
       "      <td>PC 17756</td>\n",
       "      <td>83.1583</td>\n",
       "      <td>E52</td>\n",
       "      <td>C</td>\n",
       "      <td>NaN</td>\n",
       "      <td>Lakewood, NJ</td>\n",
       "    </tr>\n",
       "    <tr>\n",
       "      <th>384</th>\n",
       "      <td>3</td>\n",
       "      <td>0</td>\n",
       "      <td>Storey, Mr. Thomas</td>\n",
       "      <td>male</td>\n",
       "      <td>60.5</td>\n",
       "      <td>0</td>\n",
       "      <td>0</td>\n",
       "      <td>3701</td>\n",
       "      <td>24.2500</td>\n",
       "      <td>NaN</td>\n",
       "      <td>S</td>\n",
       "      <td>261.0</td>\n",
       "      <td>NaN</td>\n",
       "    </tr>\n",
       "    <tr>\n",
       "      <th>385</th>\n",
       "      <td>2</td>\n",
       "      <td>1</td>\n",
       "      <td>Hold, Mrs. Stephen (Annie Margaret Hill)</td>\n",
       "      <td>female</td>\n",
       "      <td>29.0</td>\n",
       "      <td>1</td>\n",
       "      <td>0</td>\n",
       "      <td>26707</td>\n",
       "      <td>26.0000</td>\n",
       "      <td>NaN</td>\n",
       "      <td>S</td>\n",
       "      <td>NaN</td>\n",
       "      <td>England / Sacramento, CA</td>\n",
       "    </tr>\n",
       "    <tr>\n",
       "      <th>386</th>\n",
       "      <td>3</td>\n",
       "      <td>1</td>\n",
       "      <td>Johnson, Miss. Eleanor Ileen</td>\n",
       "      <td>female</td>\n",
       "      <td>1.0</td>\n",
       "      <td>1</td>\n",
       "      <td>1</td>\n",
       "      <td>347742</td>\n",
       "      <td>11.1333</td>\n",
       "      <td>NaN</td>\n",
       "      <td>S</td>\n",
       "      <td>NaN</td>\n",
       "      <td>NaN</td>\n",
       "    </tr>\n",
       "    <tr>\n",
       "      <th>387</th>\n",
       "      <td>3</td>\n",
       "      <td>0</td>\n",
       "      <td>Johnston, Master. William Arthur \"Willie\"</td>\n",
       "      <td>male</td>\n",
       "      <td>NaN</td>\n",
       "      <td>1</td>\n",
       "      <td>2</td>\n",
       "      <td>W./C. 6607</td>\n",
       "      <td>23.4500</td>\n",
       "      <td>NaN</td>\n",
       "      <td>S</td>\n",
       "      <td>NaN</td>\n",
       "      <td>NaN</td>\n",
       "    </tr>\n",
       "    <tr>\n",
       "      <th>388</th>\n",
       "      <td>3</td>\n",
       "      <td>0</td>\n",
       "      <td>Karlsson, Mr. Julius Konrad Eugen</td>\n",
       "      <td>male</td>\n",
       "      <td>33.0</td>\n",
       "      <td>0</td>\n",
       "      <td>0</td>\n",
       "      <td>347465</td>\n",
       "      <td>7.8542</td>\n",
       "      <td>NaN</td>\n",
       "      <td>S</td>\n",
       "      <td>NaN</td>\n",
       "      <td>NaN</td>\n",
       "    </tr>\n",
       "    <tr>\n",
       "      <th>389</th>\n",
       "      <td>2</td>\n",
       "      <td>1</td>\n",
       "      <td>Ware, Mrs. John James (Florence Louise Long)</td>\n",
       "      <td>female</td>\n",
       "      <td>31.0</td>\n",
       "      <td>0</td>\n",
       "      <td>0</td>\n",
       "      <td>CA 31352</td>\n",
       "      <td>21.0000</td>\n",
       "      <td>NaN</td>\n",
       "      <td>S</td>\n",
       "      <td>NaN</td>\n",
       "      <td>Bristol, England / New Britain, CT</td>\n",
       "    </tr>\n",
       "    <tr>\n",
       "      <th>390</th>\n",
       "      <td>3</td>\n",
       "      <td>1</td>\n",
       "      <td>O'Keefe, Mr. Patrick</td>\n",
       "      <td>male</td>\n",
       "      <td>NaN</td>\n",
       "      <td>0</td>\n",
       "      <td>0</td>\n",
       "      <td>368402</td>\n",
       "      <td>7.7500</td>\n",
       "      <td>NaN</td>\n",
       "      <td>Q</td>\n",
       "      <td>NaN</td>\n",
       "      <td>NaN</td>\n",
       "    </tr>\n",
       "    <tr>\n",
       "      <th>391</th>\n",
       "      <td>3</td>\n",
       "      <td>0</td>\n",
       "      <td>Tobin, Mr. Roger</td>\n",
       "      <td>male</td>\n",
       "      <td>NaN</td>\n",
       "      <td>0</td>\n",
       "      <td>0</td>\n",
       "      <td>383121</td>\n",
       "      <td>7.7500</td>\n",
       "      <td>F38</td>\n",
       "      <td>Q</td>\n",
       "      <td>NaN</td>\n",
       "      <td>NaN</td>\n",
       "    </tr>\n",
       "    <tr>\n",
       "      <th>392</th>\n",
       "      <td>1</td>\n",
       "      <td>1</td>\n",
       "      <td>Daniels, Miss. Sarah</td>\n",
       "      <td>female</td>\n",
       "      <td>33.0</td>\n",
       "      <td>0</td>\n",
       "      <td>0</td>\n",
       "      <td>113781</td>\n",
       "      <td>151.5500</td>\n",
       "      <td>NaN</td>\n",
       "      <td>S</td>\n",
       "      <td>NaN</td>\n",
       "      <td>NaN</td>\n",
       "    </tr>\n",
       "  </tbody>\n",
       "</table>\n",
       "</div>"
      ],
      "text/plain": [
       "     pclass  survived                                          name     sex  \\\n",
       "383       1         0              Compton, Mr. Alexander Taylor Jr    male   \n",
       "384       3         0                            Storey, Mr. Thomas    male   \n",
       "385       2         1      Hold, Mrs. Stephen (Annie Margaret Hill)  female   \n",
       "386       3         1                  Johnson, Miss. Eleanor Ileen  female   \n",
       "387       3         0     Johnston, Master. William Arthur \"Willie\"    male   \n",
       "388       3         0             Karlsson, Mr. Julius Konrad Eugen    male   \n",
       "389       2         1  Ware, Mrs. John James (Florence Louise Long)  female   \n",
       "390       3         1                          O'Keefe, Mr. Patrick    male   \n",
       "391       3         0                              Tobin, Mr. Roger    male   \n",
       "392       1         1                          Daniels, Miss. Sarah  female   \n",
       "\n",
       "      age  sibsp  parch      ticket      fare cabin embarked   body  \\\n",
       "383  37.0      1      1    PC 17756   83.1583   E52        C    NaN   \n",
       "384  60.5      0      0        3701   24.2500   NaN        S  261.0   \n",
       "385  29.0      1      0       26707   26.0000   NaN        S    NaN   \n",
       "386   1.0      1      1      347742   11.1333   NaN        S    NaN   \n",
       "387   NaN      1      2  W./C. 6607   23.4500   NaN        S    NaN   \n",
       "388  33.0      0      0      347465    7.8542   NaN        S    NaN   \n",
       "389  31.0      0      0    CA 31352   21.0000   NaN        S    NaN   \n",
       "390   NaN      0      0      368402    7.7500   NaN        Q    NaN   \n",
       "391   NaN      0      0      383121    7.7500   F38        Q    NaN   \n",
       "392  33.0      0      0      113781  151.5500   NaN        S    NaN   \n",
       "\n",
       "                              home.dest  \n",
       "383                        Lakewood, NJ  \n",
       "384                                 NaN  \n",
       "385            England / Sacramento, CA  \n",
       "386                                 NaN  \n",
       "387                                 NaN  \n",
       "388                                 NaN  \n",
       "389  Bristol, England / New Britain, CT  \n",
       "390                                 NaN  \n",
       "391                                 NaN  \n",
       "392                                 NaN  "
      ]
     },
     "execution_count": 147,
     "metadata": {},
     "output_type": "execute_result"
    }
   ],
   "source": [
    "#print(tatinic)\n",
    "#tatinic.head()\n",
    "#tatinic.tail()\n",
    "tatinic.tail(10)   #마지막 데이터 10개 조회"
   ]
  },
  {
   "cell_type": "code",
   "execution_count": 186,
   "metadata": {},
   "outputs": [],
   "source": [
    "#jeju1.csv 파일을 읽어 장소만 조회하기\n",
    "jeju = pd.read_csv(\"data/jeju1.csv\")"
   ]
  },
  {
   "cell_type": "code",
   "execution_count": 187,
   "metadata": {},
   "outputs": [
    {
     "name": "stdout",
     "output_type": "stream",
     "text": [
      "<class 'pandas.core.frame.DataFrame'>\n",
      "RangeIndex: 11 entries, 0 to 10\n",
      "Data columns (total 3 columns):\n",
      " #   Column  Non-Null Count  Dtype  \n",
      "---  ------  --------------  -----  \n",
      " 0   장소      11 non-null     object \n",
      " 1   LON     11 non-null     float64\n",
      " 2   LAT     11 non-null     float64\n",
      "dtypes: float64(2), object(1)\n",
      "memory usage: 396.0+ bytes\n",
      "0          제주국제공항\n",
      "1             돔베돈\n",
      "2            공룡랜드\n",
      "3          협재해수욕장\n",
      "4            한림공원\n",
      "5            유리의성\n",
      "6         오설록티뮤지엄\n",
      "7         테디베어뮤지엄\n",
      "8         저녁_오성식당\n",
      "9          중문관광단지\n",
      "10    숙소_서귀포KAL호텔\n",
      "Name: 장소, dtype: object\n",
      "             장소\n",
      "0        제주국제공항\n",
      "1           돔베돈\n",
      "2          공룡랜드\n",
      "3        협재해수욕장\n",
      "4          한림공원\n",
      "5          유리의성\n",
      "6       오설록티뮤지엄\n",
      "7       테디베어뮤지엄\n",
      "8       저녁_오성식당\n",
      "9        중문관광단지\n",
      "10  숙소_서귀포KAL호텔\n"
     ]
    }
   ],
   "source": [
    "jeju.info()\n",
    "print(jeju[\"장소\"]) \n",
    "print(jeju[[\"장소\"]]) "
   ]
  },
  {
   "cell_type": "code",
   "execution_count": 188,
   "metadata": {},
   "outputs": [
    {
     "name": "stdout",
     "output_type": "stream",
     "text": [
      "           LON        LAT\n",
      "0   126.496217  33.505314\n",
      "1   126.526687  33.516084\n",
      "2   126.433153  33.442382\n",
      "3   126.240463  33.404218\n",
      "4   126.239262  33.390101\n",
      "5   126.273744  33.315127\n",
      "6   126.289451  33.306537\n",
      "7   126.408691  33.267972\n",
      "8   126.414549  33.256059\n",
      "9   126.412361  33.249186\n",
      "10  126.580954  33.248020\n"
     ]
    }
   ],
   "source": [
    "#LON,LAT만 조회하기\n",
    "print(jeju[[\"LON\",\"LAT\"]])"
   ]
  },
  {
   "cell_type": "code",
   "execution_count": 189,
   "metadata": {},
   "outputs": [
    {
     "name": "stdout",
     "output_type": "stream",
     "text": [
      "                    LON        LAT\n",
      "장소                                \n",
      "제주국제공항       126.496217  33.505314\n",
      "돔베돈          126.526687  33.516084\n",
      "공룡랜드         126.433153  33.442382\n",
      "협재해수욕장       126.240463  33.404218\n",
      "한림공원         126.239262  33.390101\n",
      "유리의성         126.273744  33.315127\n",
      "오설록티뮤지엄      126.289451  33.306537\n",
      "테디베어뮤지엄      126.408691  33.267972\n",
      "저녁_오성식당      126.414549  33.256059\n",
      "중문관광단지       126.412361  33.249186\n",
      "숙소_서귀포KAL호텔  126.580954  33.248020\n"
     ]
    }
   ],
   "source": [
    "#print(jeju)\n",
    "#장소 컬럼을 인덱스로 변경하기 : \n",
    "# set_index: 컬럼을 인덱스로 변경하기\n",
    "jeju.set_index(\"장소\",inplace=True)\n",
    "print(jeju)"
   ]
  },
  {
   "cell_type": "code",
   "execution_count": 190,
   "metadata": {},
   "outputs": [
    {
     "name": "stdout",
     "output_type": "stream",
     "text": [
      "<class 'pandas.core.frame.DataFrame'>\n",
      "Index: 11 entries, 제주국제공항 to 숙소_서귀포KAL호텔\n",
      "Data columns (total 2 columns):\n",
      " #   Column  Non-Null Count  Dtype  \n",
      "---  ------  --------------  -----  \n",
      " 0   LON     11 non-null     float64\n",
      " 1   LAT     11 non-null     float64\n",
      "dtypes: float64(2)\n",
      "memory usage: 264.0+ bytes\n"
     ]
    }
   ],
   "source": [
    "jeju.info()"
   ]
  },
  {
   "cell_type": "code",
   "execution_count": 192,
   "metadata": {},
   "outputs": [
    {
     "data": {
      "text/plain": [
       "Index(['제주국제공항', '돔베돈', '공룡랜드', '협재해수욕장', '한림공원', '유리의성', '오설록티뮤지엄', '테디베어뮤지엄',\n",
       "       '저녁_오성식당', '중문관광단지', '숙소_서귀포KAL호텔'],\n",
       "      dtype='object', name='장소')"
      ]
     },
     "execution_count": 192,
     "metadata": {},
     "output_type": "execute_result"
    }
   ],
   "source": [
    "#jeju[\"장소\"] #오류 발생. 인덱스로 전환. 장소 컬럼 없음\n",
    "jeju.index"
   ]
  },
  {
   "cell_type": "code",
   "execution_count": 193,
   "metadata": {},
   "outputs": [
    {
     "name": "stdout",
     "output_type": "stream",
     "text": [
      "LON    126.526687\n",
      "LAT     33.516084\n",
      "Name: 돔베돈, dtype: float64\n"
     ]
    }
   ],
   "source": [
    "#돔베돈의 경도(LON),위도(LAT) 조회하기\n",
    "print(jeju.loc[\"돔베돈\"])"
   ]
  },
  {
   "cell_type": "code",
   "execution_count": 194,
   "metadata": {},
   "outputs": [
    {
     "name": "stdout",
     "output_type": "stream",
     "text": [
      "            LON        LAT\n",
      "장소                        \n",
      "돔베돈  126.526687  33.516084\n"
     ]
    }
   ],
   "source": [
    "print(jeju.loc[[\"돔베돈\"],[\"LON\",\"LAT\"]])"
   ]
  },
  {
   "cell_type": "code",
   "execution_count": 195,
   "metadata": {},
   "outputs": [
    {
     "name": "stdout",
     "output_type": "stream",
     "text": [
      "LON    126.526687\n",
      "LAT     33.516084\n",
      "Name: 돔베돈, dtype: float64\n"
     ]
    }
   ],
   "source": [
    "print(jeju.loc[\"돔베돈\"][\"LON\":\"LAT\"])"
   ]
  },
  {
   "cell_type": "code",
   "execution_count": 196,
   "metadata": {},
   "outputs": [],
   "source": [
    "#여행지 컬럼 생성. df[새로운컬럼]=값들\n",
    "#여행지 컬럼 수정. df[기존컬럼]=값들\n",
    "jeju[\"여행지\"]=jeju.index"
   ]
  },
  {
   "cell_type": "code",
   "execution_count": 197,
   "metadata": {},
   "outputs": [
    {
     "name": "stdout",
     "output_type": "stream",
     "text": [
      "<class 'pandas.core.frame.DataFrame'>\n",
      "Index: 11 entries, 제주국제공항 to 숙소_서귀포KAL호텔\n",
      "Data columns (total 3 columns):\n",
      " #   Column  Non-Null Count  Dtype  \n",
      "---  ------  --------------  -----  \n",
      " 0   LON     11 non-null     float64\n",
      " 1   LAT     11 non-null     float64\n",
      " 2   여행지     11 non-null     object \n",
      "dtypes: float64(2), object(1)\n",
      "memory usage: 652.0+ bytes\n"
     ]
    }
   ],
   "source": [
    "jeju.info()"
   ]
  },
  {
   "cell_type": "code",
   "execution_count": 198,
   "metadata": {},
   "outputs": [
    {
     "data": {
      "text/plain": [
       "장소\n",
       "제주국제공항              제주국제공항\n",
       "돔베돈                    돔베돈\n",
       "공룡랜드                  공룡랜드\n",
       "협재해수욕장              협재해수욕장\n",
       "한림공원                  한림공원\n",
       "유리의성                  유리의성\n",
       "오설록티뮤지엄            오설록티뮤지엄\n",
       "테디베어뮤지엄            테디베어뮤지엄\n",
       "저녁_오성식당            저녁_오성식당\n",
       "중문관광단지              중문관광단지\n",
       "숙소_서귀포KAL호텔    숙소_서귀포KAL호텔\n",
       "Name: 여행지, dtype: object"
      ]
     },
     "execution_count": 198,
     "metadata": {},
     "output_type": "execute_result"
    }
   ],
   "source": [
    "jeju[\"여행지\"]"
   ]
  },
  {
   "cell_type": "code",
   "execution_count": 199,
   "metadata": {},
   "outputs": [],
   "source": [
    "#인덱스를 컬럼으로 변경하기\n",
    "jeju.reset_index(inplace=True)"
   ]
  },
  {
   "cell_type": "code",
   "execution_count": 200,
   "metadata": {},
   "outputs": [
    {
     "data": {
      "text/html": [
       "<div>\n",
       "<style scoped>\n",
       "    .dataframe tbody tr th:only-of-type {\n",
       "        vertical-align: middle;\n",
       "    }\n",
       "\n",
       "    .dataframe tbody tr th {\n",
       "        vertical-align: top;\n",
       "    }\n",
       "\n",
       "    .dataframe thead th {\n",
       "        text-align: right;\n",
       "    }\n",
       "</style>\n",
       "<table border=\"1\" class=\"dataframe\">\n",
       "  <thead>\n",
       "    <tr style=\"text-align: right;\">\n",
       "      <th></th>\n",
       "      <th>장소</th>\n",
       "      <th>LON</th>\n",
       "      <th>LAT</th>\n",
       "      <th>여행지</th>\n",
       "    </tr>\n",
       "  </thead>\n",
       "  <tbody>\n",
       "    <tr>\n",
       "      <th>0</th>\n",
       "      <td>제주국제공항</td>\n",
       "      <td>126.496217</td>\n",
       "      <td>33.505314</td>\n",
       "      <td>제주국제공항</td>\n",
       "    </tr>\n",
       "    <tr>\n",
       "      <th>1</th>\n",
       "      <td>돔베돈</td>\n",
       "      <td>126.526687</td>\n",
       "      <td>33.516084</td>\n",
       "      <td>돔베돈</td>\n",
       "    </tr>\n",
       "    <tr>\n",
       "      <th>2</th>\n",
       "      <td>공룡랜드</td>\n",
       "      <td>126.433153</td>\n",
       "      <td>33.442382</td>\n",
       "      <td>공룡랜드</td>\n",
       "    </tr>\n",
       "    <tr>\n",
       "      <th>3</th>\n",
       "      <td>협재해수욕장</td>\n",
       "      <td>126.240463</td>\n",
       "      <td>33.404218</td>\n",
       "      <td>협재해수욕장</td>\n",
       "    </tr>\n",
       "    <tr>\n",
       "      <th>4</th>\n",
       "      <td>한림공원</td>\n",
       "      <td>126.239262</td>\n",
       "      <td>33.390101</td>\n",
       "      <td>한림공원</td>\n",
       "    </tr>\n",
       "    <tr>\n",
       "      <th>5</th>\n",
       "      <td>유리의성</td>\n",
       "      <td>126.273744</td>\n",
       "      <td>33.315127</td>\n",
       "      <td>유리의성</td>\n",
       "    </tr>\n",
       "    <tr>\n",
       "      <th>6</th>\n",
       "      <td>오설록티뮤지엄</td>\n",
       "      <td>126.289451</td>\n",
       "      <td>33.306537</td>\n",
       "      <td>오설록티뮤지엄</td>\n",
       "    </tr>\n",
       "    <tr>\n",
       "      <th>7</th>\n",
       "      <td>테디베어뮤지엄</td>\n",
       "      <td>126.408691</td>\n",
       "      <td>33.267972</td>\n",
       "      <td>테디베어뮤지엄</td>\n",
       "    </tr>\n",
       "    <tr>\n",
       "      <th>8</th>\n",
       "      <td>저녁_오성식당</td>\n",
       "      <td>126.414549</td>\n",
       "      <td>33.256059</td>\n",
       "      <td>저녁_오성식당</td>\n",
       "    </tr>\n",
       "    <tr>\n",
       "      <th>9</th>\n",
       "      <td>중문관광단지</td>\n",
       "      <td>126.412361</td>\n",
       "      <td>33.249186</td>\n",
       "      <td>중문관광단지</td>\n",
       "    </tr>\n",
       "    <tr>\n",
       "      <th>10</th>\n",
       "      <td>숙소_서귀포KAL호텔</td>\n",
       "      <td>126.580954</td>\n",
       "      <td>33.248020</td>\n",
       "      <td>숙소_서귀포KAL호텔</td>\n",
       "    </tr>\n",
       "  </tbody>\n",
       "</table>\n",
       "</div>"
      ],
      "text/plain": [
       "             장소         LON        LAT          여행지\n",
       "0        제주국제공항  126.496217  33.505314       제주국제공항\n",
       "1           돔베돈  126.526687  33.516084          돔베돈\n",
       "2          공룡랜드  126.433153  33.442382         공룡랜드\n",
       "3        협재해수욕장  126.240463  33.404218       협재해수욕장\n",
       "4          한림공원  126.239262  33.390101         한림공원\n",
       "5          유리의성  126.273744  33.315127         유리의성\n",
       "6       오설록티뮤지엄  126.289451  33.306537      오설록티뮤지엄\n",
       "7       테디베어뮤지엄  126.408691  33.267972      테디베어뮤지엄\n",
       "8       저녁_오성식당  126.414549  33.256059      저녁_오성식당\n",
       "9        중문관광단지  126.412361  33.249186       중문관광단지\n",
       "10  숙소_서귀포KAL호텔  126.580954  33.248020  숙소_서귀포KAL호텔"
      ]
     },
     "execution_count": 200,
     "metadata": {},
     "output_type": "execute_result"
    }
   ],
   "source": [
    "jeju"
   ]
  },
  {
   "cell_type": "code",
   "execution_count": 201,
   "metadata": {},
   "outputs": [
    {
     "data": {
      "text/html": [
       "<div>\n",
       "<style scoped>\n",
       "    .dataframe tbody tr th:only-of-type {\n",
       "        vertical-align: middle;\n",
       "    }\n",
       "\n",
       "    .dataframe tbody tr th {\n",
       "        vertical-align: top;\n",
       "    }\n",
       "\n",
       "    .dataframe thead th {\n",
       "        text-align: right;\n",
       "    }\n",
       "</style>\n",
       "<table border=\"1\" class=\"dataframe\">\n",
       "  <thead>\n",
       "    <tr style=\"text-align: right;\">\n",
       "      <th></th>\n",
       "      <th>LON</th>\n",
       "      <th>LAT</th>\n",
       "      <th>여행지</th>\n",
       "    </tr>\n",
       "  </thead>\n",
       "  <tbody>\n",
       "    <tr>\n",
       "      <th>0</th>\n",
       "      <td>126.496217</td>\n",
       "      <td>33.505314</td>\n",
       "      <td>제주국제공항</td>\n",
       "    </tr>\n",
       "    <tr>\n",
       "      <th>1</th>\n",
       "      <td>126.526687</td>\n",
       "      <td>33.516084</td>\n",
       "      <td>돔베돈</td>\n",
       "    </tr>\n",
       "    <tr>\n",
       "      <th>2</th>\n",
       "      <td>126.433153</td>\n",
       "      <td>33.442382</td>\n",
       "      <td>공룡랜드</td>\n",
       "    </tr>\n",
       "    <tr>\n",
       "      <th>3</th>\n",
       "      <td>126.240463</td>\n",
       "      <td>33.404218</td>\n",
       "      <td>협재해수욕장</td>\n",
       "    </tr>\n",
       "    <tr>\n",
       "      <th>4</th>\n",
       "      <td>126.239262</td>\n",
       "      <td>33.390101</td>\n",
       "      <td>한림공원</td>\n",
       "    </tr>\n",
       "    <tr>\n",
       "      <th>5</th>\n",
       "      <td>126.273744</td>\n",
       "      <td>33.315127</td>\n",
       "      <td>유리의성</td>\n",
       "    </tr>\n",
       "    <tr>\n",
       "      <th>6</th>\n",
       "      <td>126.289451</td>\n",
       "      <td>33.306537</td>\n",
       "      <td>오설록티뮤지엄</td>\n",
       "    </tr>\n",
       "    <tr>\n",
       "      <th>7</th>\n",
       "      <td>126.408691</td>\n",
       "      <td>33.267972</td>\n",
       "      <td>테디베어뮤지엄</td>\n",
       "    </tr>\n",
       "    <tr>\n",
       "      <th>8</th>\n",
       "      <td>126.414549</td>\n",
       "      <td>33.256059</td>\n",
       "      <td>저녁_오성식당</td>\n",
       "    </tr>\n",
       "    <tr>\n",
       "      <th>9</th>\n",
       "      <td>126.412361</td>\n",
       "      <td>33.249186</td>\n",
       "      <td>중문관광단지</td>\n",
       "    </tr>\n",
       "    <tr>\n",
       "      <th>10</th>\n",
       "      <td>126.580954</td>\n",
       "      <td>33.248020</td>\n",
       "      <td>숙소_서귀포KAL호텔</td>\n",
       "    </tr>\n",
       "  </tbody>\n",
       "</table>\n",
       "</div>"
      ],
      "text/plain": [
       "           LON        LAT          여행지\n",
       "0   126.496217  33.505314       제주국제공항\n",
       "1   126.526687  33.516084          돔베돈\n",
       "2   126.433153  33.442382         공룡랜드\n",
       "3   126.240463  33.404218       협재해수욕장\n",
       "4   126.239262  33.390101         한림공원\n",
       "5   126.273744  33.315127         유리의성\n",
       "6   126.289451  33.306537      오설록티뮤지엄\n",
       "7   126.408691  33.267972      테디베어뮤지엄\n",
       "8   126.414549  33.256059      저녁_오성식당\n",
       "9   126.412361  33.249186       중문관광단지\n",
       "10  126.580954  33.248020  숙소_서귀포KAL호텔"
      ]
     },
     "execution_count": 201,
     "metadata": {},
     "output_type": "execute_result"
    }
   ],
   "source": [
    "#장소 컬럼 제거하기\n",
    "del jeju[\"장소\"]\n",
    "jeju"
   ]
  },
  {
   "cell_type": "code",
   "execution_count": 203,
   "metadata": {},
   "outputs": [
    {
     "data": {
      "text/html": [
       "<div>\n",
       "<style scoped>\n",
       "    .dataframe tbody tr th:only-of-type {\n",
       "        vertical-align: middle;\n",
       "    }\n",
       "\n",
       "    .dataframe tbody tr th {\n",
       "        vertical-align: top;\n",
       "    }\n",
       "\n",
       "    .dataframe thead th {\n",
       "        text-align: right;\n",
       "    }\n",
       "</style>\n",
       "<table border=\"1\" class=\"dataframe\">\n",
       "  <thead>\n",
       "    <tr style=\"text-align: right;\">\n",
       "      <th></th>\n",
       "      <th>LON</th>\n",
       "      <th>LAT</th>\n",
       "      <th>여행지</th>\n",
       "    </tr>\n",
       "  </thead>\n",
       "  <tbody>\n",
       "    <tr>\n",
       "      <th>0</th>\n",
       "      <td>126.496217</td>\n",
       "      <td>33.505314</td>\n",
       "      <td>제주국제공항</td>\n",
       "    </tr>\n",
       "    <tr>\n",
       "      <th>1</th>\n",
       "      <td>126.526687</td>\n",
       "      <td>33.516084</td>\n",
       "      <td>돔베돈</td>\n",
       "    </tr>\n",
       "    <tr>\n",
       "      <th>2</th>\n",
       "      <td>126.433153</td>\n",
       "      <td>33.442382</td>\n",
       "      <td>공룡랜드</td>\n",
       "    </tr>\n",
       "    <tr>\n",
       "      <th>3</th>\n",
       "      <td>126.240463</td>\n",
       "      <td>33.404218</td>\n",
       "      <td>협재해수욕장</td>\n",
       "    </tr>\n",
       "    <tr>\n",
       "      <th>4</th>\n",
       "      <td>126.239262</td>\n",
       "      <td>33.390101</td>\n",
       "      <td>한림공원</td>\n",
       "    </tr>\n",
       "    <tr>\n",
       "      <th>5</th>\n",
       "      <td>126.273744</td>\n",
       "      <td>33.315127</td>\n",
       "      <td>유리의성</td>\n",
       "    </tr>\n",
       "    <tr>\n",
       "      <th>6</th>\n",
       "      <td>126.289451</td>\n",
       "      <td>33.306537</td>\n",
       "      <td>오설록티뮤지엄</td>\n",
       "    </tr>\n",
       "    <tr>\n",
       "      <th>7</th>\n",
       "      <td>126.408691</td>\n",
       "      <td>33.267972</td>\n",
       "      <td>테디베어뮤지엄</td>\n",
       "    </tr>\n",
       "    <tr>\n",
       "      <th>8</th>\n",
       "      <td>126.414549</td>\n",
       "      <td>33.256059</td>\n",
       "      <td>저녁_오성식당</td>\n",
       "    </tr>\n",
       "    <tr>\n",
       "      <th>9</th>\n",
       "      <td>126.412361</td>\n",
       "      <td>33.249186</td>\n",
       "      <td>중문관광단지</td>\n",
       "    </tr>\n",
       "    <tr>\n",
       "      <th>10</th>\n",
       "      <td>126.580954</td>\n",
       "      <td>33.248020</td>\n",
       "      <td>숙소_서귀포KAL호텔</td>\n",
       "    </tr>\n",
       "  </tbody>\n",
       "</table>\n",
       "</div>"
      ],
      "text/plain": [
       "           LON        LAT          여행지\n",
       "0   126.496217  33.505314       제주국제공항\n",
       "1   126.526687  33.516084          돔베돈\n",
       "2   126.433153  33.442382         공룡랜드\n",
       "3   126.240463  33.404218       협재해수욕장\n",
       "4   126.239262  33.390101         한림공원\n",
       "5   126.273744  33.315127         유리의성\n",
       "6   126.289451  33.306537      오설록티뮤지엄\n",
       "7   126.408691  33.267972      테디베어뮤지엄\n",
       "8   126.414549  33.256059      저녁_오성식당\n",
       "9   126.412361  33.249186       중문관광단지\n",
       "10  126.580954  33.248020  숙소_서귀포KAL호텔"
      ]
     },
     "execution_count": 203,
     "metadata": {},
     "output_type": "execute_result"
    }
   ],
   "source": [
    "#장소 컬럼 제거하기\n",
    "jeju[\"장소\"]=jeju[\"여행지\"]\n",
    "jeju.drop(\"장소\",axis=1,inplace=True)\n",
    "jeju"
   ]
  },
  {
   "cell_type": "code",
   "execution_count": 205,
   "metadata": {},
   "outputs": [],
   "source": [
    "#jeju 데이터를 csv 파일로 생성\n",
    "#to_csv()\n",
    "#index=False : 인덱스 제외하고 파일로 생성\n",
    "#index=True : 기본값\n",
    "#jeju.to_csv(\"data/df_jeju.csv\") #인덱스 포함\n",
    "jeju.to_csv(\"data/df_jeju.csv\",index=False) #인덱스 제외"
   ]
  },
  {
   "cell_type": "code",
   "execution_count": 206,
   "metadata": {},
   "outputs": [
    {
     "data": {
      "text/html": [
       "<div>\n",
       "<style scoped>\n",
       "    .dataframe tbody tr th:only-of-type {\n",
       "        vertical-align: middle;\n",
       "    }\n",
       "\n",
       "    .dataframe tbody tr th {\n",
       "        vertical-align: top;\n",
       "    }\n",
       "\n",
       "    .dataframe thead th {\n",
       "        text-align: right;\n",
       "    }\n",
       "</style>\n",
       "<table border=\"1\" class=\"dataframe\">\n",
       "  <thead>\n",
       "    <tr style=\"text-align: right;\">\n",
       "      <th></th>\n",
       "      <th>LON</th>\n",
       "      <th>LAT</th>\n",
       "      <th>여행지</th>\n",
       "    </tr>\n",
       "  </thead>\n",
       "  <tbody>\n",
       "    <tr>\n",
       "      <th>0</th>\n",
       "      <td>126.496217</td>\n",
       "      <td>33.505314</td>\n",
       "      <td>제주국제공항</td>\n",
       "    </tr>\n",
       "    <tr>\n",
       "      <th>1</th>\n",
       "      <td>126.526687</td>\n",
       "      <td>33.516084</td>\n",
       "      <td>돔베돈</td>\n",
       "    </tr>\n",
       "    <tr>\n",
       "      <th>2</th>\n",
       "      <td>126.433153</td>\n",
       "      <td>33.442382</td>\n",
       "      <td>공룡랜드</td>\n",
       "    </tr>\n",
       "    <tr>\n",
       "      <th>3</th>\n",
       "      <td>126.240463</td>\n",
       "      <td>33.404218</td>\n",
       "      <td>협재해수욕장</td>\n",
       "    </tr>\n",
       "    <tr>\n",
       "      <th>4</th>\n",
       "      <td>126.239262</td>\n",
       "      <td>33.390101</td>\n",
       "      <td>한림공원</td>\n",
       "    </tr>\n",
       "    <tr>\n",
       "      <th>5</th>\n",
       "      <td>126.273744</td>\n",
       "      <td>33.315127</td>\n",
       "      <td>유리의성</td>\n",
       "    </tr>\n",
       "    <tr>\n",
       "      <th>6</th>\n",
       "      <td>126.289451</td>\n",
       "      <td>33.306537</td>\n",
       "      <td>오설록티뮤지엄</td>\n",
       "    </tr>\n",
       "    <tr>\n",
       "      <th>7</th>\n",
       "      <td>126.408691</td>\n",
       "      <td>33.267972</td>\n",
       "      <td>테디베어뮤지엄</td>\n",
       "    </tr>\n",
       "    <tr>\n",
       "      <th>8</th>\n",
       "      <td>126.414549</td>\n",
       "      <td>33.256059</td>\n",
       "      <td>저녁_오성식당</td>\n",
       "    </tr>\n",
       "    <tr>\n",
       "      <th>9</th>\n",
       "      <td>126.412361</td>\n",
       "      <td>33.249186</td>\n",
       "      <td>중문관광단지</td>\n",
       "    </tr>\n",
       "    <tr>\n",
       "      <th>10</th>\n",
       "      <td>126.580954</td>\n",
       "      <td>33.248020</td>\n",
       "      <td>숙소_서귀포KAL호텔</td>\n",
       "    </tr>\n",
       "  </tbody>\n",
       "</table>\n",
       "</div>"
      ],
      "text/plain": [
       "           LON        LAT          여행지\n",
       "0   126.496217  33.505314       제주국제공항\n",
       "1   126.526687  33.516084          돔베돈\n",
       "2   126.433153  33.442382         공룡랜드\n",
       "3   126.240463  33.404218       협재해수욕장\n",
       "4   126.239262  33.390101         한림공원\n",
       "5   126.273744  33.315127         유리의성\n",
       "6   126.289451  33.306537      오설록티뮤지엄\n",
       "7   126.408691  33.267972      테디베어뮤지엄\n",
       "8   126.414549  33.256059      저녁_오성식당\n",
       "9   126.412361  33.249186       중문관광단지\n",
       "10  126.580954  33.248020  숙소_서귀포KAL호텔"
      ]
     },
     "execution_count": 206,
     "metadata": {},
     "output_type": "execute_result"
    }
   ],
   "source": [
    "#df_jeju.csv 파일을 읽어 df에 저장하기\n",
    "df = pd.read_csv(\"data/df_jeju.csv\")\n",
    "df"
   ]
  },
  {
   "cell_type": "code",
   "execution_count": 208,
   "metadata": {},
   "outputs": [
    {
     "name": "stdout",
     "output_type": "stream",
     "text": [
      "<class 'dict'>\n"
     ]
    },
    {
     "name": "stderr",
     "output_type": "stream",
     "text": [
      "c:\\Users\\123rl\\miniconda3\\Lib\\site-packages\\openpyxl\\worksheet\\_reader.py:329: UserWarning: Unknown extension is not supported and will be removed\n",
      "  warn(msg)\n",
      "c:\\Users\\123rl\\miniconda3\\Lib\\site-packages\\openpyxl\\worksheet\\_reader.py:329: UserWarning: Unknown extension is not supported and will be removed\n",
      "  warn(msg)\n",
      "c:\\Users\\123rl\\miniconda3\\Lib\\site-packages\\openpyxl\\worksheet\\_reader.py:329: UserWarning: Unknown extension is not supported and will be removed\n",
      "  warn(msg)\n"
     ]
    }
   ],
   "source": [
    "#excel 파일 읽기 : 모든 sheet 읽기\n",
    "# sheet_name=None : 모든 sheet를 읽기. {\"sheet이름\":DataFrame,...} 딕셔너리로 리턴\n",
    "df=pd.read_excel(\"data/sales_2013.xlsx\",sheet_name=None,index_col=None)\n",
    "#print(df)\n",
    "print(type(df)) \n"
   ]
  },
  {
   "cell_type": "code",
   "execution_count": 210,
   "metadata": {},
   "outputs": [
    {
     "name": "stdout",
     "output_type": "stream",
     "text": [
      "dict_keys(['january_2013', 'february_2013', 'march_2013'])\n"
     ]
    }
   ],
   "source": [
    "# df 의 sheet 이름들 조회하기\n",
    "print(df.keys())"
   ]
  },
  {
   "cell_type": "code",
   "execution_count": 211,
   "metadata": {},
   "outputs": [
    {
     "name": "stdout",
     "output_type": "stream",
     "text": [
      "sheet 이름: january_2013\n",
      "   Customer ID       Customer Name Invoice Number  Sale Amount Purchase Date\n",
      "0         1234          John Smith       100-0002         1200    2013-01-01\n",
      "1         2345       Mary Harrison       100-0003         1425    2013-01-06\n",
      "2         3456          Lucy Gomez       100-0004         1390    2013-01-11\n",
      "3         4567        Rupert Jones       100-0005         1257    2013-01-18\n",
      "4         5678       Jenny Walters       100-0006         1725    2013-01-24\n",
      "5         6789  Samantha Donaldson       100-0007         1995    2013-01-31\n",
      "sheet 이름: february_2013\n",
      "   Customer ID   Customer Name Invoice Number  Sale Amount Purchase Date\n",
      "0         9876   Daniel Farber       100-0008         1115    2013-02-02\n",
      "1         8765     Laney Stone       100-0009         1367    2013-02-08\n",
      "2         7654    Roger Lipney       100-0010         2135    2013-02-15\n",
      "3         6543   Thomas Haines       100-0011         1346    2013-02-17\n",
      "4         5432     Anushka Vaz       100-0012         1560    2013-02-21\n",
      "5         4321  Harriet Cooper       100-0013         1852    2013-02-25\n",
      "sheet 이름: march_2013\n",
      "   Customer ID  Customer Name Invoice Number  Sale Amount Purchase Date\n",
      "0         1234     John Smith       100-0014         1350    2013-03-04\n",
      "1         8765      Tony Song       100-0015         1167    2013-03-08\n",
      "2         2345  Mary Harrison       100-0016         1789    2013-03-17\n",
      "3         6543     Rachel Paz       100-0017         2042    2013-03-22\n",
      "4         3456     Lucy Gomez       100-0018         1511    2013-03-28\n",
      "5         4321  Susan Wallace       100-0019         2280    2013-03-30\n"
     ]
    }
   ],
   "source": [
    "for name,data in df.items() :\n",
    "    print(\"sheet 이름:\",name)\n",
    "    print(data)"
   ]
  },
  {
   "cell_type": "code",
   "execution_count": 212,
   "metadata": {},
   "outputs": [
    {
     "data": {
      "text/html": [
       "<div>\n",
       "<style scoped>\n",
       "    .dataframe tbody tr th:only-of-type {\n",
       "        vertical-align: middle;\n",
       "    }\n",
       "\n",
       "    .dataframe tbody tr th {\n",
       "        vertical-align: top;\n",
       "    }\n",
       "\n",
       "    .dataframe thead th {\n",
       "        text-align: right;\n",
       "    }\n",
       "</style>\n",
       "<table border=\"1\" class=\"dataframe\">\n",
       "  <thead>\n",
       "    <tr style=\"text-align: right;\">\n",
       "      <th></th>\n",
       "      <th>Customer ID</th>\n",
       "      <th>Customer Name</th>\n",
       "      <th>Invoice Number</th>\n",
       "      <th>Sale Amount</th>\n",
       "      <th>Purchase Date</th>\n",
       "    </tr>\n",
       "  </thead>\n",
       "  <tbody>\n",
       "    <tr>\n",
       "      <th>0</th>\n",
       "      <td>1234</td>\n",
       "      <td>John Smith</td>\n",
       "      <td>100-0014</td>\n",
       "      <td>1350</td>\n",
       "      <td>2013-03-04</td>\n",
       "    </tr>\n",
       "    <tr>\n",
       "      <th>1</th>\n",
       "      <td>8765</td>\n",
       "      <td>Tony Song</td>\n",
       "      <td>100-0015</td>\n",
       "      <td>1167</td>\n",
       "      <td>2013-03-08</td>\n",
       "    </tr>\n",
       "    <tr>\n",
       "      <th>2</th>\n",
       "      <td>2345</td>\n",
       "      <td>Mary Harrison</td>\n",
       "      <td>100-0016</td>\n",
       "      <td>1789</td>\n",
       "      <td>2013-03-17</td>\n",
       "    </tr>\n",
       "    <tr>\n",
       "      <th>3</th>\n",
       "      <td>6543</td>\n",
       "      <td>Rachel Paz</td>\n",
       "      <td>100-0017</td>\n",
       "      <td>2042</td>\n",
       "      <td>2013-03-22</td>\n",
       "    </tr>\n",
       "    <tr>\n",
       "      <th>4</th>\n",
       "      <td>3456</td>\n",
       "      <td>Lucy Gomez</td>\n",
       "      <td>100-0018</td>\n",
       "      <td>1511</td>\n",
       "      <td>2013-03-28</td>\n",
       "    </tr>\n",
       "    <tr>\n",
       "      <th>5</th>\n",
       "      <td>4321</td>\n",
       "      <td>Susan Wallace</td>\n",
       "      <td>100-0019</td>\n",
       "      <td>2280</td>\n",
       "      <td>2013-03-30</td>\n",
       "    </tr>\n",
       "  </tbody>\n",
       "</table>\n",
       "</div>"
      ],
      "text/plain": [
       "   Customer ID  Customer Name Invoice Number  Sale Amount Purchase Date\n",
       "0         1234     John Smith       100-0014         1350    2013-03-04\n",
       "1         8765      Tony Song       100-0015         1167    2013-03-08\n",
       "2         2345  Mary Harrison       100-0016         1789    2013-03-17\n",
       "3         6543     Rachel Paz       100-0017         2042    2013-03-22\n",
       "4         3456     Lucy Gomez       100-0018         1511    2013-03-28\n",
       "5         4321  Susan Wallace       100-0019         2280    2013-03-30"
      ]
     },
     "execution_count": 212,
     "metadata": {},
     "output_type": "execute_result"
    }
   ],
   "source": [
    "data"
   ]
  },
  {
   "cell_type": "code",
   "execution_count": 214,
   "metadata": {},
   "outputs": [
    {
     "data": {
      "text/plain": [
       "0    False\n",
       "1    False\n",
       "2     True\n",
       "3     True\n",
       "4     True\n",
       "5     True\n",
       "Name: Sale Amount, dtype: bool"
      ]
     },
     "execution_count": 214,
     "metadata": {},
     "output_type": "execute_result"
    }
   ],
   "source": [
    "data[\"Sale Amount\"] > 1500"
   ]
  },
  {
   "cell_type": "code",
   "execution_count": 213,
   "metadata": {},
   "outputs": [
    {
     "data": {
      "text/html": [
       "<div>\n",
       "<style scoped>\n",
       "    .dataframe tbody tr th:only-of-type {\n",
       "        vertical-align: middle;\n",
       "    }\n",
       "\n",
       "    .dataframe tbody tr th {\n",
       "        vertical-align: top;\n",
       "    }\n",
       "\n",
       "    .dataframe thead th {\n",
       "        text-align: right;\n",
       "    }\n",
       "</style>\n",
       "<table border=\"1\" class=\"dataframe\">\n",
       "  <thead>\n",
       "    <tr style=\"text-align: right;\">\n",
       "      <th></th>\n",
       "      <th>Customer ID</th>\n",
       "      <th>Customer Name</th>\n",
       "      <th>Invoice Number</th>\n",
       "      <th>Sale Amount</th>\n",
       "      <th>Purchase Date</th>\n",
       "    </tr>\n",
       "  </thead>\n",
       "  <tbody>\n",
       "    <tr>\n",
       "      <th>2</th>\n",
       "      <td>2345</td>\n",
       "      <td>Mary Harrison</td>\n",
       "      <td>100-0016</td>\n",
       "      <td>1789</td>\n",
       "      <td>2013-03-17</td>\n",
       "    </tr>\n",
       "    <tr>\n",
       "      <th>3</th>\n",
       "      <td>6543</td>\n",
       "      <td>Rachel Paz</td>\n",
       "      <td>100-0017</td>\n",
       "      <td>2042</td>\n",
       "      <td>2013-03-22</td>\n",
       "    </tr>\n",
       "    <tr>\n",
       "      <th>4</th>\n",
       "      <td>3456</td>\n",
       "      <td>Lucy Gomez</td>\n",
       "      <td>100-0018</td>\n",
       "      <td>1511</td>\n",
       "      <td>2013-03-28</td>\n",
       "    </tr>\n",
       "    <tr>\n",
       "      <th>5</th>\n",
       "      <td>4321</td>\n",
       "      <td>Susan Wallace</td>\n",
       "      <td>100-0019</td>\n",
       "      <td>2280</td>\n",
       "      <td>2013-03-30</td>\n",
       "    </tr>\n",
       "  </tbody>\n",
       "</table>\n",
       "</div>"
      ],
      "text/plain": [
       "   Customer ID  Customer Name Invoice Number  Sale Amount Purchase Date\n",
       "2         2345  Mary Harrison       100-0016         1789    2013-03-17\n",
       "3         6543     Rachel Paz       100-0017         2042    2013-03-22\n",
       "4         3456     Lucy Gomez       100-0018         1511    2013-03-28\n",
       "5         4321  Susan Wallace       100-0019         2280    2013-03-30"
      ]
     },
     "execution_count": 213,
     "metadata": {},
     "output_type": "execute_result"
    }
   ],
   "source": [
    "#Sale Amount 컬럼의 값이 1500 보다 큰 데이터들만 조회하기\n",
    "data[data[\"Sale Amount\"] > 1500]  #data[\"Sale Amount\"] > 1500 의 결과가 True인 레코드만 조회"
   ]
  },
  {
   "cell_type": "code",
   "execution_count": 215,
   "metadata": {},
   "outputs": [
    {
     "data": {
      "text/html": [
       "<div>\n",
       "<style scoped>\n",
       "    .dataframe tbody tr th:only-of-type {\n",
       "        vertical-align: middle;\n",
       "    }\n",
       "\n",
       "    .dataframe tbody tr th {\n",
       "        vertical-align: top;\n",
       "    }\n",
       "\n",
       "    .dataframe thead th {\n",
       "        text-align: right;\n",
       "    }\n",
       "</style>\n",
       "<table border=\"1\" class=\"dataframe\">\n",
       "  <thead>\n",
       "    <tr style=\"text-align: right;\">\n",
       "      <th></th>\n",
       "      <th>Customer ID</th>\n",
       "      <th>Customer Name</th>\n",
       "      <th>Invoice Number</th>\n",
       "      <th>Sale Amount</th>\n",
       "      <th>Purchase Date</th>\n",
       "    </tr>\n",
       "  </thead>\n",
       "  <tbody>\n",
       "    <tr>\n",
       "      <th>2</th>\n",
       "      <td>2345</td>\n",
       "      <td>Mary Harrison</td>\n",
       "      <td>100-0016</td>\n",
       "      <td>1789</td>\n",
       "      <td>2013-03-17</td>\n",
       "    </tr>\n",
       "    <tr>\n",
       "      <th>3</th>\n",
       "      <td>6543</td>\n",
       "      <td>Rachel Paz</td>\n",
       "      <td>100-0017</td>\n",
       "      <td>2042</td>\n",
       "      <td>2013-03-22</td>\n",
       "    </tr>\n",
       "    <tr>\n",
       "      <th>4</th>\n",
       "      <td>3456</td>\n",
       "      <td>Lucy Gomez</td>\n",
       "      <td>100-0018</td>\n",
       "      <td>1511</td>\n",
       "      <td>2013-03-28</td>\n",
       "    </tr>\n",
       "    <tr>\n",
       "      <th>5</th>\n",
       "      <td>4321</td>\n",
       "      <td>Susan Wallace</td>\n",
       "      <td>100-0019</td>\n",
       "      <td>2280</td>\n",
       "      <td>2013-03-30</td>\n",
       "    </tr>\n",
       "  </tbody>\n",
       "</table>\n",
       "</div>"
      ],
      "text/plain": [
       "   Customer ID  Customer Name Invoice Number  Sale Amount Purchase Date\n",
       "2         2345  Mary Harrison       100-0016         1789    2013-03-17\n",
       "3         6543     Rachel Paz       100-0017         2042    2013-03-22\n",
       "4         3456     Lucy Gomez       100-0018         1511    2013-03-28\n",
       "5         4321  Susan Wallace       100-0019         2280    2013-03-30"
      ]
     },
     "execution_count": 215,
     "metadata": {},
     "output_type": "execute_result"
    }
   ],
   "source": [
    "data[[False,False,True,True,True,True]] #data 중 행의 값이 True인 행만 조회"
   ]
  },
  {
   "cell_type": "code",
   "execution_count": 216,
   "metadata": {},
   "outputs": [
    {
     "data": {
      "text/html": [
       "<div>\n",
       "<style scoped>\n",
       "    .dataframe tbody tr th:only-of-type {\n",
       "        vertical-align: middle;\n",
       "    }\n",
       "\n",
       "    .dataframe tbody tr th {\n",
       "        vertical-align: top;\n",
       "    }\n",
       "\n",
       "    .dataframe thead th {\n",
       "        text-align: right;\n",
       "    }\n",
       "</style>\n",
       "<table border=\"1\" class=\"dataframe\">\n",
       "  <thead>\n",
       "    <tr style=\"text-align: right;\">\n",
       "      <th></th>\n",
       "      <th>Customer ID</th>\n",
       "      <th>Customer Name</th>\n",
       "      <th>Invoice Number</th>\n",
       "      <th>Sale Amount</th>\n",
       "      <th>Purchase Date</th>\n",
       "    </tr>\n",
       "  </thead>\n",
       "  <tbody>\n",
       "    <tr>\n",
       "      <th>2</th>\n",
       "      <td>2345</td>\n",
       "      <td>Mary Harrison</td>\n",
       "      <td>100-0016</td>\n",
       "      <td>1789</td>\n",
       "      <td>2013-03-17</td>\n",
       "    </tr>\n",
       "    <tr>\n",
       "      <th>3</th>\n",
       "      <td>6543</td>\n",
       "      <td>Rachel Paz</td>\n",
       "      <td>100-0017</td>\n",
       "      <td>2042</td>\n",
       "      <td>2013-03-22</td>\n",
       "    </tr>\n",
       "    <tr>\n",
       "      <th>4</th>\n",
       "      <td>3456</td>\n",
       "      <td>Lucy Gomez</td>\n",
       "      <td>100-0018</td>\n",
       "      <td>1511</td>\n",
       "      <td>2013-03-28</td>\n",
       "    </tr>\n",
       "    <tr>\n",
       "      <th>5</th>\n",
       "      <td>4321</td>\n",
       "      <td>Susan Wallace</td>\n",
       "      <td>100-0019</td>\n",
       "      <td>2280</td>\n",
       "      <td>2013-03-30</td>\n",
       "    </tr>\n",
       "  </tbody>\n",
       "</table>\n",
       "</div>"
      ],
      "text/plain": [
       "   Customer ID  Customer Name Invoice Number  Sale Amount Purchase Date\n",
       "2         2345  Mary Harrison       100-0016         1789    2013-03-17\n",
       "3         6543     Rachel Paz       100-0017         2042    2013-03-22\n",
       "4         3456     Lucy Gomez       100-0018         1511    2013-03-28\n",
       "5         4321  Susan Wallace       100-0019         2280    2013-03-30"
      ]
     },
     "execution_count": 216,
     "metadata": {},
     "output_type": "execute_result"
    }
   ],
   "source": [
    "data.loc[data[\"Sale Amount\"] > 1500]"
   ]
  },
  {
   "cell_type": "code",
   "execution_count": 217,
   "metadata": {},
   "outputs": [
    {
     "data": {
      "text/html": [
       "<div>\n",
       "<style scoped>\n",
       "    .dataframe tbody tr th:only-of-type {\n",
       "        vertical-align: middle;\n",
       "    }\n",
       "\n",
       "    .dataframe tbody tr th {\n",
       "        vertical-align: top;\n",
       "    }\n",
       "\n",
       "    .dataframe thead th {\n",
       "        text-align: right;\n",
       "    }\n",
       "</style>\n",
       "<table border=\"1\" class=\"dataframe\">\n",
       "  <thead>\n",
       "    <tr style=\"text-align: right;\">\n",
       "      <th></th>\n",
       "      <th>Customer ID</th>\n",
       "      <th>Customer Name</th>\n",
       "      <th>Invoice Number</th>\n",
       "      <th>Sale Amount</th>\n",
       "      <th>Purchase Date</th>\n",
       "    </tr>\n",
       "  </thead>\n",
       "  <tbody>\n",
       "    <tr>\n",
       "      <th>3</th>\n",
       "      <td>6543</td>\n",
       "      <td>Rachel Paz</td>\n",
       "      <td>100-0017</td>\n",
       "      <td>2042</td>\n",
       "      <td>2013-03-22</td>\n",
       "    </tr>\n",
       "    <tr>\n",
       "      <th>5</th>\n",
       "      <td>4321</td>\n",
       "      <td>Susan Wallace</td>\n",
       "      <td>100-0019</td>\n",
       "      <td>2280</td>\n",
       "      <td>2013-03-30</td>\n",
       "    </tr>\n",
       "  </tbody>\n",
       "</table>\n",
       "</div>"
      ],
      "text/plain": [
       "   Customer ID  Customer Name Invoice Number  Sale Amount Purchase Date\n",
       "3         6543     Rachel Paz       100-0017         2042    2013-03-22\n",
       "5         4321  Susan Wallace       100-0019         2280    2013-03-30"
      ]
     },
     "execution_count": 217,
     "metadata": {},
     "output_type": "execute_result"
    }
   ],
   "source": [
    "#문제 : data 중 Sale Amount 값이 2000 이상인 데이터를 data2000 에 저장하기\n",
    "\n",
    "data2000 = data[data[\"Sale Amount\"] > 2000]\n",
    "data2000"
   ]
  },
  {
   "cell_type": "code",
   "execution_count": 226,
   "metadata": {},
   "outputs": [],
   "source": [
    "#data2000을 pd_sales2000_2013.xlsx 파일로 저장하기\n",
    "outexcel = pd.ExcelWriter(\"data/pd_sales2000_2013.xlsx\") #빈 엑셀파일 생성\n",
    "#data2000 를 201303_2000 sheet에 저장\n",
    "data2000.to_excel(outexcel,sheet_name=\"201303_2000\",index=False) \n",
    "#data 를 201303 sheet에 저장\n",
    "data.to_excel(outexcel,sheet_name=\"201303\",index=False)\n",
    "outexcel.close()  #파일 닫기"
   ]
  },
  {
   "cell_type": "code",
   "execution_count": 230,
   "metadata": {},
   "outputs": [],
   "source": [
    "#outexcel close() 함. \n",
    "#with 예약어로 파일을 열면, close() 구문이 없어도 됨.\n",
    "with pd.ExcelWriter(\"data/pd_sales2000_2013_2.xlsx\") as outexcel :\n",
    "    data2000.to_excel(outexcel,sheet_name=\"201303_2000\",index=False) \n",
    "    data.to_excel(outexcel,sheet_name=\"201303\",index=False)"
   ]
  },
  {
   "cell_type": "code",
   "execution_count": 229,
   "metadata": {},
   "outputs": [
    {
     "data": {
      "text/html": [
       "<div>\n",
       "<style scoped>\n",
       "    .dataframe tbody tr th:only-of-type {\n",
       "        vertical-align: middle;\n",
       "    }\n",
       "\n",
       "    .dataframe tbody tr th {\n",
       "        vertical-align: top;\n",
       "    }\n",
       "\n",
       "    .dataframe thead th {\n",
       "        text-align: right;\n",
       "    }\n",
       "</style>\n",
       "<table border=\"1\" class=\"dataframe\">\n",
       "  <thead>\n",
       "    <tr style=\"text-align: right;\">\n",
       "      <th></th>\n",
       "      <th>Customer ID</th>\n",
       "      <th>Customer Name</th>\n",
       "      <th>Invoice Number</th>\n",
       "      <th>Sale Amount</th>\n",
       "      <th>Purchase Date</th>\n",
       "    </tr>\n",
       "  </thead>\n",
       "  <tbody>\n",
       "    <tr>\n",
       "      <th>2</th>\n",
       "      <td>2345</td>\n",
       "      <td>Mary Harrison</td>\n",
       "      <td>100-0016</td>\n",
       "      <td>1789</td>\n",
       "      <td>2013-03-17</td>\n",
       "    </tr>\n",
       "  </tbody>\n",
       "</table>\n",
       "</div>"
      ],
      "text/plain": [
       "   Customer ID  Customer Name Invoice Number  Sale Amount Purchase Date\n",
       "2         2345  Mary Harrison       100-0016         1789    2013-03-17"
      ]
     },
     "execution_count": 229,
     "metadata": {},
     "output_type": "execute_result"
    }
   ],
   "source": [
    "# 매입일자(Purchase Date) : 2013-03-17일인 데이터만 조회하기\n",
    "data[data[\"Purchase Date\"] == \"2013-03-17\"]\n",
    "data.loc[data[\"Purchase Date\"] == \"2013-03-17\"]"
   ]
  },
  {
   "cell_type": "code",
   "execution_count": 236,
   "metadata": {},
   "outputs": [
    {
     "data": {
      "text/html": [
       "<div>\n",
       "<style scoped>\n",
       "    .dataframe tbody tr th:only-of-type {\n",
       "        vertical-align: middle;\n",
       "    }\n",
       "\n",
       "    .dataframe tbody tr th {\n",
       "        vertical-align: top;\n",
       "    }\n",
       "\n",
       "    .dataframe thead th {\n",
       "        text-align: right;\n",
       "    }\n",
       "</style>\n",
       "<table border=\"1\" class=\"dataframe\">\n",
       "  <thead>\n",
       "    <tr style=\"text-align: right;\">\n",
       "      <th></th>\n",
       "      <th>c0</th>\n",
       "      <th>c1</th>\n",
       "      <th>c2</th>\n",
       "      <th>c3</th>\n",
       "      <th>c4</th>\n",
       "    </tr>\n",
       "  </thead>\n",
       "  <tbody>\n",
       "    <tr>\n",
       "      <th>r0</th>\n",
       "      <td>1</td>\n",
       "      <td>4</td>\n",
       "      <td>7</td>\n",
       "      <td>10</td>\n",
       "      <td>13</td>\n",
       "    </tr>\n",
       "    <tr>\n",
       "      <th>r1</th>\n",
       "      <td>2</td>\n",
       "      <td>5</td>\n",
       "      <td>8</td>\n",
       "      <td>11</td>\n",
       "      <td>14</td>\n",
       "    </tr>\n",
       "    <tr>\n",
       "      <th>r2</th>\n",
       "      <td>3</td>\n",
       "      <td>6</td>\n",
       "      <td>9</td>\n",
       "      <td>12</td>\n",
       "      <td>15</td>\n",
       "    </tr>\n",
       "  </tbody>\n",
       "</table>\n",
       "</div>"
      ],
      "text/plain": [
       "    c0  c1  c2  c3  c4\n",
       "r0   1   4   7  10  13\n",
       "r1   2   5   8  11  14\n",
       "r2   3   6   9  12  15"
      ]
     },
     "execution_count": 236,
     "metadata": {},
     "output_type": "execute_result"
    }
   ],
   "source": [
    "#dict_data 데이터 프레임 객체 생성하기. 인덱스:r0~r2 설정하기\n",
    "df = pd.DataFrame(dict_data, index=[\"r0\",\"r1\",\"r2\"])\n",
    "df"
   ]
  },
  {
   "cell_type": "code",
   "execution_count": 237,
   "metadata": {},
   "outputs": [
    {
     "data": {
      "text/html": [
       "<div>\n",
       "<style scoped>\n",
       "    .dataframe tbody tr th:only-of-type {\n",
       "        vertical-align: middle;\n",
       "    }\n",
       "\n",
       "    .dataframe tbody tr th {\n",
       "        vertical-align: top;\n",
       "    }\n",
       "\n",
       "    .dataframe thead th {\n",
       "        text-align: right;\n",
       "    }\n",
       "</style>\n",
       "<table border=\"1\" class=\"dataframe\">\n",
       "  <thead>\n",
       "    <tr style=\"text-align: right;\">\n",
       "      <th></th>\n",
       "      <th>c0</th>\n",
       "      <th>c1</th>\n",
       "      <th>c2</th>\n",
       "      <th>c3</th>\n",
       "      <th>c4</th>\n",
       "    </tr>\n",
       "  </thead>\n",
       "  <tbody>\n",
       "    <tr>\n",
       "      <th>r0</th>\n",
       "      <td>1.0</td>\n",
       "      <td>4.0</td>\n",
       "      <td>7.0</td>\n",
       "      <td>10.0</td>\n",
       "      <td>13.0</td>\n",
       "    </tr>\n",
       "    <tr>\n",
       "      <th>r1</th>\n",
       "      <td>2.0</td>\n",
       "      <td>5.0</td>\n",
       "      <td>8.0</td>\n",
       "      <td>11.0</td>\n",
       "      <td>14.0</td>\n",
       "    </tr>\n",
       "    <tr>\n",
       "      <th>r2</th>\n",
       "      <td>3.0</td>\n",
       "      <td>6.0</td>\n",
       "      <td>9.0</td>\n",
       "      <td>12.0</td>\n",
       "      <td>15.0</td>\n",
       "    </tr>\n",
       "    <tr>\n",
       "      <th>r3</th>\n",
       "      <td>NaN</td>\n",
       "      <td>NaN</td>\n",
       "      <td>NaN</td>\n",
       "      <td>NaN</td>\n",
       "      <td>NaN</td>\n",
       "    </tr>\n",
       "  </tbody>\n",
       "</table>\n",
       "</div>"
      ],
      "text/plain": [
       "     c0   c1   c2    c3    c4\n",
       "r0  1.0  4.0  7.0  10.0  13.0\n",
       "r1  2.0  5.0  8.0  11.0  14.0\n",
       "r2  3.0  6.0  9.0  12.0  15.0\n",
       "r3  NaN  NaN  NaN   NaN   NaN"
      ]
     },
     "execution_count": 237,
     "metadata": {},
     "output_type": "execute_result"
    }
   ],
   "source": [
    "#오류 발생. 행의 갯수가 틀림\n",
    "#df.index=[\"r0\",\"r1\",\"r2\",\"r3\"]\n",
    "ndf = df.reindex([\"r0\",\"r1\",\"r2\",\"r3\"])\n",
    "ndf\n",
    "#NaN : 결측값. 값이 없음"
   ]
  },
  {
   "cell_type": "code",
   "execution_count": 238,
   "metadata": {},
   "outputs": [
    {
     "data": {
      "text/html": [
       "<div>\n",
       "<style scoped>\n",
       "    .dataframe tbody tr th:only-of-type {\n",
       "        vertical-align: middle;\n",
       "    }\n",
       "\n",
       "    .dataframe tbody tr th {\n",
       "        vertical-align: top;\n",
       "    }\n",
       "\n",
       "    .dataframe thead th {\n",
       "        text-align: right;\n",
       "    }\n",
       "</style>\n",
       "<table border=\"1\" class=\"dataframe\">\n",
       "  <thead>\n",
       "    <tr style=\"text-align: right;\">\n",
       "      <th></th>\n",
       "      <th>c0</th>\n",
       "      <th>c1</th>\n",
       "      <th>c2</th>\n",
       "      <th>c3</th>\n",
       "      <th>c4</th>\n",
       "    </tr>\n",
       "  </thead>\n",
       "  <tbody>\n",
       "    <tr>\n",
       "      <th>r0</th>\n",
       "      <td>1</td>\n",
       "      <td>4</td>\n",
       "      <td>7</td>\n",
       "      <td>10</td>\n",
       "      <td>13</td>\n",
       "    </tr>\n",
       "    <tr>\n",
       "      <th>r1</th>\n",
       "      <td>2</td>\n",
       "      <td>5</td>\n",
       "      <td>8</td>\n",
       "      <td>11</td>\n",
       "      <td>14</td>\n",
       "    </tr>\n",
       "    <tr>\n",
       "      <th>r2</th>\n",
       "      <td>3</td>\n",
       "      <td>6</td>\n",
       "      <td>9</td>\n",
       "      <td>12</td>\n",
       "      <td>15</td>\n",
       "    </tr>\n",
       "    <tr>\n",
       "      <th>r3</th>\n",
       "      <td>0</td>\n",
       "      <td>0</td>\n",
       "      <td>0</td>\n",
       "      <td>0</td>\n",
       "      <td>0</td>\n",
       "    </tr>\n",
       "  </tbody>\n",
       "</table>\n",
       "</div>"
      ],
      "text/plain": [
       "    c0  c1  c2  c3  c4\n",
       "r0   1   4   7  10  13\n",
       "r1   2   5   8  11  14\n",
       "r2   3   6   9  12  15\n",
       "r3   0   0   0   0   0"
      ]
     },
     "execution_count": 238,
     "metadata": {},
     "output_type": "execute_result"
    }
   ],
   "source": [
    "#df의 행을 늘리는데 0으로 채우기.\n",
    "zdf = df.reindex([\"r0\",\"r1\",\"r2\",\"r3\"],fill_value=0)\n",
    "zdf"
   ]
  },
  {
   "cell_type": "code",
   "execution_count": 239,
   "metadata": {},
   "outputs": [
    {
     "name": "stdout",
     "output_type": "stream",
     "text": [
      "<class 'pandas.core.frame.DataFrame'>\n",
      "Index: 4 entries, r0 to r3\n",
      "Data columns (total 5 columns):\n",
      " #   Column  Non-Null Count  Dtype\n",
      "---  ------  --------------  -----\n",
      " 0   c0      4 non-null      int64\n",
      " 1   c1      4 non-null      int64\n",
      " 2   c2      4 non-null      int64\n",
      " 3   c3      4 non-null      int64\n",
      " 4   c4      4 non-null      int64\n",
      "dtypes: int64(5)\n",
      "memory usage: 192.0+ bytes\n"
     ]
    }
   ],
   "source": [
    "zdf.info()"
   ]
  },
  {
   "cell_type": "code",
   "execution_count": 242,
   "metadata": {},
   "outputs": [
    {
     "name": "stdout",
     "output_type": "stream",
     "text": [
      "    c0  c1  c2  c3  c4\n",
      "r2   3   6   9  12  15\n",
      "r1   2   5   8  11  14\n",
      "r0   1   4   7  10  13\n"
     ]
    },
    {
     "data": {
      "text/html": [
       "<div>\n",
       "<style scoped>\n",
       "    .dataframe tbody tr th:only-of-type {\n",
       "        vertical-align: middle;\n",
       "    }\n",
       "\n",
       "    .dataframe tbody tr th {\n",
       "        vertical-align: top;\n",
       "    }\n",
       "\n",
       "    .dataframe thead th {\n",
       "        text-align: right;\n",
       "    }\n",
       "</style>\n",
       "<table border=\"1\" class=\"dataframe\">\n",
       "  <thead>\n",
       "    <tr style=\"text-align: right;\">\n",
       "      <th></th>\n",
       "      <th>c0</th>\n",
       "      <th>c1</th>\n",
       "      <th>c2</th>\n",
       "      <th>c3</th>\n",
       "      <th>c4</th>\n",
       "    </tr>\n",
       "  </thead>\n",
       "  <tbody>\n",
       "    <tr>\n",
       "      <th>r0</th>\n",
       "      <td>1</td>\n",
       "      <td>4</td>\n",
       "      <td>7</td>\n",
       "      <td>10</td>\n",
       "      <td>13</td>\n",
       "    </tr>\n",
       "    <tr>\n",
       "      <th>r1</th>\n",
       "      <td>2</td>\n",
       "      <td>5</td>\n",
       "      <td>8</td>\n",
       "      <td>11</td>\n",
       "      <td>14</td>\n",
       "    </tr>\n",
       "    <tr>\n",
       "      <th>r2</th>\n",
       "      <td>3</td>\n",
       "      <td>6</td>\n",
       "      <td>9</td>\n",
       "      <td>12</td>\n",
       "      <td>15</td>\n",
       "    </tr>\n",
       "  </tbody>\n",
       "</table>\n",
       "</div>"
      ],
      "text/plain": [
       "    c0  c1  c2  c3  c4\n",
       "r0   1   4   7  10  13\n",
       "r1   2   5   8  11  14\n",
       "r2   3   6   9  12  15"
      ]
     },
     "execution_count": 242,
     "metadata": {},
     "output_type": "execute_result"
    }
   ],
   "source": [
    "#sort_index : 인덱스 기준 정렬 \n",
    "#ascending=True : 오름차순 정렬\n",
    "#ascending=False : 내림차순 정렬\n",
    "print(df.sort_index(ascending=False))\n",
    "df"
   ]
  },
  {
   "cell_type": "code",
   "execution_count": 244,
   "metadata": {},
   "outputs": [
    {
     "name": "stdout",
     "output_type": "stream",
     "text": [
      "    c0  c1  c2  c3  c4\n",
      "r2   3   6   9  12  15\n",
      "r1   2   5   8  11  14\n",
      "r0   1   4   7  10  13\n",
      "r3   0   0   0   0   0\n",
      "    c0  c1  c2  c3  c4\n",
      "r3   0   0   0   0   0\n",
      "r0   1   4   7  10  13\n",
      "r1   2   5   8  11  14\n",
      "r2   3   6   9  12  15\n"
     ]
    }
   ],
   "source": [
    "#컬럼 기준으로 정렬.\n",
    "print(zdf.sort_values(by=\"c1\",ascending=False))\n",
    "print(zdf.sort_values(by=\"c1\",ascending=True))"
   ]
  },
  {
   "cell_type": "code",
   "execution_count": 245,
   "metadata": {},
   "outputs": [],
   "source": [
    "exam_data={\"이름\":[\"서준\",\"우현\",\"인아\"],\n",
    "           \"수학\":[90,80,70],\n",
    "           \"영어\":[98,89,95],\n",
    "           \"음악\":[85,95,100],\n",
    "           \"체육\":[100,90,90]}"
   ]
  },
  {
   "cell_type": "code",
   "execution_count": 247,
   "metadata": {},
   "outputs": [
    {
     "data": {
      "text/html": [
       "<div>\n",
       "<style scoped>\n",
       "    .dataframe tbody tr th:only-of-type {\n",
       "        vertical-align: middle;\n",
       "    }\n",
       "\n",
       "    .dataframe tbody tr th {\n",
       "        vertical-align: top;\n",
       "    }\n",
       "\n",
       "    .dataframe thead th {\n",
       "        text-align: right;\n",
       "    }\n",
       "</style>\n",
       "<table border=\"1\" class=\"dataframe\">\n",
       "  <thead>\n",
       "    <tr style=\"text-align: right;\">\n",
       "      <th></th>\n",
       "      <th>이름</th>\n",
       "      <th>수학</th>\n",
       "      <th>영어</th>\n",
       "      <th>음악</th>\n",
       "      <th>체육</th>\n",
       "    </tr>\n",
       "  </thead>\n",
       "  <tbody>\n",
       "    <tr>\n",
       "      <th>0</th>\n",
       "      <td>서준</td>\n",
       "      <td>90</td>\n",
       "      <td>98</td>\n",
       "      <td>85</td>\n",
       "      <td>100</td>\n",
       "    </tr>\n",
       "    <tr>\n",
       "      <th>1</th>\n",
       "      <td>우현</td>\n",
       "      <td>80</td>\n",
       "      <td>89</td>\n",
       "      <td>95</td>\n",
       "      <td>90</td>\n",
       "    </tr>\n",
       "    <tr>\n",
       "      <th>2</th>\n",
       "      <td>인아</td>\n",
       "      <td>70</td>\n",
       "      <td>95</td>\n",
       "      <td>100</td>\n",
       "      <td>90</td>\n",
       "    </tr>\n",
       "  </tbody>\n",
       "</table>\n",
       "</div>"
      ],
      "text/plain": [
       "   이름  수학  영어   음악   체육\n",
       "0  서준  90  98   85  100\n",
       "1  우현  80  89   95   90\n",
       "2  인아  70  95  100   90"
      ]
     },
     "execution_count": 247,
     "metadata": {},
     "output_type": "execute_result"
    }
   ],
   "source": [
    "#1. exam_data로 DataFrame 객체 생성하기\n",
    "df = pd.DataFrame(exam_data)\n",
    "df"
   ]
  },
  {
   "cell_type": "code",
   "execution_count": 248,
   "metadata": {},
   "outputs": [
    {
     "data": {
      "text/html": [
       "<div>\n",
       "<style scoped>\n",
       "    .dataframe tbody tr th:only-of-type {\n",
       "        vertical-align: middle;\n",
       "    }\n",
       "\n",
       "    .dataframe tbody tr th {\n",
       "        vertical-align: top;\n",
       "    }\n",
       "\n",
       "    .dataframe thead th {\n",
       "        text-align: right;\n",
       "    }\n",
       "</style>\n",
       "<table border=\"1\" class=\"dataframe\">\n",
       "  <thead>\n",
       "    <tr style=\"text-align: right;\">\n",
       "      <th></th>\n",
       "      <th>수학</th>\n",
       "      <th>영어</th>\n",
       "      <th>음악</th>\n",
       "      <th>체육</th>\n",
       "    </tr>\n",
       "    <tr>\n",
       "      <th>이름</th>\n",
       "      <th></th>\n",
       "      <th></th>\n",
       "      <th></th>\n",
       "      <th></th>\n",
       "    </tr>\n",
       "  </thead>\n",
       "  <tbody>\n",
       "    <tr>\n",
       "      <th>서준</th>\n",
       "      <td>90</td>\n",
       "      <td>98</td>\n",
       "      <td>85</td>\n",
       "      <td>100</td>\n",
       "    </tr>\n",
       "    <tr>\n",
       "      <th>우현</th>\n",
       "      <td>80</td>\n",
       "      <td>89</td>\n",
       "      <td>95</td>\n",
       "      <td>90</td>\n",
       "    </tr>\n",
       "    <tr>\n",
       "      <th>인아</th>\n",
       "      <td>70</td>\n",
       "      <td>95</td>\n",
       "      <td>100</td>\n",
       "      <td>90</td>\n",
       "    </tr>\n",
       "  </tbody>\n",
       "</table>\n",
       "</div>"
      ],
      "text/plain": [
       "    수학  영어   음악   체육\n",
       "이름                  \n",
       "서준  90  98   85  100\n",
       "우현  80  89   95   90\n",
       "인아  70  95  100   90"
      ]
     },
     "execution_count": 248,
     "metadata": {},
     "output_type": "execute_result"
    }
   ],
   "source": [
    "#2. 이름 컬럼을 인덱스로 만들기\n",
    "df.set_index(\"이름\",inplace=True)\n",
    "df"
   ]
  },
  {
   "cell_type": "code",
   "execution_count": 249,
   "metadata": {},
   "outputs": [
    {
     "data": {
      "text/html": [
       "<div>\n",
       "<style scoped>\n",
       "    .dataframe tbody tr th:only-of-type {\n",
       "        vertical-align: middle;\n",
       "    }\n",
       "\n",
       "    .dataframe tbody tr th {\n",
       "        vertical-align: top;\n",
       "    }\n",
       "\n",
       "    .dataframe thead th {\n",
       "        text-align: right;\n",
       "    }\n",
       "</style>\n",
       "<table border=\"1\" class=\"dataframe\">\n",
       "  <thead>\n",
       "    <tr style=\"text-align: right;\">\n",
       "      <th></th>\n",
       "      <th>수학</th>\n",
       "      <th>영어</th>\n",
       "      <th>음악</th>\n",
       "      <th>체육</th>\n",
       "    </tr>\n",
       "    <tr>\n",
       "      <th>이름</th>\n",
       "      <th></th>\n",
       "      <th></th>\n",
       "      <th></th>\n",
       "      <th></th>\n",
       "    </tr>\n",
       "  </thead>\n",
       "  <tbody>\n",
       "    <tr>\n",
       "      <th>인아</th>\n",
       "      <td>70</td>\n",
       "      <td>95</td>\n",
       "      <td>100</td>\n",
       "      <td>90</td>\n",
       "    </tr>\n",
       "    <tr>\n",
       "      <th>우현</th>\n",
       "      <td>80</td>\n",
       "      <td>89</td>\n",
       "      <td>95</td>\n",
       "      <td>90</td>\n",
       "    </tr>\n",
       "    <tr>\n",
       "      <th>서준</th>\n",
       "      <td>90</td>\n",
       "      <td>98</td>\n",
       "      <td>85</td>\n",
       "      <td>100</td>\n",
       "    </tr>\n",
       "  </tbody>\n",
       "</table>\n",
       "</div>"
      ],
      "text/plain": [
       "    수학  영어   음악   체육\n",
       "이름                  \n",
       "인아  70  95  100   90\n",
       "우현  80  89   95   90\n",
       "서준  90  98   85  100"
      ]
     },
     "execution_count": 249,
     "metadata": {},
     "output_type": "execute_result"
    }
   ],
   "source": [
    "#3. 이름의 역순으로 정렬하기\n",
    "df.sort_index(ascending=False)"
   ]
  },
  {
   "cell_type": "code",
   "execution_count": 250,
   "metadata": {},
   "outputs": [
    {
     "data": {
      "text/html": [
       "<div>\n",
       "<style scoped>\n",
       "    .dataframe tbody tr th:only-of-type {\n",
       "        vertical-align: middle;\n",
       "    }\n",
       "\n",
       "    .dataframe tbody tr th {\n",
       "        vertical-align: top;\n",
       "    }\n",
       "\n",
       "    .dataframe thead th {\n",
       "        text-align: right;\n",
       "    }\n",
       "</style>\n",
       "<table border=\"1\" class=\"dataframe\">\n",
       "  <thead>\n",
       "    <tr style=\"text-align: right;\">\n",
       "      <th></th>\n",
       "      <th>수학</th>\n",
       "      <th>영어</th>\n",
       "      <th>음악</th>\n",
       "      <th>체육</th>\n",
       "    </tr>\n",
       "    <tr>\n",
       "      <th>이름</th>\n",
       "      <th></th>\n",
       "      <th></th>\n",
       "      <th></th>\n",
       "      <th></th>\n",
       "    </tr>\n",
       "  </thead>\n",
       "  <tbody>\n",
       "    <tr>\n",
       "      <th>서준</th>\n",
       "      <td>90</td>\n",
       "      <td>98</td>\n",
       "      <td>85</td>\n",
       "      <td>100</td>\n",
       "    </tr>\n",
       "    <tr>\n",
       "      <th>인아</th>\n",
       "      <td>70</td>\n",
       "      <td>95</td>\n",
       "      <td>100</td>\n",
       "      <td>90</td>\n",
       "    </tr>\n",
       "    <tr>\n",
       "      <th>우현</th>\n",
       "      <td>80</td>\n",
       "      <td>89</td>\n",
       "      <td>95</td>\n",
       "      <td>90</td>\n",
       "    </tr>\n",
       "  </tbody>\n",
       "</table>\n",
       "</div>"
      ],
      "text/plain": [
       "    수학  영어   음악   체육\n",
       "이름                  \n",
       "서준  90  98   85  100\n",
       "인아  70  95  100   90\n",
       "우현  80  89   95   90"
      ]
     },
     "execution_count": 250,
     "metadata": {},
     "output_type": "execute_result"
    }
   ],
   "source": [
    "#4. 영어 점수의 역순으로 정렬하기\n",
    "df.sort_values(by=\"영어\",ascending=False)"
   ]
  },
  {
   "cell_type": "code",
   "execution_count": 251,
   "metadata": {},
   "outputs": [
    {
     "data": {
      "text/html": [
       "<div>\n",
       "<style scoped>\n",
       "    .dataframe tbody tr th:only-of-type {\n",
       "        vertical-align: middle;\n",
       "    }\n",
       "\n",
       "    .dataframe tbody tr th {\n",
       "        vertical-align: top;\n",
       "    }\n",
       "\n",
       "    .dataframe thead th {\n",
       "        text-align: right;\n",
       "    }\n",
       "</style>\n",
       "<table border=\"1\" class=\"dataframe\">\n",
       "  <thead>\n",
       "    <tr style=\"text-align: right;\">\n",
       "      <th></th>\n",
       "      <th>수학</th>\n",
       "      <th>영어</th>\n",
       "      <th>음악</th>\n",
       "      <th>체육</th>\n",
       "      <th>총점</th>\n",
       "    </tr>\n",
       "    <tr>\n",
       "      <th>이름</th>\n",
       "      <th></th>\n",
       "      <th></th>\n",
       "      <th></th>\n",
       "      <th></th>\n",
       "      <th></th>\n",
       "    </tr>\n",
       "  </thead>\n",
       "  <tbody>\n",
       "    <tr>\n",
       "      <th>서준</th>\n",
       "      <td>90</td>\n",
       "      <td>98</td>\n",
       "      <td>85</td>\n",
       "      <td>100</td>\n",
       "      <td>373</td>\n",
       "    </tr>\n",
       "    <tr>\n",
       "      <th>우현</th>\n",
       "      <td>80</td>\n",
       "      <td>89</td>\n",
       "      <td>95</td>\n",
       "      <td>90</td>\n",
       "      <td>354</td>\n",
       "    </tr>\n",
       "    <tr>\n",
       "      <th>인아</th>\n",
       "      <td>70</td>\n",
       "      <td>95</td>\n",
       "      <td>100</td>\n",
       "      <td>90</td>\n",
       "      <td>355</td>\n",
       "    </tr>\n",
       "  </tbody>\n",
       "</table>\n",
       "</div>"
      ],
      "text/plain": [
       "    수학  영어   음악   체육   총점\n",
       "이름                       \n",
       "서준  90  98   85  100  373\n",
       "우현  80  89   95   90  354\n",
       "인아  70  95  100   90  355"
      ]
     },
     "execution_count": 251,
     "metadata": {},
     "output_type": "execute_result"
    }
   ],
   "source": [
    "#총점 컬럼을 생성하여, 수학,영어,음악,체육 점수의 합을 저장하기\n",
    "df[\"총점\"]=df[\"수학\"]+df[\"영어\"]+df[\"음악\"]+df[\"체육\"]\n",
    "df"
   ]
  },
  {
   "cell_type": "code",
   "execution_count": 253,
   "metadata": {},
   "outputs": [
    {
     "data": {
      "text/html": [
       "<div>\n",
       "<style scoped>\n",
       "    .dataframe tbody tr th:only-of-type {\n",
       "        vertical-align: middle;\n",
       "    }\n",
       "\n",
       "    .dataframe tbody tr th {\n",
       "        vertical-align: top;\n",
       "    }\n",
       "\n",
       "    .dataframe thead th {\n",
       "        text-align: right;\n",
       "    }\n",
       "</style>\n",
       "<table border=\"1\" class=\"dataframe\">\n",
       "  <thead>\n",
       "    <tr style=\"text-align: right;\">\n",
       "      <th></th>\n",
       "      <th>수학</th>\n",
       "      <th>영어</th>\n",
       "      <th>음악</th>\n",
       "      <th>체육</th>\n",
       "      <th>총점</th>\n",
       "    </tr>\n",
       "    <tr>\n",
       "      <th>이름</th>\n",
       "      <th></th>\n",
       "      <th></th>\n",
       "      <th></th>\n",
       "      <th></th>\n",
       "      <th></th>\n",
       "    </tr>\n",
       "  </thead>\n",
       "  <tbody>\n",
       "    <tr>\n",
       "      <th>서준</th>\n",
       "      <td>90</td>\n",
       "      <td>98</td>\n",
       "      <td>85</td>\n",
       "      <td>100</td>\n",
       "      <td>373</td>\n",
       "    </tr>\n",
       "    <tr>\n",
       "      <th>인아</th>\n",
       "      <td>70</td>\n",
       "      <td>95</td>\n",
       "      <td>100</td>\n",
       "      <td>90</td>\n",
       "      <td>355</td>\n",
       "    </tr>\n",
       "    <tr>\n",
       "      <th>우현</th>\n",
       "      <td>80</td>\n",
       "      <td>89</td>\n",
       "      <td>95</td>\n",
       "      <td>90</td>\n",
       "      <td>354</td>\n",
       "    </tr>\n",
       "  </tbody>\n",
       "</table>\n",
       "</div>"
      ],
      "text/plain": [
       "    수학  영어   음악   체육   총점\n",
       "이름                       \n",
       "서준  90  98   85  100  373\n",
       "인아  70  95  100   90  355\n",
       "우현  80  89   95   90  354"
      ]
     },
     "execution_count": 253,
     "metadata": {},
     "output_type": "execute_result"
    }
   ],
   "source": [
    "#총점의 역순으로 출력하기\n",
    "df.sort_values(by=\"총점\",ascending=False)\n"
   ]
  },
  {
   "cell_type": "code",
   "execution_count": 255,
   "metadata": {},
   "outputs": [],
   "source": [
    "#titanic 데이터셋 예제\n",
    "import pandas as pd\n",
    "#seaborn : 시각화모듈. 학습데이터 저장\n",
    "import seaborn as sns #pip install seaborn\n"
   ]
  },
  {
   "cell_type": "code",
   "execution_count": 256,
   "metadata": {},
   "outputs": [
    {
     "name": "stdout",
     "output_type": "stream",
     "text": [
      "['anagrams', 'anscombe', 'attention', 'brain_networks', 'car_crashes', 'diamonds', 'dots', 'dowjones', 'exercise', 'flights', 'fmri', 'geyser', 'glue', 'healthexp', 'iris', 'mpg', 'penguins', 'planets', 'seaice', 'taxis', 'tips', 'titanic']\n"
     ]
    }
   ],
   "source": [
    "#seaborn에 저장된 데이터 셋의 이름\n",
    "print(sns.get_dataset_names())"
   ]
  },
  {
   "cell_type": "markdown",
   "metadata": {},
   "source": [
    "survived\t생존여부\n",
    "pclass\t좌석등급 (숫자)\n",
    "sex\t성별 (male, female)\n",
    "age\t나이\n",
    "sibsp\t형제자매 + 배우자 인원수\n",
    "parch: \t부모 + 자식 인원수\n",
    "fare: \t요금\n",
    "embarked\t탑승 항구\n",
    "class\t좌석등급 (영문)\n",
    "who\t성별 (man, woman)\n",
    "adult_male 성인남자여부 \n",
    "deck\t선실 고유 번호 가장 앞자리 알파벳\n",
    "embark_town\t탑승 항구 (영문)\n",
    "alive\t생존여부 (영문)\n",
    "alone\t혼자인지 여부\n"
   ]
  },
  {
   "cell_type": "code",
   "execution_count": 257,
   "metadata": {},
   "outputs": [
    {
     "name": "stdout",
     "output_type": "stream",
     "text": [
      "<class 'pandas.core.frame.DataFrame'>\n",
      "RangeIndex: 891 entries, 0 to 890\n",
      "Data columns (total 15 columns):\n",
      " #   Column       Non-Null Count  Dtype   \n",
      "---  ------       --------------  -----   \n",
      " 0   survived     891 non-null    int64   \n",
      " 1   pclass       891 non-null    int64   \n",
      " 2   sex          891 non-null    object  \n",
      " 3   age          714 non-null    float64 \n",
      " 4   sibsp        891 non-null    int64   \n",
      " 5   parch        891 non-null    int64   \n",
      " 6   fare         891 non-null    float64 \n",
      " 7   embarked     889 non-null    object  \n",
      " 8   class        891 non-null    category\n",
      " 9   who          891 non-null    object  \n",
      " 10  adult_male   891 non-null    bool    \n",
      " 11  deck         203 non-null    category\n",
      " 12  embark_town  889 non-null    object  \n",
      " 13  alive        891 non-null    object  \n",
      " 14  alone        891 non-null    bool    \n",
      "dtypes: bool(2), category(2), float64(2), int64(4), object(5)\n",
      "memory usage: 80.7+ KB\n"
     ]
    }
   ],
   "source": [
    "titanic = sns.load_dataset(\"titanic\")\n",
    "titanic.info()"
   ]
  },
  {
   "cell_type": "code",
   "execution_count": 258,
   "metadata": {},
   "outputs": [
    {
     "data": {
      "text/html": [
       "<div>\n",
       "<style scoped>\n",
       "    .dataframe tbody tr th:only-of-type {\n",
       "        vertical-align: middle;\n",
       "    }\n",
       "\n",
       "    .dataframe tbody tr th {\n",
       "        vertical-align: top;\n",
       "    }\n",
       "\n",
       "    .dataframe thead th {\n",
       "        text-align: right;\n",
       "    }\n",
       "</style>\n",
       "<table border=\"1\" class=\"dataframe\">\n",
       "  <thead>\n",
       "    <tr style=\"text-align: right;\">\n",
       "      <th></th>\n",
       "      <th>pclass</th>\n",
       "      <th>class</th>\n",
       "    </tr>\n",
       "  </thead>\n",
       "  <tbody>\n",
       "    <tr>\n",
       "      <th>0</th>\n",
       "      <td>3</td>\n",
       "      <td>Third</td>\n",
       "    </tr>\n",
       "    <tr>\n",
       "      <th>1</th>\n",
       "      <td>1</td>\n",
       "      <td>First</td>\n",
       "    </tr>\n",
       "    <tr>\n",
       "      <th>2</th>\n",
       "      <td>3</td>\n",
       "      <td>Third</td>\n",
       "    </tr>\n",
       "    <tr>\n",
       "      <th>3</th>\n",
       "      <td>1</td>\n",
       "      <td>First</td>\n",
       "    </tr>\n",
       "    <tr>\n",
       "      <th>4</th>\n",
       "      <td>3</td>\n",
       "      <td>Third</td>\n",
       "    </tr>\n",
       "    <tr>\n",
       "      <th>5</th>\n",
       "      <td>3</td>\n",
       "      <td>Third</td>\n",
       "    </tr>\n",
       "    <tr>\n",
       "      <th>6</th>\n",
       "      <td>1</td>\n",
       "      <td>First</td>\n",
       "    </tr>\n",
       "    <tr>\n",
       "      <th>7</th>\n",
       "      <td>3</td>\n",
       "      <td>Third</td>\n",
       "    </tr>\n",
       "    <tr>\n",
       "      <th>8</th>\n",
       "      <td>3</td>\n",
       "      <td>Third</td>\n",
       "    </tr>\n",
       "    <tr>\n",
       "      <th>9</th>\n",
       "      <td>2</td>\n",
       "      <td>Second</td>\n",
       "    </tr>\n",
       "  </tbody>\n",
       "</table>\n",
       "</div>"
      ],
      "text/plain": [
       "   pclass   class\n",
       "0       3   Third\n",
       "1       1   First\n",
       "2       3   Third\n",
       "3       1   First\n",
       "4       3   Third\n",
       "5       3   Third\n",
       "6       1   First\n",
       "7       3   Third\n",
       "8       3   Third\n",
       "9       2  Second"
      ]
     },
     "execution_count": 258,
     "metadata": {},
     "output_type": "execute_result"
    }
   ],
   "source": [
    "#pclass,class 데이터의 처음 10개의 레코드만 조회하기\n",
    "titanic[[\"pclass\",\"class\"]].head(10)"
   ]
  },
  {
   "cell_type": "code",
   "execution_count": 259,
   "metadata": {},
   "outputs": [
    {
     "data": {
      "text/plain": [
       "survived       891\n",
       "pclass         891\n",
       "sex            891\n",
       "age            714\n",
       "sibsp          891\n",
       "parch          891\n",
       "fare           891\n",
       "embarked       889\n",
       "class          891\n",
       "who            891\n",
       "adult_male     891\n",
       "deck           203\n",
       "embark_town    889\n",
       "alive          891\n",
       "alone          891\n",
       "dtype: int64"
      ]
     },
     "execution_count": 259,
     "metadata": {},
     "output_type": "execute_result"
    }
   ],
   "source": [
    "#각 컬럼별 결측값을 제외한 데이터의 건수\n",
    "titanic.count()"
   ]
  },
  {
   "cell_type": "code",
   "execution_count": 261,
   "metadata": {},
   "outputs": [
    {
     "name": "stdout",
     "output_type": "stream",
     "text": [
      "203\n",
      "deck\n"
     ]
    }
   ],
   "source": [
    "#컬럼 중 건수가 가장 작은 건수 출력하기\n",
    "print(titanic.count().min())\n",
    "#컬럼 중 건수가 가장 작은 건수의 인덱스 출력하기\n",
    "print(titanic.count().idxmin())"
   ]
  },
  {
   "cell_type": "code",
   "execution_count": 262,
   "metadata": {},
   "outputs": [
    {
     "data": {
      "text/html": [
       "<div>\n",
       "<style scoped>\n",
       "    .dataframe tbody tr th:only-of-type {\n",
       "        vertical-align: middle;\n",
       "    }\n",
       "\n",
       "    .dataframe tbody tr th {\n",
       "        vertical-align: top;\n",
       "    }\n",
       "\n",
       "    .dataframe thead th {\n",
       "        text-align: right;\n",
       "    }\n",
       "</style>\n",
       "<table border=\"1\" class=\"dataframe\">\n",
       "  <thead>\n",
       "    <tr style=\"text-align: right;\">\n",
       "      <th></th>\n",
       "      <th>age</th>\n",
       "      <th>fare</th>\n",
       "    </tr>\n",
       "  </thead>\n",
       "  <tbody>\n",
       "    <tr>\n",
       "      <th>0</th>\n",
       "      <td>22.0</td>\n",
       "      <td>7.2500</td>\n",
       "    </tr>\n",
       "    <tr>\n",
       "      <th>1</th>\n",
       "      <td>38.0</td>\n",
       "      <td>71.2833</td>\n",
       "    </tr>\n",
       "    <tr>\n",
       "      <th>2</th>\n",
       "      <td>26.0</td>\n",
       "      <td>7.9250</td>\n",
       "    </tr>\n",
       "    <tr>\n",
       "      <th>3</th>\n",
       "      <td>35.0</td>\n",
       "      <td>53.1000</td>\n",
       "    </tr>\n",
       "    <tr>\n",
       "      <th>4</th>\n",
       "      <td>35.0</td>\n",
       "      <td>8.0500</td>\n",
       "    </tr>\n",
       "  </tbody>\n",
       "</table>\n",
       "</div>"
      ],
      "text/plain": [
       "    age     fare\n",
       "0  22.0   7.2500\n",
       "1  38.0  71.2833\n",
       "2  26.0   7.9250\n",
       "3  35.0  53.1000\n",
       "4  35.0   8.0500"
      ]
     },
     "execution_count": 262,
     "metadata": {},
     "output_type": "execute_result"
    }
   ],
   "source": [
    "#titanic의 age,fare 컬럼만 df 데이터에 저장하기\n",
    "df=titanic[[\"age\",\"fare\"]]\n",
    "df.head()"
   ]
  },
  {
   "cell_type": "code",
   "execution_count": 263,
   "metadata": {},
   "outputs": [
    {
     "name": "stdout",
     "output_type": "stream",
     "text": [
      "<class 'pandas.core.frame.DataFrame'>\n",
      "RangeIndex: 891 entries, 0 to 890\n",
      "Data columns (total 2 columns):\n",
      " #   Column  Non-Null Count  Dtype  \n",
      "---  ------  --------------  -----  \n",
      " 0   age     714 non-null    float64\n",
      " 1   fare    891 non-null    float64\n",
      "dtypes: float64(2)\n",
      "memory usage: 14.1 KB\n"
     ]
    }
   ],
   "source": [
    "df.info()"
   ]
  },
  {
   "cell_type": "code",
   "execution_count": 264,
   "metadata": {},
   "outputs": [
    {
     "data": {
      "text/plain": [
       "age     29.699118\n",
       "fare    32.204208\n",
       "dtype: float64"
      ]
     },
     "execution_count": 264,
     "metadata": {},
     "output_type": "execute_result"
    }
   ],
   "source": [
    "#df 데이터의 평균출력하기\n",
    "df.mean()"
   ]
  },
  {
   "cell_type": "code",
   "execution_count": 265,
   "metadata": {},
   "outputs": [
    {
     "name": "stdout",
     "output_type": "stream",
     "text": [
      "최대나이: 80.0\n",
      "최소나이: 0.42\n"
     ]
    }
   ],
   "source": [
    "#최대 나이, 최소나이를 조회하기\n",
    "print(\"최대나이:\",df.age.max())\n",
    "print(\"최소나이:\",df.age.min())"
   ]
  },
  {
   "cell_type": "code",
   "execution_count": 267,
   "metadata": {},
   "outputs": [
    {
     "name": "stdout",
     "output_type": "stream",
     "text": [
      "<class 'pandas.core.series.Series'>\n"
     ]
    }
   ],
   "source": [
    "#나이별 인원수 조회. \n",
    "#value_counts() : 데이터별 레코드 건수를 건수의 내림차순으로 정렬 출력\n",
    "df.age.value_counts()\n",
    "print(type(df.age.value_counts()))"
   ]
  },
  {
   "cell_type": "code",
   "execution_count": 269,
   "metadata": {},
   "outputs": [
    {
     "data": {
      "text/plain": [
       "age\n",
       "24.0    30\n",
       "22.0    27\n",
       "18.0    26\n",
       "28.0    25\n",
       "30.0    25\n",
       "19.0    25\n",
       "21.0    24\n",
       "25.0    23\n",
       "36.0    22\n",
       "29.0    20\n",
       "Name: count, dtype: int64"
      ]
     },
     "execution_count": 269,
     "metadata": {},
     "output_type": "execute_result"
    }
   ],
   "source": [
    "#인원수가 많은 나이 10개 조회하기\n",
    "df.age.value_counts().head(10)"
   ]
  },
  {
   "cell_type": "code",
   "execution_count": 271,
   "metadata": {},
   "outputs": [
    {
     "name": "stdout",
     "output_type": "stream",
     "text": [
      "      age  fare\n",
      "630  80.0  30.0\n",
      "     survived  pclass   sex   age  sibsp  parch  fare embarked  class  who  \\\n",
      "630         1       1  male  80.0      0      0  30.0        S  First  man   \n",
      "\n",
      "     adult_male deck  embark_town alive  alone  \n",
      "630        True    A  Southampton   yes   True  \n"
     ]
    }
   ],
   "source": [
    "#승객 중 최고령자 정보 조회하기\n",
    "print(df[df[\"age\"]==df[\"age\"].max()])\n",
    "print(titanic[df[\"age\"]==df[\"age\"].max()])"
   ]
  },
  {
   "cell_type": "code",
   "execution_count": 274,
   "metadata": {},
   "outputs": [
    {
     "name": "stdout",
     "output_type": "stream",
     "text": [
      "survived\n",
      "0    549\n",
      "1    342\n",
      "Name: count, dtype: int64\n",
      "alive\n",
      "no     549\n",
      "yes    342\n",
      "Name: count, dtype: int64\n"
     ]
    }
   ],
   "source": [
    "#titanic 데이터에서 생존인원수와 사망인원수 조회하기\n",
    "print(titanic[\"survived\"].value_counts())\n",
    "print(titanic[\"alive\"].value_counts())"
   ]
  },
  {
   "cell_type": "code",
   "execution_count": 275,
   "metadata": {},
   "outputs": [
    {
     "name": "stdout",
     "output_type": "stream",
     "text": [
      "sex\n",
      "male      577\n",
      "female    314\n",
      "Name: count, dtype: int64\n",
      "who\n",
      "man      537\n",
      "woman    271\n",
      "child     83\n",
      "Name: count, dtype: int64\n"
     ]
    }
   ],
   "source": [
    "#성별 인원수 조회하기\n",
    "print(titanic[\"sex\"].value_counts())\n",
    "print(titanic[\"who\"].value_counts())"
   ]
  },
  {
   "cell_type": "code",
   "execution_count": 276,
   "metadata": {},
   "outputs": [
    {
     "name": "stdout",
     "output_type": "stream",
     "text": [
      "sex     survived\n",
      "male    0           468\n",
      "female  1           233\n",
      "male    1           109\n",
      "female  0            81\n",
      "Name: count, dtype: int64\n"
     ]
    }
   ],
   "source": [
    "#성별로 생존 건수 조회하기\n",
    "cnt = titanic[[\"sex\",\"survived\"]].value_counts()\n",
    "print(cnt)"
   ]
  },
  {
   "cell_type": "code",
   "execution_count": 277,
   "metadata": {},
   "outputs": [
    {
     "name": "stdout",
     "output_type": "stream",
     "text": [
      "who    survived\n",
      "man    0           449\n",
      "woman  1           205\n",
      "man    1            88\n",
      "woman  0            66\n",
      "child  1            49\n",
      "       0            34\n",
      "Name: count, dtype: int64\n"
     ]
    }
   ],
   "source": [
    "cnt = titanic[[\"who\",\"survived\"]].value_counts()\n",
    "print(cnt)"
   ]
  },
  {
   "cell_type": "code",
   "execution_count": 280,
   "metadata": {},
   "outputs": [
    {
     "name": "stdout",
     "output_type": "stream",
     "text": [
      "<class 'pandas.core.series.Series'>\n",
      "MultiIndex([(  'man', 0),\n",
      "            ('woman', 1),\n",
      "            (  'man', 1),\n",
      "            ('woman', 0),\n",
      "            ('child', 1),\n",
      "            ('child', 0)],\n",
      "           names=['who', 'survived'])\n"
     ]
    }
   ],
   "source": [
    "print(type(cnt))\n",
    "print(cnt.index)"
   ]
  },
  {
   "cell_type": "markdown",
   "metadata": {},
   "source": [
    "컬럼 : 변수,피처 용어사용\n",
    "빅데이터 특징\n",
    "  3V\n",
    "  1. Volume(규모) : 데이터 양이 많다\n",
    "  2. Velocity(속도) : 처리 속도가 빨라야 한다.\n",
    "  3. Variety(다양성) : 데이터의 형태가 다양함\n",
    "      정형데이터 : 데이터베이스, csv, excel, 표데이터\n",
    "      반정형 데이터 : json, xml, html,....\n",
    "      비정형 데이터 : 동영상, 이미지"
   ]
  },
  {
   "cell_type": "code",
   "execution_count": 282,
   "metadata": {},
   "outputs": [
    {
     "data": {
      "text/html": [
       "<div>\n",
       "<style scoped>\n",
       "    .dataframe tbody tr th:only-of-type {\n",
       "        vertical-align: middle;\n",
       "    }\n",
       "\n",
       "    .dataframe tbody tr th {\n",
       "        vertical-align: top;\n",
       "    }\n",
       "\n",
       "    .dataframe thead th {\n",
       "        text-align: right;\n",
       "    }\n",
       "</style>\n",
       "<table border=\"1\" class=\"dataframe\">\n",
       "  <thead>\n",
       "    <tr style=\"text-align: right;\">\n",
       "      <th></th>\n",
       "      <th>survived</th>\n",
       "      <th>age</th>\n",
       "    </tr>\n",
       "  </thead>\n",
       "  <tbody>\n",
       "    <tr>\n",
       "      <th>survived</th>\n",
       "      <td>1.000000</td>\n",
       "      <td>-0.077221</td>\n",
       "    </tr>\n",
       "    <tr>\n",
       "      <th>age</th>\n",
       "      <td>-0.077221</td>\n",
       "      <td>1.000000</td>\n",
       "    </tr>\n",
       "  </tbody>\n",
       "</table>\n",
       "</div>"
      ],
      "text/plain": [
       "          survived       age\n",
       "survived  1.000000 -0.077221\n",
       "age      -0.077221  1.000000"
      ]
     },
     "execution_count": 282,
     "metadata": {},
     "output_type": "execute_result"
    }
   ],
   "source": [
    "#상관계수 : -1 ~ 1 사이의 값. 컬럼들 사이의 상관관계를 수치로 표현함\n",
    "#          한개의 컬럼의 값이 1이 변경되면 다른 컬럼도 1이 변경되는 경우 1    \n",
    "\n",
    "titanic[[\"survived\",\"age\"]].corr()       "
   ]
  },
  {
   "cell_type": "markdown",
   "metadata": {},
   "source": [
    "mpg : 연비\n",
    "cylinders : 실린더 수\n",
    "displacement : 배기량\n",
    "horsepower : 출력\n",
    "weight : 차량무게\n",
    "acceleration : 가속능력\n",
    "model_year : 출시년도\n",
    "origin : 제조국\n",
    "name : 모델명\n"
   ]
  },
  {
   "cell_type": "code",
   "execution_count": 283,
   "metadata": {},
   "outputs": [
    {
     "data": {
      "text/html": [
       "<div>\n",
       "<style scoped>\n",
       "    .dataframe tbody tr th:only-of-type {\n",
       "        vertical-align: middle;\n",
       "    }\n",
       "\n",
       "    .dataframe tbody tr th {\n",
       "        vertical-align: top;\n",
       "    }\n",
       "\n",
       "    .dataframe thead th {\n",
       "        text-align: right;\n",
       "    }\n",
       "</style>\n",
       "<table border=\"1\" class=\"dataframe\">\n",
       "  <thead>\n",
       "    <tr style=\"text-align: right;\">\n",
       "      <th></th>\n",
       "      <th>mpg</th>\n",
       "      <th>cylinders</th>\n",
       "      <th>displacement</th>\n",
       "      <th>horsepower</th>\n",
       "      <th>weight</th>\n",
       "      <th>acceleration</th>\n",
       "      <th>model_year</th>\n",
       "      <th>origin</th>\n",
       "      <th>name</th>\n",
       "    </tr>\n",
       "  </thead>\n",
       "  <tbody>\n",
       "    <tr>\n",
       "      <th>0</th>\n",
       "      <td>18.0</td>\n",
       "      <td>8</td>\n",
       "      <td>307.0</td>\n",
       "      <td>130.0</td>\n",
       "      <td>3504</td>\n",
       "      <td>12.0</td>\n",
       "      <td>70</td>\n",
       "      <td>usa</td>\n",
       "      <td>chevrolet chevelle malibu</td>\n",
       "    </tr>\n",
       "    <tr>\n",
       "      <th>1</th>\n",
       "      <td>15.0</td>\n",
       "      <td>8</td>\n",
       "      <td>350.0</td>\n",
       "      <td>165.0</td>\n",
       "      <td>3693</td>\n",
       "      <td>11.5</td>\n",
       "      <td>70</td>\n",
       "      <td>usa</td>\n",
       "      <td>buick skylark 320</td>\n",
       "    </tr>\n",
       "    <tr>\n",
       "      <th>2</th>\n",
       "      <td>18.0</td>\n",
       "      <td>8</td>\n",
       "      <td>318.0</td>\n",
       "      <td>150.0</td>\n",
       "      <td>3436</td>\n",
       "      <td>11.0</td>\n",
       "      <td>70</td>\n",
       "      <td>usa</td>\n",
       "      <td>plymouth satellite</td>\n",
       "    </tr>\n",
       "    <tr>\n",
       "      <th>3</th>\n",
       "      <td>16.0</td>\n",
       "      <td>8</td>\n",
       "      <td>304.0</td>\n",
       "      <td>150.0</td>\n",
       "      <td>3433</td>\n",
       "      <td>12.0</td>\n",
       "      <td>70</td>\n",
       "      <td>usa</td>\n",
       "      <td>amc rebel sst</td>\n",
       "    </tr>\n",
       "    <tr>\n",
       "      <th>4</th>\n",
       "      <td>17.0</td>\n",
       "      <td>8</td>\n",
       "      <td>302.0</td>\n",
       "      <td>140.0</td>\n",
       "      <td>3449</td>\n",
       "      <td>10.5</td>\n",
       "      <td>70</td>\n",
       "      <td>usa</td>\n",
       "      <td>ford torino</td>\n",
       "    </tr>\n",
       "  </tbody>\n",
       "</table>\n",
       "</div>"
      ],
      "text/plain": [
       "    mpg  cylinders  displacement  horsepower  weight  acceleration  \\\n",
       "0  18.0          8         307.0       130.0    3504          12.0   \n",
       "1  15.0          8         350.0       165.0    3693          11.5   \n",
       "2  18.0          8         318.0       150.0    3436          11.0   \n",
       "3  16.0          8         304.0       150.0    3433          12.0   \n",
       "4  17.0          8         302.0       140.0    3449          10.5   \n",
       "\n",
       "   model_year origin                       name  \n",
       "0          70    usa  chevrolet chevelle malibu  \n",
       "1          70    usa          buick skylark 320  \n",
       "2          70    usa         plymouth satellite  \n",
       "3          70    usa              amc rebel sst  \n",
       "4          70    usa                ford torino  "
      ]
     },
     "execution_count": 283,
     "metadata": {},
     "output_type": "execute_result"
    }
   ],
   "source": [
    "#연비 데이터 seaborn 에서 가져오기\n",
    "mpg = sns.load_dataset(\"mpg\")\n",
    "mpg.head()"
   ]
  },
  {
   "cell_type": "code",
   "execution_count": 284,
   "metadata": {},
   "outputs": [
    {
     "name": "stdout",
     "output_type": "stream",
     "text": [
      "<class 'pandas.core.frame.DataFrame'>\n",
      "RangeIndex: 398 entries, 0 to 397\n",
      "Data columns (total 9 columns):\n",
      " #   Column        Non-Null Count  Dtype  \n",
      "---  ------        --------------  -----  \n",
      " 0   mpg           398 non-null    float64\n",
      " 1   cylinders     398 non-null    int64  \n",
      " 2   displacement  398 non-null    float64\n",
      " 3   horsepower    392 non-null    float64\n",
      " 4   weight        398 non-null    int64  \n",
      " 5   acceleration  398 non-null    float64\n",
      " 6   model_year    398 non-null    int64  \n",
      " 7   origin        398 non-null    object \n",
      " 8   name          398 non-null    object \n",
      "dtypes: float64(4), int64(3), object(2)\n",
      "memory usage: 28.1+ KB\n"
     ]
    }
   ],
   "source": [
    "mpg.info()"
   ]
  },
  {
   "cell_type": "code",
   "execution_count": 285,
   "metadata": {},
   "outputs": [
    {
     "data": {
      "text/plain": [
       "origin\n",
       "usa       249\n",
       "japan      79\n",
       "europe     70\n",
       "Name: count, dtype: int64"
      ]
     },
     "execution_count": 285,
     "metadata": {},
     "output_type": "execute_result"
    }
   ],
   "source": [
    "#제조국별 자동차 건수 조회하기\n",
    "mpg.origin.value_counts()"
   ]
  },
  {
   "cell_type": "code",
   "execution_count": 286,
   "metadata": {},
   "outputs": [
    {
     "data": {
      "text/plain": [
       "array(['usa', 'japan', 'europe'], dtype=object)"
      ]
     },
     "execution_count": 286,
     "metadata": {},
     "output_type": "execute_result"
    }
   ],
   "source": [
    "#unique() : 중복없이 데이터 조회하기\n",
    "mpg.origin.unique()"
   ]
  },
  {
   "cell_type": "code",
   "execution_count": 288,
   "metadata": {},
   "outputs": [
    {
     "data": {
      "text/plain": [
       "model_year\n",
       "73    40\n",
       "78    36\n",
       "76    34\n",
       "82    31\n",
       "75    30\n",
       "80    29\n",
       "79    29\n",
       "81    29\n",
       "70    29\n",
       "71    28\n",
       "72    28\n",
       "77    28\n",
       "74    27\n",
       "Name: count, dtype: int64"
      ]
     },
     "execution_count": 288,
     "metadata": {},
     "output_type": "execute_result"
    }
   ],
   "source": [
    "#출시년도 데이터를 중복없이 조회하기\n",
    "mpg.model_year.unique()\n",
    "mpg.model_year.value_counts()"
   ]
  },
  {
   "cell_type": "code",
   "execution_count": 289,
   "metadata": {},
   "outputs": [
    {
     "data": {
      "text/html": [
       "<div>\n",
       "<style scoped>\n",
       "    .dataframe tbody tr th:only-of-type {\n",
       "        vertical-align: middle;\n",
       "    }\n",
       "\n",
       "    .dataframe tbody tr th {\n",
       "        vertical-align: top;\n",
       "    }\n",
       "\n",
       "    .dataframe thead th {\n",
       "        text-align: right;\n",
       "    }\n",
       "</style>\n",
       "<table border=\"1\" class=\"dataframe\">\n",
       "  <thead>\n",
       "    <tr style=\"text-align: right;\">\n",
       "      <th></th>\n",
       "      <th>mpg</th>\n",
       "      <th>cylinders</th>\n",
       "      <th>displacement</th>\n",
       "      <th>horsepower</th>\n",
       "      <th>weight</th>\n",
       "      <th>acceleration</th>\n",
       "      <th>model_year</th>\n",
       "    </tr>\n",
       "  </thead>\n",
       "  <tbody>\n",
       "    <tr>\n",
       "      <th>count</th>\n",
       "      <td>398.000000</td>\n",
       "      <td>398.000000</td>\n",
       "      <td>398.000000</td>\n",
       "      <td>392.000000</td>\n",
       "      <td>398.000000</td>\n",
       "      <td>398.000000</td>\n",
       "      <td>398.000000</td>\n",
       "    </tr>\n",
       "    <tr>\n",
       "      <th>mean</th>\n",
       "      <td>23.514573</td>\n",
       "      <td>5.454774</td>\n",
       "      <td>193.425879</td>\n",
       "      <td>104.469388</td>\n",
       "      <td>2970.424623</td>\n",
       "      <td>15.568090</td>\n",
       "      <td>76.010050</td>\n",
       "    </tr>\n",
       "    <tr>\n",
       "      <th>std</th>\n",
       "      <td>7.815984</td>\n",
       "      <td>1.701004</td>\n",
       "      <td>104.269838</td>\n",
       "      <td>38.491160</td>\n",
       "      <td>846.841774</td>\n",
       "      <td>2.757689</td>\n",
       "      <td>3.697627</td>\n",
       "    </tr>\n",
       "    <tr>\n",
       "      <th>min</th>\n",
       "      <td>9.000000</td>\n",
       "      <td>3.000000</td>\n",
       "      <td>68.000000</td>\n",
       "      <td>46.000000</td>\n",
       "      <td>1613.000000</td>\n",
       "      <td>8.000000</td>\n",
       "      <td>70.000000</td>\n",
       "    </tr>\n",
       "    <tr>\n",
       "      <th>25%</th>\n",
       "      <td>17.500000</td>\n",
       "      <td>4.000000</td>\n",
       "      <td>104.250000</td>\n",
       "      <td>75.000000</td>\n",
       "      <td>2223.750000</td>\n",
       "      <td>13.825000</td>\n",
       "      <td>73.000000</td>\n",
       "    </tr>\n",
       "    <tr>\n",
       "      <th>50%</th>\n",
       "      <td>23.000000</td>\n",
       "      <td>4.000000</td>\n",
       "      <td>148.500000</td>\n",
       "      <td>93.500000</td>\n",
       "      <td>2803.500000</td>\n",
       "      <td>15.500000</td>\n",
       "      <td>76.000000</td>\n",
       "    </tr>\n",
       "    <tr>\n",
       "      <th>75%</th>\n",
       "      <td>29.000000</td>\n",
       "      <td>8.000000</td>\n",
       "      <td>262.000000</td>\n",
       "      <td>126.000000</td>\n",
       "      <td>3608.000000</td>\n",
       "      <td>17.175000</td>\n",
       "      <td>79.000000</td>\n",
       "    </tr>\n",
       "    <tr>\n",
       "      <th>max</th>\n",
       "      <td>46.600000</td>\n",
       "      <td>8.000000</td>\n",
       "      <td>455.000000</td>\n",
       "      <td>230.000000</td>\n",
       "      <td>5140.000000</td>\n",
       "      <td>24.800000</td>\n",
       "      <td>82.000000</td>\n",
       "    </tr>\n",
       "  </tbody>\n",
       "</table>\n",
       "</div>"
      ],
      "text/plain": [
       "              mpg   cylinders  displacement  horsepower       weight  \\\n",
       "count  398.000000  398.000000    398.000000  392.000000   398.000000   \n",
       "mean    23.514573    5.454774    193.425879  104.469388  2970.424623   \n",
       "std      7.815984    1.701004    104.269838   38.491160   846.841774   \n",
       "min      9.000000    3.000000     68.000000   46.000000  1613.000000   \n",
       "25%     17.500000    4.000000    104.250000   75.000000  2223.750000   \n",
       "50%     23.000000    4.000000    148.500000   93.500000  2803.500000   \n",
       "75%     29.000000    8.000000    262.000000  126.000000  3608.000000   \n",
       "max     46.600000    8.000000    455.000000  230.000000  5140.000000   \n",
       "\n",
       "       acceleration  model_year  \n",
       "count    398.000000  398.000000  \n",
       "mean      15.568090   76.010050  \n",
       "std        2.757689    3.697627  \n",
       "min        8.000000   70.000000  \n",
       "25%       13.825000   73.000000  \n",
       "50%       15.500000   76.000000  \n",
       "75%       17.175000   79.000000  \n",
       "max       24.800000   82.000000  "
      ]
     },
     "execution_count": 289,
     "metadata": {},
     "output_type": "execute_result"
    }
   ],
   "source": [
    "mpg.describe()"
   ]
  },
  {
   "cell_type": "code",
   "execution_count": 290,
   "metadata": {},
   "outputs": [
    {
     "data": {
      "text/html": [
       "<div>\n",
       "<style scoped>\n",
       "    .dataframe tbody tr th:only-of-type {\n",
       "        vertical-align: middle;\n",
       "    }\n",
       "\n",
       "    .dataframe tbody tr th {\n",
       "        vertical-align: top;\n",
       "    }\n",
       "\n",
       "    .dataframe thead th {\n",
       "        text-align: right;\n",
       "    }\n",
       "</style>\n",
       "<table border=\"1\" class=\"dataframe\">\n",
       "  <thead>\n",
       "    <tr style=\"text-align: right;\">\n",
       "      <th></th>\n",
       "      <th>mpg</th>\n",
       "      <th>cylinders</th>\n",
       "      <th>displacement</th>\n",
       "      <th>horsepower</th>\n",
       "      <th>weight</th>\n",
       "      <th>acceleration</th>\n",
       "      <th>model_year</th>\n",
       "      <th>origin</th>\n",
       "      <th>name</th>\n",
       "    </tr>\n",
       "  </thead>\n",
       "  <tbody>\n",
       "    <tr>\n",
       "      <th>count</th>\n",
       "      <td>398.000000</td>\n",
       "      <td>398.000000</td>\n",
       "      <td>398.000000</td>\n",
       "      <td>392.000000</td>\n",
       "      <td>398.000000</td>\n",
       "      <td>398.000000</td>\n",
       "      <td>398.000000</td>\n",
       "      <td>398</td>\n",
       "      <td>398</td>\n",
       "    </tr>\n",
       "    <tr>\n",
       "      <th>unique</th>\n",
       "      <td>NaN</td>\n",
       "      <td>NaN</td>\n",
       "      <td>NaN</td>\n",
       "      <td>NaN</td>\n",
       "      <td>NaN</td>\n",
       "      <td>NaN</td>\n",
       "      <td>NaN</td>\n",
       "      <td>3</td>\n",
       "      <td>305</td>\n",
       "    </tr>\n",
       "    <tr>\n",
       "      <th>top</th>\n",
       "      <td>NaN</td>\n",
       "      <td>NaN</td>\n",
       "      <td>NaN</td>\n",
       "      <td>NaN</td>\n",
       "      <td>NaN</td>\n",
       "      <td>NaN</td>\n",
       "      <td>NaN</td>\n",
       "      <td>usa</td>\n",
       "      <td>ford pinto</td>\n",
       "    </tr>\n",
       "    <tr>\n",
       "      <th>freq</th>\n",
       "      <td>NaN</td>\n",
       "      <td>NaN</td>\n",
       "      <td>NaN</td>\n",
       "      <td>NaN</td>\n",
       "      <td>NaN</td>\n",
       "      <td>NaN</td>\n",
       "      <td>NaN</td>\n",
       "      <td>249</td>\n",
       "      <td>6</td>\n",
       "    </tr>\n",
       "    <tr>\n",
       "      <th>mean</th>\n",
       "      <td>23.514573</td>\n",
       "      <td>5.454774</td>\n",
       "      <td>193.425879</td>\n",
       "      <td>104.469388</td>\n",
       "      <td>2970.424623</td>\n",
       "      <td>15.568090</td>\n",
       "      <td>76.010050</td>\n",
       "      <td>NaN</td>\n",
       "      <td>NaN</td>\n",
       "    </tr>\n",
       "    <tr>\n",
       "      <th>std</th>\n",
       "      <td>7.815984</td>\n",
       "      <td>1.701004</td>\n",
       "      <td>104.269838</td>\n",
       "      <td>38.491160</td>\n",
       "      <td>846.841774</td>\n",
       "      <td>2.757689</td>\n",
       "      <td>3.697627</td>\n",
       "      <td>NaN</td>\n",
       "      <td>NaN</td>\n",
       "    </tr>\n",
       "    <tr>\n",
       "      <th>min</th>\n",
       "      <td>9.000000</td>\n",
       "      <td>3.000000</td>\n",
       "      <td>68.000000</td>\n",
       "      <td>46.000000</td>\n",
       "      <td>1613.000000</td>\n",
       "      <td>8.000000</td>\n",
       "      <td>70.000000</td>\n",
       "      <td>NaN</td>\n",
       "      <td>NaN</td>\n",
       "    </tr>\n",
       "    <tr>\n",
       "      <th>25%</th>\n",
       "      <td>17.500000</td>\n",
       "      <td>4.000000</td>\n",
       "      <td>104.250000</td>\n",
       "      <td>75.000000</td>\n",
       "      <td>2223.750000</td>\n",
       "      <td>13.825000</td>\n",
       "      <td>73.000000</td>\n",
       "      <td>NaN</td>\n",
       "      <td>NaN</td>\n",
       "    </tr>\n",
       "    <tr>\n",
       "      <th>50%</th>\n",
       "      <td>23.000000</td>\n",
       "      <td>4.000000</td>\n",
       "      <td>148.500000</td>\n",
       "      <td>93.500000</td>\n",
       "      <td>2803.500000</td>\n",
       "      <td>15.500000</td>\n",
       "      <td>76.000000</td>\n",
       "      <td>NaN</td>\n",
       "      <td>NaN</td>\n",
       "    </tr>\n",
       "    <tr>\n",
       "      <th>75%</th>\n",
       "      <td>29.000000</td>\n",
       "      <td>8.000000</td>\n",
       "      <td>262.000000</td>\n",
       "      <td>126.000000</td>\n",
       "      <td>3608.000000</td>\n",
       "      <td>17.175000</td>\n",
       "      <td>79.000000</td>\n",
       "      <td>NaN</td>\n",
       "      <td>NaN</td>\n",
       "    </tr>\n",
       "    <tr>\n",
       "      <th>max</th>\n",
       "      <td>46.600000</td>\n",
       "      <td>8.000000</td>\n",
       "      <td>455.000000</td>\n",
       "      <td>230.000000</td>\n",
       "      <td>5140.000000</td>\n",
       "      <td>24.800000</td>\n",
       "      <td>82.000000</td>\n",
       "      <td>NaN</td>\n",
       "      <td>NaN</td>\n",
       "    </tr>\n",
       "  </tbody>\n",
       "</table>\n",
       "</div>"
      ],
      "text/plain": [
       "               mpg   cylinders  displacement  horsepower       weight  \\\n",
       "count   398.000000  398.000000    398.000000  392.000000   398.000000   \n",
       "unique         NaN         NaN           NaN         NaN          NaN   \n",
       "top            NaN         NaN           NaN         NaN          NaN   \n",
       "freq           NaN         NaN           NaN         NaN          NaN   \n",
       "mean     23.514573    5.454774    193.425879  104.469388  2970.424623   \n",
       "std       7.815984    1.701004    104.269838   38.491160   846.841774   \n",
       "min       9.000000    3.000000     68.000000   46.000000  1613.000000   \n",
       "25%      17.500000    4.000000    104.250000   75.000000  2223.750000   \n",
       "50%      23.000000    4.000000    148.500000   93.500000  2803.500000   \n",
       "75%      29.000000    8.000000    262.000000  126.000000  3608.000000   \n",
       "max      46.600000    8.000000    455.000000  230.000000  5140.000000   \n",
       "\n",
       "        acceleration  model_year origin        name  \n",
       "count     398.000000  398.000000    398         398  \n",
       "unique           NaN         NaN      3         305  \n",
       "top              NaN         NaN    usa  ford pinto  \n",
       "freq             NaN         NaN    249           6  \n",
       "mean       15.568090   76.010050    NaN         NaN  \n",
       "std         2.757689    3.697627    NaN         NaN  \n",
       "min         8.000000   70.000000    NaN         NaN  \n",
       "25%        13.825000   73.000000    NaN         NaN  \n",
       "50%        15.500000   76.000000    NaN         NaN  \n",
       "75%        17.175000   79.000000    NaN         NaN  \n",
       "max        24.800000   82.000000    NaN         NaN  "
      ]
     },
     "execution_count": 290,
     "metadata": {},
     "output_type": "execute_result"
    }
   ],
   "source": [
    "mpg.describe(include=\"all\")"
   ]
  },
  {
   "cell_type": "code",
   "execution_count": 294,
   "metadata": {},
   "outputs": [
    {
     "data": {
      "text/plain": [
       "mpg             float64\n",
       "cylinders         int64\n",
       "displacement    float64\n",
       "horsepower      float64\n",
       "weight            int64\n",
       "acceleration    float64\n",
       "model_year        int64\n",
       "origin           object\n",
       "name             object\n",
       "dtype: object"
      ]
     },
     "execution_count": 294,
     "metadata": {},
     "output_type": "execute_result"
    }
   ],
   "source": [
    "mpg.shape  #(행,열)\n",
    "mpg.shape[0]  #행의 갯수\n",
    "mpg.shape[1]  #열의 갯수\n",
    "mpg.dtypes"
   ]
  },
  {
   "cell_type": "code",
   "execution_count": 295,
   "metadata": {},
   "outputs": [
    {
     "name": "stdout",
     "output_type": "stream",
     "text": [
      "<class 'pandas.core.series.Series'>\n"
     ]
    }
   ],
   "source": [
    "print(type(mpg.dtypes))"
   ]
  },
  {
   "cell_type": "code",
   "execution_count": 297,
   "metadata": {},
   "outputs": [
    {
     "data": {
      "text/plain": [
       "dtype('float64')"
      ]
     },
     "execution_count": 297,
     "metadata": {},
     "output_type": "execute_result"
    }
   ],
   "source": [
    "#mpg 컬럼의 자료형 조회하기\n",
    "mpg.dtypes[\"mpg\"]\n",
    "mpg[\"mpg\"].dtypes"
   ]
  },
  {
   "cell_type": "code",
   "execution_count": 302,
   "metadata": {},
   "outputs": [
    {
     "name": "stdout",
     "output_type": "stream",
     "text": [
      "      mpg  cylinders  displacement  horsepower  weight  acceleration  \\\n",
      "322  46.6          4          86.0        65.0    2110          17.9   \n",
      "\n",
      "     model_year origin       name  \n",
      "322          80  japan  mazda glc  \n",
      "    mpg  cylinders  displacement  horsepower  weight  acceleration  \\\n",
      "28  9.0          8         304.0       193.0    4732          18.5   \n",
      "\n",
      "    model_year origin      name  \n",
      "28          70    usa  hi 1200d  \n"
     ]
    }
   ],
   "source": [
    "#최대 연비를 가진 자동차의 정보 조회하기\n",
    "print(mpg[mpg[\"mpg\"] == mpg.mpg.max()])\n",
    "#최소 연비를 가진 자동차의 정보 조회하기\n",
    "print(mpg[mpg[\"mpg\"] == mpg.mpg.min()])"
   ]
  }
 ],
 "metadata": {
  "kernelspec": {
   "display_name": "base",
   "language": "python",
   "name": "python3"
  },
  "language_info": {
   "codemirror_mode": {
    "name": "ipython",
    "version": 3
   },
   "file_extension": ".py",
   "mimetype": "text/x-python",
   "name": "python",
   "nbconvert_exporter": "python",
   "pygments_lexer": "ipython3",
   "version": "3.12.4"
  }
 },
 "nbformat": 4,
 "nbformat_minor": 2
}

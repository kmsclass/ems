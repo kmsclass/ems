{
 "cells": [
  {
   "cell_type": "markdown",
   "metadata": {},
   "source": [
    "print(값) : 화면(콘솔)출력\n",
    "print(값1,값2,...) : 여러개의 값을 출력\n",
    "print(f\"{변수}\") : 변수값을 출력\n",
    "print(\"{%d, %s}\" % (값1,값2,...))\n",
    "print(\"{0:d},{1:d}\".format (값1,값2,...))\n",
    "\n",
    "조건문 : if, if [else] , if [elif elif... else]\n",
    "        들여쓰기\n",
    "         조건연산자 :   값 if(조건문) else 값        \n",
    "반복문 : for : range(초기값, 종료값+(+-1),[증감값])\n",
    "               증감값 : 기본값 1\n",
    "        while : 조건식. 조건식의 결과가 참인 동안 반복  "
   ]
  },
  {
   "cell_type": "code",
   "execution_count": 1,
   "metadata": {},
   "outputs": [
    {
     "name": "stdout",
     "output_type": "stream",
     "text": [
      "요\n"
     ]
    }
   ],
   "source": [
    "print(\"안녕하세요\"[4]) #4번인덱스. 5번째 문자"
   ]
  },
  {
   "cell_type": "code",
   "execution_count": 2,
   "metadata": {},
   "outputs": [
    {
     "name": "stdout",
     "output_type": "stream",
     "text": [
      "요\n"
     ]
    }
   ],
   "source": [
    "print(\"안녕하세요\"[-1]) #마지막 문자. 마지막 인덱스의 문자"
   ]
  },
  {
   "cell_type": "code",
   "execution_count": 3,
   "metadata": {},
   "outputs": [
    {
     "name": "stdout",
     "output_type": "stream",
     "text": [
      "세\n"
     ]
    }
   ],
   "source": [
    "print(\"안녕하세요\"[-2]) #끝에서 2번째 문자"
   ]
  },
  {
   "cell_type": "code",
   "execution_count": 4,
   "metadata": {},
   "outputs": [
    {
     "name": "stdout",
     "output_type": "stream",
     "text": [
      "녕하\n"
     ]
    }
   ],
   "source": [
    "print(\"안녕하세요\"[1:3]) #1번인덱스문자에서 2번인덱스 문자까지. 3은 포함안됨"
   ]
  },
  {
   "cell_type": "code",
   "execution_count": 5,
   "metadata": {},
   "outputs": [
    {
     "name": "stdout",
     "output_type": "stream",
     "text": [
      "안녕하\n"
     ]
    }
   ],
   "source": [
    "print(\"안녕하세요\"[:3]) #0번인덱스 부터 2번인덱스까지. 3은 포함 안됨"
   ]
  },
  {
   "cell_type": "code",
   "execution_count": 8,
   "metadata": {},
   "outputs": [
    {
     "name": "stdout",
     "output_type": "stream",
     "text": [
      "세요\n"
     ]
    }
   ],
   "source": [
    "print(\"안녕하세요\"[3::1]) #3번인덱스 부터 끝까지"
   ]
  },
  {
   "cell_type": "code",
   "execution_count": 9,
   "metadata": {},
   "outputs": [
    {
     "name": "stdout",
     "output_type": "stream",
     "text": [
      "안하요\n"
     ]
    }
   ],
   "source": [
    "print(\"안녕하세요\"[::2]) #1칸씩 건너서"
   ]
  },
  {
   "cell_type": "code",
   "execution_count": 10,
   "metadata": {},
   "outputs": [
    {
     "name": "stdout",
     "output_type": "stream",
     "text": [
      "요세하녕안\n"
     ]
    }
   ],
   "source": [
    "print(\"안녕하세요\"[::-1]) "
   ]
  },
  {
   "cell_type": "code",
   "execution_count": 11,
   "metadata": {},
   "outputs": [
    {
     "name": "stdout",
     "output_type": "stream",
     "text": [
      "요하안\n"
     ]
    }
   ],
   "source": [
    "print(\"안녕하세요\"[::-2]) "
   ]
  },
  {
   "cell_type": "code",
   "execution_count": 13,
   "metadata": {},
   "outputs": [
    {
     "name": "stdout",
     "output_type": "stream",
     "text": [
      "<class 'str'>\n"
     ]
    }
   ],
   "source": [
    "print(type(\"안녕하세요\")) #자료형 출력"
   ]
  },
  {
   "cell_type": "code",
   "execution_count": 14,
   "metadata": {},
   "outputs": [
    {
     "name": "stdout",
     "output_type": "stream",
     "text": [
      "5\n"
     ]
    }
   ],
   "source": [
    "print(len(\"안녕하세요\"))"
   ]
  },
  {
   "cell_type": "code",
   "execution_count": 16,
   "metadata": {},
   "outputs": [
    {
     "name": "stdout",
     "output_type": "stream",
     "text": [
      "l문자의 갯수: 2\n"
     ]
    }
   ],
   "source": [
    "#hello 문자열에 l 문자의 갯수 출력하기\n",
    "a=\"hello\"\n",
    "cnt = 0\n",
    "for i in range(0,len(a)) :\n",
    "    if a[i] == 'l' :\n",
    "        cnt += 1\n",
    "print(\"l문자의 갯수:\",cnt)        "
   ]
  },
  {
   "cell_type": "code",
   "execution_count": 19,
   "metadata": {},
   "outputs": [
    {
     "name": "stdout",
     "output_type": "stream",
     "text": [
      "l문자의 갯수: 2\n",
      "h문자의 갯수: 1\n",
      "a문자의 갯수: 0\n"
     ]
    }
   ],
   "source": [
    "#hello 문자열에 l 문자의 갯수 출력하기 : count() 함수\n",
    "print(\"l문자의 갯수:\",a.count('l'))\n",
    "print(\"h문자의 갯수:\",a.count('h'))\n",
    "print(\"a문자의 갯수:\",a.count('a'))"
   ]
  },
  {
   "cell_type": "code",
   "execution_count": 20,
   "metadata": {},
   "outputs": [
    {
     "name": "stdout",
     "output_type": "stream",
     "text": [
      "l문자의 인덱스: 2\n",
      "l문자의 인덱스: 2\n"
     ]
    }
   ],
   "source": [
    "# 문자열에서 문자의 위치값(인덱스) 출력하기 : find, index\n",
    "# hello\n",
    "print(\"l문자의 인덱스:\",a.find('l'))\n",
    "print(\"l문자의 인덱스:\",a.index('l'))"
   ]
  },
  {
   "cell_type": "code",
   "execution_count": 21,
   "metadata": {},
   "outputs": [
    {
     "name": "stdout",
     "output_type": "stream",
     "text": [
      "l문자의 인덱스: -1\n"
     ]
    }
   ],
   "source": [
    "#없는 문자 검색시 결과가 달라짐 : find 함수 : -1 리턴\n",
    "print(\"a문자의 인덱스:\",a.find('a'))"
   ]
  },
  {
   "cell_type": "code",
   "execution_count": 22,
   "metadata": {},
   "outputs": [
    {
     "ename": "ValueError",
     "evalue": "substring not found",
     "output_type": "error",
     "traceback": [
      "\u001b[1;31m---------------------------------------------------------------------------\u001b[0m",
      "\u001b[1;31mValueError\u001b[0m                                Traceback (most recent call last)",
      "Cell \u001b[1;32mIn[22], line 2\u001b[0m\n\u001b[0;32m      1\u001b[0m \u001b[38;5;66;03m#없는 문자 검색시 결과가 달라짐 : index 함수 : 오류 발생\u001b[39;00m\n\u001b[1;32m----> 2\u001b[0m \u001b[38;5;28mprint\u001b[39m(\u001b[38;5;124m\"\u001b[39m\u001b[38;5;124ml문자의 인덱스:\u001b[39m\u001b[38;5;124m\"\u001b[39m,\u001b[43ma\u001b[49m\u001b[38;5;241;43m.\u001b[39;49m\u001b[43mindex\u001b[49m\u001b[43m(\u001b[49m\u001b[38;5;124;43m'\u001b[39;49m\u001b[38;5;124;43ma\u001b[39;49m\u001b[38;5;124;43m'\u001b[39;49m\u001b[43m)\u001b[49m)\n",
      "\u001b[1;31mValueError\u001b[0m: substring not found"
     ]
    }
   ],
   "source": [
    "#없는 문자 검색시 결과가 달라짐 : index 함수 : 오류 발생\n",
    "print(\"a문자의 인덱스:\",a.index('a'))"
   ]
  },
  {
   "cell_type": "code",
   "execution_count": 24,
   "metadata": {},
   "outputs": [
    {
     "name": "stdout",
     "output_type": "stream",
     "text": [
      "3번인덱스부터 있는 'l'문자의 인덱스: 3\n",
      "3번인덱스부터 있는 'l'문자의 인덱스: 3\n"
     ]
    }
   ],
   "source": [
    "print(\"3번인덱스부터 있는 'l'문자의 인덱스:\",a.find('l',3))\n",
    "print(\"3번인덱스부터 있는 'l'문자의 인덱스:\",a.index('l',3))"
   ]
  },
  {
   "cell_type": "code",
   "execution_count": 29,
   "metadata": {},
   "outputs": [
    {
     "name": "stdout",
     "output_type": "stream",
     "text": [
      "AA :문자\n",
      "AA :문자 또는 숫자\n",
      "AA : 대문자\n"
     ]
    }
   ],
   "source": [
    "#문자열의 종류를 알려주는 함수\n",
    "ss = \"123\"\n",
    "ss = \"Aa123\"\n",
    "ss = \"Aa\"\n",
    "ss = \"AA\"\n",
    "if ss.isdigit() :\n",
    "    print(ss,\":숫자\")\n",
    "if ss.isalpha() :\n",
    "    print(ss,\":문자\")    \n",
    "if ss.isalnum() :\n",
    "    print(ss,\":문자 또는 숫자\")        \n",
    "if ss.isupper() :\n",
    "    print(ss,\": 대문자\")\n",
    "if ss.islower() :\n",
    "    print(ss,\": 소문자\")\n",
    "if ss.isspace() :\n",
    "    print(ss,\": 공백\")\n"
   ]
  },
  {
   "cell_type": "code",
   "execution_count": null,
   "metadata": {},
   "outputs": [],
   "source": [
    "#함수 \n",
    "# 지역변수 : 함수내부에서 사용되는 변수\n",
    "# 전역변수 : 모든함수에서 사용되는 변수"
   ]
  },
  {
   "cell_type": "code",
   "execution_count": 43,
   "metadata": {},
   "outputs": [],
   "source": [
    "#func1 함수 정의 : 메모리 저장. 실행은 호출되는 경우 실행 \n",
    "def func1() :\n",
    "    global gval\n",
    "    a=20    #지역변수\n",
    "    b=1000  #지역변수\n",
    "    gval = 200 #전역변수의 값을 200으로 변경\n",
    "    print(\"func1 함수 호출함:\",gval,a,b)"
   ]
  },
  {
   "cell_type": "code",
   "execution_count": 44,
   "metadata": {},
   "outputs": [],
   "source": [
    "#func2 함수 정의 : 메모리 저장. 실행은 호출되는 경우 실행 \n",
    "def func2() :\n",
    "    print(\"func2 함수 호출함:\",gval,a)  #100,10 => 전역변수 초기화\n",
    "    func1()     #func1 호출\n",
    "    print(\"전역변수 gval:\",gval,a)  #b : func1에서만 호출 가능한 변수"
   ]
  },
  {
   "cell_type": "code",
   "execution_count": 46,
   "metadata": {},
   "outputs": [
    {
     "name": "stdout",
     "output_type": "stream",
     "text": [
      "func2 함수 호출함: 100 10\n",
      "func1 함수 호출함: 200 20 1000\n",
      "전역변수 gval: 200 10\n",
      "200 10\n"
     ]
    }
   ],
   "source": [
    "gval = 100   #전역변수\n",
    "a = 10       #전역변수\n",
    "func2()  #함수의 호출\n",
    "print(gval,a)"
   ]
  },
  {
   "cell_type": "code",
   "execution_count": 60,
   "metadata": {},
   "outputs": [],
   "source": [
    "# def : 함수의 정의\n",
    "def aaa(v1,v2) :   #v1,v2 : 매개변수. => 함수 호출시 값을 전달받는 변수\n",
    "    list = []  #리스트 : 값을 여러개 저장할 수 있는 객체\n",
    "    res1 = v1 + v2  #300\n",
    "    res2 = v1 - v2  #-100 \n",
    "    list.append(res1) #list에 값을 추가  list=[300,]\n",
    "    list.append(res2) #list에 값을 추가  list=[300,-100]\n",
    "    return list  #return 값: 함수 종료. 값을 호출한 곳에 전달 "
   ]
  },
  {
   "cell_type": "code",
   "execution_count": 57,
   "metadata": {},
   "outputs": [
    {
     "name": "stdout",
     "output_type": "stream",
     "text": [
      "multi 함수의 리턴값 : 300, -100\n"
     ]
    }
   ],
   "source": [
    "hap,sub = 0,0\n",
    "#list = [300,-100]\n",
    "list = multi(100,200)  #v1 매개변수:100, v2 매개변수:200\n",
    "hap = list[0] #첫번째값 : 300\n",
    "sub = list[1] #두번째값 : -100\n",
    "print(\"multi 함수의 리턴값 : %d, %d\" % (hap,sub))"
   ]
  },
  {
   "cell_type": "code",
   "execution_count": 61,
   "metadata": {},
   "outputs": [],
   "source": [
    "#가변 매개변수 : 매개변수의 갯수 지정 안함\n",
    "def multiParam (* p) : # 10,20,30\n",
    "    result = 0\n",
    "    for i in p :  #[10,20,30]\n",
    "        result += i\n",
    "    return result    "
   ]
  },
  {
   "cell_type": "code",
   "execution_count": 62,
   "metadata": {},
   "outputs": [
    {
     "name": "stdout",
     "output_type": "stream",
     "text": [
      "multi Param()= 0\n",
      "multi Param(10)= 10\n",
      "multi Param(10,20)= 30\n",
      "multi Param(10,20,30)= 60\n"
     ]
    }
   ],
   "source": [
    "print(\"multi Param()=\",multiParam())  #0\n",
    "print(\"multi Param(10)=\",multiParam(10)) #10\n",
    "print(\"multi Param(10,20)=\",multiParam(10,20)) #30\n",
    "print(\"multi Param(10,20,30)=\",multiParam(10,20,30)) #60"
   ]
  },
  {
   "cell_type": "code",
   "execution_count": 1,
   "metadata": {},
   "outputs": [],
   "source": [
    "def genFun(num) :  #num:5\n",
    "    for i in range(0,num+5) : # i:0~9\n",
    "        yield i   #i값을 전달. \n",
    "        print(i,\"값 반환\")"
   ]
  },
  {
   "cell_type": "code",
   "execution_count": 2,
   "metadata": {},
   "outputs": [
    {
     "name": "stdout",
     "output_type": "stream",
     "text": [
      "0 값 반환\n",
      "1 값 반환\n",
      "2 값 반환\n",
      "3 값 반환\n",
      "4 값 반환\n",
      "5 값 반환\n",
      "6 값 반환\n",
      "7 값 반환\n",
      "8 값 반환\n",
      "9 값 반환\n",
      "[0, 1, 2, 3, 4, 5, 6, 7, 8, 9]\n"
     ]
    }
   ],
   "source": [
    "print(list(genFun(5)))"
   ]
  },
  {
   "cell_type": "code",
   "execution_count": 3,
   "metadata": {},
   "outputs": [
    {
     "name": "stdout",
     "output_type": "stream",
     "text": [
      "main에서 출력: 0\n",
      "0 값 반환\n",
      "main에서 출력: 1\n",
      "1 값 반환\n",
      "main에서 출력: 2\n",
      "2 값 반환\n",
      "main에서 출력: 3\n",
      "3 값 반환\n",
      "main에서 출력: 4\n",
      "4 값 반환\n",
      "main에서 출력: 5\n",
      "5 값 반환\n",
      "main에서 출력: 6\n",
      "6 값 반환\n",
      "main에서 출력: 7\n",
      "7 값 반환\n",
      "main에서 출력: 8\n",
      "8 값 반환\n",
      "main에서 출력: 9\n",
      "9 값 반환\n"
     ]
    }
   ],
   "source": [
    "for data in genFun(5) :\n",
    "    print(\"main에서 출력:\",data)"
   ]
  },
  {
   "cell_type": "code",
   "execution_count": 4,
   "metadata": {},
   "outputs": [],
   "source": [
    "#람다 : 함수 객체. \n",
    "#기존 함수 방식 코딩\n",
    "def hap(num1,num2) :\n",
    "    res = num1 + num2\n",
    "    return res"
   ]
  },
  {
   "cell_type": "code",
   "execution_count": 5,
   "metadata": {},
   "outputs": [
    {
     "name": "stdout",
     "output_type": "stream",
     "text": [
      "30\n"
     ]
    }
   ],
   "source": [
    "print(hap(10,20))"
   ]
  },
  {
   "cell_type": "code",
   "execution_count": 6,
   "metadata": {},
   "outputs": [
    {
     "name": "stdout",
     "output_type": "stream",
     "text": [
      "300\n"
     ]
    }
   ],
   "source": [
    "#람다식으로 변경\n",
    "#lambda : 람다식으로 구현\n",
    "#num1,num2 : 매개변수\n",
    "#num1+num2 : return num1+num2. num1+num2의 값을 리턴\n",
    "#hap1 : 함수\n",
    "hap1 = lambda num1,num2:num1+num2\n",
    "print(hap1(100,200))"
   ]
  },
  {
   "cell_type": "code",
   "execution_count": 7,
   "metadata": {},
   "outputs": [
    {
     "name": "stdout",
     "output_type": "stream",
     "text": [
      "300\n",
      "101\n",
      "100\n",
      "1\n"
     ]
    }
   ],
   "source": [
    "# num1=0,num2=1 : 기본값. \n",
    "hap2 = lambda num1=0,num2=1:num1+num2\n",
    "print(hap2(100,200)) #num1=100,num2=200\n",
    "print(hap2(100)) #num1=100,num2=1, 첫번째 매개변수로 설정됨.\n",
    "print(hap2(0,100)) #num1=0,num2=100 \n",
    "print(hap2())  #num1=0,num2=1"
   ]
  },
  {
   "cell_type": "code",
   "execution_count": 8,
   "metadata": {},
   "outputs": [],
   "source": [
    "myList = [1,2,3,4,5]\n",
    "def add10(num) :\n",
    "    return num+10"
   ]
  },
  {
   "cell_type": "code",
   "execution_count": 9,
   "metadata": {},
   "outputs": [
    {
     "name": "stdout",
     "output_type": "stream",
     "text": [
      "[11, 12, 13, 14, 15]\n"
     ]
    }
   ],
   "source": [
    "for i in range(len(myList)) : #i : 0~4\n",
    "    myList[i] = add10(myList[i])\n",
    "print(myList)    "
   ]
  },
  {
   "cell_type": "code",
   "execution_count": 10,
   "metadata": {},
   "outputs": [
    {
     "name": "stdout",
     "output_type": "stream",
     "text": [
      "[110, 120, 130, 140, 150]\n"
     ]
    }
   ],
   "source": [
    "for i in range(len(myList)) : #i : 0~4\n",
    "    myList[i] = (lambda num:num*10)(myList[i])\n",
    "print(myList)"
   ]
  },
  {
   "cell_type": "markdown",
   "metadata": {},
   "source": [
    "### 파이썬에서 제공되는 컬렉션 : 여러개의 값을 저장 \n",
    "##### 리스트   [] : 순서 유지. 추가 순서 유지. 추가,제거, 수정 가능\n",
    "##### 튜플     () : 상수화된 리스트. 추가,제거, 수정 불가. \n",
    "##### 딕셔너리 {} : (키,값) 쌍으로 저장. \n",
    "##### set      {} : 중복 저장 안함. 집합"
   ]
  },
  {
   "cell_type": "code",
   "execution_count": 5,
   "metadata": {},
   "outputs": [
    {
     "name": "stdout",
     "output_type": "stream",
     "text": [
      "[0, 0, 0, 0] 4\n",
      "[] 0\n"
     ]
    }
   ],
   "source": [
    "#리스트\n",
    "a=[0,0,0,0]\n",
    "b=[]\n",
    "print(a,len(a))\n",
    "print(b,len(b))"
   ]
  },
  {
   "cell_type": "code",
   "execution_count": 6,
   "metadata": {},
   "outputs": [
    {
     "name": "stdout",
     "output_type": "stream",
     "text": [
      "[10, 20, 30, 40] 요소의 합: 100\n"
     ]
    }
   ],
   "source": [
    "#a 리스트의 길이만큼 숫자를 입력받아, a에 저장하고 입력받은 수의 합계를 출력하기\n",
    "hap = 0\n",
    "for i in range(len(a)) :  #i: 0~ 3\n",
    "    a[i] = int(input(str(i+1)+\"번째 숫자 입력:\"))\n",
    "    hap += a[i]\n",
    "print(a,\"요소의 합:\",hap)    "
   ]
  },
  {
   "cell_type": "code",
   "execution_count": 7,
   "metadata": {},
   "outputs": [
    {
     "name": "stdout",
     "output_type": "stream",
     "text": [
      "[10, 20, 30, 40] 요소의 합: 100\n"
     ]
    }
   ],
   "source": [
    "print(a,\"요소의 합:\",sum(a))  "
   ]
  },
  {
   "cell_type": "code",
   "execution_count": 10,
   "metadata": {},
   "outputs": [
    {
     "name": "stdout",
     "output_type": "stream",
     "text": [
      "[10, 20, 30, 40, 10, 20, 30, 40] 요소의 합: 100\n",
      "[10, 20, 30, 40, 10, 20, 30, 40] 요소의 합: 200\n"
     ]
    }
   ],
   "source": [
    "#a 리스트의 길이만큼 숫자를 입력받아, b에 저장하고 입력받은 수의 합계를 출력하기\n",
    "hap = 0\n",
    "for i in range(len(a)) :  #i: 0~ 3\n",
    "#    b[i] = int(input(str(i+1)+\"번째 숫자 입력:\")) #b[0] 없음. 오류 발생.\n",
    "#append 함수 사용 : 리스트에 새로운 요소를 추가\n",
    "    b.append(int(input(str(i+1)+\"번째 숫자 입력:\")))     \n",
    "    hap += b[i]\n",
    "print(b,\"요소의 합:\",hap)  \n",
    "print(b,\"요소의 합:\",sum(b)) "
   ]
  },
  {
   "cell_type": "code",
   "execution_count": 12,
   "metadata": {},
   "outputs": [
    {
     "name": "stdout",
     "output_type": "stream",
     "text": [
      "[10, 10, 20, 20, 30, 30, 40, 40]\n"
     ]
    }
   ],
   "source": [
    "#b 리스트 정렬\n",
    "b.sort()\n",
    "print(b)"
   ]
  },
  {
   "cell_type": "code",
   "execution_count": 15,
   "metadata": {},
   "outputs": [
    {
     "name": "stdout",
     "output_type": "stream",
     "text": [
      "10\n",
      "40\n",
      "40\n"
     ]
    }
   ],
   "source": [
    "# a리스트의 첫번째 요소 조회\n",
    "print(a[0])\n",
    "# a리스트의 마지막 요소 조회\n",
    "print(a[-1])\n",
    "# a리스트의 마지막 요소 제거\n",
    "# a.pop() : 마지막 요소 제거. 리턴\n",
    "print(a.pop())"
   ]
  },
  {
   "cell_type": "code",
   "execution_count": 16,
   "metadata": {},
   "outputs": [
    {
     "name": "stdout",
     "output_type": "stream",
     "text": [
      "[10, 20, 30]\n"
     ]
    }
   ],
   "source": [
    "print(a)"
   ]
  },
  {
   "cell_type": "code",
   "execution_count": 17,
   "metadata": {},
   "outputs": [
    {
     "name": "stdout",
     "output_type": "stream",
     "text": [
      "30\n"
     ]
    }
   ],
   "source": [
    "print(a[-1])"
   ]
  },
  {
   "cell_type": "code",
   "execution_count": 18,
   "metadata": {},
   "outputs": [
    {
     "name": "stdout",
     "output_type": "stream",
     "text": [
      "[30, 20, 10]\n"
     ]
    }
   ],
   "source": [
    "#a 리스트의 요소를 역으로 조회하기\n",
    "print(a[::-1])"
   ]
  },
  {
   "cell_type": "code",
   "execution_count": 19,
   "metadata": {},
   "outputs": [
    {
     "name": "stdout",
     "output_type": "stream",
     "text": [
      "[30, 20, 10]\n"
     ]
    }
   ],
   "source": [
    "#a 리스트의 요소를 역순으로 저장\n",
    "a.reverse()\n",
    "print(a)"
   ]
  },
  {
   "cell_type": "code",
   "execution_count": 20,
   "metadata": {},
   "outputs": [
    {
     "name": "stdout",
     "output_type": "stream",
     "text": [
      "[30, 200, 20, 10]\n"
     ]
    }
   ],
   "source": [
    "#중간에 요소 추가\n",
    "a.insert(1,200) #1번인덱스에 200을 추가\n",
    "print(a)"
   ]
  },
  {
   "cell_type": "code",
   "execution_count": 21,
   "metadata": {},
   "outputs": [
    {
     "name": "stdout",
     "output_type": "stream",
     "text": [
      "3\n"
     ]
    }
   ],
   "source": [
    "#10요소의 인덱스 조회하기\n",
    "print(a.index(10))"
   ]
  },
  {
   "cell_type": "code",
   "execution_count": 22,
   "metadata": {},
   "outputs": [
    {
     "ename": "AttributeError",
     "evalue": "'list' object has no attribute 'find'",
     "output_type": "error",
     "traceback": [
      "\u001b[1;31m---------------------------------------------------------------------------\u001b[0m",
      "\u001b[1;31mAttributeError\u001b[0m                            Traceback (most recent call last)",
      "Cell \u001b[1;32mIn[22], line 1\u001b[0m\n\u001b[1;32m----> 1\u001b[0m \u001b[38;5;28mprint\u001b[39m(\u001b[43ma\u001b[49m\u001b[38;5;241;43m.\u001b[39;49m\u001b[43mfind\u001b[49m(\u001b[38;5;241m10\u001b[39m))\n",
      "\u001b[1;31mAttributeError\u001b[0m: 'list' object has no attribute 'find'"
     ]
    }
   ],
   "source": [
    "print(a.find(10)) #문자열의 함수. 리스트의 함수 아님."
   ]
  },
  {
   "cell_type": "code",
   "execution_count": 23,
   "metadata": {},
   "outputs": [
    {
     "ename": "ValueError",
     "evalue": "100 is not in list",
     "output_type": "error",
     "traceback": [
      "\u001b[1;31m---------------------------------------------------------------------------\u001b[0m",
      "\u001b[1;31mValueError\u001b[0m                                Traceback (most recent call last)",
      "Cell \u001b[1;32mIn[23], line 2\u001b[0m\n\u001b[0;32m      1\u001b[0m \u001b[38;5;66;03m#100요소의 인덱스 조회하기\u001b[39;00m\n\u001b[1;32m----> 2\u001b[0m \u001b[38;5;28mprint\u001b[39m(\u001b[43ma\u001b[49m\u001b[38;5;241;43m.\u001b[39;49m\u001b[43mindex\u001b[49m\u001b[43m(\u001b[49m\u001b[38;5;241;43m100\u001b[39;49m\u001b[43m)\u001b[49m)\n",
      "\u001b[1;31mValueError\u001b[0m: 100 is not in list"
     ]
    }
   ],
   "source": [
    "#100요소의 인덱스 조회하기\n",
    "print(a.index(100)) #없는 요소 조회시 오류 발생. 예외처리 필요함"
   ]
  },
  {
   "cell_type": "code",
   "execution_count": 24,
   "metadata": {},
   "outputs": [
    {
     "name": "stdout",
     "output_type": "stream",
     "text": [
      "[30, 20, 10]\n"
     ]
    }
   ],
   "source": [
    "# 200 요소를 제거하기\n",
    "a.remove(200)\n",
    "print(a)"
   ]
  },
  {
   "cell_type": "code",
   "execution_count": 25,
   "metadata": {},
   "outputs": [
    {
     "name": "stdout",
     "output_type": "stream",
     "text": [
      "[30, 20, 10, 10, 10, 20, 20, 30, 30, 40, 40]\n"
     ]
    }
   ],
   "source": [
    "#a 리스트에 b리스트 추가\n",
    "a.extend(b)\n",
    "print(a)"
   ]
  },
  {
   "cell_type": "code",
   "execution_count": 27,
   "metadata": {},
   "outputs": [
    {
     "data": {
      "text/plain": [
       "3"
      ]
     },
     "execution_count": 27,
     "metadata": {},
     "output_type": "execute_result"
    }
   ],
   "source": [
    "#a 리스트에 10요소의 갯수를 출력하기\n",
    "a.count(10)\n",
    "a.count(10)"
   ]
  },
  {
   "cell_type": "code",
   "execution_count": 28,
   "metadata": {},
   "outputs": [
    {
     "name": "stdout",
     "output_type": "stream",
     "text": [
      "['2024', '07', '02']\n"
     ]
    }
   ],
   "source": [
    "#문자열을 분리하여 리스트로 저장하기\n",
    "# split(구분자) : 문자열의 구분자를 기준으로 분리하여 리스트 리턴\n",
    "dd = \"2024/07/02\"\n",
    "c = dd.split(\"/\")\n",
    "print(c)"
   ]
  },
  {
   "cell_type": "code",
   "execution_count": 29,
   "metadata": {},
   "outputs": [],
   "source": [
    "#문제 : ss 문자열의 모든 숫자의 합을 출력하기\n",
    "ss = \"10,20,50,60,30,40,50,60,30\""
   ]
  },
  {
   "cell_type": "code",
   "execution_count": 30,
   "metadata": {},
   "outputs": [
    {
     "name": "stdout",
     "output_type": "stream",
     "text": [
      "['10', '20', '50', '60', '30', '40', '50', '60', '30']\n"
     ]
    }
   ],
   "source": [
    "d = ss.split(\",\")\n",
    "print(d)"
   ]
  },
  {
   "cell_type": "code",
   "execution_count": 31,
   "metadata": {},
   "outputs": [
    {
     "ename": "TypeError",
     "evalue": "unsupported operand type(s) for +: 'int' and 'str'",
     "output_type": "error",
     "traceback": [
      "\u001b[1;31m---------------------------------------------------------------------------\u001b[0m",
      "\u001b[1;31mTypeError\u001b[0m                                 Traceback (most recent call last)",
      "Cell \u001b[1;32mIn[31], line 1\u001b[0m\n\u001b[1;32m----> 1\u001b[0m \u001b[38;5;28;43msum\u001b[39;49m\u001b[43m(\u001b[49m\u001b[43md\u001b[49m\u001b[43m)\u001b[49m\n",
      "\u001b[1;31mTypeError\u001b[0m: unsupported operand type(s) for +: 'int' and 'str'"
     ]
    }
   ],
   "source": [
    "sum(d)  #sum 함수는 리스트의 요소가 숫자인 경우만 가능"
   ]
  },
  {
   "cell_type": "code",
   "execution_count": 32,
   "metadata": {},
   "outputs": [
    {
     "name": "stdout",
     "output_type": "stream",
     "text": [
      "350\n"
     ]
    }
   ],
   "source": [
    "hap=0\n",
    "for n in d :\n",
    "    hap += int(n)\n",
    "print(hap)"
   ]
  },
  {
   "cell_type": "code",
   "execution_count": 34,
   "metadata": {},
   "outputs": [
    {
     "name": "stdout",
     "output_type": "stream",
     "text": [
      "['10', '20', '50', '60', '30', '40', '50', '60', '30']\n",
      "350\n"
     ]
    }
   ],
   "source": [
    "#map 함수 : 리스트의 각각의 요소에 적용하는 함수를 설정 기능\n",
    "print(d)\n",
    "#map(int,d) : d 리스트의 각각의 요소에 int 함수를 설정.\n",
    "print(sum(map(int,d)))"
   ]
  },
  {
   "cell_type": "code",
   "execution_count": 37,
   "metadata": {},
   "outputs": [
    {
     "name": "stdout",
     "output_type": "stream",
     "text": [
      "[10, 20, 50, 60, 30, 40, 50, 60, 30]\n",
      "350\n"
     ]
    }
   ],
   "source": [
    "print(list(map(int,d)))\n",
    "print(sum(list(map(int,d))))  #list 함수 : 리스트 객체로 변경."
   ]
  },
  {
   "cell_type": "code",
   "execution_count": 38,
   "metadata": {},
   "outputs": [
    {
     "name": "stdout",
     "output_type": "stream",
     "text": [
      "(10, 20, 30)\n"
     ]
    }
   ],
   "source": [
    "#튜플(tuple) : 상수화된 리스트\n",
    "tp1 = (10,20,30)\n",
    "print(tp1)"
   ]
  },
  {
   "cell_type": "code",
   "execution_count": 39,
   "metadata": {},
   "outputs": [
    {
     "name": "stdout",
     "output_type": "stream",
     "text": [
      "10\n",
      "20\n",
      "30\n"
     ]
    }
   ],
   "source": [
    "for t in tp1 :\n",
    "    print(t)"
   ]
  },
  {
   "cell_type": "code",
   "execution_count": 40,
   "metadata": {},
   "outputs": [
    {
     "name": "stdout",
     "output_type": "stream",
     "text": [
      "10\n",
      "20\n",
      "30\n"
     ]
    }
   ],
   "source": [
    "print(tp1[0])\n",
    "print(tp1[1])\n",
    "print(tp1[-1])"
   ]
  },
  {
   "cell_type": "code",
   "execution_count": 42,
   "metadata": {},
   "outputs": [
    {
     "name": "stdout",
     "output_type": "stream",
     "text": [
      "(10, 20, 30, 40)\n"
     ]
    }
   ],
   "source": [
    "#tp1.append(40) #튜플의 요소 변경 불가\n",
    "#튜플의 요소를 변경할 경우는 리스트 변경 후 가능\n",
    "tplist = list(tp1)  #list() : 리스트 객체로 변경\n",
    "tplist.append(40)   #리스트객체에 40 요소 추가\n",
    "tp1 = tuple(tplist) #tuple(리스트) 함수 : 리스트를 튜플로 변경\n",
    "print(tp1)"
   ]
  },
  {
   "cell_type": "code",
   "execution_count": 43,
   "metadata": {},
   "outputs": [
    {
     "name": "stdout",
     "output_type": "stream",
     "text": [
      "10 20 30 40\n"
     ]
    }
   ],
   "source": [
    "t1,t2,t3,t4 = tp1\n",
    "print(t1,t2,t3,t4)"
   ]
  },
  {
   "cell_type": "code",
   "execution_count": 45,
   "metadata": {},
   "outputs": [
    {
     "name": "stdout",
     "output_type": "stream",
     "text": [
      "10 20 30 40\n"
     ]
    }
   ],
   "source": [
    "t1,t2,t3,t4 = tplist\n",
    "print(t1,t2,t3,t4)"
   ]
  },
  {
   "cell_type": "code",
   "execution_count": 46,
   "metadata": {},
   "outputs": [
    {
     "data": {
      "text/plain": [
       "100"
      ]
     },
     "execution_count": 46,
     "metadata": {},
     "output_type": "execute_result"
    }
   ],
   "source": [
    "sum(tp1)"
   ]
  },
  {
   "cell_type": "code",
   "execution_count": 47,
   "metadata": {},
   "outputs": [
    {
     "name": "stdout",
     "output_type": "stream",
     "text": [
      "{'이름': 'BTS', '인원수': 7, '소속사': '하이브'}\n"
     ]
    }
   ],
   "source": [
    "#딕셔너리 : (key,값)쌍인 객체들의 모임\n",
    "singer = {}\n",
    "singer[\"이름\"]=\"BTS\"\n",
    "singer[\"인원수\"]=7\n",
    "singer[\"소속사\"]=\"하이브\"\n",
    "print(singer)"
   ]
  },
  {
   "cell_type": "code",
   "execution_count": 50,
   "metadata": {},
   "outputs": [
    {
     "name": "stdout",
     "output_type": "stream",
     "text": [
      "이름=>BTS\n",
      "인원수=>7\n",
      "소속사=>하이브\n"
     ]
    }
   ],
   "source": [
    "#singer.keys() : key 값들의 모임.\n",
    "# i : 키값. 이름,인원수,소속사\n",
    "for i in singer.keys() :\n",
    "    #singer[i] : singer[\"이름\"]의 값을 리턴\n",
    "    print(\"%s=>%s\" % (i,singer[i]))\n"
   ]
  },
  {
   "cell_type": "code",
   "execution_count": 55,
   "metadata": {},
   "outputs": [
    {
     "name": "stdout",
     "output_type": "stream",
     "text": [
      "singer의 자료형: <class 'dict'>\n",
      "singer.keys의 자료형: <class 'dict_keys'>\n",
      "dict_keys(['이름', '인원수', '소속사'])\n",
      "['이름', '인원수', '소속사']\n"
     ]
    }
   ],
   "source": [
    "print(\"singer의 자료형:\",type(singer))\n",
    "print(\"singer.keys의 자료형:\",type(singer.keys()))\n",
    "print(singer.keys())\n",
    "print(list(singer.keys()))"
   ]
  },
  {
   "cell_type": "code",
   "execution_count": 57,
   "metadata": {},
   "outputs": [
    {
     "name": "stdout",
     "output_type": "stream",
     "text": [
      "떡볶이=>오뎅\n",
      "짜장면=>단무지\n",
      "라면=>김치\n",
      "맥주=>치킨\n"
     ]
    }
   ],
   "source": [
    "#화면에서 등록된 음식을 입력 받아 궁합 음식 출력하기\n",
    "foods = {\"떡볶이\":\"오뎅\",\"짜장면\":\"단무지\",\"라면\":\"김치\",\"맥주\":\"치킨\"}\n",
    "for i in foods.keys() :\n",
    "    print(\"%s=>%s\" % (i,foods[i]))"
   ]
  },
  {
   "cell_type": "code",
   "execution_count": 60,
   "metadata": {},
   "outputs": [
    {
     "name": "stdout",
     "output_type": "stream",
     "text": [
      "<짜장면> 궁합음식 <단무지> 입니다\n"
     ]
    }
   ],
   "source": [
    "while True :\n",
    "    myfood = input(str(list(foods.keys()))+\"중 음식이름 입력하기 종료(종료):\")\n",
    "    if myfood == \"종료\" :\n",
    "        break   #반복문 종료\n",
    "    if myfood in foods :  #foods 데이터의 키값에 myfood의 값이 존재?\n",
    "        print(\"<%s> 궁합음식 <%s> 입니다\" % (myfood, foods[myfood]))"
   ]
  },
  {
   "cell_type": "code",
   "execution_count": 61,
   "metadata": {},
   "outputs": [
    {
     "name": "stdout",
     "output_type": "stream",
     "text": [
      "등록된 음식이 아닙니다.\n",
      "등록된 음식이 아닙니다.\n",
      "<비빔밥> 궁합음식 <고추장> 입니다\n",
      "<비빔밥> 궁합음식 <고추장> 입니다\n"
     ]
    }
   ],
   "source": [
    "# 입력받은 값이 딕셔너리에 없는 경우 추가하기\n",
    "while True :\n",
    "    myfood = input(str(list(foods.keys()))+\"중 음식이름 입력하기 종료(종료):\")\n",
    "    if myfood == \"종료\" :\n",
    "        break   #반복문 종료\n",
    "    if myfood in foods :  #foods 데이터의 키값에 myfood의 값이 존재?\n",
    "        print(\"<%s> 궁합음식 <%s> 입니다\" % (myfood, foods[myfood]))\n",
    "    else :\n",
    "        print(\"등록된 음식이 아닙니다.\")    \n",
    "        yn = input(\"좋아하는 음식으로 등록하시겠습니까?\")\n",
    "        if yn == 'Y' or yn=='y' :\n",
    "            f = input(\"궁합음식을 등록하세요\")\n",
    "            foods[myfood] = f\n",
    "\n"
   ]
  },
  {
   "cell_type": "code",
   "execution_count": 64,
   "metadata": {},
   "outputs": [
    {
     "name": "stdout",
     "output_type": "stream",
     "text": [
      "등록된 음식: ['떡볶이', '짜장면', '라면', '맥주', '비빔밥']\n",
      "등록된 궁합 음식: ['오뎅', '단무지', '김치', '치킨', '고추장']\n",
      "등록된 (음식,궁합 음식): [('떡볶이', '오뎅'), ('짜장면', '단무지'), ('라면', '김치'), ('맥주', '치킨'), ('비빔밥', '고추장')]\n"
     ]
    }
   ],
   "source": [
    "#while 구문 밖\n",
    "print(\"등록된 음식:\",list(foods.keys()))  #키값들만 조회\n",
    "print(\"등록된 궁합 음식:\",list(foods.values())) #값들만 조회\n",
    "print(\"등록된 (음식,궁합 음식):\",list(foods.items())) #(키,값)쌍으로 조회\n"
   ]
  },
  {
   "cell_type": "code",
   "execution_count": 65,
   "metadata": {},
   "outputs": [
    {
     "name": "stdout",
     "output_type": "stream",
     "text": [
      "떡볶이 : 오뎅\n",
      "짜장면 : 단무지\n",
      "라면 : 김치\n",
      "맥주 : 치킨\n",
      "비빔밥 : 고추장\n"
     ]
    }
   ],
   "source": [
    "for k,v in foods.items() :\n",
    "    print(k,\":\",v)"
   ]
  },
  {
   "cell_type": "code",
   "execution_count": 66,
   "metadata": {},
   "outputs": [
    {
     "name": "stdout",
     "output_type": "stream",
     "text": [
      "[('Thomas', '토마스'), ('James', '제임스'), ('Henry', '헨리'), ('Gothen', '고든'), ('Edward', '에드워드')]\n"
     ]
    }
   ],
   "source": [
    "# 정렬하기\n",
    "import operator\n",
    "\n",
    "dic, list1 = {},[]\n",
    "dic = {\"Thomas\":\"토마스\",\"Edward\":\"에드워드\",\"Henry\":\"헨리\",\"Gothen\":\"고든\",\"James\":\"제임스\"}\n",
    "#영문이름의 역순으로 정렬\n",
    "#key=operator.itemgetter(0) : 정렬 기준 컬럼 선택. 첫번째 컬럼\n",
    "#reverse=True : 내림차순 정렬\n",
    "#오름차순 정렬 : 작은값 => 큰값 순. 기본정렬 방식\n",
    "#내림차순 정렬 : 큰값 => 작은값 순\n",
    "list1 = sorted(dic.items(),key=operator.itemgetter(0),reverse=True)\n",
    "print(list1)"
   ]
  },
  {
   "cell_type": "code",
   "execution_count": 67,
   "metadata": {},
   "outputs": [
    {
     "name": "stdout",
     "output_type": "stream",
     "text": [
      "[('Edward', '에드워드'), ('Gothen', '고든'), ('Henry', '헨리'), ('James', '제임스'), ('Thomas', '토마스')]\n"
     ]
    }
   ],
   "source": [
    "#영문이름의 순으로 정렬\n",
    "list1 = sorted(dic.items(),key=operator.itemgetter(0),reverse=False)\n",
    "print(list1)"
   ]
  },
  {
   "cell_type": "code",
   "execution_count": 68,
   "metadata": {},
   "outputs": [
    {
     "name": "stdout",
     "output_type": "stream",
     "text": [
      "[('Gothen', '고든'), ('Edward', '에드워드'), ('James', '제임스'), ('Thomas', '토마스'), ('Henry', '헨리')]\n"
     ]
    }
   ],
   "source": [
    "#한글이름의 순으로 정렬\n",
    "list1 = sorted(dic.items(),key=operator.itemgetter(1),reverse=False)\n",
    "print(list1)"
   ]
  },
  {
   "cell_type": "code",
   "execution_count": 69,
   "metadata": {},
   "outputs": [
    {
     "name": "stdout",
     "output_type": "stream",
     "text": [
      "[('Henry', '헨리'), ('Thomas', '토마스'), ('James', '제임스'), ('Edward', '에드워드'), ('Gothen', '고든')]\n"
     ]
    }
   ],
   "source": [
    "#한글이름의 역순으로 정렬\n",
    "list1 = sorted(dic.items(),key=operator.itemgetter(1),reverse=True)\n",
    "print(list1)"
   ]
  },
  {
   "cell_type": "code",
   "execution_count": 70,
   "metadata": {},
   "outputs": [
    {
     "name": "stdout",
     "output_type": "stream",
     "text": [
      "{'lee': 100, 'hong': 70, 'kim': 90}\n"
     ]
    }
   ],
   "source": [
    "score_dic = {\"lee\":100,'hong':70,'kim':90}\n",
    "print(score_dic)"
   ]
  },
  {
   "cell_type": "code",
   "execution_count": 71,
   "metadata": {},
   "outputs": [
    {
     "name": "stdout",
     "output_type": "stream",
     "text": [
      "{'lee': 100, 'hong': 70, 'kim': 90, 'park': 80}\n"
     ]
    }
   ],
   "source": [
    "#park 80점으로 등록하기 : 새로운 키값 등록\n",
    "score_dic['park']=80\n",
    "print(score_dic)"
   ]
  },
  {
   "cell_type": "code",
   "execution_count": 72,
   "metadata": {},
   "outputs": [
    {
     "name": "stdout",
     "output_type": "stream",
     "text": [
      "{'lee': 100, 'hong': 75, 'kim': 90, 'park': 80}\n"
     ]
    }
   ],
   "source": [
    "#hong 75점으로 수정하기 : 기존의 키값 수정\n",
    "score_dic['hong']=75\n",
    "print(score_dic)"
   ]
  },
  {
   "cell_type": "code",
   "execution_count": 73,
   "metadata": {},
   "outputs": [
    {
     "name": "stdout",
     "output_type": "stream",
     "text": [
      "{'lee': 100, 'hong': 75, 'kim': 90}\n"
     ]
    }
   ],
   "source": [
    "del score_dic[\"park\"]\n",
    "print(score_dic)"
   ]
  },
  {
   "cell_type": "code",
   "execution_count": 75,
   "metadata": {},
   "outputs": [
    {
     "name": "stdout",
     "output_type": "stream",
     "text": [
      "lee => 100\n",
      "hong => 75\n",
      "kim => 90\n"
     ]
    }
   ],
   "source": [
    "#keys()\n",
    "#values()\n",
    "#items()\n",
    "for d in score_dic :  #key 값 목록\n",
    "    print(d,\"=>\",score_dic[d])"
   ]
  },
  {
   "cell_type": "code",
   "execution_count": 76,
   "metadata": {},
   "outputs": [
    {
     "name": "stdout",
     "output_type": "stream",
     "text": [
      "{10, 20, 30}\n"
     ]
    }
   ],
   "source": [
    "#set : 집합을 표현하는 객체. 중복 불가\n",
    "set1 = {30,10,20,10}\n",
    "print(set1)  #10값이 한개. 순서 지정 못함"
   ]
  },
  {
   "cell_type": "code",
   "execution_count": 77,
   "metadata": {},
   "outputs": [
    {
     "ename": "TypeError",
     "evalue": "'set' object is not subscriptable",
     "output_type": "error",
     "traceback": [
      "\u001b[1;31m---------------------------------------------------------------------------\u001b[0m",
      "\u001b[1;31mTypeError\u001b[0m                                 Traceback (most recent call last)",
      "Cell \u001b[1;32mIn[77], line 1\u001b[0m\n\u001b[1;32m----> 1\u001b[0m \u001b[38;5;28mprint\u001b[39m(\u001b[43mset1\u001b[49m\u001b[43m[\u001b[49m\u001b[38;5;241;43m0\u001b[39;49m\u001b[43m]\u001b[49m)\n",
      "\u001b[1;31mTypeError\u001b[0m: 'set' object is not subscriptable"
     ]
    }
   ],
   "source": [
    "print(set1[0])  #인덱스 사용 불가"
   ]
  },
  {
   "cell_type": "code",
   "execution_count": 79,
   "metadata": {},
   "outputs": [
    {
     "name": "stdout",
     "output_type": "stream",
     "text": [
      "{1, 2, 3, 4, 5}\n",
      "{1, 2, 3, 4, 5}\n"
     ]
    }
   ],
   "source": [
    "set1 = {1,2,3,4,5}\n",
    "set2 = {1,2,3,4,5,1,2,3,4,5}\n",
    "print(set1)\n",
    "print(set2)\n",
    "set3 = {5,6,7,8}"
   ]
  },
  {
   "cell_type": "code",
   "execution_count": 83,
   "metadata": {},
   "outputs": [
    {
     "name": "stdout",
     "output_type": "stream",
     "text": [
      "set1 과 set2의 합집합 : {1, 2, 3, 4, 5}\n",
      "set1 과 set3의 합집합 : {1, 2, 3, 4, 5, 6, 7, 8}\n",
      "set1 과 set3의 합집합 : {1, 2, 3, 4, 5, 6, 7, 8}\n"
     ]
    }
   ],
   "source": [
    "print(\"set1 과 set2의 합집합 :\", set1 | set2)\n",
    "print(\"set1 과 set3의 합집합 :\", set1 | set3)\n",
    "#union : 합집합 함수\n",
    "print(\"set1 과 set3의 합집합 :\", set1.union(set3))\n"
   ]
  },
  {
   "cell_type": "code",
   "execution_count": 84,
   "metadata": {},
   "outputs": [
    {
     "name": "stdout",
     "output_type": "stream",
     "text": [
      "set1 과 set2의 교집합 : {1, 2, 3, 4, 5}\n",
      "set1 과 set3의 교집합 : {5}\n",
      "set1 과 set3의 교집합 : {5}\n"
     ]
    }
   ],
   "source": [
    "print(\"set1 과 set2의 교집합 :\", set1 & set2)\n",
    "print(\"set1 과 set3의 교집합 :\", set1 & set3)\n",
    "# intersection : 교집합 함수\n",
    "print(\"set1 과 set3의 교집합 :\", set1.intersection(set3))\n"
   ]
  },
  {
   "cell_type": "code",
   "execution_count": 87,
   "metadata": {},
   "outputs": [
    {
     "name": "stdout",
     "output_type": "stream",
     "text": [
      "[1, 2, 3, 4, 5, 6, 7, 8, 9, 10]\n",
      "[1, 2, 3, 4, 5, 6, 7, 8, 9, 10]\n",
      "[1, 2, 3, 4, 5, 6, 7, 8, 9, 10]\n"
     ]
    }
   ],
   "source": [
    "#컴프리헨션(Comprehension) : 패턴이 있는 list,dictionary,set을 간편하게 작성\n",
    "numbers=[]\n",
    "#numbers 리스트에 1 ~ 10까지의 값을 추가하기\n",
    "for n in  range(1,11) :\n",
    "    numbers.append(n)\n",
    "\n",
    "print(numbers)\n",
    "#컴프리헨션 방식\n",
    "print([x for x in range(1,11)])\n",
    "numbers = [x for x in range(1,11)]\n",
    "print(numbers)\n"
   ]
  },
  {
   "cell_type": "code",
   "execution_count": 89,
   "metadata": {},
   "outputs": [
    {
     "name": "stdout",
     "output_type": "stream",
     "text": [
      "[2, 4, 6, 8, 10]\n"
     ]
    }
   ],
   "source": [
    "#1~10까지의 숫자 중 짝수를 가지고 있는 리스트 출력하기. \n",
    "evenlist = []\n",
    "for n in range(2,11,2) :\n",
    "    evenlist.append(n)\n",
    "print(evenlist)"
   ]
  },
  {
   "cell_type": "code",
   "execution_count": 90,
   "metadata": {},
   "outputs": [
    {
     "name": "stdout",
     "output_type": "stream",
     "text": [
      "[2, 4, 6, 8, 10]\n"
     ]
    }
   ],
   "source": [
    "evenlist = []\n",
    "for n in range(1,11) :\n",
    "    if n%2==0 :\n",
    "       evenlist.append(n)\n",
    "print(evenlist)"
   ]
  },
  {
   "cell_type": "code",
   "execution_count": 91,
   "metadata": {},
   "outputs": [
    {
     "name": "stdout",
     "output_type": "stream",
     "text": [
      "[2, 4, 6, 8, 10]\n"
     ]
    }
   ],
   "source": [
    "evenlist = [x for x in range(2,11,2)]\n",
    "print(evenlist)"
   ]
  },
  {
   "cell_type": "code",
   "execution_count": 92,
   "metadata": {},
   "outputs": [
    {
     "name": "stdout",
     "output_type": "stream",
     "text": [
      "[2, 4, 6, 8, 10]\n"
     ]
    }
   ],
   "source": [
    "evenlist = [x for x in range(1,11) if x%2==0]\n",
    "print(evenlist)"
   ]
  },
  {
   "cell_type": "code",
   "execution_count": 93,
   "metadata": {},
   "outputs": [
    {
     "name": "stdout",
     "output_type": "stream",
     "text": [
      "[2, 4, 6, 8, 10]\n"
     ]
    }
   ],
   "source": [
    "evenlist = [x*2 for x in range(1,6)]\n",
    "print(evenlist)"
   ]
  },
  {
   "cell_type": "code",
   "execution_count": 101,
   "metadata": {},
   "outputs": [
    {
     "name": "stdout",
     "output_type": "stream",
     "text": [
      "[1, 3, 5, 7, 9, 11, 13, 15, 17, 19, 21, 23, 25, 27, 29, 31, 33, 35, 37, 39, 41, 43, 45, 47, 49, 51, 53, 55, 57, 59, 61, 63, 65, 67, 69, 71, 73, 75, 77, 79, 81, 83, 85, 87, 89, 91, 93, 95, 97, 99]\n",
      "2500\n"
     ]
    }
   ],
   "source": [
    "# 1~100까지의 중 홀수의 값을 저장하는 oddlist를 생성하기.\n",
    "# oddlist의 총합을 출력하기\n",
    "oddlist = [x for x in range(1,101,2)]\n",
    "oddlist = [x for x in range(1,101) if x%2==1]\n",
    "oddlist = [x*2+1 for x in range(0,50) ]\n",
    "print(oddlist)\n",
    "print(sum(oddlist))"
   ]
  },
  {
   "cell_type": "code",
   "execution_count": 103,
   "metadata": {},
   "outputs": [
    {
     "name": "stdout",
     "output_type": "stream",
     "text": [
      "[6, 12, 18, 24, 30, 36, 42, 48, 54, 60, 66, 72, 78, 84, 90, 96]\n"
     ]
    }
   ],
   "source": [
    "#2의 배수이고, 3의 배수인 숫자들만 리스트로 생성하기\n",
    "list2 = [x for x in range(1,101) if x%2==0 if x%3==0]\n",
    "list2 = [x for x in range(1,101) if x%2==0 and x%3==0]\n",
    "print(list2)"
   ]
  },
  {
   "cell_type": "code",
   "execution_count": 105,
   "metadata": {},
   "outputs": [
    {
     "name": "stdout",
     "output_type": "stream",
     "text": [
      "[[1, 2, 3], [4, 5, 6], [7, 8, 9]]\n",
      "[1, 2, 3, 4, 5, 6, 7, 8, 9]\n"
     ]
    }
   ],
   "source": [
    "matrix = [[1,2,3],[4,5,6],[7,8,9]]\n",
    "print(matrix)\n",
    "list1 = [x for row in matrix for x in row]\n",
    "print(list1)"
   ]
  },
  {
   "cell_type": "code",
   "execution_count": 108,
   "metadata": {},
   "outputs": [
    {
     "name": "stdout",
     "output_type": "stream",
     "text": [
      "[('black', 'S'), ('black', 'M'), ('black', 'L'), ('white', 'S'), ('white', 'M'), ('white', 'L')]\n",
      "(('black', 'S'), ('black', 'M'), ('black', 'L'), ('white', 'S'), ('white', 'M'), ('white', 'L'))\n"
     ]
    }
   ],
   "source": [
    "colorlist = [\"black\",\"white\"]\n",
    "sizelist = [\"S\",\"M\",\"L\"]\n",
    "#(c,s) : 튜플\n",
    "# black:S black:M black:L white:S white:M white:L\n",
    "dresslist = [(c,s) for c in colorlist for s in sizelist]\n",
    "print(dresslist)\n",
    "dresstuple = tuple((c,s) for c in colorlist for s in sizelist)\n",
    "print(dresstuple)"
   ]
  },
  {
   "cell_type": "code",
   "execution_count": 110,
   "metadata": {},
   "outputs": [
    {
     "name": "stdout",
     "output_type": "stream",
     "text": [
      "{'건조기': 140, 'TV': 130, '세탁기': 150}\n"
     ]
    }
   ],
   "source": [
    "#dictionary \n",
    "products = {\"냉장고\":220,\"건조기\":140, \"TV\":130,\"세탁기\":150,\"컴퓨터\":200}\n",
    "#200 미만의 제품만 product1 객체로 저장하기\n",
    "product1 = {}\n",
    "for k in products :\n",
    "    if products[k] < 200 :\n",
    "        product1[k] = products[k]\n",
    "print(product1)\n"
   ]
  },
  {
   "cell_type": "code",
   "execution_count": 111,
   "metadata": {},
   "outputs": [
    {
     "name": "stdout",
     "output_type": "stream",
     "text": [
      "{'건조기': 140, 'TV': 130, '세탁기': 150}\n"
     ]
    }
   ],
   "source": [
    "product1 = {k:v for k,v in products.items() if v<200}\n",
    "print(product1)"
   ]
  },
  {
   "cell_type": "code",
   "execution_count": 113,
   "metadata": {},
   "outputs": [
    {
     "name": "stdout",
     "output_type": "stream",
     "text": [
      "{'건조기': 140, 'TV': 130, '세탁기': 150}\n"
     ]
    }
   ],
   "source": [
    "product1 = {k:products[k] for k in products if products[k] < 200}\n",
    "print(product1)"
   ]
  },
  {
   "cell_type": "code",
   "execution_count": 127,
   "metadata": {},
   "outputs": [],
   "source": [
    "def getMean(l) :\n",
    "    return sum(l)/len(l) if len(l) > 0 else 0"
   ]
  },
  {
   "cell_type": "code",
   "execution_count": 128,
   "metadata": {},
   "outputs": [
    {
     "name": "stdout",
     "output_type": "stream",
     "text": [
      "20.6\n",
      "3.0\n",
      "3.0\n",
      "0\n"
     ]
    }
   ],
   "source": [
    "#문제 리스트의 평균을 구해주는 함수 getMean 함수 구현하기\n",
    "\n",
    "list1 = [10,5,30,52,6]\n",
    "print(getMean(list1))\n",
    "print(getMean([1,2,3,4,5]))\n",
    "print(getMean((1,2,3,4,5)))\n",
    "print(getMean([]))"
   ]
  },
  {
   "cell_type": "code",
   "execution_count": 130,
   "metadata": {},
   "outputs": [
    {
     "name": "stdout",
     "output_type": "stream",
     "text": [
      "2.0\n"
     ]
    }
   ],
   "source": [
    "print(getMean(list(map(int,['1','2','3']))))"
   ]
  },
  {
   "cell_type": "code",
   "execution_count": 131,
   "metadata": {},
   "outputs": [],
   "source": [
    "def add10(n) :\n",
    "    return n+10"
   ]
  },
  {
   "cell_type": "code",
   "execution_count": 132,
   "metadata": {},
   "outputs": [
    {
     "name": "stdout",
     "output_type": "stream",
     "text": [
      "[1, 2, 3, 4, 5]\n",
      "[11, 12, 13, 14, 15]\n"
     ]
    }
   ],
   "source": [
    "list1 = [1,2,3,4,5]\n",
    "list2 = list(map(add10,list1))\n",
    "print(list1)\n",
    "print(list2)"
   ]
  },
  {
   "cell_type": "code",
   "execution_count": 133,
   "metadata": {},
   "outputs": [
    {
     "name": "stdout",
     "output_type": "stream",
     "text": [
      "[1, 2, 3, 4, 5]\n",
      "[11, 12, 13, 14, 15]\n"
     ]
    }
   ],
   "source": [
    "#add10을 람다 방식으로 처리하기\n",
    "\n",
    "list1 = [1,2,3,4,5]\n",
    "list2 = list(map(lambda n:n+10,list1))\n",
    "print(list1)\n",
    "print(list2)"
   ]
  },
  {
   "cell_type": "code",
   "execution_count": 134,
   "metadata": {},
   "outputs": [
    {
     "name": "stdout",
     "output_type": "stream",
     "text": [
      "[1, 2, 3, 4, 5]\n",
      "[11, 12, 13, 14, 15]\n"
     ]
    }
   ],
   "source": [
    "add10lambda = lambda n:n+10\n",
    "list1 = [1,2,3,4,5]\n",
    "list2 = list(map(add10lambda,list1))\n",
    "print(list1)\n",
    "print(list2)"
   ]
  },
  {
   "cell_type": "code",
   "execution_count": 158,
   "metadata": {},
   "outputs": [
    {
     "name": "stdout",
     "output_type": "stream",
     "text": [
      "1 \n",
      "1 2 \n",
      "1 2 3 \n",
      "1 2 3 4 \n",
      "1 2 3 4 5 \n",
      "1 2 3 4 5 6 \n",
      "1 2 3 4 5 6 7 \n",
      "1 2 3 4 5 6 7 8 \n",
      "1 2 3 4 5 6 7 8 9 \n",
      "1 2 3 4 5 6 7 8 9 10 \n"
     ]
    }
   ],
   "source": [
    "#1. (1)+(1+2)+(1+2+3)+... (1+2+3+...10)=220 출력하기\n",
    "#   1번그룹 : 1\n",
    "#   2번그룹 : 1,2\n",
    "#   3번그룹 : 1,2,3\n",
    "#  ...\n",
    "#   10번그룹 : 1,2,3,4,5,6,7,8,9,10\n",
    "for i in range(1,11) :\n",
    "    for j in range(1,i+1) :\n",
    "        print(j, end=\" \")\n",
    "    print()    \n"
   ]
  },
  {
   "cell_type": "code",
   "execution_count": 159,
   "metadata": {},
   "outputs": [
    {
     "name": "stdout",
     "output_type": "stream",
     "text": [
      "220\n"
     ]
    }
   ],
   "source": [
    "list1 = [y for x in range(1,11) for y in range(1,x+1)]\n",
    "print(sum(list1))"
   ]
  },
  {
   "cell_type": "code",
   "execution_count": 160,
   "metadata": {},
   "outputs": [
    {
     "name": "stdout",
     "output_type": "stream",
     "text": [
      "[[1], [1, 2], [1, 2, 3], [1, 2, 3, 4], [1, 2, 3, 4, 5], [1, 2, 3, 4, 5, 6], [1, 2, 3, 4, 5, 6, 7], [1, 2, 3, 4, 5, 6, 7, 8], [1, 2, 3, 4, 5, 6, 7, 8, 9], [1, 2, 3, 4, 5, 6, 7, 8, 9, 10]]\n",
      "[1]\n"
     ]
    }
   ],
   "source": [
    "#1. (1)+(1+2)+(1+2+3)+... (1+2+3+...10)=220 출력하기\n",
    "\n",
    "list1 = []\n",
    "for i in range(1,11) :\n",
    "    list2 = [x for x in range(1,i+1)]\n",
    "    list1.append(list2)\n",
    "print(list1) \n",
    "print(list1[0]) "
   ]
  },
  {
   "cell_type": "code",
   "execution_count": 162,
   "metadata": {},
   "outputs": [
    {
     "name": "stdout",
     "output_type": "stream",
     "text": [
      "(1)+\n",
      "(1+2)+\n",
      "(1+2+3)+\n",
      "(1+2+3+4)+\n",
      "(1+2+3+4+5)+\n",
      "(1+2+3+4+5+6)+\n",
      "(1+2+3+4+5+6+7)+\n",
      "(1+2+3+4+5+6+7+8)+\n",
      "(1+2+3+4+5+6+7+8+9)+\n",
      "(1+2+3+4+5+6+7+8+9+10)=220\n"
     ]
    }
   ],
   "source": [
    "hap = 0  #합계\n",
    "for i in list1 :  #[[1], [1, 2], [1, 2, 3] ... ]\n",
    "    # i : [1,2]\n",
    "    print(\"(\", end=\"\")  #그룹의 시작 ( 출력\n",
    "    for j in i :\n",
    "        # j : 1\n",
    "        print(j,end=\"\")\n",
    "        if(j!=i[-1]) :  # 그룹의 중간. j==i[-1] : j값이 그룹의 끝\n",
    "           print(\"+\",end=\"\")\n",
    "        hap += j   \n",
    "    #i[-1]==10 : 10번그룹의 마지막값    \n",
    "    print(\")=\" if i[-1]==10 else \")+\\n\", end=\"\")  #그룹의 끝 )+, )= 출력\n",
    "print(hap)    "
   ]
  },
  {
   "cell_type": "code",
   "execution_count": 168,
   "metadata": {},
   "outputs": [
    {
     "name": "stdout",
     "output_type": "stream",
     "text": [
      "A\n",
      "a\n"
     ]
    }
   ],
   "source": [
    "# 2 화면에서 한개의 문자를 입력받아 대문자인 경우는 소문자로, \n",
    "#   소문자인 경우는 대문자로 숫자인 경우는 20을 더한 값을 출력하기\n",
    "# 대문자로 변경 : \"a\".upper() 함수\n",
    "# 소문자로 변경 : \"A\".lower() 함수\n",
    "print(\"a\".upper())\n",
    "print(\"A\".lower())"
   ]
  },
  {
   "cell_type": "code",
   "execution_count": 170,
   "metadata": {},
   "outputs": [
    {
     "name": "stdout",
     "output_type": "stream",
     "text": [
      "20 + 20 = 40\n"
     ]
    }
   ],
   "source": [
    "ch = input(\"한개의 문자 또는 숫자 를 입력하세요 : \")\n",
    "if ch.isdigit() : \n",
    "   print(\"%s + 20 = %d\" % (ch,int(ch) + 20))\n",
    "elif ch.isupper() :\n",
    "   print(\"%s 문자의 소문자는  %s\" % (ch,ch.lower()))\n",
    "elif ch.islower() : \n",
    "   print(\"%s 문자의 대문자는  %s\" % (ch,ch.upper()))\n"
   ]
  }
 ],
 "metadata": {
  "kernelspec": {
   "display_name": "base",
   "language": "python",
   "name": "python3"
  },
  "language_info": {
   "codemirror_mode": {
    "name": "ipython",
    "version": 3
   },
   "file_extension": ".py",
   "mimetype": "text/x-python",
   "name": "python",
   "nbconvert_exporter": "python",
   "pygments_lexer": "ipython3",
   "version": "3.12.4"
  }
 },
 "nbformat": 4,
 "nbformat_minor": 2
}

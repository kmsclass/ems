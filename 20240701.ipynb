{
 "cells": [
  {
   "cell_type": "code",
   "execution_count": 1,
   "metadata": {},
   "outputs": [
    {
     "name": "stdout",
     "output_type": "stream",
     "text": [
      "안녕하세요=>홍길동 입니다.\n"
     ]
    }
   ],
   "source": [
    "print(\"안녕하세요\",end=\"=>\")\n",
    "print(\"홍길동 입니다.\")"
   ]
  },
  {
   "cell_type": "code",
   "execution_count": 2,
   "metadata": {},
   "outputs": [
    {
     "name": "stdout",
     "output_type": "stream",
     "text": [
      "안녕하세요\n",
      "홍길동 입니다.\n"
     ]
    }
   ],
   "source": [
    "print(\"안녕하세요\",end=\"\\n\")  #기본값\n",
    "print(\"홍길동 입니다.\")"
   ]
  },
  {
   "cell_type": "code",
   "execution_count": 3,
   "metadata": {},
   "outputs": [
    {
     "name": "stdout",
     "output_type": "stream",
     "text": [
      "안녕하세요\t홍길동 입니다.\n"
     ]
    }
   ],
   "source": [
    "print(\"안녕하세요\",end=\"\\t\")\n",
    "print(\"홍길동 입니다.\")"
   ]
  },
  {
   "cell_type": "code",
   "execution_count": 4,
   "metadata": {},
   "outputs": [
    {
     "name": "stdout",
     "output_type": "stream",
     "text": [
      "안녕하세요\n",
      "홍길동입니다.\n"
     ]
    }
   ],
   "source": [
    "print(\"안녕하세요\\n홍길동입니다.\")"
   ]
  },
  {
   "cell_type": "code",
   "execution_count": 5,
   "metadata": {},
   "outputs": [
    {
     "name": "stdout",
     "output_type": "stream",
     "text": [
      "안녕하세요\n",
      "홍길동입니다\n"
     ]
    }
   ],
   "source": [
    "print(\"\"\"안녕하세요\n",
    "홍길동입니다\"\"\")"
   ]
  },
  {
   "cell_type": "code",
   "execution_count": 7,
   "metadata": {},
   "outputs": [
    {
     "name": "stdout",
     "output_type": "stream",
     "text": [
      "\"안녕하세요\"\n",
      "홍길동입니다\n"
     ]
    }
   ],
   "source": [
    "print('''\"안녕하세요\"\n",
    "홍길동입니다''')"
   ]
  },
  {
   "cell_type": "code",
   "execution_count": 9,
   "metadata": {},
   "outputs": [
    {
     "name": "stdout",
     "output_type": "stream",
     "text": [
      "10 + 3 = 13\n",
      "10 - 3 = 7\n",
      "10 * 3 = 30\n",
      "10 / 3 = 3.3333333333333335\n",
      "10 // 3 = 3\n",
      "10 % 3 = 1\n",
      "10 ** 3 = 1000\n"
     ]
    }
   ],
   "source": [
    "num1=int(input(\"첫번째 정수 입력:\")) #10\n",
    "num2=int(input(\"두번째 정수 입력:\")) #3\n",
    "print(num1,\"+\",num2,\"=\",num1+num2)  #+\n",
    "print(num1,\"-\",num2,\"=\",num1-num2)  #-\n",
    "print(num1,\"*\",num2,\"=\",num1*num2)  #*\n",
    "print(num1,\"/\",num2,\"=\",num1/num2)  #/\n",
    "print(num1,\"//\",num2,\"=\",num1//num2) # // : 정수나누기. 소숫점이하 없음. 1//2=>0\n",
    "print(num1,\"%\",num2,\"=\",num1%num2)   # %  : 나머지. \n",
    "print(num1,\"**\",num2,\"=\",num1**num2) # ** : 제곱"
   ]
  },
  {
   "cell_type": "code",
   "execution_count": 11,
   "metadata": {},
   "outputs": [
    {
     "name": "stdout",
     "output_type": "stream",
     "text": [
      "65\n"
     ]
    }
   ],
   "source": [
    "a = ord('A')  #A문자의 아스키코드값\n",
    "print(a)  #65 : 01000001 \n",
    "mask = 0X0F;  #16진수 F : 15"
   ]
  },
  {
   "cell_type": "code",
   "execution_count": 19,
   "metadata": {},
   "outputs": [
    {
     "name": "stdout",
     "output_type": "stream",
     "text": [
      "41 & F = 1\n",
      "65 & 15 = 1\n",
      "41 | F = 4F\n",
      "41 ^ F = 4E\n"
     ]
    }
   ],
   "source": [
    "# %X : 16진 정수\n",
    "# %d : 10진 정수\n",
    "print(\"%X & %X = %X\" % (a,mask,a & mask))  # & : and. 두개의 비트가 1인 경우만 1\n",
    "print(\"%d & %d = %d\" % (a,mask,a & mask))\n",
    "print(\"%X | %X = %X\" % (a,mask,a | mask))  # | : or. 두개의 비트가 0인 경우만 0\n",
    "print(\"%X ^ %X = %X\" % (a,mask,a ^ mask))  # ^ : xor. 두개의 비트가 다른 경우 1, 같은 경우 0"
   ]
  },
  {
   "cell_type": "markdown",
   "metadata": {},
   "source": [
    "  01000001 => 65 \n",
    "& 00001111 => 15\n",
    "===================\n",
    "  00000001 => 1 \n",
    "\n",
    "  01000001 => 65 \n",
    "| 00001111 => 15\n",
    "===================\n",
    "  01001111 => 1 \n",
    "\n",
    "  01000001 => 65 \n",
    "^ 00001111 => 15\n",
    "===================\n",
    "  01001110 => 4E"
   ]
  },
  {
   "cell_type": "code",
   "execution_count": 24,
   "metadata": {},
   "outputs": [
    {
     "name": "stdout",
     "output_type": "stream",
     "text": [
      "15680\n",
      "500원 동전의 갯수: 31 개\n",
      "100원 동전의 갯수: 1 개\n",
      "50원 동전의 갯수: 1 개\n",
      "10원 동전의 갯수: 3 개\n",
      "1원 동전의 갯수: 0 개\n"
     ]
    }
   ],
   "source": [
    "'''\n",
    "1. 금액을 입력받아 동전(500,100,50,10,1)으로 바꿔 주는 프로그램 작성하기\n",
    "단 동전의 갯수는 최소개로 한다\n",
    "'''\n",
    "money = int(input(\"금액을 입력해주세요 :\"))\n",
    "print(money)\n",
    "print(\"500원 동전의 갯수:\",money // 500,\"개\")\n",
    "money %=500   #500으로 나눈 나머지   money = money % 500 \n",
    "print(\"100원 동전의 갯수:\",money // 100,\"개\")\n",
    "money %=100   #100으로 나눈 나머지\n",
    "print(\"50원 동전의 갯수:\",money // 50,\"개\")\n",
    "money %=50   #50으로 나눈 나머지\n",
    "print(\"10원 동전의 갯수:\",money // 10,\"개\")\n",
    "money %=10   #10으로 나눈 나머지\n",
    "print(\"1원 동전의 갯수:\",money ,\"개\")"
   ]
  },
  {
   "cell_type": "code",
   "execution_count": 26,
   "metadata": {},
   "outputs": [],
   "source": [
    "### 조건문\n",
    "score = 55\n",
    "if score >= 60 :  #결과 참\n",
    "    print(\"PASS\")  #score >= 60 인경우만 실행"
   ]
  },
  {
   "cell_type": "code",
   "execution_count": 28,
   "metadata": {},
   "outputs": [
    {
     "name": "stdout",
     "output_type": "stream",
     "text": [
      "합격\n"
     ]
    }
   ],
   "source": [
    "score = 85\n",
    "if score >= 60 :  #결과 참\n",
    "    print(\"합격\")  #score >= 60 인경우만 실행\n",
    "else :           #if 조건문의 결과 거짓\n",
    "    print(\"불합격\")  "
   ]
  },
  {
   "cell_type": "code",
   "execution_count": 32,
   "metadata": {},
   "outputs": [
    {
     "name": "stdout",
     "output_type": "stream",
     "text": [
      "85=>B학점\n"
     ]
    }
   ],
   "source": [
    "# if elif 구문\n",
    "score = 85\n",
    "print(score, end=\"=>\")\n",
    "if score >= 90 :\n",
    "    print(\"A학점\")\n",
    "elif score >= 80 : \n",
    "    print(\"B학점\")\n",
    "elif score >= 70 : \n",
    "    print(\"C학점\")\n",
    "elif score >= 60 : \n",
    "    print(\"D학점\")        \n",
    "else :\n",
    "    print(\"F학점\")    "
   ]
  },
  {
   "cell_type": "code",
   "execution_count": 36,
   "metadata": {},
   "outputs": [
    {
     "name": "stdout",
     "output_type": "stream",
     "text": [
      "1 시간 3 분 20 초\n"
     ]
    }
   ],
   "source": [
    "#1.초를 입력받아 몇시간 몇분 몇초인지 출력하기\n",
    "second = int(input(\"초를 입력하세요:\"))\n",
    "print(second//3600,\"시간\",end=\" \")\n",
    "second %= 3600\n",
    "print(second//60,\"분\",end=\" \")\n",
    "second %= 60\n",
    "print(second,\"초\")"
   ]
  },
  {
   "cell_type": "code",
   "execution_count": 39,
   "metadata": {},
   "outputs": [
    {
     "name": "stdout",
     "output_type": "stream",
     "text": [
      "PASS\n"
     ]
    }
   ],
   "source": [
    "# 2.점수를 입력받아 PASS, FAIL 출력하기\n",
    "# 60점 이상 인 경우 PASS\n",
    "# 60점 미만 인 경우 FAIL\n",
    "\n",
    "score = int(input(\"점수를 입력하세요:\"))\n",
    "if score >= 60 :\n",
    "    print(\"PASS\")\n",
    "else :\n",
    "    print(\"FAIL\")    "
   ]
  },
  {
   "cell_type": "code",
   "execution_count": 42,
   "metadata": {},
   "outputs": [
    {
     "name": "stdout",
     "output_type": "stream",
     "text": [
      "PASS\n"
     ]
    }
   ],
   "source": [
    "score = 80\n",
    "print(\"PASS\" if (score >= 60) else \"FAIL\")"
   ]
  },
  {
   "cell_type": "code",
   "execution_count": 46,
   "metadata": {},
   "outputs": [
    {
     "name": "stdout",
     "output_type": "stream",
     "text": [
      "윤년\n"
     ]
    }
   ],
   "source": [
    "#3. 년도를 입력받아 윤년 또는 평년을 출력하기\n",
    "# 윤년은 4로 나누어 떨어지고, 100으로 나누어 떨어지지 않거나, 400으로 나누어 떨어지면 윤년.\n",
    "# 그외는 평년\n",
    "\n",
    "year = int(input(\"년도를 입력하세요:\"))\n",
    "if (year % 4 == 0) :\n",
    "    if (year % 100 != 0) :\n",
    "        print(\"윤년\")    \n",
    "    else :\n",
    "        if year % 400 == 0 :\n",
    "            print(\"윤년\")\n",
    "        else :\n",
    "            print(\"평년\")    \n",
    "else :\n",
    "    print(\"평년\")    "
   ]
  },
  {
   "cell_type": "code",
   "execution_count": 50,
   "metadata": {},
   "outputs": [
    {
     "name": "stdout",
     "output_type": "stream",
     "text": [
      "윤년\n"
     ]
    }
   ],
   "source": [
    "year = int(input(\"년도를 입력하세요:\"))\n",
    "# != : not equal\n",
    "# == : equal\n",
    "if (year % 400 == 0) or (year % 4 ==0 and year % 100 != 0) :\n",
    "    print(\"윤년\")    \n",
    "else :\n",
    "    print(\"평년\") "
   ]
  },
  {
   "cell_type": "code",
   "execution_count": 52,
   "metadata": {},
   "outputs": [
    {
     "name": "stdout",
     "output_type": "stream",
     "text": [
      "5050\n"
     ]
    }
   ],
   "source": [
    "#반복문 : for, while \n",
    "# for 변수 in range(초기값,종료값+1,증감값) : => 변수의 값이 초기값부터 종료값까지 증감값 만큼 변경\n",
    "#                                              문장을 반복\n",
    "hap = 0\n",
    "for i in range(1,101) :  # i값은 1 ~ (101 - 1)까지 1씩 반복 => 101\n",
    "    hap += i  #hap : 5050\n",
    "print(hap)    "
   ]
  },
  {
   "cell_type": "code",
   "execution_count": 54,
   "metadata": {},
   "outputs": [
    {
     "name": "stdout",
     "output_type": "stream",
     "text": [
      "10\n"
     ]
    }
   ],
   "source": [
    "#입력받은 숫자까지의 합을 출력하기\n",
    "hap = 0\n",
    "num = int(input(\"숫자를 입력하세요:\"))\n",
    "for i in range(1,num+1) :\n",
    "    hap += i\n",
    "print(hap)    "
   ]
  },
  {
   "cell_type": "code",
   "execution_count": 55,
   "metadata": {},
   "outputs": [
    {
     "name": "stdout",
     "output_type": "stream",
     "text": [
      "9\n"
     ]
    }
   ],
   "source": [
    "#입력받은 숫자까지의 홀수 합을 출력하기\n",
    "hap = 0\n",
    "num = int(input(\"숫자를 입력하세요:\"))\n",
    "for i in range(1,num+1,2) :\n",
    "    hap += i\n",
    "print(hap)    "
   ]
  },
  {
   "cell_type": "code",
   "execution_count": 56,
   "metadata": {},
   "outputs": [
    {
     "name": "stdout",
     "output_type": "stream",
     "text": [
      "6\n"
     ]
    }
   ],
   "source": [
    "#입력받은 숫자까지의 짝수 합을 출력하기\n",
    "hap = 0\n",
    "num = int(input(\"숫자를 입력하세요:\"))\n",
    "for i in range(2,num+1,2) :\n",
    "    hap += i\n",
    "print(hap) "
   ]
  },
  {
   "cell_type": "code",
   "execution_count": 58,
   "metadata": {},
   "outputs": [
    {
     "name": "stdout",
     "output_type": "stream",
     "text": [
      "\n",
      "2단\n",
      "2*2=4\n",
      "2*3=6\n",
      "2*4=8\n",
      "2*5=10\n",
      "2*6=12\n",
      "2*7=14\n",
      "2*8=16\n",
      "2*9=18\n",
      "\n",
      "3단\n",
      "3*2=6\n",
      "3*3=9\n",
      "3*4=12\n",
      "3*5=15\n",
      "3*6=18\n",
      "3*7=21\n",
      "3*8=24\n",
      "3*9=27\n",
      "\n",
      "4단\n",
      "4*2=8\n",
      "4*3=12\n",
      "4*4=16\n",
      "4*5=20\n",
      "4*6=24\n",
      "4*7=28\n",
      "4*8=32\n",
      "4*9=36\n",
      "\n",
      "5단\n",
      "5*2=10\n",
      "5*3=15\n",
      "5*4=20\n",
      "5*5=25\n",
      "5*6=30\n",
      "5*7=35\n",
      "5*8=40\n",
      "5*9=45\n",
      "\n",
      "6단\n",
      "6*2=12\n",
      "6*3=18\n",
      "6*4=24\n",
      "6*5=30\n",
      "6*6=36\n",
      "6*7=42\n",
      "6*8=48\n",
      "6*9=54\n",
      "\n",
      "7단\n",
      "7*2=14\n",
      "7*3=21\n",
      "7*4=28\n",
      "7*5=35\n",
      "7*6=42\n",
      "7*7=49\n",
      "7*8=56\n",
      "7*9=63\n",
      "\n",
      "8단\n",
      "8*2=16\n",
      "8*3=24\n",
      "8*4=32\n",
      "8*5=40\n",
      "8*6=48\n",
      "8*7=56\n",
      "8*8=64\n",
      "8*9=72\n",
      "\n",
      "9단\n",
      "9*2=18\n",
      "9*3=27\n",
      "9*4=36\n",
      "9*5=45\n",
      "9*6=54\n",
      "9*7=63\n",
      "9*8=72\n",
      "9*9=81\n"
     ]
    }
   ],
   "source": [
    "#중첩 반복문 : 구구단 출력\n",
    "for i in range(2,10) :  # i : 2 ~ 9 : 4\n",
    "    print(f\"\\n{i}단\")   # 4단\n",
    "    for j in range(2,10) :  #j : 2 ~ 9 : 2\n",
    "        print(f\"{i}*{j}={i*j}\")  #3*9=27\n"
   ]
  },
  {
   "cell_type": "code",
   "execution_count": 63,
   "metadata": {},
   "outputs": [
    {
     "name": "stdout",
     "output_type": "stream",
     "text": [
      "*\n",
      "**\n",
      "***\n"
     ]
    }
   ],
   "source": [
    "#1. 삼각형의 높이를 입력받아 * 삼각형을 출력하기\n",
    "#[결과]\n",
    "# 삼각형의 높이 입력 : 3\n",
    "# *\n",
    "# **\n",
    "# ***\n",
    "\n",
    "h = int(input(\"삼각형의 높이 입력:\"))\n",
    "\n",
    "for i in range(1,h+1) : #i:3\n",
    "    for j in range(1,i+1) : # j :2\n",
    "        print(\"*\",end=\"\")\n",
    "    print()    "
   ]
  },
  {
   "cell_type": "code",
   "execution_count": 62,
   "metadata": {},
   "outputs": [
    {
     "name": "stdout",
     "output_type": "stream",
     "text": [
      "*\n",
      "**\n",
      "***\n",
      "****\n",
      "*****\n"
     ]
    }
   ],
   "source": [
    "h = int(input(\"삼각형의 높이 입력:\"))\n",
    "for i in range(1,h+1) :\n",
    "    print(\"*\"*i)"
   ]
  },
  {
   "cell_type": "code",
   "execution_count": 64,
   "metadata": {},
   "outputs": [
    {
     "name": "stdout",
     "output_type": "stream",
     "text": [
      "*****\n",
      "****\n",
      "***\n",
      "**\n",
      "*\n"
     ]
    }
   ],
   "source": [
    "#2. 삼각형의 높이를 입력받아 * 삼각형을 출력하기\n",
    "#[결과]\n",
    "# 삼각형의 높이 입력 : 3\n",
    "# ***\n",
    "# **\n",
    "# *\n",
    "\n",
    "h = int(input(\"삼각형의 높이 입력:\"))\n",
    "for i in range(h,0,-1) :  #i : h ~ 1까지 값\n",
    "    print(\"*\"*i)"
   ]
  },
  {
   "cell_type": "code",
   "execution_count": 4,
   "metadata": {},
   "outputs": [
    {
     "name": "stdout",
     "output_type": "stream",
     "text": [
      "*****\n",
      " ****\n",
      "  ***\n",
      "   **\n",
      "    *\n"
     ]
    }
   ],
   "source": [
    "#3. 삼각형의 높이를 입력받아 * 삼각형을 출력하기\n",
    "#[결과]\n",
    "# 삼각형의 높이 입력 : 3\n",
    "#      공백    *     \n",
    "# ***   0(h-h)      3\n",
    "#  **   1(h-(h-1))      2\n",
    "#   *   2(h-(h-2))      1\n",
    "\n",
    "h = int(input(\"삼각형의 높이 입력:\"))\n",
    "for i in range(h,0,-1) :  #i : h ~ 1까지 값\n",
    "    print(\" \" * (h-i),end=\"\")\n",
    "    print(\"*\"*i)"
   ]
  },
  {
   "cell_type": "code",
   "execution_count": 6,
   "metadata": {},
   "outputs": [
    {
     "name": "stdout",
     "output_type": "stream",
     "text": [
      "  *\n",
      " **\n",
      "***\n"
     ]
    }
   ],
   "source": [
    "#1. 삼각형의 높이를 입력받아 * 삼각형을 출력하기\n",
    "#[결과]\n",
    "# 삼각형의 높이 입력 : 3\n",
    "#      공백  *\n",
    "#   *   2 (h-i)    1\n",
    "#  **   1 (h-i)    2\n",
    "# ***   0 (h-i)    3\n",
    "\n",
    "h = int(input(\"삼각형의 높이 입력:\"))\n",
    "for i in range(1,h+1) :\n",
    "    print(\" \" * (h-i),end=\"\")\n",
    "    print(\"*\"*i)"
   ]
  },
  {
   "cell_type": "code",
   "execution_count": 8,
   "metadata": {},
   "outputs": [
    {
     "name": "stdout",
     "output_type": "stream",
     "text": [
      "12345\n",
      " while 밖의 num: 6\n"
     ]
    }
   ],
   "source": [
    "# while : while 조건문 : 조건문의 결과가 참인 동안 문장 반복\n",
    "num = 1\n",
    "while num <= 5 :  #num : 6\n",
    "    print(num, end=\"\")   #12345\n",
    "    num += 1\n",
    "print(\"\\n while 밖의 num:\",num)    "
   ]
  },
  {
   "cell_type": "code",
   "execution_count": 9,
   "metadata": {},
   "outputs": [
    {
     "name": "stdout",
     "output_type": "stream",
     "text": [
      "12345\n",
      " for 밖의 num: 5\n"
     ]
    }
   ],
   "source": [
    "for num in range(1,6) :\n",
    "    print(num, end=\"\")\n",
    "print(\"\\n for 밖의 num:\",num)     "
   ]
  },
  {
   "cell_type": "code",
   "execution_count": 12,
   "metadata": {},
   "outputs": [
    {
     "name": "stdout",
     "output_type": "stream",
     "text": [
      "1035\n"
     ]
    }
   ],
   "source": [
    "hap = 0\n",
    "for i in range(1,46) :\n",
    "   hap += i\n",
    "print(hap)   "
   ]
  },
  {
   "cell_type": "code",
   "execution_count": 11,
   "metadata": {},
   "outputs": [
    {
     "name": "stdout",
     "output_type": "stream",
     "text": [
      "1035 : 45\n"
     ]
    }
   ],
   "source": [
    "# 1 ~ 100까지의 숫자의 합을 구하는데, 합이 1000이 넘어가는 숫자를 출력하기\n",
    "hap = 0\n",
    "num = 0\n",
    "while hap <= 1000 :\n",
    "    num += 1\n",
    "    hap += num\n",
    "print(hap,\":\",num)    "
   ]
  },
  {
   "cell_type": "code",
   "execution_count": 14,
   "metadata": {},
   "outputs": [
    {
     "name": "stdout",
     "output_type": "stream",
     "text": [
      "hap= 10\n"
     ]
    }
   ],
   "source": [
    "# break  : 반복문 강제 종료\n",
    "# continue : 반복문의 처음으로 제어 이동\n",
    "hap = 0\n",
    "for i in range(1,11) :\n",
    "    if i == 5 :\n",
    "        break  #반복문 강제 종료\n",
    "    hap += i\n",
    "print(\"hap=\",hap)  #10  "
   ]
  },
  {
   "cell_type": "code",
   "execution_count": 15,
   "metadata": {},
   "outputs": [
    {
     "name": "stdout",
     "output_type": "stream",
     "text": [
      "hap= 50\n"
     ]
    }
   ],
   "source": [
    "# break  : 반복문 강제 종료\n",
    "# continue : 반복문의 처음으로 제어 이동\n",
    "hap = 0\n",
    "for i in range(1,11) :\n",
    "    if i == 5 :\n",
    "        continue  #반복문의 처음으로 제어 이동\n",
    "    hap += i\n",
    "print(\"hap=\",hap)  #50  "
   ]
  },
  {
   "cell_type": "code",
   "execution_count": 16,
   "metadata": {},
   "outputs": [
    {
     "name": "stdout",
     "output_type": "stream",
     "text": [
      "1035 : 45\n"
     ]
    }
   ],
   "source": [
    "# 1 ~ 100까지의 숫자의 합을 구하는데, 합이 1000이 넘어가는 숫자를 출력하기\n",
    "hap = 0\n",
    "num = 0\n",
    "while True :\n",
    "    num += 1\n",
    "    hap += num\n",
    "    if hap > 1000 :\n",
    "        break\n",
    "print(hap,\":\",num)  "
   ]
  }
 ],
 "metadata": {
  "kernelspec": {
   "display_name": "base",
   "language": "python",
   "name": "python3"
  },
  "language_info": {
   "codemirror_mode": {
    "name": "ipython",
    "version": 3
   },
   "file_extension": ".py",
   "mimetype": "text/x-python",
   "name": "python",
   "nbconvert_exporter": "python",
   "pygments_lexer": "ipython3",
   "version": "3.12.4"
  }
 },
 "nbformat": 4,
 "nbformat_minor": 2
}
